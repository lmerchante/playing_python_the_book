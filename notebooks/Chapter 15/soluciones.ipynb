{
 "cells": [
  {
   "cell_type": "markdown",
   "metadata": {},
   "source": [
    "# Arkanoid"
   ]
  },
  {
   "cell_type": "markdown",
   "metadata": {},
   "source": [
    "```{image} img/portada.png\n",
    ":alt: portada\n",
    ":class: bg-primary mb-1\n",
    ":width: 400px\n",
    ":align: center\n",
    "```"
   ]
  },
  {
   "cell_type": "markdown",
   "metadata": {},
   "source": [
    "En este capítulo vamos a programar un juego clásico que muchos conocimos como **Arkanoid**. En realidad, este juego es una *exploitation* de otro juego clásico llamado **Breakout**. Si buscas imágenes por internet verás que las similitudes son asombrosas. \n",
    "\n",
    "Si te interesa el mundo de los videojuegos, te recomendamos leer la historia del **Breakout**, diseñado para la mítima compañía **Atari** por **Steve Wozniak**, fundador de Apple junto a **Steve Jobs**. El resumen de esa historia apasionante es que uno de los fundadores de **Atari**, **Nolan Bushnell**, encargó a Steve Jobs el desarrollo de un prototipo del **Breakout** que debía tener listo en cuatro días a cambio de 750\\\\$ (de 1975) y un bonus por cada microchip que consiguiera ahorrarse. La tendencia de **Atari** era la de crear videojuegos con entre 150 y 170 chips que los hacían caros y complicados de construir. Steve Jobs contactó con su amigo Steve Wozniak, empleado de Hewlett-Packard, al que ofeció la mitad de los beneficios que consiguieran. Wozniak consiguió construir en cuatro noches un prototipo funcional con solo 42 chips. Bushnell quedó tan satisfecho que le pagó a Steve Jobs 5000\\\\$ por el trabajo, quien a su vez sólo pagó a Steve Wozniak 350\\\\$.\n",
    "\n",
    "La dinámica de juego del **Arkanoid** es muy sencilla. En la parte inferior de la pantalla hay una plataforma que el usuario puede mover de derecha a izquierda y que funciona a modo de raqueta. Con esta plataforma, el usuario devuelve contínuamente una pelota que puede rebotar en cualquiera de las paredes y en una colección de ladrillos que desaparecen con cada impacto. El objetivo es eliminar todos los ladrillos que se encuentran en la parte superior de la pantalla.\n",
    "\n",
    "Aqui puedes ver una pequeña demostración del juego:\n",
    "\n",
    "```{image} img/arkanoid_preview.gif\n",
    ":alt: arkanoid\n",
    ":class: bg-primary mb-1\n",
    ":width: 550px\n",
    ":align: center\n",
    "```"
   ]
  },
  {
   "cell_type": "markdown",
   "metadata": {},
   "source": [
    ":::{seealso}\n",
    "Puedes leer más sobre el **Blockout** [aquí](https://en.wikipedia.org/wiki/Breakout_(video_game)) y sobre el **Arkanoid** [aquí](https://en.wikipedia.org/wiki/Arkanoid).\n",
    "\n",
    "Y si te interesa la historia de **Atari**, hay múltiples libros que la explican detalladamente. O bien puedes escucharte la primera parte de [este podcast](http://laorbitadeendor.com/2018/10/22/lode-9x08-historia-de-atari-mas-alla-de-los-eones-de-hp-lovecraft/) en el que la repasan con mucho detalle.\n",
    ":::"
   ]
  },
  {
   "cell_type": "markdown",
   "metadata": {},
   "source": [
    "## Desarrollo del interfaz gráfico"
   ]
  },
  {
   "cell_type": "markdown",
   "metadata": {},
   "source": [
    "Para el entorno gráfico, vamos a usar la librería **turtle**. Esta librería emula el comportamiento del lenguaje de dibujo del que ya hemos hablado en el capítulo [LOGO](logo-label).\n",
    "\n",
    "Para pintar los elementos del juego, vamos a utilizar las funcciones **draw_circle(x, y, radius)** y **draw_rectangle(x, y, width, height)**. Como indican sus nombres, estas funciones dibujan circulos y rectangulos en las coordenadas (x, y) con unas dimensiones determinadas.\n",
    "\n",
    "Las coordenadas en la librería **turtle** se refieren al centro de la pantalla y crecen positivamente en el eje X hacia la derecha y en el eje Y hacia arriba siguiendo el siguiente esquema:\n",
    "\n",
    "```{image} img/coordenadas.png\n",
    ":alt: coodinates\n",
    ":class: bg-primary mb-1\n",
    ":width: 375px\n",
    ":align: center\n",
    "```"
   ]
  },
  {
   "cell_type": "markdown",
   "metadata": {},
   "source": [
    ":::{seealso}\n",
    "Si quieres consultar los comandos de la librería **turtle** puedes visitar su página web [aquí](https://docs.python.org/3/library/turtle.html).\n",
    ":::"
   ]
  },
  {
   "cell_type": "code",
   "execution_count": 2,
   "metadata": {},
   "outputs": [],
   "source": [
    "import turtle as t\n",
    "\n",
    "def draw_circle(x, y, radius):\n",
    "    t.up()\n",
    "    t.setpos(x, y)\n",
    "    t.down()\n",
    "    t.begin_fill()\n",
    "    t.circle(radius)\n",
    "    t.end_fill()\n",
    "    t.up()\n",
    "    t.setpos(-x-radius, -y-radius)\n",
    "    t.down()\n",
    "\n",
    "def draw_rectangle(x, y, width, height):\n",
    "    t.up()\n",
    "    t.setpos(x, y)\n",
    "    t.down()\n",
    "    t.begin_fill()\n",
    "    for count in range(2):\n",
    "        t.forward(width) \n",
    "        t.left(90) \n",
    "        t.forward(height) \n",
    "        t.left(90)\n",
    "    t.end_fill()\n",
    "    t.up()\n",
    "    t.setpos(-x-width, -y-height)\n",
    "    t.down()"
   ]
  },
  {
   "cell_type": "markdown",
   "metadata": {},
   "source": [
    "## Parámetros del juego\n",
    "\n",
    "Para controlar los parámetros del juego, vamos a crear el diccionario **game_params** en el que vamos a definir las dimensiones y las velocidades de movimiento de los diferentes componentes de nuestra pantalla."
   ]
  },
  {
   "cell_type": "code",
   "execution_count": 5,
   "metadata": {},
   "outputs": [],
   "source": [
    "import math\n",
    "\n",
    "game_params = {\n",
    "    # CONSTANTS\n",
    "    \"ball_radius\": 10,\n",
    "    \"ball_speed\": 10,\n",
    "    \"pad_speed\": 10,\n",
    "    \"pad_width\": 100,\n",
    "    \"pad_height\": 20,\n",
    "    \"screen_width\": 460,\n",
    "    \"screen_height\": 460,\n",
    "    \"target_width\": 100,\n",
    "    \"target_height\": 20,\n",
    "    \"target_count_per_row\": 4,\n",
    "    \"target_count_per_column\": 4,\n",
    "    \"padding\":10,\n",
    "\n",
    "    # VARIABLES\n",
    "    \"ball_position_x\": 0,\n",
    "    \"ball_position_y\": 0,\n",
    "    \"ball_sloping_positive\": True,\n",
    "    \"ball_angle\": 50,\n",
    "    \"pad_position_x\": 0,\n",
    "    \"pad_position_y\": -200,\n",
    "    \"end_game\": False,\n",
    "    \"targets_on_map\": []\n",
    "    }"
   ]
  },
  {
   "cell_type": "markdown",
   "metadata": {},
   "source": [
    ":::{note}\n",
    "En la sección de constantes se definen el tamaño y velocidad de la pelota (ball), el tamaño y velocidad de la plataforma que hace de raqueta (pad) y el tamaño, número de filas y columnas del muro de ladrillos (target). Como ves, nuestro juego contiene 4 filas y 4 columnas con ladrillos de tamaño 100x20.\n",
    "\n",
    "En la sección de variables se almacenarán los datos que irán variando en función del progreso del juego. Los más importantes son la posición de la raqueta y la posición de la pelota así como el angulo y la pendiente de su movimiento.\n",
    ":::"
   ]
  },
  {
   "cell_type": "markdown",
   "metadata": {},
   "source": [
    "## Calculo de las coordenadas de los ladrillos"
   ]
  },
  {
   "cell_type": "markdown",
   "metadata": {},
   "source": [
    "Para que nuestro juego sea muy flexible y podamos definir diferentes niveles de dificultad basados en diferentes distribuciones de ladrillos, vamos a programar la función **calc_targets_positions(game_params)** que recibe como único argumento de entrada el diccionario con los parámetros del juego y devuelve una lista de tuplas (x, y) que representan las coordenadas en las que empieza cada ladrillo. \n",
    "\n",
    ":::{tip}\n",
    "Recuerda lo que hemos explicado antes respecto a la referencia de las coordenadas para la librería **turtle**.\n",
    ":::"
   ]
  },
  {
   "cell_type": "markdown",
   "metadata": {},
   "source": [
    "### Solución:"
   ]
  },
  {
   "cell_type": "code",
   "execution_count": 3,
   "metadata": {},
   "outputs": [],
   "source": [
    "def calc_targets_positions(game_params):\n",
    "    targets_positions = []\n",
    "    x_init = -game_params[\"screen_width\"]/2 + game_params[\"padding\"]\n",
    "    y_init = game_params[\"screen_height\"]/2 - 4 * game_params[\"padding\"]\n",
    "    x,y = x_init, y_init\n",
    "    for i in range(game_params['target_count_per_column']):\n",
    "        for j in range(game_params['target_count_per_row']):\n",
    "            targets_positions.append((x, y))\n",
    "            x += game_params['target_width'] + game_params['padding']\n",
    "        y -= game_params['target_height'] + game_params['padding']\n",
    "        x = x_init\n",
    "    return targets_positions"
   ]
  },
  {
   "cell_type": "markdown",
   "metadata": {},
   "source": [
    "Si invocamos a esta función con los parámetros anteriores **game_params**, debemos obtener 16 coordenadas correspondientes a los 16 ladrillos (4 filas por 4 columnas) que debemos romper."
   ]
  },
  {
   "cell_type": "code",
   "execution_count": 6,
   "metadata": {},
   "outputs": [
    {
     "data": {
      "text/plain": [
       "[(-220.0, 190.0),\n",
       " (-110.0, 190.0),\n",
       " (0.0, 190.0),\n",
       " (110.0, 190.0),\n",
       " (-220.0, 160.0),\n",
       " (-110.0, 160.0),\n",
       " (0.0, 160.0),\n",
       " (110.0, 160.0),\n",
       " (-220.0, 130.0),\n",
       " (-110.0, 130.0),\n",
       " (0.0, 130.0),\n",
       " (110.0, 130.0),\n",
       " (-220.0, 100.0),\n",
       " (-110.0, 100.0),\n",
       " (0.0, 100.0),\n",
       " (110.0, 100.0)]"
      ]
     },
     "execution_count": 6,
     "metadata": {},
     "output_type": "execute_result"
    }
   ],
   "source": [
    "calc_targets_positions(game_params)"
   ]
  },
  {
   "cell_type": "markdown",
   "metadata": {},
   "source": [
    "## Inicializar objetivos\n",
    "\n",
    "La salida de la función anterior nos devuelve las coordenadas de los objetivos. Estos valores tenemos que inicializarlos en la clave **\"targets_on_map\"** del diccionario **game_params**. Vamos a introducir esta inicialización dentro de una función **init_targets()** que ni recibe ni devuelve ningún valor.\n",
    "\n",
    ":::{tip}\n",
    "Como ya hemos comentado en un capítulo anterior, el uso de variables globales no se suele recomendar a los programadores noveles ya que abre la puerta a muchos errores difíciles de detectar. En este caso vamos a utilizar la variable **game_params** como variable global ya que todos los métodos de nuestro programa van a necesitar tener acceso a ella. Si la utilizamos como variable global, no necesitamos pasarla por argumento.\n",
    "\n",
    "Aún así, si no te sientes muy cómodo con el uso de variables globales, puedes incluirla como argumento de todas las funciones que hagan uso de ella.\n",
    ":::"
   ]
  },
  {
   "cell_type": "markdown",
   "metadata": {},
   "source": [
    "### Solución:"
   ]
  },
  {
   "cell_type": "code",
   "execution_count": 7,
   "metadata": {},
   "outputs": [],
   "source": [
    "def init_targets():\n",
    "    game_params[\"targets_on_map\"] = calc_targets_positions(game_params)"
   ]
  },
  {
   "cell_type": "markdown",
   "metadata": {},
   "source": [
    "Si invocamos a esta función y verificamos la clave **\"targets_on_map\"**, deberíamos obtener la lista de coordenadas de los ladrillos:"
   ]
  },
  {
   "cell_type": "code",
   "execution_count": 8,
   "metadata": {},
   "outputs": [
    {
     "name": "stdout",
     "output_type": "stream",
     "text": [
      "[(-220.0, 190.0), (-110.0, 190.0), (0.0, 190.0), (110.0, 190.0), (-220.0, 160.0), (-110.0, 160.0), (0.0, 160.0), (110.0, 160.0), (-220.0, 130.0), (-110.0, 130.0), (0.0, 130.0), (110.0, 130.0), (-220.0, 100.0), (-110.0, 100.0), (0.0, 100.0), (110.0, 100.0)]\n"
     ]
    }
   ],
   "source": [
    "init_targets()\n",
    "print(game_params[\"targets_on_map\"])"
   ]
  },
  {
   "cell_type": "markdown",
   "metadata": {},
   "source": [
    "## Calcular ángulo de rebote de la pelota\n",
    "\n",
    "Cada vez que la raqueta (pad) golpée la pelota, o cada vez que la pelota golpée un ladrillo o una pared, hay que calcular el ángulo de rebote. En este apartado vamos a implementar la función **calc_ball_rebound_angle()** que realiza esos cálculos.\n",
    "\n",
    "La lógica del rebote es la siguiente: \n",
    "\n",
    "* si la clave \"ball_sloping_positive\" del diccionario **game_params** es **True**, significa que la pelota se dirige hacia los ladrillos, por lo que el angulo de rebote será igual a 175 - game_params[\"ball_angle\"]\n",
    "* si la clave \"ball_sloping_positive\" del diccionario **game_params** es **False**, significa que la pelota se dirige hacia la raqueta, por lo que el angulo de rebote será igual a 175 + game_params[\"ball_angle\"]\n",
    "\n",
    "::::{note}\n",
    "El utilizar un valor de 175º en lugar de 180º tiene como propósito añadir cierta contraintuitividad en al rebote de la pelota, lo que incrementa la dificultad del juego.\n",
    "::::"
   ]
  },
  {
   "cell_type": "markdown",
   "metadata": {},
   "source": [
    "### Solución:"
   ]
  },
  {
   "cell_type": "code",
   "execution_count": 9,
   "metadata": {},
   "outputs": [],
   "source": [
    "def calc_ball_rebound_angle():\n",
    "    param = 175\n",
    "    if game_params[\"ball_sloping_positive\"]: \n",
    "        angle = param - game_params[\"ball_angle\"] \n",
    "    else:\n",
    "        angle = param + game_params[\"ball_angle\"]\n",
    "    return angle"
   ]
  },
  {
   "cell_type": "markdown",
   "metadata": {},
   "source": [
    "## Detección de impactos con la raqueta\n",
    "\n",
    "Para que nuestro programa detecte si la pelota ha golpeado la raqueta, vamos a codificar la función **has_impact(x_ball, y_ball, x_pad, y_pad, pad_width, pad_height)** que recibe como argumentos:\n",
    "\n",
    "* **x_ball**: la coordenada x de la pelota\n",
    "* **y_ball**: la coordenada y de la pelota\n",
    "* **x_pad**: la coordenada x de la raqueta\n",
    "* **y_pad**: la coordenada y de la raqueta\n",
    "* **pad_width**: el ancho de la raqueta\n",
    "* **pad_height**: el alto de la raqueta\n",
    "\n",
    "Y devuelve un booleano que indica si la bala ha impactado en el pad.\n",
    "\n",
    "Para detectar si la bala ha impactado en el pad, verificamos si la pelota está tocando o dentro del pad como se puede ver en este esquema:\n",
    "\n",
    "```{image} img/alcance.png\n",
    ":alt: alcance\n",
    ":class: bg-primary mb-1\n",
    ":width: 350px\n",
    ":align: center\n",
    "```"
   ]
  },
  {
   "cell_type": "markdown",
   "metadata": {},
   "source": [
    "### Solución:"
   ]
  },
  {
   "cell_type": "code",
   "execution_count": 10,
   "metadata": {},
   "outputs": [],
   "source": [
    "def has_impact(x_ball, y_ball, x_pad, y_pad, pad_width, pad_height):\n",
    "    if x_ball >= x_pad and x_ball <= x_pad + pad_width:\n",
    "        if (y_pad - pad_height <= y_ball <= y_pad) or (y_pad <= y_ball <= y_pad + pad_height):\n",
    "            return True\n",
    "    return False"
   ]
  },
  {
   "cell_type": "markdown",
   "metadata": {},
   "source": [
    "Podemos comprobar su funcionamiento pasando unas coordenadas y unas dimensiones que simulen ese impacto. Por ejemplo, tenemos una pelota que se encuentra en las coordneadas (10,2), mientras que nuestra raqueta tiene unas dimensiones de 4x2 y se encuentra en las coordenadas (8,0). Como hemos definido las coordenadas de la raqueta como el vértice inferior izquierdo, podemos calcular fácilmente cual es el rango de valores X e Y que ocupa su superficie. En este caso las X entre [8,8+4] y las Y entre [0, 0+2]. Como nuestra pelota está en las coordenadas (10,2) podemos concluir que sí que hay impacto:"
   ]
  },
  {
   "cell_type": "code",
   "execution_count": 11,
   "metadata": {},
   "outputs": [
    {
     "data": {
      "text/plain": [
       "True"
      ]
     },
     "execution_count": 11,
     "metadata": {},
     "output_type": "execute_result"
    }
   ],
   "source": [
    "has_impact(10, 2, 8, 0, 4, 2)"
   ]
  },
  {
   "cell_type": "markdown",
   "metadata": {},
   "source": [
    "Sin embargo, si la pelota se encontara en la posición (14,2), se saldría por la derecha de la raqueta:"
   ]
  },
  {
   "cell_type": "code",
   "execution_count": 12,
   "metadata": {},
   "outputs": [
    {
     "data": {
      "text/plain": [
       "False"
      ]
     },
     "execution_count": 12,
     "metadata": {},
     "output_type": "execute_result"
    }
   ],
   "source": [
    "has_impact(14, 2, 8, 0, 4, 2)"
   ]
  },
  {
   "cell_type": "markdown",
   "metadata": {},
   "source": [
    "O si se encontrara en la posición (7,2), se saldría por la izquierda de la raqueta:"
   ]
  },
  {
   "cell_type": "code",
   "execution_count": 13,
   "metadata": {},
   "outputs": [
    {
     "data": {
      "text/plain": [
       "False"
      ]
     },
     "execution_count": 13,
     "metadata": {},
     "output_type": "execute_result"
    }
   ],
   "source": [
    "has_impact(7, 2, 8, 0, 4, 2)"
   ]
  },
  {
   "cell_type": "markdown",
   "metadata": {},
   "source": [
    "O si se encontrara en la posición (10,3), a nivel de las X sí que se encontaría alineada con la raqueta, pero a nivel de las Y todavía no habría entrado en contacto con ella"
   ]
  },
  {
   "cell_type": "code",
   "execution_count": 14,
   "metadata": {},
   "outputs": [
    {
     "data": {
      "text/plain": [
       "False"
      ]
     },
     "execution_count": 14,
     "metadata": {},
     "output_type": "execute_result"
    }
   ],
   "source": [
    "has_impact(10, 3, 8, 0, 4, 2)"
   ]
  },
  {
   "cell_type": "markdown",
   "metadata": {},
   "source": [
    ":::{tip}\n",
    "Si lo piensas un poco, entenderás como la función **has_impact** también sirve para detectar el impacto de la pelota con los ladrillos. En lugar de pasarle las coordenadas y dimensiones de la raqueta le podemos pasar las coordenadas y las dimensiones de uno de los ladrillos y el funcionamiento será exactamente el mismo.\n",
    ":::"
   ]
  },
  {
   "cell_type": "markdown",
   "metadata": {},
   "source": [
    "## Siguiente posición de la pelota\n",
    "\n",
    "En este apartado vamos a implementar la función **calc_ball_position_with_angle()** que calcula la posición de la pelota en el siguiente instante. Para ello, tenemos que tener en cuenta si se mueve hacia la pared de ladrillos o hacia la raqueta (game_params[\"ball_sloping_positive\"]), su ángulo (game_params[\"ball_angle\"]) y su velocidad (game_params[\"ball_speed\"]).\n",
    "\n",
    "Como todas estas variables forman parte del diccionario **game_params** que estamos usando como variable global, no es necesario que le pasemos ningún argumento de entrada a la función. Por otro lado, la función debe devolver una tupla con la posición de la pelota en el instante siguiente."
   ]
  },
  {
   "cell_type": "markdown",
   "metadata": {},
   "source": [
    "### Solución:"
   ]
  },
  {
   "cell_type": "code",
   "execution_count": 15,
   "metadata": {},
   "outputs": [],
   "source": [
    "def calc_ball_position_with_angle():\n",
    "    x_delta = math.cos(math.radians(game_params[\"ball_angle\"])) * game_params[\"ball_speed\"]\n",
    "    y_delta = math.sin(math.radians(game_params[\"ball_angle\"])) * game_params[\"ball_speed\"]\n",
    "    if game_params[\"ball_sloping_positive\"]:\n",
    "        y_delta = -y_delta\n",
    "    return x_delta, y_delta"
   ]
  },
  {
   "cell_type": "markdown",
   "metadata": {},
   "source": [
    "## Impacto con los ladrillos\n",
    "\n",
    "La función que vamos implementar ahora es la encargada de gestionar el choque de la pelota con los ladrillos. La función **handle_impact_target()** tiene que comprobar si la pelota ha colisionado con alguno de los objetivos y si es así:\n",
    "\n",
    " 1. Eliminar ese objetivo de las listas de objetivos\n",
    " 2. Recalcular el ángulo de rebote de la pelota\n",
    " 3. Invertir el valor de la variable clave **\"ball_sloping_positive\"**\n",
    "\n",
    "::::{note}\n",
    "Dependiendo del padding que estés usando entre tus objetivos, es posible que la pelota esté en contacto con dos o más objetivos. En ese caso puedes asumir que solo está impactando con uno de ellos.\n",
    "::::"
   ]
  },
  {
   "cell_type": "markdown",
   "metadata": {},
   "source": [
    "### Solución:"
   ]
  },
  {
   "cell_type": "code",
   "execution_count": 16,
   "metadata": {},
   "outputs": [],
   "source": [
    "def handle_impact_target():\n",
    "    i=0\n",
    "    target_touched = False\n",
    "    while i < len(game_params[\"targets_on_map\"]) and not target_touched:\n",
    "        target = game_params[\"targets_on_map\"][i]\n",
    "        if has_impact(game_params[\"ball_position_x\"], game_params[\"ball_position_y\"], target[0], target[1], game_params[\"target_width\"], game_params[\"target_height\"]):\n",
    "            target_touched = True\n",
    "            game_params[\"targets_on_map\"].pop(i)\n",
    "            game_params[\"ball_angle\"] = calc_ball_rebound_angle()\n",
    "            game_params[\"ball_sloping_positive\"] = not game_params[\"ball_sloping_positive\"]\n",
    "        i+=1"
   ]
  },
  {
   "cell_type": "markdown",
   "metadata": {},
   "source": [
    "::::{note}\n",
    "La variable **target_touched** la estamos usando para salir del bucle en cuanto hayamos detectado un ladrillo que ha impactado con la pelota. En caso de querer deshabilitar esta simplificación, podemos eliminar esta variable para que cada vez que la pelota entre en contacto con varios ladrillos, los elimine de golpe.\n",
    "::::"
   ]
  },
  {
   "cell_type": "markdown",
   "metadata": {},
   "source": [
    "## Impacto con la raqueta\n",
    "\n",
    "De manera similar al apartado anterior, vamos a codificar la función **handle_impact_pad()** que se encarga de detectar si la pelota ha impactado con laraqueta y en ese caso:\n",
    "\n",
    "1. Cambiar el ángulo de rebote de la pelota\n",
    "2. Cambiar la dirección de la pelota"
   ]
  },
  {
   "cell_type": "markdown",
   "metadata": {},
   "source": [
    "### Solución:"
   ]
  },
  {
   "cell_type": "code",
   "execution_count": 17,
   "metadata": {},
   "outputs": [],
   "source": [
    "def handle_impact_pad():\n",
    "    if has_impact(game_params[\"ball_position_x\"], game_params[\"ball_position_y\"], \n",
    "                  game_params[\"pad_position_x\"], game_params[\"pad_position_y\"], \n",
    "                  game_params[\"pad_width\"], game_params[\"pad_height\"]):\n",
    "        game_params[\"ball_angle\"] = calc_ball_rebound_angle()\n",
    "        game_params[\"ball_sloping_positive\"] = not game_params[\"ball_sloping_positive\"]"
   ]
  },
  {
   "cell_type": "markdown",
   "metadata": {},
   "source": [
    "## Impacto con las paredes\n",
    "\n",
    "El último elemento cuyos rebotes tenemos que gestionar son las paredes del recinto del juego. La función **handle_impact_map_borders()** se encarga de detectar si la pelota ha impactado con alguna de las paredes o el techo y en ese caso:\n",
    "\n",
    "* Si la pelota impacta con el borde superior, derecho o izquierdo:\n",
    "    1. Cambiar el angulo de la pelota\n",
    "    2. Cambiar el sentido de  de la pelota\n",
    "* Si la pelota impacta con el borde inferior:\n",
    "    1. Cambiar el valor de **\"end_game\"** a True para indicar que la partida se ha acabado"
   ]
  },
  {
   "cell_type": "markdown",
   "metadata": {},
   "source": [
    "### Solución:"
   ]
  },
  {
   "cell_type": "code",
   "execution_count": 18,
   "metadata": {},
   "outputs": [],
   "source": [
    "def handle_impact_map_borders():\n",
    "    if ((game_params[\"ball_position_x\"] >= game_params[\"screen_width\"]/2 - game_params[\"ball_radius\"]) \n",
    "        or (game_params[\"ball_position_x\"] <= -game_params[\"screen_width\"]/2 + game_params[\"ball_radius\"]) \n",
    "        or (game_params[\"ball_position_y\"] >= game_params[\"screen_height\"]/2 - game_params[\"ball_radius\"])): \n",
    "        game_params[\"ball_angle\"] = calc_ball_rebound_angle()\n",
    "        game_params[\"ball_sloping_positive\"] = not game_params[\"ball_sloping_positive\"]\n",
    "    elif game_params[\"ball_position_y\"] <= -game_params[\"screen_height\"]/2 + game_params[\"ball_radius\"]: \n",
    "        game_params[\"end_game\"] = True"
   ]
  },
  {
   "cell_type": "markdown",
   "metadata": {},
   "source": [
    "## Movimiento de la raqueta\n",
    "\n",
    "Antes de implementar el juego completo, sólo nos queda programar el movimiento de la raqueta. Para ello vamos a implementar la función **move_pad(delta)** que permite modificar el valor de la clave **\"pad_position_x\"**. La función **move_pad(delta)** sólo recibe un argumento **delta** que indica la cantidad de desplazamiento que se debe aplicar a la posición del pad.\n",
    "\n",
    "::::{tip}\n",
    "No se te olvide comprobar que tu raqueta no se desplaza más allá de los límites de la pantalla. Aunque en versiones modernas del juego esta era una de las funcionalidades extra que permitía pasar de pantalla sin necesidad de eliminar todos los ladrillos.\n",
    "::::"
   ]
  },
  {
   "cell_type": "markdown",
   "metadata": {},
   "source": [
    "### Solución:"
   ]
  },
  {
   "cell_type": "code",
   "execution_count": 19,
   "metadata": {},
   "outputs": [],
   "source": [
    "def move_pad(delta):\n",
    "    if game_params[\"pad_position_x\"] + delta >= -game_params[\"screen_width\"]/2 - game_params[\"pad_width\"]/2:\n",
    "        if game_params[\"pad_position_x\"] + delta <= game_params[\"screen_width\"]/2 - game_params[\"pad_width\"]/2:\n",
    "            game_params[\"pad_position_x\"] += delta"
   ]
  },
  {
   "cell_type": "markdown",
   "metadata": {},
   "source": [
    "## Reiniciar la partida\n",
    "\n",
    "Vamos a codificar una última función **new_game()** que va a permitir reiniciar los ladrillos asi como volver a los valores por defecto de las variables **game_params[\"end_game\"]**, **game_params[\"ball_position_x\"]** y **game_params[\"ball_position_y\"]**. Esta función la invocaremos cuando hayamos terminado una partida y queramos jugar de nuevo."
   ]
  },
  {
   "cell_type": "markdown",
   "metadata": {},
   "source": [
    "### Solución:"
   ]
  },
  {
   "cell_type": "code",
   "execution_count": 20,
   "metadata": {},
   "outputs": [],
   "source": [
    "def new_game():\n",
    "    if not (len(game_params[\"targets_on_map\"]) > 0 and not game_params[\"end_game\"]):\n",
    "        init_targets()\n",
    "        game_params[\"end_game\"] = False\n",
    "        game_params[\"ball_position_x\"] = 0\n",
    "        game_params[\"ball_position_y\"] = 0"
   ]
  },
  {
   "cell_type": "markdown",
   "metadata": {},
   "source": [
    "## Crear el interfaz gráfico\n",
    "\n",
    "Para la creación del interfáz gráfico y la construcción del juego, la librería **tourtle** te simplifica mucho la vida. Sólo tienes que definir una función **drawAndPlay()** que será la encargada de colocar los elementos visuales en la pantalla y definir la lógica del juego. \n",
    "\n",
    "Podemos enumerar las tareas que tiene que realizar esta función:\n",
    "\n",
    "1. Limpiar la pantalla\n",
    "2. Si no quedan ladrillos en la pantalla, mostrar un mensaje para echar otra partida\n",
    "3. Si quedan ladrillos en la pantalla, dibujar la pelota con la función **draw_circle** y los ladrillos y la raqueta con la función **draw_rectangle**\n",
    "4. Invocar a las funciones **handle_impact_target**, **handle_impact_pad** y **handle_impact_map_borders** para calcular los impactos \n",
    "5. Actualizar la posición de la pelota para el instante siguiente\n",
    "6. Actualizar la posición de la raqueta\n",
    "\n",
    "Nota que la función está programada implementando un único instante del juego. No hemos codificado ningún bucle, ya que esa funcionalidad queda oculta en el uso de la librería **tourtle**."
   ]
  },
  {
   "cell_type": "markdown",
   "metadata": {},
   "source": [
    "### Solución"
   ]
  },
  {
   "cell_type": "code",
   "execution_count": 21,
   "metadata": {},
   "outputs": [],
   "source": [
    "def drawAndPlay():\n",
    "    t.clear()\n",
    "    if len(game_params[\"targets_on_map\"]) > 0 and not game_params[\"end_game\"]:\n",
    "        \n",
    "        #DRAWING\n",
    "        draw_circle(game_params[\"ball_position_x\"], game_params[\"ball_position_y\"], game_params['ball_radius'])\n",
    "        for target in game_params[\"targets_on_map\"]:\n",
    "            draw_rectangle(target[0], target[1], game_params[\"target_width\"], game_params[\"target_height\"])\n",
    "        draw_rectangle(game_params[\"pad_position_x\"], game_params[\"pad_position_y\"], game_params[\"pad_width\"], game_params[\"pad_height\"])\n",
    "\n",
    "        # LOGIC\n",
    "        handle_impact_target()\n",
    "        handle_impact_pad()\n",
    "        handle_impact_map_borders()\n",
    "\n",
    "        x_delta, y_delta = calc_ball_position_with_angle()\n",
    "        game_params[\"ball_position_x\"] += x_delta\n",
    "        game_params[\"ball_position_y\"] += y_delta\n",
    "  \n",
    "    else:\n",
    "        t.setpos(0, 0)\n",
    "        t.write(\"Play again? (press Y)\", align=\"center\", font=(\"Arial\", 30, \"bold\"))\n",
    "        \n",
    "    t.ontimer(drawAndPlay, 50)\n",
    "    t.done()"
   ]
  },
  {
   "cell_type": "markdown",
   "metadata": {},
   "source": [
    "## Juego completo\n",
    "\n",
    "Como ya hemos adelantado, la librería **tourtle** simplifica mucho el diseño de videojuegos. No tenemos que implementar ningún bucle que simule el progreso del juego. Simplemente codificar la función **drawAndPlay** que posiciona los elementos y codifica la mecánica para un instante del juego. \n",
    "\n",
    "Para poder disfrutar de nuesto programa sólo tenemos que definir las teclas de movimiento utilizando la función **onkey** de **tourtle** que permite asignar un comportamiento a la pulsación de una tecla. En nuestro caso:\n",
    "\n",
    "* Cada vez que pulsemos la tecla **A** se invocará a la función **move_pad** con un **delta** positivo (movimiento hacia la derecha)\n",
    "* Cada vez que pulsemos la tecla **D** se invocará a la función **move_pad** con un **delta** negativo (movimiento hacia la izquierda)\n",
    "* Cada vez que pulsemos la tecla **Y** se invocará a la función **new_game** que reinicia las variables del juego."
   ]
  },
  {
   "cell_type": "markdown",
   "metadata": {},
   "source": [
    "::::{tip}\n",
    "No está de más que te revises la documentación de **tourtle** porque hay funciones similares que realizan funciones diferentes. Por ejemplo:\n",
    "\n",
    ":::{code}\n",
    "t.onkey()\n",
    ":::\n",
    "\n",
    "Sólo detecta una pulsación de cualquier tecla, mientras que la función:\n",
    "\n",
    ":::{code}\n",
    "t.onkeypress()\n",
    ":::  \n",
    "\n",
    "Detecta la pulsación individual y si la tecla se deja pulsada de manera permanente.\n",
    "::::"
   ]
  },
  {
   "cell_type": "code",
   "execution_count": 22,
   "metadata": {},
   "outputs": [],
   "source": [
    "def main():\n",
    "    t.setup(game_params[\"screen_width\"], game_params[\"screen_height\"]) \n",
    "    t.hideturtle() \n",
    "    t.tracer(False)\n",
    "    t.title(\"Arkanoid\")\n",
    "\n",
    "    t.listen()\n",
    "    t.onkeypress(lambda: move_pad(game_params[\"pad_speed\"]), \"d\")\n",
    "    t.onkeypress(lambda: move_pad(-game_params[\"pad_speed\"]), \"a\")\n",
    "    t.onkey(new_game, \"y\")\n",
    "        \n",
    "    drawAndPlay()"
   ]
  },
  {
   "cell_type": "markdown",
   "metadata": {},
   "source": [
    "Para jugar sólo tienes que invocar a la función **main()**."
   ]
  },
  {
   "cell_type": "code",
   "execution_count": null,
   "metadata": {},
   "outputs": [],
   "source": [
    "main()"
   ]
  },
  {
   "cell_type": "markdown",
   "metadata": {},
   "source": [
    "## Extensiones del juego\n",
    "\n",
    "El **Arkanoid** es un juego que se presta a multitud de mejoras. No hay más que ver las diferentes versiones que salieron al mercado y que todavía hoy se juegan en PCs y teléfonos móviles. Algunas de las modificaciones que puedes incluir son:\n",
    "\n",
    "* Diseñar un sistema de pantallas en el que vaya cambiando la distribución de los ladrillos\n",
    "* Modificar de manera aleatoria el ángulo de rebote para que no siempre sean los 175º que hemos utilizado. De esta manera aumentará la dificultad del juego\n",
    "* Puedes añadir nuevas teclas de movimiento que permita a la raqueta, por ejemplo, avanzar a saltos mayores, pausar el juego o añadir más pelotas para aumentar la dificultad\n",
    "* Las versiones modernas del **Arkanoid** descubrían unas píldoras con *poderes especiales* que caían al destruir algunos ladrillos. Estos poderes, en algunos casos eran positivos: que la pelota fuera más despacio, que la raqueta fuera más grande, permitir pasar automáticamente de pantalla... y en otros casos negativos: que la pelota fuera más rápida, que la raqueta fuera más pequeña o se moviera más despacio."
   ]
  }
 ],
 "metadata": {
  "kernelspec": {
   "display_name": "Python 3",
   "language": "python",
   "name": "python3"
  },
  "language_info": {
   "codemirror_mode": {
    "name": "ipython",
    "version": 3
   },
   "file_extension": ".py",
   "mimetype": "text/x-python",
   "name": "python",
   "nbconvert_exporter": "python",
   "pygments_lexer": "ipython3",
   "version": "3.8.8"
  },
  "vscode": {
   "interpreter": {
    "hash": "d652f12e86d4907f3226fd0eca720165fd18d0c760b9e442a689f9a4e2e2c276"
   }
  }
 },
 "nbformat": 4,
 "nbformat_minor": 2
}
