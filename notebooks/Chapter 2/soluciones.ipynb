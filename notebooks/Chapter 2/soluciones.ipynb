{
 "cells": [
  {
   "cell_type": "markdown",
   "metadata": {},
   "source": [
    "# Bingo Simualtor"
   ]
  },
  {
   "cell_type": "markdown",
   "metadata": {},
   "source": [
    "```{image} img/portada.png\n",
    ":alt: portada\n",
    ":class: bg-primary mb-1\n",
    ":width: 425px\n",
    ":align: center\n",
    "```"
   ]
  },
  {
   "cell_type": "markdown",
   "metadata": {},
   "source": [
    "El primer capítulo fue sencillo, ¿verdad?. ¡Vamos a subir un poco el nivel de dificultad!. \n",
    "\n",
    "En este ejercicio vamos implementar una versión muy sencilla del popular juego del Bingo. Nuestro Bingo consiste en generar unas tarjetas con unos cuantos números aleatorios que irán saliendo posteriormente de un bombo. Los usuarios que antes completen sus tarjetas, ganan. La implementación de nuestro juego permitirá modificar su complejidad ofreciendo a los usuarios la posibilidad de juegar con cartones más grandes o más pequeños, así como de seleccionar la cantidad de números que podrían entrar en el bombo. Aprovecharemos nuestra implementación para realizar un sencillo análisis estadístico sobre su comportamiento.\n",
    "\n",
    "\n",
    "```{seealso}\n",
    "Puedes encontrar más información sobre este juego [aquí](https://en.wikipedia.org/wiki/Bingo_(American_version)).\n",
    "```"
   ]
  },
  {
   "cell_type": "markdown",
   "metadata": {},
   "source": [
    "## Generación del cartón \n",
    "\n",
    "En este apartado vamos a crear la función **generate_card(size, maximum)** para que devuelva los números del cartón de Bingo. Esta función recibe dos argumentos de entrada:\n",
    "\n",
    "- **size** representa el tamaño de un cartón de **size** filas por **size** columnas\n",
    "- **maximum** es el número de bolas que entran en el bombo del bingo\n",
    "\n",
    "La función **generate_card(size, maximum)** tiene que devolver una lista de valores elegidos aleatoriamente entre 0 y **maximum**. Obviamente, no pueden salir dos números iguales dentro del mismo cartón. Por ejemplo:"
   ]
  },
  {
   "cell_type": "code",
   "execution_count": 44,
   "metadata": {},
   "outputs": [
    {
     "name": "stdout",
     "output_type": "stream",
     "text": [
      "[1, 7, 16, 8, 3, 19, 2, 18, 4]\n"
     ]
    }
   ],
   "source": [
    "card = generate_card(3, 20)\n",
    "print(card)"
   ]
  },
  {
   "cell_type": "markdown",
   "metadata": {},
   "source": [
    "::::{warning}\n",
    ":class: warning\n",
    "Es importante añadir a la función algún mecanismo que controle que el número de casillas de nuestro cartón no puede exceder el número de posibilidades del bombo como en este caso:\n",
    "\n",
    ":::{code}\n",
    "card = generar_carton(5, 20)\n",
    ":::\n",
    "\n",
    "En el ejemplo anterior estamos simulando un cartón de 25 casillas, pero nuestro bombo sólo contiene 20 números. Si no lo preveemos, la función **random.sample** generará una excepción del tipo **ValueError: Sample larger than population or is negative**.\n",
    "\n",
    "::::"
   ]
  },
  {
   "cell_type": "markdown",
   "metadata": {},
   "source": [
    "### Solución:"
   ]
  },
  {
   "cell_type": "code",
   "execution_count": 44,
   "metadata": {},
   "outputs": [],
   "source": [
    "import random\n",
    "\n",
    "def generate_card(size, maximum):\n",
    "    if size*size>maximum:\n",
    "        print(\"Error, card is larger than the number of balls in the drum\")\n",
    "        return []\n",
    "    else:\n",
    "        return random.sample(range(0, maximum), size*size)"
   ]
  },
  {
   "cell_type": "code",
   "execution_count": 20,
   "metadata": {},
   "outputs": [
    {
     "data": {
      "text/plain": [
       "[23, 98, 15, 91, 92, 65, 22, 78, 43, 69, 47, 96, 77, 46, 87, 11]"
      ]
     },
     "execution_count": 20,
     "metadata": {},
     "output_type": "execute_result"
    }
   ],
   "source": [
    "generate_card(4, 100)"
   ]
  },
  {
   "cell_type": "markdown",
   "metadata": {},
   "source": [
    ":::{note}\n",
    "En lugar de utilizar la función [random.sample](https://docs.python.org/3/library/random.html#random.sample) podríamos haber utilizado [rand.randint](https://docs.python.org/3/library/random.html#random.randint) que genera números enteros entre un valor mínimo y un valor máximo. Para utilizar la función [rand.randint](https://docs.python.org/3/library/random.html#random.randint) deberíamos haber implementado un mecanismo que verificara que el número generado no ha salido con anterioridad. Este problema no lo tenemos con la función [random.sample](https://docs.python.org/3/library/random.html#random.sample), ya que por definición devuelve **k** elementos únicos de una determinada población, en nuestro caso, una secuencia de números entre 0 y **maximum**. \n",
    ":::\n",
    "\n",
    ":::{seealso}\n",
    "De todas formas se propone al lector que intente resolverlo utilizando la función **randint** por lo que sería conveniente echar un ojo a su documentación [rand.randint](https://docs.python.org/3/library/random.html#random.randint).\n",
    ":::"
   ]
  },
  {
   "cell_type": "markdown",
   "metadata": {},
   "source": [
    "## Mostrar el cartón por pantalla\n",
    "\n",
    "Una vez que tenemos una lista con los valores del cartón, necesitamos una función que los muestre por pantalla. Vamos a crear la función **print_card(card, numbers)** que recibe dos parámetros:\n",
    "\n",
    "- **card** es una lista con los números de los que está compuesto el tablero (devueltos por la función generate_card())\n",
    "- **numbers** es otra lista que contiene los números que ya han salido durante el progreso de la partida de Bingo\n",
    "\n",
    "Ojo, esta función no devuelve nada, simplemente imprime el tablero por pantalla:"
   ]
  },
  {
   "cell_type": "code",
   "execution_count": 34,
   "metadata": {},
   "outputs": [
    {
     "name": "stdout",
     "output_type": "stream",
     "text": [
      "|  6|  4| 15|\n",
      "|  8| 18|  1|\n",
      "| 11| 17|  3|\n"
     ]
    }
   ],
   "source": [
    "print_card([6, 4, 15, 8, 18, 1, 11, 17, 3], [])"
   ]
  },
  {
   "cell_type": "markdown",
   "metadata": {},
   "source": [
    "Si se invoca durante el progreso de una partida de Bingo y le pasamos la lista de los números que han salido con anterioridad, la función debe marcarlos con una X:"
   ]
  },
  {
   "cell_type": "code",
   "execution_count": 35,
   "metadata": {},
   "outputs": [
    {
     "name": "stdout",
     "output_type": "stream",
     "text": [
      "|  X|  X| 15|\n",
      "|  X| 18|  X|\n",
      "| 11| 17|  X|\n"
     ]
    }
   ],
   "source": [
    "print_card([6, 4, 15, 8, 18, 1, 11, 17, 3], [1,2,3,4,5,6,7,8])"
   ]
  },
  {
   "cell_type": "markdown",
   "metadata": {},
   "source": [
    "### Solución:"
   ]
  },
  {
   "cell_type": "code",
   "execution_count": 45,
   "metadata": {},
   "outputs": [],
   "source": [
    "import numpy as np\n",
    "def print_card(card,numbers):\n",
    "    side=int(np.sqrt(len(card)))\n",
    "    index=0\n",
    "    for row in range(side):\n",
    "        for col in range(side):\n",
    "            if card[index] not in numbers:\n",
    "                print(\"|%3d\" % card[index],end=\"\")\n",
    "            else:\n",
    "                print(\"|%3s\" % \"X\",end=\"\")\n",
    "            index+=1\n",
    "        print(\"|\")"
   ]
  },
  {
   "cell_type": "code",
   "execution_count": 39,
   "metadata": {},
   "outputs": [
    {
     "name": "stdout",
     "output_type": "stream",
     "text": [
      "| 22| 53| 83| 30|\n",
      "| 57| 84| 56| 61|\n",
      "| 34| 69| 36|  5|\n",
      "| 88| 45| 23| 62|\n"
     ]
    }
   ],
   "source": [
    "card=generate_card(4, 100)\n",
    "print_card(card,[])"
   ]
  },
  {
   "cell_type": "markdown",
   "metadata": {},
   "source": [
    "::::{note}\n",
    "Python dispone de muchas posibilidades para formatear las salidas por pantalla. Una de las más empleadas es la que hemos utilizado en la función **print_card**:\n",
    "\n",
    ":::{code}\n",
    "print(\"|%3d\" % card[index],end=\"\")\n",
    ":::\n",
    "\n",
    "El código **\"%3d\"** significa que Python va a reservar 3 espacios para el dígito que imprimiremos en esa posición.\n",
    "::::\n",
    "\n",
    ":::{seealso}\n",
    "[Aquí](https://docs.python.org/3/tutorial/inputoutput.html#fancier-output-formatting) puedes leer más sobre diferentes formas de formatear strings.\n",
    ":::"
   ]
  },
  {
   "cell_type": "markdown",
   "metadata": {},
   "source": [
    "## Simular el bombo\n",
    "\n",
    "Para simular el bombo del Bingo, vamos a crear función **simulate_drum(maximum,numbers)**. Esta función recibe dos argumentos de entrada: \n",
    "\n",
    "- **maximum** es una variable de tipo entero que contiene el valor del número más alto dentro del bombo\n",
    "- **numbers** es una variable de tipo lista con la colección de los números que han salido con anterioridad\n",
    "\n",
    "Cada vez que invoquemos a esta función debe devolver un número de entre los restantes:"
   ]
  },
  {
   "cell_type": "code",
   "execution_count": 24,
   "metadata": {},
   "outputs": [
    {
     "name": "stdout",
     "output_type": "stream",
     "text": [
      "We got ball number:  9\n"
     ]
    }
   ],
   "source": [
    "new_number=simulate_drum(10,[0,1,2,3,4,5,6,7])\n",
    "print(\"We got ball number: \", new_number)"
   ]
  },
  {
   "cell_type": "markdown",
   "metadata": {},
   "source": [
    "### Solución:"
   ]
  },
  {
   "cell_type": "code",
   "execution_count": 46,
   "metadata": {},
   "outputs": [],
   "source": [
    "def simulate_drum(maximum,numbers):\n",
    "    available=list(range(0,maximum))\n",
    "    for i in numbers:\n",
    "        available.remove(i)\n",
    "    return random.sample(available,1)[0]"
   ]
  },
  {
   "cell_type": "code",
   "execution_count": 26,
   "metadata": {},
   "outputs": [
    {
     "name": "stdout",
     "output_type": "stream",
     "text": [
      "We got ball number:  8\n"
     ]
    }
   ],
   "source": [
    "bola=simulate_drum(10,[0,1,2,3,4,5,7])\n",
    "print(\"We got ball number: \",bola)"
   ]
  },
  {
   "cell_type": "markdown",
   "metadata": {},
   "source": [
    "```{note}\n",
    "Esta es una de las múltiples maneras de resolver este problema. Podría haberse implementado un mecanismo iterativo que llamase a la función [rand.randint](https://docs.python.org/3/library/random.html#random.randint) y que verificase si el número generado ya había salido con anterioridad. El problema de este mecanismo es que cuantos menos números queden en el bombo más iteracciones haría falta para generar un número nuevo.\n",
    "```"
   ]
  },
  {
   "cell_type": "markdown",
   "metadata": {},
   "source": [
    "## Detección de fin de juego\n",
    "\n",
    "El juego que estamos implementando va a ser automático. Esto quiere decir que no vamos a solicitar al usuario que verifique si el número que ha salido del bombo está o no en su cartón. Para ello vamos a necesitar una función que chequee automáticamente si nuestro cartón ha resultado premiado. Para ello vamos a implementar la función **game_over(card,numbers)**. Esta función recibe dos parámetros:\n",
    "\n",
    "- **card** es una variable tipo lista que contien los números de nuestro cartón\n",
    "- **numbers** es una variable tipo lista que contiene los números que han salido hasta el momento\n",
    "\n",
    "La invocación de esta función debe devolver True cuando hayan salido del bombo todos los números del cartón y False en caso contrario."
   ]
  },
  {
   "cell_type": "code",
   "execution_count": 27,
   "metadata": {},
   "outputs": [
    {
     "name": "stdout",
     "output_type": "stream",
     "text": [
      "The game is over:  True\n"
     ]
    }
   ],
   "source": [
    "victoria=game_over([1,2,3,4,5,6,7,8,9],[1,2,3,4,5,6,7,8,9])\n",
    "print(\"The game is over: \",victoria)"
   ]
  },
  {
   "cell_type": "markdown",
   "metadata": {},
   "source": [
    "### Solución:"
   ]
  },
  {
   "cell_type": "code",
   "execution_count": 47,
   "metadata": {},
   "outputs": [],
   "source": [
    "def game_over(card,numbers):\n",
    "    match=[]\n",
    "    for i in card:\n",
    "        if i in numbers:\n",
    "            match.append(True)\n",
    "    if len(match)==len(card):\n",
    "        return True\n",
    "    else:\n",
    "        return False"
   ]
  },
  {
   "cell_type": "code",
   "execution_count": 28,
   "metadata": {},
   "outputs": [
    {
     "name": "stdout",
     "output_type": "stream",
     "text": [
      "|  0|  8|\n",
      "|  7|  3|\n",
      "The game is over:  False\n"
     ]
    }
   ],
   "source": [
    "card=generate_card(2, 10)\n",
    "print_card(card,[])\n",
    "ganador=game_over(card,[1,2,3,4])\n",
    "print(\"The game is over: \",ganador)"
   ]
  },
  {
   "cell_type": "markdown",
   "metadata": {},
   "source": [
    ":::{note}\n",
    "Esta solución se limita a recorrer todos los números del cartón y a verificar si se encuentran o no en la lista de números que ya han salido del bombo.\n",
    "Este chequeo se puede hacer rápidamente con el operador **in**. \n",
    ":::\n",
    "\n",
    ":::{seealso}\n",
    "Puedes encontrar más información de este operador [aquí](https://docs.python.org/3/reference/expressions.html#in).\n",
    ":::"
   ]
  },
  {
   "cell_type": "markdown",
   "metadata": {},
   "source": [
    "## Implementación del juego\n",
    "\n",
    "Para implementar el juego del Bingo hemos creado la siguiente función:"
   ]
  },
  {
   "cell_type": "code",
   "execution_count": 67,
   "metadata": {},
   "outputs": [],
   "source": [
    "def play_bingo(size,maximum):\n",
    "    numbers_from_the_drum=[]\n",
    "    balls=0\n",
    "    card=generate_card(size, maximum)\n",
    "    print(\"=\"*(size*3+size+1))\n",
    "    print_card(card,[])\n",
    "    print(\"=\"*(size*3+size+1))\n",
    "    while not game_over(card,numbers_from_the_drum):\n",
    "        new_ball=simulate_drum(maximum,numbers_from_the_drum)\n",
    "        print(\"New ball: \",new_ball)\n",
    "        balls=balls+1\n",
    "        numbers_from_the_drum.append(new_ball)\n",
    "        print(\"=\"*(size*3+size+1))\n",
    "        print_card(card,numbers_from_the_drum)\n",
    "        print(\"=\"*(size*3+size+1))\n",
    "    return balls"
   ]
  },
  {
   "cell_type": "markdown",
   "metadata": {},
   "source": [
    "Esta función recibe los dos parámetros que permiten configurar el nivel de dificultad:\n",
    "\n",
    "- **size** es una variable tipo entero con el número de filas y de columnas del cartón. Cuanto mayor sea esta variable, más números contendrá nuestro cartón y más complicado resultará completarlo\n",
    "- **maximum** es una variable de tipo entero que describe el número de bolas que contiene el bombo del Bingo. Cuando mayor sea el valor de esta variable más números entrarán en el bombo y más complicado resultará completar un cartón\n",
    "\n",
    "La salida de la función será el número de bolas que han tenido que salir del cartón hasta que se ha completado. El código siguiente solicita al usuario el nivel de dificultad mediante la introducción de un valor para ambas variables.\n",
    "\n",
    "Para monitar el progreso de nuestro juego hemos incluido llamadas a la función **print_card** que irá mostrando progresivamente como completamos la tarjeta.\n",
    "\n",
    "::::{note}\n",
    "Habrás notado que para separar unos cartones de otros hemos incluido una fila con el símbolo **=**. La longitud de este símbolo la hemos calculado así:\n",
    "\n",
    ":::{code}\n",
    "print(\"=\"*(size*3+size+1))\n",
    ":::\n",
    "\n",
    "Dedícale un par de minutos a intentar entender el porqué de esta expresión.\n",
    "::::"
   ]
  },
  {
   "cell_type": "code",
   "execution_count": 71,
   "metadata": {
    "scrolled": false
   },
   "outputs": [
    {
     "name": "stdout",
     "output_type": "stream",
     "text": [
      "Number of rows for the card: 3\n",
      "Number of balls for the drum: 20\n",
      "=============\n",
      "| 19| 12| 17|\n",
      "|  0| 11|  6|\n",
      "| 16| 14| 13|\n",
      "=============\n",
      "New ball:  11\n",
      "=============\n",
      "| 19| 12| 17|\n",
      "|  0|  X|  6|\n",
      "| 16| 14| 13|\n",
      "=============\n",
      "New ball:  15\n",
      "=============\n",
      "| 19| 12| 17|\n",
      "|  0|  X|  6|\n",
      "| 16| 14| 13|\n",
      "=============\n",
      "New ball:  14\n",
      "=============\n",
      "| 19| 12| 17|\n",
      "|  0|  X|  6|\n",
      "| 16|  X| 13|\n",
      "=============\n",
      "New ball:  18\n",
      "=============\n",
      "| 19| 12| 17|\n",
      "|  0|  X|  6|\n",
      "| 16|  X| 13|\n",
      "=============\n",
      "New ball:  6\n",
      "=============\n",
      "| 19| 12| 17|\n",
      "|  0|  X|  X|\n",
      "| 16|  X| 13|\n",
      "=============\n",
      "New ball:  16\n",
      "=============\n",
      "| 19| 12| 17|\n",
      "|  0|  X|  X|\n",
      "|  X|  X| 13|\n",
      "=============\n",
      "New ball:  0\n",
      "=============\n",
      "| 19| 12| 17|\n",
      "|  X|  X|  X|\n",
      "|  X|  X| 13|\n",
      "=============\n",
      "New ball:  12\n",
      "=============\n",
      "| 19|  X| 17|\n",
      "|  X|  X|  X|\n",
      "|  X|  X| 13|\n",
      "=============\n",
      "New ball:  9\n",
      "=============\n",
      "| 19|  X| 17|\n",
      "|  X|  X|  X|\n",
      "|  X|  X| 13|\n",
      "=============\n",
      "New ball:  5\n",
      "=============\n",
      "| 19|  X| 17|\n",
      "|  X|  X|  X|\n",
      "|  X|  X| 13|\n",
      "=============\n",
      "New ball:  10\n",
      "=============\n",
      "| 19|  X| 17|\n",
      "|  X|  X|  X|\n",
      "|  X|  X| 13|\n",
      "=============\n",
      "New ball:  19\n",
      "=============\n",
      "|  X|  X| 17|\n",
      "|  X|  X|  X|\n",
      "|  X|  X| 13|\n",
      "=============\n",
      "New ball:  17\n",
      "=============\n",
      "|  X|  X|  X|\n",
      "|  X|  X|  X|\n",
      "|  X|  X| 13|\n",
      "=============\n",
      "New ball:  7\n",
      "=============\n",
      "|  X|  X|  X|\n",
      "|  X|  X|  X|\n",
      "|  X|  X| 13|\n",
      "=============\n",
      "New ball:  1\n",
      "=============\n",
      "|  X|  X|  X|\n",
      "|  X|  X|  X|\n",
      "|  X|  X| 13|\n",
      "=============\n",
      "New ball:  3\n",
      "=============\n",
      "|  X|  X|  X|\n",
      "|  X|  X|  X|\n",
      "|  X|  X| 13|\n",
      "=============\n",
      "New ball:  8\n",
      "=============\n",
      "|  X|  X|  X|\n",
      "|  X|  X|  X|\n",
      "|  X|  X| 13|\n",
      "=============\n",
      "New ball:  13\n",
      "=============\n",
      "|  X|  X|  X|\n",
      "|  X|  X|  X|\n",
      "|  X|  X|  X|\n",
      "=============\n",
      "Number of attempts:  18\n"
     ]
    }
   ],
   "source": [
    "size=int(input(\"Number of rows for the card: \"))\n",
    "maximum=int(input(\"Number of balls for the drum: \"))\n",
    "attempts=play_bingo(size,maximum)\n",
    "print(\"Number of attempts: \",attempts)"
   ]
  },
  {
   "cell_type": "markdown",
   "metadata": {},
   "source": [
    "Como los números salen del bombo de manera aleatoria, el número de bolas que hay que sacar para rellenar un cartón variará de una ejecución a otra. Si ejecutas la celda anterior varias veces, el número de intentos debería de variar. Si eres muy afortunado sólo tendrás que esperar 9 bolas para rellenar los 9 números de tu cartón. Si nunca se te han dado bien los juegos de azar, entonces tendrás que esperar a que el bombo se vacíe porque seguramente la última bola contenga un número de tu cartón.\n",
    "\n",
    "En la ejecución anterior hemos tenido que esperar a que salgan 18 bolas del bombo para poder completar el cartón."
   ]
  },
  {
   "cell_type": "markdown",
   "metadata": {},
   "source": [
    "## Simulación\n",
    "\n",
    "Vamos a investigar sobre el efecto del nivel de dificultad en nuestro juego. Para ello vamos a crear un código que simule un juego de Bingo en el que el tamaño de los cartones varíe de 1 a 9 filas (y columnas) y en el que el máximo valor que puede salir del bombo es el número 100.\n",
    "\n",
    "Nuestro código debe ir almacenando el número de iteracciones necesarias para cada tamaño de cartón para posteriormente imprimir una gráfica en el que el eje X sean los tamaños de los cartones y el eje Y el número de bolas que han tenido que salir del bombo para completar cada cartón.\n",
    "\n",
    "Para que nuestro resultado tenga cierta relevancia estadística, vamos a repetir la simulación de cada cartón hasta 10 veces. De esta forma, el valor que representamos en el eje Y será el promedio del número de bolas que hemos necesitado para cada valor del eje X."
   ]
  },
  {
   "cell_type": "markdown",
   "metadata": {},
   "source": [
    "::::{warning}\n",
    "Si no quieres que tu notebook se sature con impresiones del cartón de bingo, tendrás que comentar los **prints** y las invocaciones a la función **print_card** de la función **play_bingo**.\n",
    "Este es el código de la función **play_bingo** que deberías  usar antes de invocar la simulación de partidas.\n",
    ":::{code}\n",
    "def play_bingo(size,maximum):\n",
    "    numbers_from_the_drum=[]\n",
    "    balls=0\n",
    "    card=generate_card(size, maximum)\n",
    "    while not game_over(card,numbers_from_the_drum):\n",
    "        new_ball=simulate_drum(maximum,numbers_from_the_drum)\n",
    "        balls=balls+1\n",
    "        numbers_from_the_drum.append(new_ball)\n",
    "    return balls            \n",
    ":::\n",
    "::::"
   ]
  },
  {
   "cell_type": "markdown",
   "metadata": {},
   "source": [
    ":::{note}\n",
    "Puedes utilizar la libreria **matplotlib.pyplot** para representar los resultados de la simulación. \n",
    ":::\n",
    "\n",
    ":::{seealso}\n",
    "Puedes encontrar más información sobre esta librería [aquí](https://www.w3schools.com/python/matplotlib_pyplot.asp#in).\n",
    ":::"
   ]
  },
  {
   "cell_type": "markdown",
   "metadata": {},
   "source": [
    "### Solución:"
   ]
  },
  {
   "cell_type": "code",
   "execution_count": 42,
   "metadata": {},
   "outputs": [],
   "source": [
    "balls=[]\n",
    "maximum=100\n",
    "for size in range(1,10):\n",
    "    repetition=[]\n",
    "    for repetitions in range(10):\n",
    "        num=play_bingo(size,maximum)\n",
    "        repetition.append(num)\n",
    "    balls.append(np.mean(repetition))"
   ]
  },
  {
   "cell_type": "code",
   "execution_count": 43,
   "metadata": {},
   "outputs": [
    {
     "data": {
      "image/png": "[encoded data removed]",
      "text/plain": [
       "<Figure size 432x288 with 1 Axes>"
      ]
     },
     "metadata": {
      "needs_background": "light"
     },
     "output_type": "display_data"
    }
   ],
   "source": [
    "import matplotlib.pyplot as plt\n",
    "\n",
    "X=range(1,10)\n",
    "plt.plot(X,balls) \n",
    "plt.xlabel(\"Number of rows for the card\")\n",
    "plt.ylabel(\"Average number of balls pulled from the drum\")\n",
    "plt.show()"
   ]
  },
  {
   "cell_type": "markdown",
   "metadata": {},
   "source": [
    "## Extensiones del juego\n",
    "\n",
    "Si te ha sabido a poco, puedes complicar el juego con las siguientes propuestas:\n",
    "\n",
    "* En el juego real, el premio máximo se consigue cuando se completa un cartón, pero también cuando se completan filas. Puedes implementar un mecanismo que detecte cuando se completan filas y repetir el análisis anterior\n",
    "* Este juego es una simulación, puedes implementar una versión en el que se definan un número de jugadores y en el que cada jugador compre un cartón por una determinada cantidad. El total de lo recaudado formará parte del premio de aquel jugador que complete su cartón en primer lugar. El análisis estadístico de esta modalidad se vuelve más interesante porque podemos analizar si hay un determinado número de cartones que me permite maximizar los beneficios y el efecto del número de cartones vendidos\n",
    "* Puedes intentar implementar alguna de las múltiples variaciones que existen en este juego. [Aquí](https://en.wikipedia.org/wiki/Bingo_(American_version)#Variations) se describen algunas."
   ]
  }
 ],
 "metadata": {
  "kernelspec": {
   "display_name": "Python 3",
   "language": "python",
   "name": "python3"
  },
  "language_info": {
   "codemirror_mode": {
    "name": "ipython",
    "version": 3
   },
   "file_extension": ".py",
   "mimetype": "text/x-python",
   "name": "python",
   "nbconvert_exporter": "python",
   "pygments_lexer": "ipython3",
   "version": "3.8.8"
  }
 },
 "nbformat": 4,
 "nbformat_minor": 2
}
