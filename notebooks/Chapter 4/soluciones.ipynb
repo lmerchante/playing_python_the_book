{
 "cells": [
  {
   "cell_type": "markdown",
   "metadata": {},
   "source": [
    "(letras-label)="
   ]
  },
  {
   "cell_type": "markdown",
   "metadata": {},
   "source": [
    "# Cifras y Letras: Prueba de Letras"
   ]
  },
  {
   "cell_type": "markdown",
   "metadata": {},
   "source": [
    "```{image} img/portada.png\n",
    ":alt: portada\n",
    ":class: bg-primary mb-1\n",
    ":width: 500px\n",
    ":align: center\n",
    "```"
   ]
  },
  {
   "cell_type": "markdown",
   "metadata": {},
   "source": [
    "Cifras y Letras fue un progrma de la televisión española de los años 90 que se extendió durante más de 20 años. El juego se orquestaba en torno a dos participantes que concursaban en varias pruebas de dos tipos. Una de letras y otra de números. Nosotros vamos implementar una versión simplificada de ambas pruebas.\n",
    "\n",
    "En este capítulo vamos a construir una versión de la prueba de letras del popular programa de televisión Cifras y Letras. Las reglas de este juego son las siguientes:\n",
    "\n",
    "* Se pide al usuario que introduza el número de letras con el que desea jugar. A mayor numero de letras, mayor dificultad.\n",
    "* El jugador recibe una serie de vocales y consonantes con las que debe formar la palabra más larga posible\n",
    "* Las letras con las que se juega se reciben de una en una y es el propio jugador quien decide si quiere recibir una vocal o una consonante\n",
    "* Solo se puede hacer uso de las letras que se han obtenido, sin repetirlas\n",
    "* La puntuación es proporcional a la longitud de la palabra construida, recibiendo una bonificación si la palabra generada utiliza todas las letras.\n",
    "\n",
    "En nuestra versión de un sólo jugador, la palabra proporcionada sólo se considerará validada si aparece en el fichero **words.txt**. En caso de no ser así, si se puede comprobar por otros medios que la palabra construida ha sido aceptada recientemente por la RAE, el jugador puede incluir la palabra en el fichero **words.txt** para futuras partidas.\n",
    "\n",
    "```{seealso}\n",
    "Puedes ver el primer programa de Cifras y letras [aquí](https://www.rtve.es/play/videos/cifras-y-letras/cifras-letras-primer-programa/3707422/) o encontrar más información en su entrada de [Wikipedia](https://es.wikipedia.org/wiki/Cifras_y_letras).\n",
    "```"
   ]
  },
  {
   "cell_type": "markdown",
   "metadata": {},
   "source": [
    "## Vocales y consonantes\n",
    "\n",
    "Vamos a empezar creando dos listas, una con las vocales y otra con las consonantes."
   ]
  },
  {
   "cell_type": "code",
   "execution_count": 1,
   "metadata": {},
   "outputs": [],
   "source": [
    "vowels = ['a', 'e', 'i', 'o', 'u']\n",
    "consonants = ['b', 'c', 'd', 'f', 'g', 'h', 'j', 'k', 'l', 'm', 'n', 'ñ', 'p', 'q', 'r', 's', 't', 'v', 'w', 'x', 'y', 'z']"
   ]
  },
  {
   "cell_type": "markdown",
   "metadata": {},
   "source": [
    "::::{tip}\n",
    "Recuerda que en Python las variables de tipo STRING comparten muchas propiedades con las listas. También son colecciones que se pueden indexar. Por lo que podríamos haber definido esas variables de la siguiente manera:\n",
    "\n",
    ":::{code}\n",
    "vowels = \"aeiou\"\n",
    "consonants = \"bcdfghjklmnñpqrstvwxyz\"\n",
    ":::\n",
    "\n",
    "::::"
   ]
  },
  {
   "cell_type": "markdown",
   "metadata": {},
   "source": [
    "## Pedir un número\n",
    "\n",
    "En primer lugar, el jugador debe decidir el nivel de dificultad del juego. Vamos a crear una función **select_difficulty()** para que el usuario introduzca el número de letras con las que quiere jugar. Cuantas más letras, más posibilidades de formar palabras, pero también más dificil conseguir la máxima puntuación utilizando todas las letras. El primer paso es asegurarnos de que el valor introducido es un número. Esta función no recibe ningún argumento de entrada y tiene que devolver el valor numérico seleccionado por el usuario.\n",
    "\n",
    "\n",
    "### Solución:"
   ]
  },
  {
   "cell_type": "code",
   "execution_count": 9,
   "metadata": {},
   "outputs": [],
   "source": [
    "def select_difficulty():\n",
    "    while True:\n",
    "        try:\n",
    "            number = int(input(\"Select the number of characters to play with: \"))\n",
    "            return number\n",
    "        except ValueError:\n",
    "            print(\"Error, you must use a number\")"
   ]
  },
  {
   "cell_type": "code",
   "execution_count": 4,
   "metadata": {},
   "outputs": [
    {
     "name": "stdout",
     "output_type": "stream",
     "text": [
      "Select the number of characters to play with: three\n",
      "Error, you must use a number\n",
      "Select the number of characters to play with: 3\n"
     ]
    },
    {
     "data": {
      "text/plain": [
       "3"
      ]
     },
     "execution_count": 4,
     "metadata": {},
     "output_type": "execute_result"
    }
   ],
   "source": [
    "select_difficulty()"
   ]
  },
  {
   "cell_type": "markdown",
   "metadata": {},
   "source": [
    "```{Note}\n",
    "El uso de excepciones ayuda mucho a conseguir códigos compactos y funcionales. La función **select_difficulty()** puede implementarse sin ellas, pero habría que leer el valor introducido por el jugador como una variable STRING y validar mediante las funciones [isalpha()](https://docs.python.org/3/library/stdtypes.html#str.isalpha), [isdecimal()](https://docs.python.org/3/library/stdtypes.html#str.isdecimal), [isdigit()](https://docs.python.org/3/library/stdtypes.html#str.isdigit) o [isnumeric()](https://docs.python.org/3/library/stdtypes.html#str.isnumeric) si el valor es correcto antes de convertirlo a un tipo numérico.\n",
    "\n",
    "Por otro lado, el uso de bucles con condiciones que se validan siempre (bucle infinito) también es reemplazable por otro tipo de recursos, pero usados correctamente permite reducir considerablemente la complejidad de una función y favorecer su legibilidad.\n",
    "```"
   ]
  },
  {
   "cell_type": "markdown",
   "metadata": {},
   "source": [
    "## Consonante o Vocal\n",
    "\n",
    "En el programa de televisión los participantes iban diciendo \"consonante\" o \"vocal\" cada vez que la presentadora les ofrecía la posibilidad de recibir una nueva letra. Nosotros vamos a simular el juego permitiendo al jugador responder a la misma pregunta. \n",
    "Vamos a crear la función **consonant_or_vowel()** que tiene como único argumento la variable **difficulty** que contiene el número de letras con el que vamos a jugar. La función debe preguntar al jugador si quiere una consonante o una vocal, y dependiendo de su respuesta, generar una letra aleatoria de la categoría elegida. La función debe devolver las consonantes y vocales generadas en una variable tipo lista.\n",
    "\n",
    "Es muy importante que el código vaya mostrando al usuario las letras que se han ido generando porque la siguiente respuesta del jugador dependerá de ello.\n",
    "\n",
    "\n",
    "```{tip}\n",
    "Para hacer el juego más ágil y evitar tener que escribir en cada ocasión las palabras \"consonante\" o \"vocal\", se puede solicitar, por ejemplo, un 0 para consonante y un 1 para vocal.\n",
    "```"
   ]
  },
  {
   "cell_type": "markdown",
   "metadata": {},
   "source": [
    "### Solución:"
   ]
  },
  {
   "cell_type": "code",
   "execution_count": 10,
   "metadata": {},
   "outputs": [],
   "source": [
    "import random\n",
    "\n",
    "def consonant_or_vowel(difficulty):\n",
    "    vowels = ['a', 'e', 'i', 'o', 'u']\n",
    "    consonants = ['b', 'c', 'd', 'f', 'g', 'h', 'j', 'k', 'l', 'm', 'n', 'ñ', 'p', 'q', 'r', 's', 't', 'v', 'w', 'x', 'y', 'z']\n",
    "    letters = []\n",
    "    for i in range(difficulty):\n",
    "        ask = int(input(\"Consonant [0] or Vowel [1]? \"))\n",
    "        if ask == 0 :\n",
    "            letters.append(random.sample(consonants,1)[0])\n",
    "        else:\n",
    "            letters.append(random.sample(vowels,1)[0])\n",
    "        print(\"LETTERS: \",\",\".join(letters).upper())\n",
    "    \n",
    "    return letters"
   ]
  },
  {
   "cell_type": "code",
   "execution_count": 7,
   "metadata": {},
   "outputs": [
    {
     "name": "stdout",
     "output_type": "stream",
     "text": [
      "Consonant [0] or Vowel [1]? 0\n",
      "LETTERS:  Ñ\n",
      "Consonant [0] or Vowel [1]? 1\n",
      "LETTERS:  Ñ,E\n",
      "Consonant [0] or Vowel [1]? 1\n",
      "LETTERS:  Ñ,E,U\n",
      "Consonant [0] or Vowel [1]? 4\n",
      "LETTERS:  Ñ,E,U,I\n",
      "Consonant [0] or Vowel [1]? 4\n",
      "LETTERS:  Ñ,E,U,I,A\n"
     ]
    },
    {
     "data": {
      "text/plain": [
       "['ñ', 'e', 'u', 'i', 'a']"
      ]
     },
     "execution_count": 7,
     "metadata": {},
     "output_type": "execute_result"
    }
   ],
   "source": [
    "consonant_or_vowel(5)"
   ]
  },
  {
   "cell_type": "markdown",
   "metadata": {},
   "source": [
    "```{note} \n",
    "En este caso, para simplificar el código, no estamos validando que el valor introducido es un número. Para que nuestro programa fuera resistente a fallos habría que aplicar un mecanismo similar el que utilizamos en la función **select_difficulty()**.\n",
    "\n",
    "Por otro lado, la solición aportada simplifica el código al máximo chequeando sólo si el valor introducido por el jugador es un cero. Esto quiere decir que la función **select_difficulty** también interpretaría que el jugador está solicitando una vocal si introduce cualquier otro número.\n",
    "```"
   ]
  },
  {
   "cell_type": "markdown",
   "metadata": {},
   "source": [
    "## Validar la construcción\n",
    "\n",
    "Cuando el jugador proporciona una palabra, antes de contemplar si existe o no dentro del diccionario de la Real Academia Española, hay que asegurar que ha sido construida con las letras disponibles en el juego.\n",
    "\n",
    "Vamos a implementar la función **validate_letters(word, letters)** que recibe dos argumentos de entrada:\n",
    "\n",
    "* **word** variable de tipo STRING que contiene la palabra proporcionada por el jugador\n",
    "* **letters** variable de tipo LIST con las letras del juego\n",
    "\n",
    "La función sólo tiene que devolver una variable booleana de valor **True** o **False** dependiendo de si la palabra cumple o no los requisitos."
   ]
  },
  {
   "cell_type": "markdown",
   "metadata": {},
   "source": [
    "### Solución:"
   ]
  },
  {
   "cell_type": "code",
   "execution_count": 11,
   "metadata": {},
   "outputs": [],
   "source": [
    "import copy\n",
    "\n",
    "def validate_letters(word, letters):\n",
    "    ltrs=copy.deepcopy(letters)\n",
    "    try:\n",
    "        for letter in word:\n",
    "            ltrs.remove(letter)\n",
    "        return True\n",
    "    except:\n",
    "        return False"
   ]
  },
  {
   "cell_type": "code",
   "execution_count": 7,
   "metadata": {},
   "outputs": [
    {
     "data": {
      "text/plain": [
       "True"
      ]
     },
     "execution_count": 7,
     "metadata": {},
     "output_type": "execute_result"
    }
   ],
   "source": [
    "validate_letters(\"home\", [\"h\",\"o\",\"m\",\"e\",\"s\",\"u\"])"
   ]
  },
  {
   "cell_type": "code",
   "execution_count": 8,
   "metadata": {},
   "outputs": [
    {
     "data": {
      "text/plain": [
       "False"
      ]
     },
     "execution_count": 8,
     "metadata": {},
     "output_type": "execute_result"
    }
   ],
   "source": [
    "validate_letters(\"villa\", [\"v\",\"i\",\"l\",\"a\",\"s\",\"u\"])"
   ]
  },
  {
   "cell_type": "markdown",
   "metadata": {},
   "source": [
    "::::{warning}\n",
    "Como Python es un lenguaje que pasa sus argumentos por referencia, si modificamos una variable de un tipo mutable, como las listas, esa variable se verá modificada desde el programa principal. Por ejemplo, en el código:\n",
    "\n",
    ":::{code}\n",
    "mutable=[\"v\",\"i\",\"l\",\"a\",\"s\",\"u\"]\n",
    "validate_letters(\"villa\", mutable)\n",
    "print(mutable)\n",
    ":::\n",
    "\n",
    "La variable **mutable**, tras la ejecución de la función **validate_letters**, contendrá:\n",
    "\n",
    ":::{code}\n",
    "['a', 's', 'u']\n",
    ":::\n",
    "\n",
    "Para evitarlo, podemos trabajar con una copia de la variable utilizando la función [deepcopy()](https://docs.python.org/3/library/copy.html).\n",
    "::::"
   ]
  },
  {
   "cell_type": "markdown",
   "metadata": {},
   "source": [
    "## Leer palabras diccionario\n",
    "\n",
    "Para chequear si la palabra introducida por el jugador está contemplada por la Real Academia Española, tenemos que buscarla entre las palabras del fichero **words.txt**. Para ello vamos a implementar una función **get_words(filename)** que lea el fichero y guarde las palabras en una lista. Al mismo tiempo que leemos esas palabras vamos a asegurarnos que todas ellas están en minúscula y además, vamos a aprovechar para eliminar cualquier tipo de tilde.\n",
    "\n",
    "La función **get_words(filename)** recibe como único argumento de entrada el nombre del fichero dentro de una variable de tipo STRING y devuelve una lista de elementos también de tipo STRING."
   ]
  },
  {
   "cell_type": "markdown",
   "metadata": {},
   "source": [
    "::::{tip}\n",
    "Recueda que el fichero **Words.txt** contiene las tildes del lenguaje español, puede que tengas que utilizar el encoding \"utf8\" para leer su contenido.\n",
    "\n",
    "Una vez que hayas leído las palabras, puedes utilizar la **librería unidecode** para eliminar los acentos:\n",
    ":::{code}\n",
    "import unidecode\n",
    "unaccented_string = unidecode.unidecode(\"áéíóú\")\n",
    ":::\n",
    "La única limitación de este código es que convierte las \"ñ\" en \"n\". En la solución propuesta utilizamos la función [translate](https://docs.python.org/3/library/stdtypes.html#str.translate) y [maketrans](https://docs.python.org/3/library/stdtypes.html#str.maketrans) de las variables STRING para reemplazar sólo las vocales con tildes.\n",
    "::::"
   ]
  },
  {
   "cell_type": "markdown",
   "metadata": {},
   "source": [
    "### Solución:"
   ]
  },
  {
   "cell_type": "code",
   "execution_count": 12,
   "metadata": {},
   "outputs": [],
   "source": [
    "import unidecode\n",
    "\n",
    "def get_words(filename):\n",
    "    with open(filename, \"r\", encoding=\"utf8\") as file:\n",
    "        words = file.read().splitlines()\n",
    "    \n",
    "    a,b = 'áéíóúü','aeiouu'\n",
    "    trans = str.maketrans(a,b)\n",
    "    output = [word.translate(trans)  for word in words]\n",
    "    \n",
    "    return output"
   ]
  },
  {
   "cell_type": "code",
   "execution_count": 21,
   "metadata": {},
   "outputs": [
    {
     "name": "stdout",
     "output_type": "stream",
     "text": [
      "['a', 'aaronita', 'aaronico', 'aba', 'ababa', 'ababillarse', 'ababol', 'abacal', 'abacalero', 'abacero']\n"
     ]
    }
   ],
   "source": [
    "rae = get_words(\"words.txt\")\n",
    "print(rae[:10])"
   ]
  },
  {
   "cell_type": "markdown",
   "metadata": {},
   "source": [
    "::::{note} \n",
    "La conversión de un STRING a minúsculas es muy sencillo utilizando el método [lower()](https://docs.python.org/3/library/stdtypes.html#str.lower). También existe un método complementario [upper()](https://docs.python.org/3/library/stdtypes.html#str.upper) para convertir cualquier STRING a mayúsculas.\n",
    "::::"
   ]
  },
  {
   "cell_type": "markdown",
   "metadata": {},
   "source": [
    "::::{seealso} \n",
    "Puedes encontrar más información sobre la función **open** y el manejo de ficheros de texto [aqui](https://www.w3schools.com/python/python_file_open.asp).\n",
    "::::"
   ]
  },
  {
   "cell_type": "markdown",
   "metadata": {},
   "source": [
    "## Validar la palabra\n",
    "\n",
    "Una vez que hemos leído las palabras del diccionario, necesitamos una función que haga la validación. Vamos a construir la función **validate word(word, rae)** que recibe dos parámetros:\n",
    "\n",
    "* **word** es una variable de tipo STRING que contiene la palabra que queremos validar\n",
    "* **rae** es una variable de tipo LIST que contiene todas las palabras del fichero **words.txt**.\n",
    "\n",
    "La función **validate word(word, rae)** sólo devuelve una salida de tipo BOOL que toma el valor **True** si la palabra existe o **False** en caso contrario."
   ]
  },
  {
   "cell_type": "markdown",
   "metadata": {},
   "source": [
    "### Solución:"
   ]
  },
  {
   "cell_type": "code",
   "execution_count": 13,
   "metadata": {},
   "outputs": [],
   "source": [
    "def validate_word(word, rae):    \n",
    "    if word in rae:\n",
    "        return True\n",
    "    else:\n",
    "        return False"
   ]
  },
  {
   "cell_type": "code",
   "execution_count": 16,
   "metadata": {},
   "outputs": [
    {
     "data": {
      "text/plain": [
       "True"
      ]
     },
     "execution_count": 16,
     "metadata": {},
     "output_type": "execute_result"
    }
   ],
   "source": [
    "validate_word(\"universidad\", rae)"
   ]
  },
  {
   "cell_type": "code",
   "execution_count": 17,
   "metadata": {},
   "outputs": [
    {
     "data": {
      "text/plain": [
       "False"
      ]
     },
     "execution_count": 17,
     "metadata": {},
     "output_type": "execute_result"
    }
   ],
   "source": [
    "validate_word(\"uniforvidez\", rae)"
   ]
  },
  {
   "cell_type": "markdown",
   "metadata": {},
   "source": [
    "## Añadir palabras al diccionario\n",
    "\n",
    "Puede darse el caso que la palabra construida por el jugador se haya includio reciemtente en las nuevas revisiones del diccionario de la Real Academia Española dejando obsoleto nuestro fichero **words.txt**. También podría suceder que la palabra no esté aceptada por la RAE, pero los jugadores decidan validarla de común acuerdo. Para que esta nueva palabra forme parte de las palabras validadas en futuras partidas, vamos a implemetar una función que permite añadir una palabra al fichero **words.txt**. La función **add_new_word(filename, new_word)** recibe dos argumentos de entrada:\n",
    "\n",
    "* **filename** variable de tipo STRING con el nombre del fichero\n",
    "* **new_word** variable de tipo STRING con la palabra que queremos añadir al fichero\n",
    "\n",
    "La función no devuelve ningún valor."
   ]
  },
  {
   "cell_type": "markdown",
   "metadata": {},
   "source": [
    "### Solución:"
   ]
  },
  {
   "cell_type": "code",
   "execution_count": 14,
   "metadata": {},
   "outputs": [],
   "source": [
    "def add_new_word(filename, new_word):\n",
    "    with open(filename, \"a\") as file:\n",
    "        file.write(new_word + \"\\n\")"
   ]
  },
  {
   "cell_type": "markdown",
   "metadata": {},
   "source": [
    "## Calcular la puntuación\n",
    "\n",
    "Aunque nuestro juego sólo está pensado para un sólo jugador, es necesaria una función que devuelva una puntuación que será función de la longitud de la palabra construida. Las reglas para calcular la puntuación son las siguientes:\n",
    "\n",
    "* La máxima puntuación es 100\n",
    "* La máxima puntuación sólo se consigue si el jugador proporciona una palabra utilizando todas las letras del juego\n",
    "* La puntuación para palabras más cortas se calcula de manera proporcionar a su longitud:\n",
    "$$100\\times\\frac{len(word)}{len(letters)}$$\n",
    "* Una palabra de la máxima longitud, además de obtener 100 puntos, obtiene un bonus extra de otros 100 puntos.\n",
    "\n",
    "La función **calculate_score(word, letters)** recibe como argumentos:\n",
    "\n",
    "* **word** es una variable de tipo STRING con la palabra que ha introducido el usuario\n",
    "* **letters** es una variable de tipo LIST con las letras disponibles\n",
    "\n",
    "Y devuelve un valor numérico, de tipo entero, con la puntuación. Por ejemplo, la siguiente llamada devuelve 200 puntos porque el usuario ha construido una palabra utilizando todas las letras disponibles."
   ]
  },
  {
   "cell_type": "code",
   "execution_count": 17,
   "metadata": {},
   "outputs": [
    {
     "data": {
      "text/plain": [
       "200"
      ]
     },
     "execution_count": 17,
     "metadata": {},
     "output_type": "execute_result"
    }
   ],
   "source": [
    "calculate_score(\"home\", [\"h\",\"o\",\"m\",\"e\"])"
   ]
  },
  {
   "cell_type": "markdown",
   "metadata": {},
   "source": [
    "Sin embargo, en el siguiente ejemplo, el usuario obtiene 50 puntos porque sólo ha usado la mitad de las letras disponibles:"
   ]
  },
  {
   "cell_type": "code",
   "execution_count": 18,
   "metadata": {},
   "outputs": [
    {
     "data": {
      "text/plain": [
       "50"
      ]
     },
     "execution_count": 18,
     "metadata": {},
     "output_type": "execute_result"
    }
   ],
   "source": [
    "calculate_score(\"home\", [\"h\",\"o\",\"m\",\"e\",\"a\",\"r\",\"r\",\"s\"])"
   ]
  },
  {
   "cell_type": "markdown",
   "metadata": {},
   "source": [
    "### Solución:"
   ]
  },
  {
   "cell_type": "code",
   "execution_count": 16,
   "metadata": {},
   "outputs": [],
   "source": [
    "def calculate_score(word, letters):\n",
    "    score = round(100*(len(word)/len(letters)))\n",
    "    if len(word)==len(letters):\n",
    "        score=score+100\n",
    "    return score"
   ]
  },
  {
   "cell_type": "markdown",
   "metadata": {},
   "source": [
    "## Encontrar la mejor palabra posible\n",
    "\n",
    "En la emisión televisiva, tras las intervenciones de los concursantes, la presentadora siempre aportaba alguna palabra de su propia cosecha, que en la mayoría de las ocasiones tenía una longitud superior a la de los concursantes. Vamos a emular este comportamiento con una función que nos devuelva la palabra con la mayor longitud posible para las letras con las que se está jugando.\n",
    "\n",
    "La función **find_optimal_word(words, letters, length)** recibe los siguientes argumentos:\n",
    "\n",
    "* **words** contiene una variable de tipo LIST con las palabras del fichero **words.txt**\n",
    "* **letters** es una variable de tipo LIST con las letras disponibles\n",
    "* **length** es una variable de tipo INT con la longitud de la palabra construida por el jugador\n",
    "\n",
    "```{tip} \n",
    "Para encontrar la palabra óptima puedes utilizar la fuerza bruta probando todas las palabras del diccionario. Aunque un planteamiento más óptimo es ignorar las de longitud inferior a la palabra construida por el jugador o las que contengan letras que no se encuentran entre las disponibles.\n",
    "```"
   ]
  },
  {
   "cell_type": "markdown",
   "metadata": {},
   "source": [
    "### Solución:"
   ]
  },
  {
   "cell_type": "code",
   "execution_count": 19,
   "metadata": {},
   "outputs": [],
   "source": [
    "def find_optimal_word(words, letters,length):\n",
    "    optimal_word = \"\"\n",
    "    optimal_score = 0\n",
    "    for w in words:\n",
    "        if len(w)<length:\n",
    "            pass\n",
    "        elif validate_letters(w,letters)==False:\n",
    "            pass\n",
    "        else:\n",
    "            score = calculate_score(w, letters)\n",
    "            if score > optimal_score:\n",
    "                optimal_score = score\n",
    "                optimal_word = w\n",
    "    return optimal_word"
   ]
  },
  {
   "cell_type": "code",
   "execution_count": 22,
   "metadata": {},
   "outputs": [
    {
     "data": {
      "text/plain": [
       "'castañedo'"
      ]
     },
     "execution_count": 22,
     "metadata": {},
     "output_type": "execute_result"
    }
   ],
   "source": [
    "letters=[\"c\",\"a\",\"s\",\"a\",\"ñ\",\"e\",\"o\",\"d\",\"t\"]\n",
    "player=\"casa\"\n",
    "find_optimal_word(rae, letters, len(player))"
   ]
  },
  {
   "cell_type": "markdown",
   "metadata": {},
   "source": [
    "```{note}\n",
    "Cuando en Python tenemos que incluir código pero no tenemos necesidad de que ese código haga ninguna acción en particular, podemos utilizar el comando [pass](https://docs.python.org/3/reference/simple_stmts.html#the-pass-statement).\n",
    "```"
   ]
  },
  {
   "cell_type": "markdown",
   "metadata": {},
   "source": [
    "## Programa principal\n",
    "\n",
    "Ahora por fin podemos construir el juego completo usando las funciones que hemos implementado. Los pasos a seguir son los siguientes:\n",
    "\n",
    "1. Solicitar al usuario el nivel de dificultad\n",
    "2. Generar la lista de letras (vocales y consonantes) con las que va a jugar\n",
    "3. Leer las palabras del fichero **word.txt**\n",
    "4. Preguntar al usuario por la palabra con la que va a jugar\n",
    "5. Validar si la palabra se ha construido legalmente\n",
    "6. Validar si la palabra existe en el fichero **word.txt**. En caso de no existir, proporcionar la posiblidad de incluirla para futuras partidas\n",
    "7. Dependiendo de las validaciones anteriores, mostrar mensajes explicativos por pantalla\n",
    "8. Terminar mostrando la puntuación y la mejor palabra que se podía conseguir"
   ]
  },
  {
   "cell_type": "markdown",
   "metadata": {},
   "source": [
    "### Solución:"
   ]
  },
  {
   "cell_type": "markdown",
   "metadata": {},
   "source": [
    "El código presentado a continuación inicializa el juego generando las letras con las que vamos a jugar y leyendo la lista de palabras válidas"
   ]
  },
  {
   "cell_type": "code",
   "execution_count": 24,
   "metadata": {},
   "outputs": [
    {
     "name": "stdout",
     "output_type": "stream",
     "text": [
      "Select the number of characters to play with: 5\n",
      "Consonant [0] or Vowel [1]? 1\n",
      "LETTERS:  I\n",
      "Consonant [0] or Vowel [1]? 0\n",
      "LETTERS:  I,P\n",
      "Consonant [0] or Vowel [1]? 0\n",
      "LETTERS:  I,P,G\n",
      "Consonant [0] or Vowel [1]? 1\n",
      "LETTERS:  I,P,G,E\n",
      "Consonant [0] or Vowel [1]? 1\n",
      "LETTERS:  I,P,G,E,A\n"
     ]
    }
   ],
   "source": [
    "difficulty = select_difficulty()\n",
    "letters = consonant_or_vowel(difficulty)\n",
    "filename = \"words.txt\"\n",
    "rae = get_words(filename)"
   ]
  },
  {
   "cell_type": "markdown",
   "metadata": {},
   "source": [
    "Con la lista completa de letras, el siguiente comando le solicita al usuario su palabra. Notar que las letras se han presentado en mayúscula para mayor claridad, pero nuestro programa trabaja siempre en minúsuculas. Por ello convermitos la palabra del usuario a minúsculas."
   ]
  },
  {
   "cell_type": "code",
   "execution_count": 25,
   "metadata": {},
   "outputs": [
    {
     "name": "stdout",
     "output_type": "stream",
     "text": [
      "Which word can you build with those letters? pie\n"
     ]
    }
   ],
   "source": [
    "word = input(\"Which word can you build with those letters? \")\n",
    "word = word.lower()"
   ]
  },
  {
   "cell_type": "markdown",
   "metadata": {},
   "source": [
    "La primera validación consiste en comprobar si hemos usado las letras que nos han ofrecido"
   ]
  },
  {
   "cell_type": "code",
   "execution_count": 26,
   "metadata": {},
   "outputs": [
    {
     "data": {
      "text/plain": [
       "True"
      ]
     },
     "execution_count": 26,
     "metadata": {},
     "output_type": "execute_result"
    }
   ],
   "source": [
    "validate_letters(word,letters)"
   ]
  },
  {
   "cell_type": "markdown",
   "metadata": {},
   "source": [
    "Y la segunda, si mi palabra está en la lista de palabras admitidas"
   ]
  },
  {
   "cell_type": "code",
   "execution_count": 27,
   "metadata": {},
   "outputs": [
    {
     "data": {
      "text/plain": [
       "True"
      ]
     },
     "execution_count": 27,
     "metadata": {},
     "output_type": "execute_result"
    }
   ],
   "source": [
    "validate_word(word, rae)"
   ]
  },
  {
   "cell_type": "markdown",
   "metadata": {},
   "source": [
    "Ahora tenemos que meter ambas validaciones en una estructura condicional que le de al usuario el feedback adecuado en cada caso.\n",
    "En este mismo bloque, si se da la situación de que la palabra construida es legal pero no se encuentra en la lista de palabras admitidas, se le debe dar al jugador la opción de validarla e incluirla en el fichero para futuras partidas.\n",
    "En todos los casos se proporcionará un valor a la variable score."
   ]
  },
  {
   "cell_type": "code",
   "execution_count": 28,
   "metadata": {},
   "outputs": [
    {
     "name": "stdout",
     "output_type": "stream",
     "text": [
      "Congrats! Your word is valid\n"
     ]
    }
   ],
   "source": [
    "if validate_letters(word,letters) == False:\n",
    "    print(\"Sorry, you lost. You dind't use the letters properly\")\n",
    "    score = 0\n",
    "elif validate_word(word, rae) == False:\n",
    "    print(\"Sorry, your word is not in RAE\")\n",
    "    append=input(\"Do you want to include it for future plays (Y/N)?\")\n",
    "    if append == \"Y\": \n",
    "        add_new_word(filename, word)\n",
    "        print(\"Word {} appended to file\".format(word))\n",
    "        score = calculate_score(word, letters)\n",
    "    else:\n",
    "        score = 0\n",
    "else:\n",
    "    print(\"Congrats! Your word is valid\")\n",
    "    score = calculate_score(word, letters)"
   ]
  },
  {
   "cell_type": "markdown",
   "metadata": {},
   "source": [
    "El juego termina mostrando el valor del score y la mejor palabra que se podía conseguir con las letras que se generaron."
   ]
  },
  {
   "cell_type": "code",
   "execution_count": 29,
   "metadata": {},
   "outputs": [
    {
     "name": "stdout",
     "output_type": "stream",
     "text": [
      "Your score is:  60\n",
      "You could have also think in:  pega\n"
     ]
    }
   ],
   "source": [
    "print(\"Your score is: \",score)\n",
    "print(\"You could have also think in: \",find_optimal_word(rae, letters,len(word)))"
   ]
  },
  {
   "cell_type": "markdown",
   "metadata": {},
   "source": [
    "## Extensiones del juego\n",
    "\n",
    "Esta es nuestra versión de la prueba de números del mítico programa Cifras y Letras. Tú puedes implementar la tuya. Aquí tienes algunas ideas.\n",
    "\n",
    "* Puedes dar la opción al jugador de elegir otros idiomas diferentes del español. Para ello necesitarás diferentes ficheros con listas de palabras en los otros idiomas\n",
    "* En el programa original, se realizaban varias pruebas de letras. Puedes mejorar el juego dándo la posibilidad de echar varias partidas y así tener más oportunidades de aumentar la puntuación\n",
    "* El juego original se realizaba contra reloj. Esto añadía una dificultad extra porque los concurstantes tenían un tiempo limitado. Puedes replicar esta característica contabilizando el tiempo que el usuario tarda en responder o incluso mostrando una cuenta regresiva. "
   ]
  }
 ],
 "metadata": {
  "kernelspec": {
   "display_name": "Python 3",
   "language": "python",
   "name": "python3"
  },
  "language_info": {
   "codemirror_mode": {
    "name": "ipython",
    "version": 3
   },
   "file_extension": ".py",
   "mimetype": "text/x-python",
   "name": "python",
   "nbconvert_exporter": "python",
   "pygments_lexer": "ipython3",
   "version": "3.8.8"
  },
  "vscode": {
   "interpreter": {
    "hash": "d652f12e86d4907f3226fd0eca720165fd18d0c760b9e442a689f9a4e2e2c276"
   }
  }
 },
 "nbformat": 4,
 "nbformat_minor": 2
}
