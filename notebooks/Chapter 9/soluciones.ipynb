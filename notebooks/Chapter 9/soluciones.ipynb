{
 "cells": [
  {
   "cell_type": "markdown",
   "metadata": {},
   "source": [
    "# Lingo"
   ]
  },
  {
   "cell_type": "markdown",
   "metadata": {},
   "source": [
    "```{image} img/portada.png\n",
    ":alt: portada\n",
    ":class: bg-primary mb-1\n",
    ":width: 425px\n",
    ":align: center\n",
    "```"
   ]
  },
  {
   "cell_type": "markdown",
   "metadata": {},
   "source": [
    "El juego del Lingo consiste en adivinar palabras de 5 letras, en un máximo de 5 intentos. El juego se inicia con la letra inicial. Cada vez que el jugador dice una palabra, se le indica si alguna de las letras utilizadas forma parte de la palabra oculta. Si la letra esta en el sitio exacto, se colorea de verde, y si la letra esta en la palabra, pero no en el sitio exacto, se colorea de rojo.\n",
    "\n",
    "La mecánica te sonará del popular [Wordle](https://wordle.danielfrg.com/), pero la inspiración de este juego es muy anterior y procede de una emisión de la televisión española de los años 90 presentado por [Ramoncín](https://es.wikipedia.org/wiki/Ramonc%C3%ADn) el rey del pollo frito."
   ]
  },
  {
   "cell_type": "markdown",
   "metadata": {},
   "source": [
    "```{seealso}\n",
    "Puedes encontrar más información sobre el programa [aquí](https://es.wikipedia.org/wiki/Lingo_(programa_de_televisi%C3%B3n)). Y en la web con el archivo de [Radio Televisión Española](https://www.rtve.es/play/videos/programas-y-concursos-en-el-archivo-de-rtve/04-08-1993-ramoncin/5900431/) puedes ver alguna de sus emisiones.\n",
    "```"
   ]
  },
  {
   "cell_type": "markdown",
   "metadata": {},
   "source": [
    "## Impresión en colores\n",
    "\n",
    "Vas a empezar creando tres funciones para imprimir texto en diferentes colores. Estas funciones las utilizaremos para colorear las letras del panel, por este motivo las funciones no deben incluir un salto de línea. \n",
    "\n",
    "Las funciones se llaman:\n",
    "\n",
    "* print_red(text)\n",
    "* print_green(text)\n",
    "\n",
    "Y sólo reciben como argumento de entrada una variable tipo STRING con el carácter o la secuencia de caracteres que deben colorear. Las tres funciones no devuelven ningún valor, se limitan a sacar por pantalla el contenido de la variable **text** en el color correspondiente."
   ]
  },
  {
   "cell_type": "markdown",
   "metadata": {},
   "source": [
    "::::{tip}\n",
    "Se puede cambiar el color de una cadena de caracteres añadiendo, al principio y al final del texto a colorear, unos caraceters ANSI especiales:\n",
    "\n",
    ":::{code}\n",
    "print('\\033[92m' +\"This text is printed in green\"+'\\033[92m')\n",
    ":::\n",
    "<span style=\"color:green\">This text is printed in green</span>\n",
    "\n",
    "Este [stackoverlfow](https://stackoverflow.com/questions/4842424/list-of-ansi-color-escape-sequences) contiene una explicación bastante completa, aunque para el ejercicio que aquí te proponemos sólo necesitarás estos tres colores:\n",
    "\n",
    "* Red: '\\033[91m'\n",
    "* Green: '\\033[92m'\n",
    "* Black: '\\033[0m'\n",
    "\n",
    "Recuerda también que para eliminar el salto de línea que introduce el comando **print** hay que utilizar el argumento **end**:\n",
    ":::{code}\n",
    "print(\"Text without line break\",end=\"\")\n",
    ":::\n",
    "\n",
    "::::"
   ]
  },
  {
   "cell_type": "markdown",
   "metadata": {},
   "source": [
    "### Solución:"
   ]
  },
  {
   "cell_type": "code",
   "execution_count": 1,
   "metadata": {},
   "outputs": [],
   "source": [
    "def print_red(text):\n",
    "    red =  '\\033[91m'\n",
    "    black =  '\\033[0m' \n",
    "    print(red+text+red, end = '')\n",
    "    print(black+black, end = '')\n",
    "    \n",
    "def print_green(text):\n",
    "    green =  '\\033[92m'\n",
    "    black =  '\\033[0m' \n",
    "    print(green+text+green, end = '')\n",
    "    print(black+black, end = '')"
   ]
  },
  {
   "cell_type": "markdown",
   "metadata": {},
   "source": [
    "Puedes comprobar su funcionamiento como:"
   ]
  },
  {
   "cell_type": "markdown",
   "metadata": {},
   "source": [
    ":::{code}\n",
    "print_red(\"RED\")\n",
    "print()\n",
    "print_green(\"GREEN\")\n",
    ":::\n",
    "\n",
    "<span style=\"color:red\">RED</span>\n",
    "\n",
    "<span style=\"color:green\">GREEN</span>"
   ]
  },
  {
   "cell_type": "markdown",
   "metadata": {},
   "source": [
    "## Elegir palabra aleatoria\n",
    "\n",
    "El siguiente paso es construir una función **get_word(filename,length)** que reciba dos argumentos de entrada:\n",
    "\n",
    "* **filename** variable STRING con el nombre del archivo **words.txt**\n",
    "* **length** valriable INT con la longitud de la palabra con la que queremos jugar\n",
    "\n",
    "La función tiene que devolver una palabra aleatoria que contenga el número de letras indicado."
   ]
  },
  {
   "cell_type": "markdown",
   "metadata": {},
   "source": [
    ":::{tip}\n",
    "Para simplificar el juego, podemos eliminar las palabras que contengan algún tipo de acento.\n",
    ":::"
   ]
  },
  {
   "cell_type": "markdown",
   "metadata": {},
   "source": [
    "### Solución:\n",
    "\n",
    "Esta función puede resolverse de muchísimas formas diferentes. Nosotros vamos a utilizar una aproximación muy sencilla aunque puede que no sea la más óptima. Empezaremos abriendo el fichero, después recorremos todas las palabras seleccionando sólo aquellas que cumplan el requisito de la longitud, por último, utilizamos la función **sample** de la librería **random** para elegir una de entre todas las que compartan la longitud indicada."
   ]
  },
  {
   "cell_type": "code",
   "execution_count": 5,
   "metadata": {},
   "outputs": [],
   "source": [
    "import random\n",
    "\n",
    "def get_word(filename, length):\n",
    "    with open(filename, 'r',encoding=\"utf8\") as file:\n",
    "        words = file.read().splitlines()\n",
    "        \n",
    "    candidates=[]\n",
    "    accents='áéíóúü'\n",
    "    for w in words:\n",
    "        if len(w)==length:\n",
    "            if not any([True if letter in accents else False for letter in w]):\n",
    "                candidates.append(w)\n",
    "    \n",
    "    if len(candidates)!=0:\n",
    "        word=random.sample(candidates,1)[0]\n",
    "    else:\n",
    "        word=\"\"\n",
    "\n",
    "    return word"
   ]
  },
  {
   "cell_type": "code",
   "execution_count": 6,
   "metadata": {},
   "outputs": [
    {
     "data": {
      "text/plain": [
       "'atestiguamiento'"
      ]
     },
     "execution_count": 6,
     "metadata": {},
     "output_type": "execute_result"
    }
   ],
   "source": [
    "get_word(\"words.txt\", 15)"
   ]
  },
  {
   "cell_type": "markdown",
   "metadata": {},
   "source": [
    "::::{note}\n",
    "La manera de chequear si una palabra contiene algún acento la resolvemos con la línea:                \n",
    "\n",
    ":::{code}\n",
    "if not any([True if letter in accents else False for letter in w]):\n",
    "    candidates.append(w)\n",
    ":::\n",
    "\n",
    "Este código es una manera condensada utilizando *comprehension lists* de hacer esto:\n",
    "\n",
    ":::{code}\n",
    "any_accent=[]\n",
    "for letter in w:   \n",
    "    if letter in accents:\n",
    "        any_accent.append(True)\n",
    "    else:\n",
    "        any_accent.append(False)\n",
    "\n",
    "if any(any_accent) == True:\n",
    "    pass\n",
    "else:\n",
    "    candidates.append(w)\n",
    ":::   \n",
    "\n",
    "Lo que hacemos en la versión extendida es ir iterando letra a letra e ir chequeando si esa letra es una vocal acentuada. El resultado de este chequeo lo almacenamos en la lista **any_accent**. La manera más sencilla de chequear si alguna de las variables booleanas almacenadas en la lista está puesta a **True** es utilizar la función **any**. Puedes aceder a su documentación [aquí](https://docs.python.org/3/library/functions.html#any).\n",
    "\n",
    "Recuerda también que la función **random.sample** siempre devuelve listas, incluso si sólo le pedimos un elemento aleatorio. Por lo que para poder trabajar con la palabra seleccionada, tenemos que extraerla de la lista indexando el único elemento que contiene, es decir, el cero:\n",
    ":::{code}\n",
    "word=random.sample(candidates,1)[0]\n",
    ":::\n",
    "::::"
   ]
  },
  {
   "cell_type": "markdown",
   "metadata": {},
   "source": [
    "## Inicio del juego\n",
    "\n",
    "Para iniciar el juego, vamos a programar una función **start_game(word)** que reciba como argumento una palabra en la variable **word** y que saca por pantalla la primera letra de la palabra ocultando el resto de caracteres con un guión bajo:"
   ]
  },
  {
   "cell_type": "code",
   "execution_count": 8,
   "metadata": {},
   "outputs": [
    {
     "name": "stdout",
     "output_type": "stream",
     "text": [
      "a _ _ _ _ _ _ _ _ _ \n",
      "\n"
     ]
    }
   ],
   "source": [
    "start_game(\"automovile\")"
   ]
  },
  {
   "cell_type": "markdown",
   "metadata": {},
   "source": [
    "### Solución:"
   ]
  },
  {
   "cell_type": "code",
   "execution_count": 7,
   "metadata": {},
   "outputs": [],
   "source": [
    "def start_game(word):\n",
    "    for i in range(len(word)):\n",
    "        if i != 0:\n",
    "            print('_', end = ' ')\n",
    "        else:\n",
    "            print(word[0], end = ' ')\n",
    "    print('\\n')"
   ]
  },
  {
   "cell_type": "markdown",
   "metadata": {},
   "source": [
    "## Comprobar aciertos\n",
    "\n",
    "Para comprobar el número de aciertos del usuario vamos a escribir una función **check_letters(secret, candidate)** que reciba dos argumentos:\n",
    "\n",
    "* **secret** contiene la palabra secreta en formato STRING\n",
    "* **candidate** contiene la palabra proporcionada por el jugador en formato STRING\n",
    "\n",
    "La función debe sacar por pantalla la palabra proporcionada por el usuario coloreando cada letra según estas reglas:\n",
    "\n",
    "* si la letra en cuestión existe en la palabra secreta y se encuentra en la misma posición, la imprimirá en verde\n",
    "* si la letra en cuestión existe en la palabra secreta pero se encuentra en otra posición, la imprimirá en rojo\n",
    "* si la letra en cuestión no exite en la palabra secreta, la imprimirá en el color normal"
   ]
  },
  {
   "cell_type": "markdown",
   "metadata": {},
   "source": [
    "### Solución:"
   ]
  },
  {
   "cell_type": "code",
   "execution_count": 9,
   "metadata": {},
   "outputs": [],
   "source": [
    "def check_letters(secret, candidate): \n",
    "    for i in range(len(candidate)):\n",
    "        if candidate[i] in secret: \n",
    "            if candidate[i] == secret[i]: \n",
    "                print_green(candidate[i])\n",
    "            else:\n",
    "                print_red(candidate[i])\n",
    "        else:\n",
    "            print(candidate[i], end= '')\n",
    "    print('\\n')"
   ]
  },
  {
   "cell_type": "markdown",
   "metadata": {},
   "source": [
    "Vamos a validar su funcionamiento probando un caso que contemple todas las reglas. Por ejemplo:"
   ]
  },
  {
   "cell_type": "markdown",
   "metadata": {},
   "source": [
    ":::{code}\n",
    "check_letters(secret=\"arroz\",candidate=\"astro\")\n",
    ":::\n",
    "<span style=\"color:green\">a</span>st<span style=\"color:red\">ro</span>            "
   ]
  },
  {
   "cell_type": "markdown",
   "metadata": {},
   "source": [
    "En el caso anterior, vemos que la palabra candidata contiene la A, la R y la O que son letras de la palabra **secret**. También contiene la S y la T que no están en la palabra **secret**. Según las reglas que hemos definido, la S y la T las colorea de negro por no estar contenidas en **secret**. Por el contrario, la R y la O las colorea de rojo, ya que ninguna de esas letras coincide en posición con las de la palabra **secret**. Finalmente, la letra A la colorea de verde porque hemos acertado con su posición."
   ]
  },
  {
   "cell_type": "markdown",
   "metadata": {},
   "source": [
    "## Fin de juego\n",
    "\n",
    "La última función que necesitas para poder implementar el juego completo se llama **is_a_winner(secret, candidate)** y recibe los mismos dos argumentos que la función **check_letters**. La función chequea si ambas palabras coinciden y devuelve una variable booleana de valor **True** en caso de coincidencia o de valor **False** en caso contrario."
   ]
  },
  {
   "cell_type": "markdown",
   "metadata": {},
   "source": [
    "### Solución:"
   ]
  },
  {
   "cell_type": "code",
   "execution_count": 13,
   "metadata": {},
   "outputs": [],
   "source": [
    "def is_a_winner(secret, candidate):\n",
    "    if secret == candidate:\n",
    "        return True\n",
    "    else:\n",
    "        return False"
   ]
  },
  {
   "cell_type": "markdown",
   "metadata": {},
   "source": [
    "Aunque su implementación es trivial, vamos a validarla:"
   ]
  },
  {
   "cell_type": "code",
   "execution_count": 14,
   "metadata": {},
   "outputs": [
    {
     "data": {
      "text/plain": [
       "False"
      ]
     },
     "execution_count": 14,
     "metadata": {},
     "output_type": "execute_result"
    }
   ],
   "source": [
    "is_a_winner(secret=\"arroz\",candidate=\"astro\")"
   ]
  },
  {
   "cell_type": "code",
   "execution_count": 15,
   "metadata": {},
   "outputs": [
    {
     "data": {
      "text/plain": [
       "True"
      ]
     },
     "execution_count": 15,
     "metadata": {},
     "output_type": "execute_result"
    }
   ],
   "source": [
    "is_a_winner(secret=\"arroz\",candidate=\"arroz\")"
   ]
  },
  {
   "cell_type": "markdown",
   "metadata": {},
   "source": [
    "## Implementar el juego\n",
    "\n",
    "Ya puedes programar el juego utilizando todas las funciones anteriores. Los pasos podrían esquematizarse así:\n",
    "\n",
    "* Preguntar al jugador por el nivel de dificultad del juego\n",
    "* Obtener una palabra secreta\n",
    "* Mostrar la palabra con la letra inicial y ocultando el resto\n",
    "* Construir un proceso que en un máximo de 5 iteracciones le de la oportunidad al jugador de adivinar la palabra"
   ]
  },
  {
   "cell_type": "code",
   "execution_count": null,
   "metadata": {},
   "outputs": [],
   "source": [
    "length = 0\n",
    "\n",
    "while length > 23 or length < 1:\n",
    "    length = int(input('Select the word length (between 1 and 23): '))\n",
    "    \n",
    "secret = get_word('words.txt', length)\n",
    "start_game(secret)\n",
    "\n",
    "win = False\n",
    "counter=0\n",
    "while counter < 5 and win == False:\n",
    "    candidate = input('Make your choice: ')\n",
    "    while len(candidate)!=len(secret):\n",
    "        candidate = input('Make your choice ({} letters): '.format(length))\n",
    "    \n",
    "    check_letters(secret, candidate)\n",
    "    win = is_a_winner(secret, candidate)\n",
    "    counter = counter+1\n",
    "    \n",
    "if win:\n",
    "    print(f'\"Congrats!! You only needed {counter} attempts!')\n",
    "else:\n",
    "    print(f\"So sad!! The secret word was {secret}\")"
   ]
  },
  {
   "cell_type": "markdown",
   "metadata": {},
   "source": [
    "Select the word length (between 1 and 23): 6\n",
    "\n",
    "l _ _ _ _ _ \n",
    "\n",
    "Make your choice: lambda  \n",
    "<span style=\"color:green\">la</span>mbd<span style=\"color:red\">a</span>  \n",
    "\n",
    "Make your choice: lather  \n",
    "<span style=\"color:green\">la</span><span style=\"color:red\">t</span>her\n",
    "\n",
    "Make your choice: layout  \n",
    "<span style=\"color:green\">la</span>y<span style=\"color:red\">o</span>u<span style=\"color:red\">t</span>\n",
    "\n",
    "Make your choice: laptop  \n",
    "<span style=\"color:green\">laptop</span>\n",
    "\n",
    "\"Congrats!! You only needed 4 attempts!"
   ]
  },
  {
   "cell_type": "markdown",
   "metadata": {},
   "source": [
    "## Extensiones del Juego\n",
    "\n",
    "Como ves, hemos implementado una versión muy sencilla del Lingo. Puedes complicarla añadiendo nuevas reglas o funcionalidades, por ejemplo:\n",
    "\n",
    "\n",
    "* Puedes utilizar diferentes colores para indicar si una letra está mal colocada, pero aparece una o dos veces\n",
    "* Puedes inventarte un sistema de puntuación en función del número de intentos, de la longitud de la palabra o del tiempo que le lleve al jugador resolverla\n",
    "* Puedes mejorar el interfaz gráfico construyendo un entorno más parecido al del juego [Wordle](https://wordle.danielfrg.com/). Aunque para ello puede que necesites primero completar algunos juegos más avanzados de este libro para conocer algunos recursos nuevos"
   ]
  }
 ],
 "metadata": {
  "interpreter": {
   "hash": "31f2aee4e71d21fbe5cf8b01ff0e069b9275f58929596ceb00d14d90e3e16cd6"
  },
  "kernelspec": {
   "display_name": "Python 3",
   "language": "python",
   "name": "python3"
  },
  "language_info": {
   "codemirror_mode": {
    "name": "ipython",
    "version": 3
   },
   "file_extension": ".py",
   "mimetype": "text/x-python",
   "name": "python",
   "nbconvert_exporter": "python",
   "pygments_lexer": "ipython3",
   "version": "3.8.8"
  }
 },
 "nbformat": 4,
 "nbformat_minor": 2
}
