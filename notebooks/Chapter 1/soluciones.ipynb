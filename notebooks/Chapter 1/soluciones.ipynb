{
 "cells": [
  {
   "cell_type": "markdown",
   "metadata": {},
   "source": [
    "# Piedra, Papel o Tijera"
   ]
  },
  {
   "cell_type": "markdown",
   "metadata": {},
   "source": [
    "```{image} img/portada.png\n",
    ":alt: portada\n",
    ":class: bg-primary mb-1\n",
    ":width: 450px\n",
    ":align: center\n",
    "```"
   ]
  },
  {
   "cell_type": "markdown",
   "metadata": {},
   "source": [
    "El primer ejercicio que te proponemos es desarrollar el clásico piedra papel o tijera, un juego que seguro ha decidido tu destino en más de una ocasión. Es sencillo y te servirá para repasar conceptos básicos. Aunque seguramente ya sabes jugar, vamos a repasar las normas:\n",
    "\n",
    "1. Cada jugador podrá escoger uno de estos tres elementos: \n",
    "    * Piedra\n",
    "    * Papel\n",
    "    * Tijera\n",
    "2. El ganador del juego se dedice segun la siguiente clasificación:\n",
    "    * La piedra gana a la tijera\n",
    "    * La tijera gana al papel\n",
    "    * El papel gana a la piedra\n",
    "\n",
    "```{seealso}\n",
    "Puedes encontrar más información sobre este juego [aquí](https://en.wikipedia.org/wiki/Rock_paper_scissors).\n",
    "```"
   ]
  },
  {
   "cell_type": "markdown",
   "metadata": {},
   "source": [
    "## Generación del menú de opciones\n",
    "\n",
    "En el primer apartado construiremos una función que muestre las opciones. Esta función será de mucha utilidad para evitar repetir el mismo código cada vez que queramos echar una partida. Vamos a codificar la función **menu()** que no recibe ningún argumento de entrada ni devuelve ninguna variable de salida. Simplemente imprime el siguiente menú:\n",
    "\n",
    "    Welcome to rock, paper, scissors game:\n",
    "\n",
    "    [1] - Rock\n",
    "    [2] - Paper\n",
    "    [3] - Scissors"
   ]
  },
  {
   "cell_type": "markdown",
   "metadata": {},
   "source": [
    "### Solución:"
   ]
  },
  {
   "cell_type": "code",
   "execution_count": 2,
   "metadata": {},
   "outputs": [],
   "source": [
    "def menu():\n",
    "    menu = \"\"\"\n",
    "    Welcome to rock, paper, scissors game:\n",
    "\n",
    "    [1] - Rock\n",
    "    [2] - Paper\n",
    "    [3] - Scissors\n",
    "\n",
    "    \"\"\"\n",
    "    print(menu)\n"
   ]
  },
  {
   "cell_type": "markdown",
   "metadata": {},
   "source": [
    ":::{note}\n",
    "En este caso hemos metido todo el texto dentro de una única variable STRING. Es una de las múltiples posibilidades que permite Python. Podrías haberlo resuelto utilizando una sentencia **print** para cada una de las líneas.       \n",
    ":::"
   ]
  },
  {
   "cell_type": "markdown",
   "metadata": {},
   "source": [
    "## Petición de nombres y tiradas\n",
    "\n",
    "Nuestro juego va a permitir que dos jugadores se disputen varias partidas. En este caso, el segundo jugador será el ordenador, pero podremos personalizarlo dándole un nombre. Para ello, vas a implementar la función **request_data()** que va a preguntar al usuario por los nombres de los dos juegadores y el número de partidas que quieren jugar. La función **request_data()** no recibe ningún argumento de entrada, pero sí que devuelve una variable **data** de tipo DICT que contiene los nombres de los dos jugadores y el numero de partidas.\n",
    "\n",
    "Para limitar la duración del juego, la función **request_data()** sólo aceptará entre 1 y 10 partidas."
   ]
  },
  {
   "cell_type": "markdown",
   "metadata": {},
   "source": [
    "### Solución:"
   ]
  },
  {
   "cell_type": "code",
   "execution_count": 1,
   "metadata": {},
   "outputs": [],
   "source": [
    "def request_data():\n",
    "    user = input(\"Enter your name: \")\n",
    "    rival = input(\"Enter your rival name: \")\n",
    "    attempts = int(input(\"How many battles to play?:\"))\n",
    "\n",
    "    while (attempts < 0 or attempts > 10):\n",
    "        print(\"Error, the number of battles must be between 1 and 10\")\n",
    "        attempts = int(input(\"How many battles to play?:\"))\n",
    "\n",
    "    data = dict(user=user, rival=rival, attempts=attempts)\n",
    "    return data\n",
    "\n"
   ]
  },
  {
   "cell_type": "markdown",
   "metadata": {},
   "source": [
    "::::{note}\n",
    "Para asegurarnos de que el usuario sólo puede elegir entre 1 y 10 partidas, hemos utilizado un bucle WHILE:\n",
    "\n",
    ":::{code}\n",
    "while (attempts < 0 or attempts > 10):\n",
    "        print(\"Error, the number of battles must be between 1 and 10\")\n",
    "        attempts = int(input(\"How many battles to play?:\"))\n",
    ":::        \n",
    "\n",
    "Este bucle se repetirá indefinidamente hasta que el jugador introduzca un valor para la variable **attemps** que se encuentre entre 1 y 10.\n",
    "::::            "
   ]
  },
  {
   "cell_type": "markdown",
   "metadata": {},
   "source": [
    "Vamos a probar su ejecución dando los nombres de los dos jugadores y un número de partidas:"
   ]
  },
  {
   "cell_type": "code",
   "execution_count": 2,
   "metadata": {},
   "outputs": [
    {
     "name": "stdout",
     "output_type": "stream",
     "text": [
      "Enter your name: Theo\n",
      "Enter your rival name: Simon\n",
      "How many battles to play?:5\n"
     ]
    },
    {
     "data": {
      "text/plain": [
       "{'user': 'Theo', 'rival': 'Simon', 'attempts': 5}"
      ]
     },
     "execution_count": 2,
     "metadata": {},
     "output_type": "execute_result"
    }
   ],
   "source": [
    "parameters=request_data()\n",
    "parameters"
   ]
  },
  {
   "cell_type": "markdown",
   "metadata": {},
   "source": [
    "## Elección de la jugada\n",
    "\n",
    "Nuestro juego comienza pidiéndo al jugador que seleccione una de las tres posibles jugadas. Para evitar que el usuario tenga que escribir los nombres de las jugadas, vamos a simplificarlo asignando un número a cada una de ellas. Para ser coherentes con el mensaje impreso por la función **menu**, vamos a definir la siguiente correspondencia:\n",
    "\n",
    "    [1] - Rock\n",
    "    [2] - Paper\n",
    "    [3] - Scissors\n",
    "    \n",
    "La función **select_option()** no recibe ningún argumento de entrada pero sí debe devolver una variable de tipo STRING con el nombre del elemento elegido."
   ]
  },
  {
   "cell_type": "markdown",
   "metadata": {},
   "source": [
    "### Solución"
   ]
  },
  {
   "cell_type": "code",
   "execution_count": 4,
   "metadata": {},
   "outputs": [],
   "source": [
    "def select_option():\n",
    "\n",
    "    option = int(input(\"Choose your weapon: \\n\"))\n",
    "\n",
    "    while option < 1 or option > 3:\n",
    "        print(\"\"\"Option not allowed. Choose:\n",
    "        [1] - Rock\n",
    "        [2] - Paper\n",
    "        [3] - Scissors\n",
    "        \"\"\")\n",
    "        option = int(input(\"Choose your weapon: \\n\"))\n",
    "        \n",
    "    if option == 1:\n",
    "        user_choice = \"rock\"\n",
    "    elif option == 2:\n",
    "        user_choice = \"paper\"\n",
    "    else:\n",
    "        user_choice = \"scissors\"\n",
    "\n",
    "    return user_choice"
   ]
  },
  {
   "cell_type": "markdown",
   "metadata": {},
   "source": [
    "::::{note}\n",
    "De nuevo, para hacer el juego más resistente a fallos, utilizamos otro bucle WHILE para asegurar que sólo vamos a aceptar como jugadas válidas los números 1, 2 o 3.\n",
    "\n",
    ":::{code}\n",
    "    while option < 1 or option > 3:\n",
    "        print(\"\"\"Option not allowed. Choose:\n",
    "        [1] - Rock\n",
    "        [2] - Paper\n",
    "        [3] - Scissors\n",
    "        \"\"\")\n",
    "        option = int(input(\"Choose your weapon: \\n\"))\n",
    ":::        \n",
    "\n",
    "::::   "
   ]
  },
  {
   "cell_type": "code",
   "execution_count": 5,
   "metadata": {},
   "outputs": [
    {
     "name": "stdout",
     "output_type": "stream",
     "text": [
      "Choose your weapon: \n",
      "1\n"
     ]
    },
    {
     "data": {
      "text/plain": [
       "'rock'"
      ]
     },
     "execution_count": 5,
     "metadata": {},
     "output_type": "execute_result"
    }
   ],
   "source": [
    "select_option()"
   ]
  },
  {
   "cell_type": "markdown",
   "metadata": {},
   "source": [
    "## Simulando al rival\n",
    "\n",
    "Sería complicado implementar este juego para dos jugadores reales sin que uno de ellos viera la jugada del otro con antelación. Para transmitir la sensación de jugar contra un adversario real, vamos a permitir al ordenador elegir una jugada de manera aleatoria y completamente oculta al jugador.\n",
    "\n",
    "Para ello vas a diseñar la función **rival_simulation()** que elegirá un elemento aleatorio de entre las opciones **\"papper\"**, **\"rock\"** y **\"scissors\"**. Esta funcionalidad se simplifica mucho utilizando la función **choice** de la librería **random**.\n",
    "\n",
    "```{seealso}\n",
    "Puedes encontrar la documentación de ese método [aquí](https://docs.python.org/3/library/random.html#random.choice).\n",
    "```\n",
    "\n",
    "La función **rival_simulation()** tampoco recibe ningún argumento, y como única salida debe devolver la jugada del rival simulado en formato STRING."
   ]
  },
  {
   "cell_type": "markdown",
   "metadata": {},
   "source": [
    "### Solución"
   ]
  },
  {
   "cell_type": "code",
   "execution_count": 6,
   "metadata": {},
   "outputs": [],
   "source": [
    "import random\n",
    "def rival_simulation():\n",
    "    options = [\"paper\", \"rock\", \"scissors\"]\n",
    "    rival_choice = random.choice(options)\n",
    "    return rival_choice"
   ]
  },
  {
   "cell_type": "markdown",
   "metadata": {},
   "source": [
    "::::{seealso}\n",
    "\n",
    "Puedes consultar la gran variedad de funcionalidades de la librería random [aqui](https://docs.python.org/3/library/random.html).\n",
    "::::   "
   ]
  },
  {
   "cell_type": "markdown",
   "metadata": {},
   "source": [
    "Para probar que la función genera valores aleatorios, prueba a ejecutar la siguiente celda varias veces y deberías obtener diferentes resultados:"
   ]
  },
  {
   "cell_type": "code",
   "execution_count": 13,
   "metadata": {},
   "outputs": [
    {
     "data": {
      "text/plain": [
       "'scissors'"
      ]
     },
     "execution_count": 13,
     "metadata": {},
     "output_type": "execute_result"
    }
   ],
   "source": [
    "rival_simulation()"
   ]
  },
  {
   "cell_type": "markdown",
   "metadata": {},
   "source": [
    "## Decidir el ganador\n",
    "\n",
    "Antes de implementar nuestro programa principal, tenemos que definir una última función. En este caso será el método **calculate_winner(user_choice, rival_choice, parameters)** que es la encargada de definir, a partir de las jugadas del usuario y del rival, quién ha resultado ganador. Los argumentos de entrada son:\n",
    "\n",
    "* **user_choice** contiene la jugada del usuario en formato STRING\n",
    "* **rival_choice** contiene la jugada del rival en formato STRING\n",
    "* **parameters** el diccionario con los nombres de los jugadores y el número de partidas\n",
    "\n",
    "La función debe devolver una única variable que contendrá el nombre del jugador vencedor en formato STRING o la palabra **\"tie\"** en caso de que se haya producido un empate."
   ]
  },
  {
   "cell_type": "markdown",
   "metadata": {},
   "source": [
    "### Solución"
   ]
  },
  {
   "cell_type": "code",
   "execution_count": 14,
   "metadata": {},
   "outputs": [],
   "source": [
    "def calculate_winner(user_choice, rival_choice, parameters):\n",
    "\n",
    "    if  user_choice==rival_choice:\n",
    "        print(\"We had a tie!\")\n",
    "        winner = \"tie\"\n",
    "    elif (user_choice == \"paper\" and rival_choice == \"scissors\") or \\\n",
    "         (user_choice == \"rock\" and rival_choice == \"paper\") or     \\\n",
    "         (user_choice == \"scissors\" and rival_choice == \"rock\"):\n",
    "        winner = parameters['rival']\n",
    "        print(\"The winner is: \",winner)\n",
    "    else:\n",
    "        winner = parameters['user']\n",
    "        print(\"The winner is: \",winner)\n",
    "\n",
    "    return winner"
   ]
  },
  {
   "cell_type": "markdown",
   "metadata": {},
   "source": [
    "Ahora podemos probar diferentes combinaciones para asegurarnos que **calculate_winner** funciona correctamente. Por ejemplo, si ambos jugadores eligen la misma acción:"
   ]
  },
  {
   "cell_type": "code",
   "execution_count": 15,
   "metadata": {},
   "outputs": [
    {
     "name": "stdout",
     "output_type": "stream",
     "text": [
      "We had a tie!\n"
     ]
    }
   ],
   "source": [
    "winner=calculate_winner(\"rock\", \"rock\", parameters)"
   ]
  },
  {
   "cell_type": "markdown",
   "metadata": {},
   "source": [
    "En caso de que el jugador (Theo) obtena una jugada ganadora sobre el ordenador (Simon):"
   ]
  },
  {
   "cell_type": "code",
   "execution_count": 16,
   "metadata": {},
   "outputs": [
    {
     "name": "stdout",
     "output_type": "stream",
     "text": [
      "The winner is:  Theo\n"
     ]
    }
   ],
   "source": [
    "winner=calculate_winner(\"rock\", \"scissors\", parameters)"
   ]
  },
  {
   "cell_type": "markdown",
   "metadata": {},
   "source": [
    "Y por último, el caso en el que el jugador (Theo) obtena una jugada perdedora frente al ordenador (Simon):"
   ]
  },
  {
   "cell_type": "code",
   "execution_count": 17,
   "metadata": {},
   "outputs": [
    {
     "name": "stdout",
     "output_type": "stream",
     "text": [
      "The winner is:  Simon\n"
     ]
    }
   ],
   "source": [
    "winner=calculate_winner(\"rock\", \"paper\", parameters)"
   ]
  },
  {
   "cell_type": "markdown",
   "metadata": {},
   "source": [
    "## Juego completo\n",
    "\n",
    "Con todas estas funciones ya podemos implementar nuestro programa principal en el que un usuario y el ordenador se disputen un número de partidas. El programa principal debe contabilizar las victorias de cada uno de ellos y presentar un resumen cuando se hayan completado todas las partidas."
   ]
  },
  {
   "cell_type": "markdown",
   "metadata": {},
   "source": [
    "### Solución"
   ]
  },
  {
   "cell_type": "code",
   "execution_count": null,
   "metadata": {},
   "outputs": [],
   "source": [
    "user_wins = 0\n",
    "computer_wins = 0\n",
    "ties = 0\n",
    "\n",
    "parameters=request_data()\n",
    "for i in range(parameters[\"attempts\"]):\n",
    "\n",
    "    print(\"Match number {}\".format(i))\n",
    "    menu()\n",
    "    user_choice = select_option()\n",
    "    rival_choice = rival_simulation()\n",
    "\n",
    "    print(f\"{user_choice.upper()} against {rival_choice.upper()}!!!\")\n",
    "    winner = calculate_winner(user_choice,rival_choice,parameters) \n",
    "\n",
    "    if winner == parameters[\"user\"]:\n",
    "        user_wins += 1\n",
    "    elif winner == parameters[\"rival\"]:\n",
    "        computer_wins += 1\n",
    "    else:\n",
    "        ties += 1\n",
    "        \n",
    "print(f\"\"\"  \n",
    "    - {parameters[\"user\"]} won {user_wins} matches\\n\n",
    "    - {parameters[\"rival\"]} won {computer_wins} matches \\n \n",
    "    - There were {ties} ties\\n\n",
    "\"\"\")"
   ]
  },
  {
   "cell_type": "markdown",
   "metadata": {},
   "source": [
    "::::{note}\n",
    "Como ves, es un código muy sencillo. Un bucle FOR se encarga de repetir la partida tantas veces como se haya decidido en la función **request_data**. Tres contadores: **user_wins**, **computer_wins** y **ties** se encargan de ir sumando las victorias y los empates. Y una última instrucción **print** imprime un resumen por pantalla:\n",
    "\n",
    ":::{code}\n",
    "print(f\"\"\"  \n",
    "    - {parameters[\"user\"]} won {user_wins} matches\\n\n",
    "    - {parameters[\"rival\"]} won {computer_wins} matches \\n \n",
    "    - There were {ties} ties\\n\n",
    "\"\"\")\n",
    ":::\n",
    "\n",
    "Seguro que a estas alturas ya te habrás dado cuenta que la función **print** es muy versatil y permite muchas maneras de presentar información por pantalla. En este ejemplo vemos una de las más populares en las que se puede \"insertar\" la variable dentro del mensaje del **print** utilizando las llaves \"{}\".\n",
    "\n",
    "Otra posibles alternativa habría sido:\n",
    "\n",
    ":::{code}\n",
    "print(\"- {} won {} matches\\n- {} won {} matches \\n- There were {} ties\\n\".\n",
    "        format(parameters[\"user\"],user_wins, parameters[\"rival\"],computer_wins,ties))\n",
    ":::\n",
    "\n",
    "O incluso:\n",
    "\n",
    ":::{code}\n",
    "print(\"- \",parameters[\"user\"], \"won \",user_wins,\" matches\\n\")\n",
    "print(\"- \",parameters[\"rival\"],\"won \",computer_wins,\" matches\\n\")\n",
    "print(\"- There were \",ties,\" ties\\n\")\n",
    ":::\n",
    "::::"
   ]
  },
  {
   "cell_type": "markdown",
   "metadata": {},
   "source": [
    "## Extensiones del juego\n",
    "\n",
    "Facil, ¿verdad?. Puedes complicar el juego con nuevas posibilidades. Al final de cada capítulo te sugerimos unas ideas para mejorar el juego y de paso, practicar con nuevos recursos. Algunas propuestas son muy sencillas, pero el objetivo de este capítulo, y del libro en general, es favorecer la práctica de la programación de una manera divertida.\n",
    "\n",
    "* Puedes enriquecer los mensajes de salida utilizando iconos como estos: ✊, ✋ y ✌\n",
    "* Puedes intentar codificar variantes del juego añadiendo más elementos. [Aquí](https://en.wikipedia.org/wiki/Rock_paper_scissors#Variations) tienes algunas sugerencias.\n",
    "* Al terminar el juego, puedes preguntar al usuario si quiere echarse otra partida contra el ordenador. Y en caso de responder afirmativamente, resetear los contadores y volver a reinicializar el juego"
   ]
  }
 ],
 "metadata": {
  "kernelspec": {
   "display_name": "Python 3",
   "language": "python",
   "name": "python3"
  },
  "language_info": {
   "codemirror_mode": {
    "name": "ipython",
    "version": 3
   },
   "file_extension": ".py",
   "mimetype": "text/x-python",
   "name": "python",
   "nbconvert_exporter": "python",
   "pygments_lexer": "ipython3",
   "version": "3.8.8"
  }
 },
 "nbformat": 4,
 "nbformat_minor": 4
}
