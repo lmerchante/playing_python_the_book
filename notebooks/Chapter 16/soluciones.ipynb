{
 "cells": [
  {
   "cell_type": "markdown",
   "metadata": {},
   "source": [
    "# Arkanoid Level-UP!"
   ]
  },
  {
   "cell_type": "markdown",
   "metadata": {},
   "source": [
    "```{image} images/portada.png\n",
    ":alt: portada\n",
    ":class: bg-primary mb-1\n",
    ":width: 450px\n",
    ":align: center\n",
    "```"
   ]
  },
  {
   "cell_type": "markdown",
   "metadata": {},
   "source": [
    "En el capítulo anterior desarrollamos una primera versión del Arkanoid mediante las herramientas básicas que nos proporciona Python y la librería **tourtle**. En este capítulo, implementaremos una nueva versión haciendo uso de **Pygame**, una librería de Python que nos ofrece una gran variedad de herramientas para desarrollar videojuegos. El uso de esta librería nos ofrecerá una capa de abstracción en cuanto a los detalles de más bajo nivel del juego, como por ejemplo:\n",
    "\n",
    "* Gestión de las colisiones\n",
    "* Movimiento de los objetos\n",
    "* Creación de una interfaz gráfica\n",
    "* Gestión de la música del juego\n",
    "* Detalles estéticos del juego\n",
    "\n",
    "\n",
    ":::{seealso}\n",
    "Puedes leer más sobre el **Pygame** [aquí](https://www.pygame.org/news) \n",
    ":::"
   ]
  },
  {
   "cell_type": "markdown",
   "metadata": {},
   "source": [
    ":::{note}\n",
    "Notarás que en este capítulo no vamos a validar las funciones. El motivo principal es que es demasiado largo y lo hemos dividido en un número muy alto de funciones. Si tuvieramos que validarlas todas, ocuparía el doble. De todas formas, validar todo el código que desarrolles es una práctica muy recomendable que la que no deberías prescindir nunca porque te ayudará a reducir al mínimo el número de errores inesperados.\n",
    ":::"
   ]
  },
  {
   "cell_type": "markdown",
   "metadata": {},
   "source": [
    "## Creación de la pantalla de inicio"
   ]
  },
  {
   "cell_type": "markdown",
   "metadata": {},
   "source": [
    "En primer lugar, configuraremos los elementos básicos de la interfaz del juego. Para ello, puedes desarrollar una función **init_window(size)** que recibe como único argumento la tupla **size** con el ancho y el largo de la ventana. El código de la función configura el tamaño de la interfaz y el reloj del juego. La función devuelve devuelve dos variables:\n",
    "\n",
    "* **screen** que contiene la instancia de la ventana del juego\n",
    "* **clock** que contiene la instancia del reloj\n",
    "\n",
    "\n",
    ":::{seealso}\n",
    "Aquí puedes encontrar información sobre los métodos [pygame.display](https://www.pygame.org/docs/ref/display.html) y \n",
    "[pygame.time](https://www.pygame.org/docs/ref/time.html)\n",
    ":::"
   ]
  },
  {
   "cell_type": "markdown",
   "metadata": {},
   "source": [
    "### Solución"
   ]
  },
  {
   "cell_type": "code",
   "execution_count": 1,
   "metadata": {},
   "outputs": [
    {
     "name": "stdout",
     "output_type": "stream",
     "text": [
      "pygame 2.5.0 (SDL 2.28.0, Python 3.9.12)\n",
      "Hello from the pygame community. https://www.pygame.org/contribute.html\n"
     ]
    }
   ],
   "source": [
    "import pygame\n",
    "\n",
    "def init_window(size):\n",
    "    screen = pygame.display.set_mode(size)\n",
    "    clock = pygame.time.Clock()\n",
    "    FPS = 10\n",
    "    clock.tick(FPS)\n",
    "    return clock, screen"
   ]
  },
  {
   "cell_type": "markdown",
   "metadata": {},
   "source": [
    "## Lectura de los mensajes de bienvenida"
   ]
  },
  {
   "cell_type": "markdown",
   "metadata": {},
   "source": [
    "El siguiente paso es implementar una función **read_file()** que va a leer una serie de mensajes de un fichero de texto. Esta función no recibe ningún argumento de entrada y devuelve una variable **messages** de tipo LIST que contiene los mensajes a mostrar en la pantalla de inicio. Podríamos cargar los mensajes directamente sobre variables del código sin necesidad de leer ningún fichero de texto. Sin embargo, esta implementación es mucho más flexible y nos permite modificar los mensajes sin necesidad de cambiar el código."
   ]
  },
  {
   "cell_type": "markdown",
   "metadata": {},
   "source": [
    "### Solución"
   ]
  },
  {
   "cell_type": "code",
   "execution_count": 2,
   "metadata": {},
   "outputs": [],
   "source": [
    "def read_file():\n",
    "    file = open(\"messages.txt\", \"r\")\n",
    "    messages = file.readlines()\n",
    "    file.close()\n",
    "    return messages"
   ]
  },
  {
   "cell_type": "markdown",
   "metadata": {},
   "source": [
    "## Pintando los mensajes de bienvenida"
   ]
  },
  {
   "cell_type": "markdown",
   "metadata": {},
   "source": [
    "El objetivo de este apartado es preparar la pantalla principal del juego a partir de los mensajes leídos con la función **read_file**. Para ello, debes programar una función **draw_messages(messages)** encargada de añadir los mensajes sobre la interfaz gráfica de nuestro juego. Esta función no devuelve nada y recibe un único argumento de entrada:\n",
    "\n",
    "*  **messages** variable LIST que contiene los mensajes iniciales\n",
    "\n",
    "::::{note}\n",
    "En la solución propuesta hemos utilizado un bucle para añadir los mensajes en distintas ubicaciones de la pantalla. Todos los mensajes estarán centrados en la mitad del eje X  y variarán su posición en el eje Y. Puedes cambiar los valores de **init** y **sep** para conseguir un mejor resultado a nivel estético.\n",
    "\n",
    ":::{code}\n",
    "init = 200\n",
    "sep = 50\n",
    "xaxis = width/2\n",
    "for i in range(1, len(messages)):\n",
    "        yaxis = init + sep * i\n",
    "        rect_text.center = (xaxis, yaxis)\n",
    "        screen.blit(text, rect_text)\n",
    ":::\n",
    "::::\n",
    "\n",
    ":::{tip}\n",
    "Si quieres añadir una tipología de letra diferente a tus mensajes de inicio, puedes hacerlo mediante el método **font** de la libraría **pygame**. \n",
    ":::\n",
    "\n",
    ":::{seealso}\n",
    "Puedes encontrar más información sobre el método **font** método [aquí](https://www.pygame.org/docs/ref/font.html).\n",
    ":::\n",
    "\n",
    ":::{warning}\n",
    "No todas las fuentes son compatibles con el método font del módulo pygame.\n",
    ":::"
   ]
  },
  {
   "cell_type": "markdown",
   "metadata": {},
   "source": [
    "### Solución"
   ]
  },
  {
   "cell_type": "code",
   "execution_count": 3,
   "metadata": {},
   "outputs": [],
   "source": [
    "WHITE = (255, 255, 255)\n",
    "BLACK = (0, 0, 0)\n",
    "\n",
    "def draw_messages(messages):\n",
    "\n",
    "    init = 300\n",
    "    sep = 40\n",
    "    xaxis = width/2\n",
    "    for i in range(1, len(messages)):\n",
    "        yaxis = init + sep * i\n",
    "        font = pygame.font.Font('freesansbold.ttf', 25)\n",
    "        msg = \"¡¡\" + messages[i] + \"!!\"\n",
    "        text = font.render(msg, True, WHITE, BLACK)\n",
    "        rect_text = text.get_rect()\n",
    "        rect_text.center = (xaxis, yaxis)\n",
    "        screen.blit(text, rect_text)"
   ]
  },
  {
   "cell_type": "markdown",
   "metadata": {},
   "source": [
    "## Lectura de las imágenes de inicio"
   ]
  },
  {
   "cell_type": "markdown",
   "metadata": {},
   "source": [
    "El objetivo de este apartado es implementar una función **load_images()** encargada de leer y añadir imágenes a la interfaz de nuestro juego. Esta función no recibe ni devuelve ningún argumento. Simplemente carga y añade imágenes para mostrar el fondo y el logo de nuestra pantalla principal."
   ]
  },
  {
   "cell_type": "markdown",
   "metadata": {},
   "source": [
    ":::{note}\n",
    "La variable *screen* es una variable **global**, por lo que podemos acceder a ella desde el contexto local de la función load_images().\n",
    ":::\n",
    "\n",
    ":::{seealso}\n",
    "Puedes encontrar más información sobre los objetos **image** de **pygame** [aquí](https://www.pygame.org/docs/ref/image.html)\n",
    ":::"
   ]
  },
  {
   "cell_type": "markdown",
   "metadata": {},
   "source": [
    "### Solución"
   ]
  },
  {
   "cell_type": "code",
   "execution_count": 4,
   "metadata": {},
   "outputs": [],
   "source": [
    "def load_images():\n",
    "    background = pygame.image.load(\"images/fondo.jpg\")\n",
    "    background_rect = background.get_rect().move(0, 0)\n",
    "    screen.blit(background, background_rect)\n",
    "\n",
    "    logo = pygame.image.load(\"images/logo.jpg\")\n",
    "    logo_rect = logo.get_rect().move(100, 100)\n",
    "    screen.blit(logo, logo_rect)"
   ]
  },
  {
   "cell_type": "markdown",
   "metadata": {},
   "source": [
    "## Pantalla de inicio"
   ]
  },
  {
   "cell_type": "markdown",
   "metadata": {},
   "source": [
    "Antes de comenzar con la lógica del juego, te aconsejamos desarrollar una función que agrupe las funciones que has programado anteriormente."
   ]
  },
  {
   "cell_type": "markdown",
   "metadata": {},
   "source": [
    "### Solución"
   ]
  },
  {
   "cell_type": "code",
   "execution_count": 5,
   "metadata": {},
   "outputs": [],
   "source": [
    "def first_screen():\n",
    "    load_images()\n",
    "    messages = read_file()\n",
    "    draw_messages(messages)"
   ]
  },
  {
   "cell_type": "markdown",
   "metadata": {},
   "source": [
    "## Evento para comenzar el juego"
   ]
  },
  {
   "cell_type": "markdown",
   "metadata": {},
   "source": [
    "Los siguientes dos apartados están enfocados en los principales eventos que han de producirse para comenzar y detener el juego. En primer lugar, debes programar una función **check_keyboard()**, encargada de arrancar la ejecución del juego cuando el usuario presione alguna tecla. \n",
    "\n",
    "En nuestro caso, el juego comenzará cuando el usuario presione la tecla \"W\" del teclado. Mientras no se presione dicha tecla, el usuario visualizará la pantalla de inicio programada anteriormente con los mensajes de bienvenida. "
   ]
  },
  {
   "cell_type": "markdown",
   "metadata": {},
   "source": [
    "::::{note}\n",
    "Lo primero que hacemos en la solución propuesta es obtener el estado del teclado.\n",
    "\n",
    ":::{code}\n",
    "keys = pygame.key.get_pressed()\n",
    ":::\n",
    "\n",
    "Donde **keys** es un diccionario con el siguiente formato.\n",
    "* **Clave** contiene un STRING asociado a cada tecla\n",
    "* **Valor** coontiene un BOOL que indica si una tecla está o no pulsada\n",
    "\n",
    "Mientras el valor asociado a la tecla W sea falso, no se iniciará el juego. \n",
    "::::\n",
    "\n",
    "\n",
    ":::{seealso}\n",
    "Puedes encontrar más información del módulo **keyboard** en **pygame** [aquí](https://www.pygame.org/docs/ref/key.html)\n",
    ":::"
   ]
  },
  {
   "cell_type": "markdown",
   "metadata": {},
   "source": [
    "### Solución"
   ]
  },
  {
   "cell_type": "code",
   "execution_count": 6,
   "metadata": {},
   "outputs": [],
   "source": [
    "def check_keyboard():\n",
    "    keys = pygame.key.get_pressed()\n",
    "    while keys[pygame.K_w] == False:\n",
    "        keys = pygame.key.get_pressed()\n",
    "        pygame.display.flip()\n",
    "        check_quit()"
   ]
  },
  {
   "cell_type": "markdown",
   "metadata": {},
   "source": [
    "## Evento para detener el juego"
   ]
  },
  {
   "cell_type": "markdown",
   "metadata": {},
   "source": [
    "De la misma forma que disponemos de un mecanismo para controlar el inicio de la ejecución del juego, debemos añadir otro que nos permita finalizarla cuando así lo deseemos. De no ser así, tendríamos que finalizar el proceso iniciado por pygame de manera manual desde la linea de comandos.\n",
    "\n",
    "Para ello, debes programar la función **chek_quit()** encargada de detener la ejecución del juego cuando el usuario seleccione la casilla X de la interfaz gráfica. De nuevo, no recibe ni devuelve ningún argumento, simplemente finaliza la ejecución del juego."
   ]
  },
  {
   "cell_type": "markdown",
   "metadata": {},
   "source": [
    "::::{note}\n",
    "**Pygame** nos permite iterar sobre los eventos del juego de manera muy sencilla. \n",
    "\n",
    ":::{code}\n",
    "for event in pygame.event.get():\n",
    ":::\n",
    "\n",
    "Para comprobar el tipo de evento, puedes acceder al atributo type de los objetos event. Si el tipo del evento es **QUIT**, entonces el usuario habrá terminado la ejecución del juego. Para finalizar el proceso debes importar la librería **sys** y ejecutar la siguiente sentencia:\n",
    "\n",
    ":::{code}\n",
    "import sys\n",
    "sys.exit()\n",
    ":::\n",
    "::::"
   ]
  },
  {
   "cell_type": "markdown",
   "metadata": {},
   "source": [
    "### Solución"
   ]
  },
  {
   "cell_type": "code",
   "execution_count": 7,
   "metadata": {},
   "outputs": [],
   "source": [
    "def check_quit():\n",
    "    for event in pygame.event.get():\n",
    "        if event.type == pygame.QUIT:\n",
    "            sys.exit()"
   ]
  },
  {
   "cell_type": "markdown",
   "metadata": {},
   "source": [
    "## Música del juego"
   ]
  },
  {
   "cell_type": "markdown",
   "metadata": {},
   "source": [
    "Una de las múltiples ventajas de utilizar pygame es poder añadir música a nuestro juego con unas pocas líneas de código. En este simple apartado debes programar una función **music** que no recibe ni devuelve ningún argumento y se encarga de lo siguiente: \n",
    "\n",
    "* 1. Leer el archivo de audio \n",
    "* 2. Activar la reproducción del audio durante la ejecución del juego.\n",
    "\n",
    "::::{note}\n",
    "Pygame nos permite iterar sobre los eventos del juego de manera muy sencilla. \n",
    "\n",
    ":::{code}\n",
    "for event in pygame.event.get():\n",
    ":::\n",
    "Para comprobar el tipo de evento, puedes acceder al atributo type de los objetos event. Si el tipo del evento es **QUIT**, entonces el usuario habrá terminado la ejecución del juego. Para finalizar el proceso utilizaremos la siguiente sentencia:\n",
    "\n",
    ":::{code}\n",
    "sys.exit()\n",
    ":::\n",
    "::::\n",
    "\n",
    ":::{seealso}\n",
    "Puedes encontrar más información sobre el módulo **mixer** [aquí](https://www.pygame.org/docs/ref/mixer.html)\n",
    ":::"
   ]
  },
  {
   "cell_type": "markdown",
   "metadata": {},
   "source": [
    "### Solución"
   ]
  },
  {
   "cell_type": "code",
   "execution_count": 8,
   "metadata": {},
   "outputs": [],
   "source": [
    "def music():\n",
    "    file = 'music/MusicRetro.mp3'\n",
    "    pygame.init()\n",
    "    pygame.mixer.init()\n",
    "    pygame.mixer.music.load(file)\n",
    "    pygame.mixer.music.play(-1)  "
   ]
  },
  {
   "cell_type": "markdown",
   "metadata": {},
   "source": [
    "## Creación de los elementos del juego\n",
    "\n"
   ]
  },
  {
   "cell_type": "markdown",
   "metadata": {},
   "source": [
    "Ya ha llegado el momento de cargar los elementos principales para comenzar a implementar las funcionalidades del juego. Esta versión del Arkanoid está compuesta por 3 elementos:\n",
    "\n",
    "* Pelota\n",
    "* Pad (raqueta)\n",
    "* Ladrillos\n",
    "\n",
    "El siguiente apartado está destinado a añadir dichos elementos sobre la interfaz del juego."
   ]
  },
  {
   "cell_type": "markdown",
   "metadata": {},
   "source": [
    "### Pelota y pad"
   ]
  },
  {
   "cell_type": "markdown",
   "metadata": {},
   "source": [
    "Debes programar una función **ball()** y  una función **pad()** encargadas de añadir la pelota y la raqueta sobre la interfaz. Para ello, tienes que cargar la imagen de la pelota y de la raqueta e inicializar sus posiciones.\n",
    "\n",
    "Estas funciones no reciben argumentos de entrada y devuelven los siguientes parámetros:\n",
    "\n",
    "* Instancia de la variable que contiene la imagen cargada\n",
    "* Instancia del objeto **Rect** asociado a cada imagen\n",
    "\n",
    ":::{seealso}\n",
    "Puedes encontrar más información sobre los objetos **Rect** [aquí](https://www.pygame.org/docs/ref/rect.html)\n",
    ":::\n"
   ]
  },
  {
   "cell_type": "markdown",
   "metadata": {},
   "source": [
    "### Solución"
   ]
  },
  {
   "cell_type": "code",
   "execution_count": 9,
   "metadata": {},
   "outputs": [],
   "source": [
    "def ball():\n",
    "    ball = pygame.image.load(\"images/ball.png\")\n",
    "    ballrect = ball.get_rect().move(width/2, height/2)\n",
    "    return ball, ballrect"
   ]
  },
  {
   "cell_type": "code",
   "execution_count": 10,
   "metadata": {},
   "outputs": [],
   "source": [
    "def pad():\n",
    "    pad = pygame.image.load(\"images/pad.png\")\n",
    "    rect_pad = pad.get_rect().move(width/2, height - 2 * attempts)\n",
    "    return pad, rect_pad"
   ]
  },
  {
   "cell_type": "markdown",
   "metadata": {},
   "source": [
    "### Ladrillos"
   ]
  },
  {
   "cell_type": "markdown",
   "metadata": {},
   "source": [
    "Ahora vas a añadir los ladrillos en la parte superior de la interfaz para comenzar a implementar las colisiones. La inicialización de los ladrillos no será tan sencilla como el del bate o la raqueta. Para conseguirlo debes programar una función **bricks_init(columns_number)** que recibe un único argumento de entrada:\n",
    "\n",
    "* **columns_number** que contiene una variable INT con el número de ladrillos por fila\n",
    "\n",
    "Y devuelve dos variables:\n",
    "\n",
    "* **bricks** con una variable tipo LIST con las imágenes cargadas\n",
    "* **rect_bricks** con una variable tipo LIST con los objetos **Rect** asociados a la lista **bricks**"
   ]
  },
  {
   "cell_type": "markdown",
   "metadata": {},
   "source": [
    ":::{note}\n",
    "Lo primero que hacemos en la solución propuesta es crear las listas de ladrillos que posteriormente serán añadidas a la pantalla del juego. Para ello, hemos usado un bucle para el número de filas y otro bucle para el número de ladrillos por fila. De nuevo, jugaremos con variables **init** y **separation** para colocar cada uno de los ladrillos en su ubicación correspondiente. \n",
    ":::"
   ]
  },
  {
   "cell_type": "markdown",
   "metadata": {},
   "source": [
    "### Solución"
   ]
  },
  {
   "cell_type": "code",
   "execution_count": 11,
   "metadata": {},
   "outputs": [],
   "source": [
    "def bricks_init(columns_number):\n",
    "\n",
    "    bricks = []\n",
    "    rect_bricks = []\n",
    "    separation = 42\n",
    "    init = 8\n",
    "    height = 12\n",
    "    rows_number = 3\n",
    "\n",
    "    for j in range(rows_number):\n",
    "\n",
    "        for i in range(columns_number):\n",
    "\n",
    "            brick = pygame.image.load(\"images/Ladrilo.PNG\")\n",
    "            rect_brick = brick.get_rect().move(init + i * separation, j * height)\n",
    "            bricks.append(brick)\n",
    "            rect_bricks.append(rect_brick)\n",
    "\n",
    "    return bricks, rect_bricks"
   ]
  },
  {
   "cell_type": "markdown",
   "metadata": {},
   "source": [
    "## Añadiendo los elementos a la interfaz"
   ]
  },
  {
   "cell_type": "markdown",
   "metadata": {},
   "source": [
    "De nuevo vamos a agregar todas las funciones desarrolladas anteriormente para favorecer la legibilidad de nuestro programa final. Ahora tendrás que programar una función **draw_screen()** que no recibe ni devuelve ningún argumento y se encarga de invocar a los elementos del juego.\n",
    "\n",
    "En este punto es importante que seamos conscientes de que los ladrillos han de ir desapareciendo a medida que la pelota los golpea, por lo que necesitamos algún mecanismo que añada únicamente los ladrillos que no han sido derribados. "
   ]
  },
  {
   "cell_type": "markdown",
   "metadata": {},
   "source": [
    "### Solución"
   ]
  },
  {
   "cell_type": "code",
   "execution_count": 12,
   "metadata": {},
   "outputs": [],
   "source": [
    "def draw_screen():\n",
    "    screen.fill(BLACK)\n",
    "\n",
    "    screen.blit(ball, ballrect)  \n",
    "    screen.blit(pad, padrect)\n",
    "    for i in range(len(bricks)):\n",
    "        if bricks[i] != \"Brick dead\":\n",
    "            screen.blit(bricks[i], rect_bricks[i])"
   ]
  },
  {
   "cell_type": "markdown",
   "metadata": {},
   "source": [
    "::::{note}\n",
    "Lo primero que hacemos en la solución propuesta es recorrer cada uno de los elementos pertenecientes a la lista **bricks**. Cuando desde el programa principal detectemos que un ladrillo ha sido derribado, sustituiremos su instancia en la lista **bricks** por un mensaje que nos ayude a distinguirlos de los ladrillos que todavía no han sido derribados.\n",
    "\n",
    ":::{code}\n",
    "for i in range(len(bricks)):\n",
    "        if bricks[i] != \"Brick dead\":\n",
    "            screen.blit(bricks[i], rect_bricks[i])\n",
    ":::\n",
    "\n",
    "De esta manera, solo añadiremos a la pantalla del juego aquellos ladrillos que no hayan sido derribados. \n",
    "::::"
   ]
  },
  {
   "cell_type": "markdown",
   "metadata": {},
   "source": [
    "## Movimientos del pad y colisión con la pelota"
   ]
  },
  {
   "cell_type": "markdown",
   "metadata": {},
   "source": [
    "Este apartado se centra en implementar los movimientos de la raqueta mediante la función **pad_movements(speed, padrect)** que recibe dos argumentos de entrada y los devuelve actualizados: \n",
    "\n",
    "* **speed** contiene una lista con la velocidad de la pelota \n",
    "* **padrect** contiene un objeto **Rect** asociado a la raqueta \n",
    "\n",
    "Respecto al pad, podemos distinguir 3 posibles situaciones: \n",
    "\n",
    "1. El usuario teclea mover el pad a la izquierda\n",
    "2. El usuario teclea mover el pad a la derecha\n",
    "3. La pelota colisiona contra el pad\n",
    "\n",
    ":::{seealso}\n",
    "Puedes encontrar información sobre las colisiones [aquí](https://www.pygame.org/docs/ref/rect.html#pygame.Rect.colliderect)\n",
    ":::"
   ]
  },
  {
   "cell_type": "markdown",
   "metadata": {},
   "source": [
    "### Solución"
   ]
  },
  {
   "cell_type": "code",
   "execution_count": 13,
   "metadata": {},
   "outputs": [],
   "source": [
    "def pad_movements(speed, padrect):\n",
    "\n",
    "    keys = pygame.key.get_pressed()\n",
    "    if keys[pygame.K_LEFT]:\n",
    "        padrect = padrect.move(-1, 0)\n",
    "    if keys[pygame.K_RIGHT]:\n",
    "        padrect = padrect.move(1, 0)\n",
    "    if padrect.colliderect(ballrect):\n",
    "        speed[1] = -speed[1]\n",
    "    return speed, padrect"
   ]
  },
  {
   "cell_type": "markdown",
   "metadata": {},
   "source": [
    "::::{note}\n",
    "Para mover el pad seguiremos capturando el teclado y utilizaremos el diccionario **keys** explicado anteriormente para decidir hacia donde movemos la raqueta.  Para cambiar la dirección de la pelota cuando detectemos colisión con el pad, solo invertiremos su sentido, multiplicando la velocidad por -1.\n",
    "\n",
    ":::{code}\n",
    "if padrect.colliderect(ballrect):\n",
    "        speed[1] = -speed[1]\n",
    ":::\n",
    "::::"
   ]
  },
  {
   "cell_type": "markdown",
   "metadata": {},
   "source": [
    "## Calculando coordenadas aleatorias"
   ]
  },
  {
   "cell_type": "markdown",
   "metadata": {},
   "source": [
    "En este apartado vas a añadir un fondo dinámico a la pantalla del Araknoid. Para ello, vas a simular un fondo de estrellas añadiendo círculos de color blanco en posiciones aleatorias.\n",
    "\n",
    "En primer lugar, debes programar la función **coordinates()**, que no recibe ningún argumento y devuelve una lista con las coordenadas X,Y iniciales de las estrellas."
   ]
  },
  {
   "cell_type": "markdown",
   "metadata": {},
   "source": [
    "::::{tip} \n",
    "Puedes usar la librería random para generar aleatoriamente las posiciones iniciales.\n",
    "\n",
    ":::{code}\n",
    "x = random.randint(0, width)\n",
    "y = random.randint(0, heigth)\n",
    ":::\n",
    "::::"
   ]
  },
  {
   "cell_type": "markdown",
   "metadata": {},
   "source": [
    "### Solución"
   ]
  },
  {
   "cell_type": "code",
   "execution_count": 14,
   "metadata": {},
   "outputs": [],
   "source": [
    "import random\n",
    "\n",
    "def coordinates():\n",
    "\n",
    "    coor_list = []\n",
    "\n",
    "    for i in range(60):\n",
    "        x = random.randint(0, 820)\n",
    "        y = random.randint(0, 740)\n",
    "        coor_list.append([x, y])\n",
    "    return coor_list"
   ]
  },
  {
   "cell_type": "markdown",
   "metadata": {},
   "source": [
    "## Añadiendo las estrellas"
   ]
  },
  {
   "cell_type": "markdown",
   "metadata": {},
   "source": [
    "Con la función **coordinates()** implementada correctamente, vamos a añadir las estrellas a la pantalla del juego mediante la función **draw_stars(coor_list)**, que no devuelve nada y recibe un único argumento de entrada:\n",
    "\n",
    "* **coor_list** que es una variable tipo LIST con las coordenadas aleatorias\n",
    "\n",
    "Hasta ahora hemos desarrollado un fondo estático, pero podemos convertirlo en dinámico de manera muy sencilla. La idea es aumentar en una unidad la coordenada Y de las estrellas en cada iteración del bucle de juego. De estea manera, simularemos que la estrella se está moviendo en caída libre. \n",
    "\n",
    ":::{seealso}\n",
    "Puedes encontrar más información sobre como figuras con **pygame** [aquí](https://www.pygame.org/docs/ref/draw.html).\n",
    ":::\n"
   ]
  },
  {
   "cell_type": "markdown",
   "metadata": {},
   "source": [
    "### Solución"
   ]
  },
  {
   "cell_type": "code",
   "execution_count": 15,
   "metadata": {},
   "outputs": [],
   "source": [
    "def draw_stars(coor_list):\n",
    "\n",
    "    for coordinate in coor_list:\n",
    "        x = coordinate[0]\n",
    "        y = coordinate[1]\n",
    "\n",
    "        coordinate[1] += 1\n",
    "        if coordinate[1] > 740:\n",
    "            coordinate[1] = 0\n",
    "        pygame.draw.circle(screen, WHITE, (x, y), 3)\n",
    "\n",
    "    return coor_list"
   ]
  },
  {
   "cell_type": "markdown",
   "metadata": {},
   "source": [
    "::::{note}\n",
    "Lo primero que hacemos es recorrer la lista de coordenadas  y aumentar la coordenada Y de cada estrella en una unidad.  Si alguna estrella ha llegado a la parte inferior de la pantalla, debemos resetear su posicion, inicializándola a 0.\n",
    "\n",
    ":::{code}\n",
    "if coordinate[1] > 740:\n",
    "coordinate[1] = 0\n",
    ":::\n",
    "::::"
   ]
  },
  {
   "cell_type": "markdown",
   "metadata": {},
   "source": [
    "## Pantalla de derrota"
   ]
  },
  {
   "cell_type": "markdown",
   "metadata": {},
   "source": [
    "Cuando la raqueta llega tarde a devolver la pelota, el programa principal debe invocar una ventana de derrota encargada de mostrar la puntuación obtenida por el jugador.\n",
    "\n",
    "La función **gameover()** no recibe ni devuelve ningún argumento. Simplemente muestra la puntuación obtenida por el jugador en una ventana nueva de manera estática, hasta que el usuario cierre la ventana de manera manual pinchando en la X. Puedes añadir imágenes a esta última pantalla mediante las técnicas aprendidas anteriormente."
   ]
  },
  {
   "cell_type": "markdown",
   "metadata": {},
   "source": [
    "### Solución"
   ]
  },
  {
   "cell_type": "code",
   "execution_count": 16,
   "metadata": {},
   "outputs": [],
   "source": [
    "def gameover():\n",
    "\n",
    "    while True:\n",
    "\n",
    "        msg = f\"Your score has been {score}\"\n",
    "        font = pygame.font.Font('freesansbold.ttf', 45)\n",
    "        text = font.render(msg, True, WHITE, BLACK)\n",
    "        rect = text.get_rect()\n",
    "        rect.center = (420, 400)\n",
    "        screen = pygame.display.set_mode(size)\n",
    "        load_images()\n",
    "        screen.blit(text, rect)\n",
    "\n",
    "        check_quit()\n",
    "        pygame.display.flip()"
   ]
  },
  {
   "cell_type": "markdown",
   "metadata": {},
   "source": [
    "## Programa principal\n",
    "\n",
    "El programa principal es el motor de nuestro juego. Es el responsable de invocar a las funciones programadas anteriormente en los instantes oportunos. Para conseguiruna correcta simulación del juego, el programa principal gestionará las siguientes funcionalidades:\n",
    "\n",
    "* **Puntuación del jugador**. Por cada ladrillo derribado, la puntuación del jugador aumentará en 10 puntos\n",
    "\n",
    "\n",
    "* **Salud de los ladrillos**. El programa principal debe gestionar la vida de cada uno de ellos. Cada ladrillo necesitará 2 colisiones de la pelota para ser derribado\n",
    "\n",
    "\n",
    "* **Creación de los objetos del juego**. El programa principal invocará a las funciones necesarias para crear los ladrillos, el pad y la pelota, para poder ser añadidos a la pantalla de juego\n",
    "\n",
    "\n",
    "* **Gestión de las pantallas** inicial, de juego y derrota en los instantes adecuados. El programa principal deberá invocar a las funciones encargadas de mostrar las distintas pantallas del juego y los elementos que las componen\n",
    "\n",
    "\n",
    "* **Gestión de las colisiones de la pelota y vidas del jugador**. Cada vez que la pelota colisione con la parte inferior de la interfaz gráfica, el jugador perderá una vida. Cuando el jugador se quede sin vidas, deberá mostrarse la pantalla pantalla de derrota\n",
    "\n",
    "\n",
    "* **Música del juego**. El programa principal debe comenzar la reproducción del audio del juego al inicio de la ejecución del programa\n",
    "\n",
    "\n",
    "* **Bucle del juego**. Cuando el jugador comience a jugar, arrancará un bucle que se ejecutará hasta que el jugador pierda todas sus vidas\n"
   ]
  },
  {
   "cell_type": "markdown",
   "metadata": {},
   "source": [
    "Para controlar la dirección de la pelota, se utiliza la variable **speed** de tipo LIST. Esta variable está formada por dos únicos elementos que reflejan la velocidad en los ejes horizontal y vertical, respectivamente. La lista **speed** nos ayudará a mover la pelota en determinadas direcciones gracias al método **move** de los objetos Rect. Los posibles valores de esta lista son 0, +1 y -1, representando los vectores del movimiento.\n",
    "\n",
    "La pelota estará moviéndose en una dirección determinada en cada iteración del bucle del juego. Cuando la pelota colisione, deberemos invertir su trayectoria, en el eje vertical u horizontal.\n",
    "\n",
    ":::{code}\n",
    "ballrect = ballrect.move(speed)\n",
    "    if ballrect.left < 0 or ballrect.right > width:\n",
    "        speed[0] = -speed[0]\n",
    "    if ballrect.top < 0 or ballrect.bottom > height:\n",
    "        speed[1] = -speed[1]\n",
    "    if ballrect.bottom == height:\n",
    ":::"
   ]
  },
  {
   "cell_type": "markdown",
   "metadata": {},
   "source": [
    "Cuando la pelota colisiona con la parte inferior de la pantalla, el juego deberá registrar que el usuario ha perdido una vida. Además, deberá resetear la posición de la pelota e iniciar un nuevo intento.\n",
    "\n",
    ":::{code}\n",
    "if ballrect.bottom == height:\n",
    "\n",
    "        time.sleep(0.5)\n",
    "        speed[1] = -speed[1]\n",
    "        ballrect = ball.get_rect().move(width/2, height/2)\n",
    "        ballrect = ballrect.move(speed)\n",
    "        lives -= 1\n",
    ":::\n",
    "\n",
    "Si el usuario ha perdido todas las vidas, deberemos salir del bucle del juego y activar la pantalla de derrota.\n",
    "\n",
    ":::{code}\n",
    "if lives == 0:\n",
    "    loser = True\n",
    "    speed[1] = 0\n",
    "    speed[0] = 0\n",
    "    play = False\n",
    ":::"
   ]
  },
  {
   "cell_type": "markdown",
   "metadata": {},
   "source": [
    "Si todo ha ido bien, tu juego tendrá una pinta muy similar a esta:"
   ]
  },
  {
   "cell_type": "markdown",
   "metadata": {},
   "source": [
    "````{panels}\n",
    ":container: container-fluid \n",
    ":column: col-lg-6 col-md-6 col-sm-6 col-xs-12 \n",
    ":card: shadow-none border-0\n",
    "\n",
    "```{image} images/mainpage.png\n",
    ":width: 100%\n",
    ":name: mainpage\n",
    "```\n",
    "---\n",
    "```{image} images/playpage.png\n",
    ":width: 100%\n",
    ":name: playpage\n",
    "```\n",
    "\n",
    "````"
   ]
  },
  {
   "cell_type": "markdown",
   "metadata": {},
   "source": [
    "    \n",
    "    \n",
    "### Solución"
   ]
  },
  {
   "cell_type": "code",
   "execution_count": 17,
   "metadata": {},
   "outputs": [],
   "source": [
    "brick_number = 19\n",
    "brick_health = [2 for i in range(3 * brick_number)]  # list comprehension\n",
    "score = 0\n",
    "lives = 3\n",
    "attempts = 12\n",
    "size = width, height = 820, 740\n",
    "speed = [1, 1]"
   ]
  },
  {
   "cell_type": "code",
   "execution_count": null,
   "metadata": {},
   "outputs": [],
   "source": [
    "import time\n",
    "import sys\n",
    "\n",
    "clock, screen = init_window(size)\n",
    "music()\n",
    "first_screen()\n",
    "check_keyboard()\n",
    "bricks, rect_bricks = bricks_init(brick_number)\n",
    "ball, ballrect = ball()\n",
    "pad, padrect = pad()\n",
    "coor_list = coordinates()\n",
    "play = True\n",
    "\n",
    "while play:\n",
    "\n",
    "    draw_screen()\n",
    "    coor_list = draw_stars(coor_list)\n",
    "\n",
    "    check_quit()\n",
    "\n",
    "    ballrect = ballrect.move(speed)\n",
    "    if ballrect.left < 0 or ballrect.right > width:\n",
    "        speed[0] = -speed[0]\n",
    "    if ballrect.top < 0 or ballrect.bottom > height:\n",
    "        speed[1] = -speed[1]\n",
    "    if ballrect.bottom == height:\n",
    "\n",
    "        time.sleep(0.5)\n",
    "        speed[1] = -speed[1]\n",
    "        ballrect = ball.get_rect().move(width/2, height/2)\n",
    "        ballrect = ballrect.move(speed)\n",
    "        lives -= 1\n",
    "        if lives == 0:\n",
    "            loser = True\n",
    "            speed[1] = 0\n",
    "            speed[0] = 0\n",
    "            play = False\n",
    "\n",
    "    speed, padrect = pad_movements(speed, padrect)\n",
    "\n",
    "    for position in range(len(rect_bricks)):\n",
    "\n",
    "        if rect_bricks[position].colliderect(ballrect):\n",
    "\n",
    "            speed[1] = -speed[1]\n",
    "            brick_health[position] -= 1\n",
    "\n",
    "            if brick_health[position] == 0:\n",
    "\n",
    "                score += 10\n",
    "                bricks[position] = \"Brick dead\"\n",
    "\n",
    "    pygame.display.flip()\n",
    "\n",
    "if loser:\n",
    "    gameover()"
   ]
  },
  {
   "cell_type": "markdown",
   "metadata": {},
   "source": [
    "::::{note}\n",
    "\n",
    "Lo primero que hacemos en la solución propuesta es recorrer los índices de las listas de ladrillos. Estos índices son comunes a las listas **rect_bricks**, **bricks** y **brick_health**. \n",
    "\n",
    "Si detectamos colisión con la pelota en alguno de los ladrillos, invertiremos la velocidad de la pelota en el eje vertical y restaremos una vida a dicho ladrillo en la lista **brick_health**.\n",
    "\n",
    "Si alguno de los ladrillos ha sido derribado por completo (su salud en la lista **brick_health** es 0) sustituiremos su instancia en la lista **bricks** por un mensaje que nos facilite saber si el ladrillo ha sido derribado o no.\n",
    "\n",
    ":::{code}\n",
    "for position in range(len(rect_bricks)):\n",
    "        if rect_bricks[position].colliderect(ballrect):\n",
    "            speed[1] = -speed[1]\n",
    "            brick_health[position] -= 1\n",
    "        if brick_health[position] == 0:\n",
    "            score += 10\n",
    "            bricks[position] = \"Brick dead\"\n",
    ":::\n",
    "   \n",
    "::::"
   ]
  },
  {
   "cell_type": "markdown",
   "metadata": {},
   "source": [
    "## Extensiones del Juego"
   ]
  },
  {
   "cell_type": "markdown",
   "metadata": {},
   "source": [
    "Al ser el mismo juego, las sugerencias que te hicimos en el capítulo anterior, aplican también a este.\n",
    "A partir de ahora, confiamos en que con todos los recursos que has aprendido a lo largo de estos capítulos las mejoras se te ocurran a tí."
   ]
  }
 ],
 "metadata": {
  "interpreter": {
   "hash": "31f2aee4e71d21fbe5cf8b01ff0e069b9275f58929596ceb00d14d90e3e16cd6"
  },
  "kernelspec": {
   "display_name": "Python 3.9 [BOOK]",
   "language": "python",
   "name": "python_book"
  },
  "language_info": {
   "codemirror_mode": {
    "name": "ipython",
    "version": 3
   },
   "file_extension": ".py",
   "mimetype": "text/x-python",
   "name": "python",
   "nbconvert_exporter": "python",
   "pygments_lexer": "ipython3",
   "version": "3.9.12"
  }
 },
 "nbformat": 4,
 "nbformat_minor": 2
}
