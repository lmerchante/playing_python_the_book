{
 "cells": [
  {
   "cell_type": "markdown",
   "metadata": {},
   "source": [
    "# Stop de Clock"
   ]
  },
  {
   "cell_type": "markdown",
   "metadata": {},
   "source": [
    "```{image} img/portada.png\n",
    ":alt: portada\n",
    ":class: bg-primary mb-1\n",
    ":width: 425px\n",
    ":align: center\n",
    "```"
   ]
  },
  {
   "cell_type": "markdown",
   "metadata": {},
   "source": [
    "El juego que te proponemos en este capítulo está en el nivel **VETERAN** no tanto por su complejidad como por el uso de recursos algo más avanzados. \n",
    "\n",
    "Este juego está inspirado en una infancia aburrida con los primeros relojes de pulsera digitales. En aquella época en la que los relojes se limitan a dar la hora, uno con cronómetro era una auténtica revolución. Y si añadimos a la ecuación un grupo de niños aburridos... el resultado es el juego que te proponemos.\n",
    "\n",
    "El juego consiste en intentar conseguir lecturas de un cronómetro en el que las décimas y las centésimas de segundo estén lo más próximas a cero.\n",
    "\n",
    "La lógica es la siguiente:\n",
    "\n",
    "1. El primer paso consiste en implementar unas funciones que muestren unos números bien visibles\n",
    "2. El segundo paso pasa por construir un cronómetro\n",
    "3. El último paso implementa un sistema que permita detener el cronómetro al pulsar una tecla y contabilizar como de cerca nos hemos quedado de nuestro objetivo\n",
    "\n",
    ":::{seealso}\n",
    "En este caso nos hemos tomado una pequeña licencia poética y hemos llamado al capítulo como la canción del grupo español [L.A.](https://es.wikipedia.org/wiki/L.A._(banda)). Si no la conoces, te recomendamos encarecidamente que te la pongas de  fondo mientras programas este juego.\n",
    "Otra muy buena recomendación, es un tema con el título [\"Stop the Clocks!\"](https://es.wikipedia.org/wiki/Stop_the_Clocks) de la mítica banda inglesa Oasis. Un tema que no se llegó a publicar y tocaron en muy pocas ocasiones.\n",
    ":::"
   ]
  },
  {
   "cell_type": "markdown",
   "metadata": {},
   "source": [
    "## Lectura de los números\n",
    "\n",
    "En la carpeta del repositorio que se corresponde con este capítulo, se proporciona un fichero de texto llamado \"numbers.txt\" que contine una construcción ASCII de los números del 0 al 9. Al ser un fichero de texto, los 10 símbolos están compuestos por caracteres. Cada símbolo ocupa 11 líneas. Por lo que el primer paso es leer esos 10 símbolos y construir un diccionario similar a este:\n",
    "\n",
    "::::{code}\n",
    "numbers={0: \"........\",\n",
    "         1: \"........\",\n",
    "         .\n",
    "         .\n",
    "         9: \"........\"}\n",
    "::::\n",
    "\n",
    "En el diccionario **numbers**, el valor que se corresponde con la clave 0 es un string resultado de concatenar las 11 líneas que definen ese símbolo en el fichero **numbers.txt**, es decir:"
   ]
  },
  {
   "cell_type": "code",
   "execution_count": 4,
   "metadata": {},
   "outputs": [
    {
     "data": {
      "text/plain": [
       "\" .--------------. \\n| .------------. |\\n| |   _____    | |\\n| |  ( ___ )   | |\\n| |  |(   )|   | |\\n| |  ||   ||   | |\\n| |  |(___)|   | |\\n| |  (_____)   | |\\n| |            | |\\n| '------------' |\\n '--------------' \\n\""
      ]
     },
     "execution_count": 4,
     "metadata": {},
     "output_type": "execute_result"
    }
   ],
   "source": [
    "numbers[0]"
   ]
  },
  {
   "cell_type": "markdown",
   "metadata": {},
   "source": [
    "Ese string contiene los saltos de línea, de manera que si haces un **print** de su valor, obtienes una representación ASCII de ese número:"
   ]
  },
  {
   "cell_type": "code",
   "execution_count": 5,
   "metadata": {},
   "outputs": [
    {
     "name": "stdout",
     "output_type": "stream",
     "text": [
      " .--------------. \n",
      "| .------------. |\n",
      "| |   _____    | |\n",
      "| |  ( ___ )   | |\n",
      "| |  |(   )|   | |\n",
      "| |  ||   ||   | |\n",
      "| |  |(___)|   | |\n",
      "| |  (_____)   | |\n",
      "| |            | |\n",
      "| '------------' |\n",
      " '--------------' \n",
      "\n"
     ]
    }
   ],
   "source": [
    "print(numbers[0])"
   ]
  },
  {
   "cell_type": "markdown",
   "metadata": {},
   "source": [
    "Vamos a comenzar implementando una función **read_file(filename)** que recibe como argumento una variable de tipo STRING con el nombre del fichero **numbers.txt** y que devuelve una variable de tipo DICT en el que las claves son los dígitos del 0 al 9 y los valores la secuencia de las 11 líneas correspondientes de caracteres."
   ]
  },
  {
   "cell_type": "markdown",
   "metadata": {},
   "source": [
    "### Solución"
   ]
  },
  {
   "cell_type": "code",
   "execution_count": 1,
   "metadata": {},
   "outputs": [],
   "source": [
    "def read_file(filename):\n",
    "    numbers={}\n",
    "    with open(filename,\"r\") as f:\n",
    "        for i in range(0,10):\n",
    "            number=\"\"\n",
    "            for j in range(11):\n",
    "                number=number+f.readline()\n",
    "            numbers[i]=number\n",
    "    return numbers"
   ]
  },
  {
   "cell_type": "markdown",
   "metadata": {},
   "source": [
    "Probamos su funcionamiento:"
   ]
  },
  {
   "cell_type": "code",
   "execution_count": 7,
   "metadata": {},
   "outputs": [
    {
     "name": "stdout",
     "output_type": "stream",
     "text": [
      " .--------------. \n",
      "| .------------. |\n",
      "| |    __      | |\n",
      "| |   /  |     | |\n",
      "| |   `| |     | |\n",
      "| |    | |     | |\n",
      "| |   _| |_    | |\n",
      "| |  |_____|   | |\n",
      "| |            | |\n",
      "| '------------' |\n",
      " '--------------' \n",
      "\n"
     ]
    }
   ],
   "source": [
    "numbers=read_file(\"numbers.txt\")\n",
    "print(numbers[1])"
   ]
  },
  {
   "cell_type": "markdown",
   "metadata": {},
   "source": [
    "## Display de la pantalla de un reloj digital"
   ]
  },
  {
   "cell_type": "markdown",
   "metadata": {},
   "source": [
    "En este apartado vas a programar una función **print_time(numbers, hour, mins, secs, centsec=None)** que recibe como argumentos de entrada:\n",
    "\n",
    "* **numbers** que contiene el diccionario con los dígitos\n",
    "* **hour** que es una variable INT con las horas\n",
    "* **mins** que es una variable INT con los minutos\n",
    "* **secs** que es una variable INT con los segundos\n",
    "* **centsec** que es una variable INT con las centésimas de segundo\n",
    "\n",
    "La función no tiene que devolve ninguna variable pero sí tiene que representarlos en grande, como si se tratara el display de un cronómetro gigante.\n",
    "\n",
    "Para separar los dígitos vamos a usar la representación ASCII de dos puntos:\n",
    "\n",
    ":::{code}\n",
    "two_points=\"\"\"    \\n    \\n    \\n  _ \\n (_)\\n    \\n    \\n  _ \\n (_)\\n    \\n    \\n\"\"\"\n",
    "print(two_points)\n",
    ":::\n",
    "\n",
    "Por último, para hacer la función más flexible, vamos a definir el último argumento **centsec** como opcional. Esto quiere decir que si pasamos un valor para las cuatro variables enteras, la función pinta un cronómetro:"
   ]
  },
  {
   "cell_type": "code",
   "execution_count": 12,
   "metadata": {},
   "outputs": [
    {
     "name": "stdout",
     "output_type": "stream",
     "text": [
      " .--------------.        .--------------.        .--------------.        .--------------.   .--------------.  \n",
      "| .------------. |      | .------------. |      | .------------. |      | .------------. | | .------------. | \n",
      "| |    __      | |      | |    __      | |      | |   _____    | |      | |    ____    | | | |   ______   | | \n",
      "| |   /  |     | |   _  | |   /  |     | |   _  | |  / ___ `.  | |   _  | |  .' __ '.  | | | | .' ____ '. | | \n",
      "| |   `| |     | |  (_) | |   `| |     | |  (_) | | |_/___) |  | |  (_) | |  | (__) |  | | | | | (____) | | | \n",
      "| |    | |     | |      | |    | |     | |      | |  .'____.'  | |      | |  .`____'.  | | | | '_.____. | | | \n",
      "| |   _| |_    | |      | |   _| |_    | |      | | / /____    | |      | | | (____) | | | | | | \\____| | | | \n",
      "| |  |_____|   | |   _  | |  |_____|   | |   _  | | |_______|  | |   _  | | `.______.' | | | |  \\______,' | | \n",
      "| |            | |  (_) | |            | |  (_) | |            | |  (_) | |            | | | |            | | \n",
      "| '------------' |      | '------------' |      | '------------' |      | '------------' | | '------------' | \n",
      " '--------------'        '--------------'        '--------------'        '--------------'   '--------------'  \n"
     ]
    }
   ],
   "source": [
    "print_time(numbers,1,1,2,89)"
   ]
  },
  {
   "cell_type": "markdown",
   "metadata": {},
   "source": [
    "Pero si sólo le pasamos horas, minutos y segundos el resultado es algo parecido al display de un reloj:"
   ]
  },
  {
   "cell_type": "code",
   "execution_count": 11,
   "metadata": {},
   "outputs": [
    {
     "name": "stdout",
     "output_type": "stream",
     "text": [
      " .--------------.   .--------------.        .--------------.   .--------------.        .--------------.   .--------------.  \n",
      "| .------------. | | .------------. |      | .------------. | | .------------. |      | .------------. | | .------------. | \n",
      "| |    __      | | | |   _____    | |      | |    __      | | | |  _______   | |      | |   _____    | | | |   _____    | | \n",
      "| |   /  |     | | | |  ( ___ )   | |   _  | |   /  |     | | | | |  _____|  | |   _  | |  / ___ `.  | | | |  / ___ `.  | | \n",
      "| |   `| |     | | | |  |(   )|   | |  (_) | |   `| |     | | | | | |____    | |  (_) | | |_/___) |  | | | | |_/___) |  | | \n",
      "| |    | |     | | | |  ||   ||   | |      | |    | |     | | | | '_.____''. | |      | |  .'____.'  | | | |  .'____.'  | | \n",
      "| |   _| |_    | | | |  |(___)|   | |      | |   _| |_    | | | | | \\____) | | |      | | / /____    | | | | / /____    | | \n",
      "| |  |_____|   | | | |  (_____)   | |   _  | |  |_____|   | | | |  \\______.' | |   _  | | |_______|  | | | | |_______|  | | \n",
      "| |            | | | |            | |  (_) | |            | | | |            | |  (_) | |            | | | |            | | \n",
      "| '------------' | | '------------' |      | '------------' | | '------------' |      | '------------' | | '------------' | \n",
      " '--------------'   '--------------'        '--------------'   '--------------'        '--------------'   '--------------'  \n"
     ]
    }
   ],
   "source": [
    "print_time(numbers,10,15,22)"
   ]
  },
  {
   "cell_type": "markdown",
   "metadata": {},
   "source": [
    "::::{tip}\n",
    "Te recomendamos convertir los argumentos **hour**, **mins**, **secs** y **centsec** a formato STRING. Esto parece no tener mucho sentido porque para acceder al diccionario **numbers** los necesitamos como tipo INT. El objetivo de esta primera conversión es poder tratar los números de dos dígitos. Imagina que la variable **hour** vale 12. Al convertirlo a STRING, la variable **hour_str** tomaría el valor '12'. Las variables de tipo string también se consideran colecciones, por lo que podemos iterar entre sus dígitos, cosa que no podríamos hacer con la variable **hour** en formato numérico. De esta forma, el código:\n",
    "\n",
    ":::{code}\n",
    "for num in hour_str:\n",
    "    print(numbers[int(num)])\n",
    ":::\n",
    "\n",
    "Va a procesar primero el \"1\" y luego el \"2\". Siendo capaces de construir números de dos dígitos con un diccionario que únicamente incluye del 0 al 9.       \n",
    "::::"
   ]
  },
  {
   "cell_type": "markdown",
   "metadata": {},
   "source": [
    "### Solución"
   ]
  },
  {
   "cell_type": "code",
   "execution_count": 2,
   "metadata": {},
   "outputs": [],
   "source": [
    "import random\n",
    "\n",
    "def print_time(numbers, hour, mins, secs, centsec=None):\n",
    "    two_points=\"\"\"    \\n    \\n    \\n  _ \\n (_)\\n    \\n    \\n  _ \\n (_)\\n    \\n    \\n\"\"\"\n",
    "    hour_str=str(hour)\n",
    "    mins_str=str(mins)\n",
    "    secs_str=str(secs)\n",
    "    centsec_str=str(centsec)\n",
    "    sequence_of_numbers=[]\n",
    "    for num in hour_str:\n",
    "        sequence_of_numbers.append(numbers[int(num)])\n",
    "    sequence_of_numbers.append(two_points)\n",
    "    for num in mins_str:\n",
    "        sequence_of_numbers.append(numbers[int(num)])\n",
    "    sequence_of_numbers.append(two_points)\n",
    "    for num in secs_str:\n",
    "        sequence_of_numbers.append(numbers[int(num)])\n",
    "    if centsec!=None:\n",
    "        sequence_of_numbers.append(two_points)\n",
    "        for num in centsec_str:\n",
    "            sequence_of_numbers.append(numbers[int(num)])\n",
    "    sequence_of_numbers_per_lines= [number.split(\"\\n\") for number in sequence_of_numbers]\n",
    "    for line in range(11):\n",
    "        for number in range(len(sequence_of_numbers)):\n",
    "            print(sequence_of_numbers_per_lines[number][line],end=\" \")\n",
    "        print()"
   ]
  },
  {
   "cell_type": "markdown",
   "metadata": {},
   "source": [
    "::::{note}\n",
    "La solución que hemos propuesto, puede parecer complicada, pero no lo es. La solución se estructura en torno a la lista **sequence_of_numbers** en la que vamos a ir añadiendo las versiones ASCII de 11 líneas de caracteres de cada uno de los números. Por ejemplo, si invocamos a la función así:\n",
    "\n",
    ":::{code}\n",
    "print_time(numbers,10,15,22)\n",
    ":::\n",
    "\n",
    "La lista **sequence_of_numbers** va a contener 6 elementos que son las versiones ASCII del 1, del 0, del 1, del 5, del 2 y del 2.\n",
    "\n",
    "El último bucle anidado:\n",
    "\n",
    ":::{code}\n",
    "for line in range(11):\n",
    "    for number in range(len(sequence_of_numbers)):\n",
    "        print(sequence_of_numbers_per_lines[number][line],end=\" \")\n",
    "    print()\n",
    ":::\n",
    "\n",
    "Se limita a ir recorriendo e imprimiendo por pantalla la primera línea de los seis dígitos, la segunda línea de los seis dígitos,... y así sucesivamente con las 11 líneas.        \n",
    "::::"
   ]
  },
  {
   "cell_type": "markdown",
   "metadata": {},
   "source": [
    "## Construcción de un cronómetro\n",
    "\n",
    "Para simular el comportamiento de un cronómetro necesitamos una función que a partir de los valores de las variables **hour**, **mins**, **secs** y **centsec**, vaya incrementándolas cada centésima de segundo. Este problema no es complejo, pero sí hay que tener mucho cuidado. Cuando aumentamos **centsec** tenemos que controlar cuándo llegamos a 100 centésimas para reiniciar la variable y al mismo tiempo aumentar la variable **secs**. Al aumentar la variable **secs** hay que controlar cuándo llegamos a los 60 segundos para reiniciar la variable y aumentar la variable **mins**. Y al aumentar esta variable, también hay que vigilar cuándo llegamos a los 60 minutos para aumentar la variable **hour** sabiendo que esta variable hay que reiniciarla al llegar a 24.\n",
    "\n",
    "Esta lógica la vamos a implementar en una función **increase(hour, minute,sec, centsec, inc)** que recibe como argumentos de entrada:\n",
    "\n",
    "* **hour**, **mins**, **secs** y **centsec** que son las cuatro variables numéricas de tipo INT\n",
    "* **inc** que es una variable INT con el número de centésimas de segundo que vamos a usar para actualizar nuestro cronómetro\n",
    "\n",
    "La función **increase(hour, minute,sec, centsec, inc)** debe devolver las cuatro variables **hour**, **mins**, **secs** y **centsec** modificadas.\n",
    "\n",
    "Con esta función, la implementación del cronómetro es muy sencilla. Vamos a definir una segunda función **chronometer(numbers)** que recibe como único argumento el diccionario con los dígitos ASCII, y que internamente inicializa las variables **hour**, **mins**, **secs** y **centsec** a cero e invoca a la función **increase** para aumentar las variables convenientemente.\n",
    "\n",
    "Por el momento vamos a implementar la función **chronometer(numbers)** para que repita el proceso 1000 veces actualizando las variables cada centésima de segundo. Es decir, la función **chronometer(numbers)** debería terminar en 10 segundos. Para depurar su funcionamiento, la función va a mostrar por pantalla el resultado en formato HH:MM:SS:CC. \n",
    "\n",
    "El resultado debería ser similar al que muestra la siguiente animación:"
   ]
  },
  {
   "cell_type": "markdown",
   "metadata": {},
   "source": [
    "```{image} img/chronometer1.gif\n",
    ":alt: chronometer\n",
    ":class: bg-primary mb-1\n",
    ":width: 250px\n",
    ":align: center\n",
    "```"
   ]
  },
  {
   "cell_type": "markdown",
   "metadata": {},
   "source": [
    "::::{tip}\n",
    "Para evitar que nuesto notebook muestre 1000 mensajes por pantalla, vamos a utilizar el siguiente código que permite limpiar la salida de una celda de jupyter:\n",
    ":::{code}\n",
    "from IPython.display import clear_output\n",
    "clear_output(wait=True)\n",
    ":::\n",
    "\n",
    "Y implementar el *delay*, podemos utilizar la función **sleep** de la libraría **time**.\n",
    "::::"
   ]
  },
  {
   "cell_type": "markdown",
   "metadata": {},
   "source": [
    "### Solución"
   ]
  },
  {
   "cell_type": "code",
   "execution_count": 3,
   "metadata": {},
   "outputs": [],
   "source": [
    "def increase(hour, minute,sec, centsec, inc=1):\n",
    "    centsec=(centsec+inc)%100\n",
    "    if centsec==0:\n",
    "        sec=(sec+1)%60\n",
    "        if sec==0:\n",
    "            minute=(minute+1)%60\n",
    "            if minute==0:\n",
    "                hour=(hour+1)%24\n",
    "    return (hour,minute,sec, centsec)"
   ]
  },
  {
   "cell_type": "markdown",
   "metadata": {},
   "source": [
    "Para verificar su funcionamiento siempre es recomendable probar el caso más estremo:"
   ]
  },
  {
   "cell_type": "code",
   "execution_count": 16,
   "metadata": {},
   "outputs": [
    {
     "data": {
      "text/plain": [
       "(0, 0, 0, 0)"
      ]
     },
     "execution_count": 16,
     "metadata": {},
     "output_type": "execute_result"
    }
   ],
   "source": [
    "increase(hour=23, minute=59, sec=59, centsec=99)"
   ]
  },
  {
   "cell_type": "markdown",
   "metadata": {},
   "source": [
    "Puedes comprobar como al incrementar una centésima de segundo, todos los contadores se ponen a cero."
   ]
  },
  {
   "cell_type": "code",
   "execution_count": 4,
   "metadata": {},
   "outputs": [],
   "source": [
    "from IPython.display import clear_output\n",
    "import time\n",
    "\n",
    "def chronometer(numbers):\n",
    "    hour=0\n",
    "    minute=0\n",
    "    sec=0\n",
    "    centsec=0\n",
    "    for i in range(1000):\n",
    "        hour,minute,sec, centsec=increase(hour,minute,sec, centsec)\n",
    "        print(hour,minute,sec, centsec)\n",
    "        time.sleep(0.01)\n",
    "        clear_output(wait=True)"
   ]
  },
  {
   "cell_type": "markdown",
   "metadata": {},
   "source": [
    "Una vez que hemos verificado que nuestra función responde correctamente, podemos reemplazar la función:\n",
    "\n",
    ":::{code}\n",
    "print_time(hour,minute,sec, centsec)\n",
    ":::\n",
    "\n",
    "por:\n",
    "\n",
    ":::{code}\n",
    "print_time(numbers,hour,minute,sec, centsec)   \n",
    ":::\n",
    "\n",
    "Para conseguir que nuestra función muestre el resultado en grande:\n",
    "\n",
    "```{image} img/chronometer2.gif\n",
    ":alt: chronometer\n",
    ":class: bg-primary mb-1\n",
    ":width: 800px\n",
    ":align: center\n",
    "```\n",
    "\n",
    "Podemos jugar con el valor del *delay* de la función **time.sleep** y la variable **inc** de la función **increase** para conseguir que nuestra celda parpadee menos. La solución que proponemos a continuación se actualiza cada 5 centésimas de segundo repitiendo el bucle 200 veces para contar los mismos 10 segundos.            "
   ]
  },
  {
   "cell_type": "code",
   "execution_count": 5,
   "metadata": {},
   "outputs": [],
   "source": [
    "from IPython.display import clear_output\n",
    "import time\n",
    "\n",
    "def chronometer(numbers):\n",
    "    hour=0\n",
    "    minute=0\n",
    "    sec=0\n",
    "    centsec=0\n",
    "    for i in range(200):\n",
    "        hour,minute,sec, centsec=increase(hour,minute,sec, centsec, inc=5)\n",
    "        print_time(numbers,hour,minute,sec,centsec)\n",
    "        time.sleep(0.05)\n",
    "        clear_output(wait=True)"
   ]
  },
  {
   "cell_type": "code",
   "execution_count": 19,
   "metadata": {},
   "outputs": [
    {
     "name": "stdout",
     "output_type": "stream",
     "text": [
      " .--------------.        .--------------.        .--------------.   .--------------.        .--------------.  \n",
      "| .------------. |      | .------------. |      | .------------. | | .------------. |      | .------------. | \n",
      "| |   _____    | |      | |   _____    | |      | |    __      | | | |   _____    | |      | |   _____    | | \n",
      "| |  ( ___ )   | |   _  | |  ( ___ )   | |   _  | |   /  |     | | | |  ( ___ )   | |   _  | |  ( ___ )   | | \n",
      "| |  |(   )|   | |  (_) | |  |(   )|   | |  (_) | |   `| |     | | | |  |(   )|   | |  (_) | |  |(   )|   | | \n",
      "| |  ||   ||   | |      | |  ||   ||   | |      | |    | |     | | | |  ||   ||   | |      | |  ||   ||   | | \n",
      "| |  |(___)|   | |      | |  |(___)|   | |      | |   _| |_    | | | |  |(___)|   | |      | |  |(___)|   | | \n",
      "| |  (_____)   | |   _  | |  (_____)   | |   _  | |  |_____|   | | | |  (_____)   | |   _  | |  (_____)   | | \n",
      "| |            | |  (_) | |            | |  (_) | |            | | | |            | |  (_) | |            | | \n",
      "| '------------' |      | '------------' |      | '------------' | | '------------' |      | '------------' | \n",
      " '--------------'        '--------------'        '--------------'   '--------------'        '--------------'  \n"
     ]
    }
   ],
   "source": [
    "chronometer(numbers)"
   ]
  },
  {
   "cell_type": "markdown",
   "metadata": {},
   "source": [
    "## Parada del Cronómetro\n",
    "\n",
    "En programación, intervenir en la ejeción de un progrma que se está ejecutando no es tan facil como puede parecer. Existen recursos como las hebras (*threads*) que permiten tener flujos de ejecución concurrentes, pero suele ser un recurso que se aprende cuando ya se tiene cierta experiencia.\n",
    "\n",
    "En nuestro juego, vamos a tener el código principal encargándose de ejecutar la función **chronometer** y mostrando los valores por pantalla. Se te podría ocurrir capturar la orden de parada mediante una instrucción del tipo:\n",
    "\n",
    ":::{code}\n",
    "keystroke = input()\n",
    ":::\n",
    "\n",
    "Puedes hacer la prueba modificando la función **chronometer** y comprobar por qué no es una opción aceptable:\n",
    "\n",
    "\n",
    ":::{code}\n",
    "def chronometer(numbers):\n",
    "    hour=0\n",
    "    minute=0\n",
    "    sec=0\n",
    "    centsec=0\n",
    "    for i in range(200):\n",
    "        hour,minute,sec, centsec=increase(hour,minute,sec, centsec, inc=5)\n",
    "        print_time(numbers,hour,minute,sec, centsec)\n",
    "        time.sleep(0.05)\n",
    "        clear_output(wait=True)\n",
    "        keystroke = input()\n",
    ":::\n",
    "\n",
    "Afortunadamente vamos a resolver este problema sin tener que aprender a utilizar hebras. La librería de Python **pynput** nos permite abstraernos de su uso.\n",
    "\n",
    "En su documentación encontramos un [ejemplo](https://pynput.readthedocs.io/en/latest/keyboard.html#monitoring-the-keyboard) que hemos modificado para hacerlo más sencillo:"
   ]
  },
  {
   "cell_type": "code",
   "execution_count": null,
   "metadata": {},
   "outputs": [],
   "source": [
    "from pynput import keyboard\n",
    "\n",
    "def on_press(key):\n",
    "    print('Key {0} pressed'.format(key))\n",
    "\n",
    "\n",
    "def on_release(key):\n",
    "    print('Key {0} released'.format(key))\n",
    "\n",
    "\n",
    "listener = keyboard.Listener(on_press=on_press, on_release=on_release)\n",
    "listener.start()"
   ]
  },
  {
   "cell_type": "markdown",
   "metadata": {},
   "source": [
    "La función **keyboard.Listener** nos permite detectar diferntes eventos, como el pulsar una tecla o el liberarla. Si ejecutas el código anterior, cada vez que pulses una tecla y la sueltes aparecerán dos mensajes por pantalla."
   ]
  },
  {
   "cell_type": "markdown",
   "metadata": {},
   "source": [
    ":::{warning}\n",
    "Si has ejecutado el código anterior, ahora, cada vez que pulses una tecla se seguirán imprimiendo los mensajes por pantalla ya que el proceso sigue funcionando en *background*. La solución más sencilla es que reinicies el kernel de Jupyter. Más adelante te explicamos mejores maneras de detener el **keyboard.Listener**.\n",
    ":::"
   ]
  },
  {
   "cell_type": "markdown",
   "metadata": {},
   "source": [
    "Nosotros vamos a utilizar esta librería para definir una función **on_press** que se va a encargar de modificar una variable global que va a obligar al método **chronometer(numbers)** a deternerse. La variable que **on_press** va a modificar, debe estar definida como variable global para que ambas funciones tenga acceso a ella. La funcionalidad de parada también nos va a obligar a modificar la función **chronometer(numbers)** para que chequée esa variable global y así poder tomar la decisión de parar."
   ]
  },
  {
   "cell_type": "markdown",
   "metadata": {},
   "source": [
    "### Solución"
   ]
  },
  {
   "cell_type": "code",
   "execution_count": null,
   "metadata": {},
   "outputs": [],
   "source": [
    "from pynput import keyboard\n",
    "\n",
    "exit = None\n",
    "\n",
    "def on_press(key):\n",
    "    global exit\n",
    "    exit=True\n",
    "    return False\n",
    "\n",
    "def chronometer(numbers):\n",
    "    hour, minute, sec, centsec=0,0,0,0\n",
    "    for i in range(200):\n",
    "        hour,minute,sec, centsec=increase(hour,minute,sec, centsec, inc=5)\n",
    "        print_time(numbers,hour,minute,sec, centsec)\n",
    "        time.sleep(0.05)\n",
    "        clear_output(wait=True)\n",
    "        if exit==True:\n",
    "            break\n",
    "    return hour,minute,sec,centsec\n",
    "         \n",
    "listener = keyboard.Listener(on_press=on_press)\n",
    "listener.start()\n",
    "    \n",
    "hour,minute,sec, centsec=chronometer(numbers)\n",
    "print_time(numbers,hour,minute,sec, centsec)\n",
    "listener.stop()"
   ]
  },
  {
   "cell_type": "markdown",
   "metadata": {},
   "source": [
    "```{warning}\n",
    "Para parar un **keyboard.Listener** que se está ejecuando en *background* hay tres opciones:\n",
    "\n",
    "* Invocar la función **pynput.keyboard.Listener.stop**\n",
    "* Lanzar una excepción del tipo **StopException**\n",
    "* Ejecutar un **return False** desde cualquiera de las funciones *callback* definidas en el listener\n",
    "\n",
    "Si no lo paras, quedará una hebra de Python residente en memoria poniendo constántemente el valor de la variable **exit** a True. Este proceso sólo se dentendrá reiniciando el kernel de Jupyter.\n",
    "```"
   ]
  },
  {
   "cell_type": "markdown",
   "metadata": {},
   "source": [
    "```{seealso}\n",
    "El uso de variables globales no es muy recomendado en estudiantes de programación, pero en ocasiones pueden ayudar a simplificar mucho el desarrollo de algunos códigos. [Aquí](https://docs.python.org/3/faq/programming.html#what-are-the-rules-for-local-and-global-variables-in-python) puedes encontrar más información al respecto.\n",
    "```"
   ]
  },
  {
   "cell_type": "markdown",
   "metadata": {},
   "source": [
    "## Cálculo de la puntuación\n",
    "\n",
    "El último paso es muy sencillo. En cuanto el usuario pulsa cualquier tecla, la función **chronometer(numbers)** termina y devuelve el contenido de las variables **hour,minute,sec,centsec** en los que el juego se ha detenido. La forma de calcular la puntuación es trivial. Si el objetivo del juego es detener el cronómetro en 0 centésimas, la puntuación podría definirse como:\n",
    "\n",
    "```{code}\n",
    "score = 100 - centsec\n",
    "```\n",
    "\n",
    "Con esta definición, un jugador que detuviera el cronómetro en **centsec=99** obtendría una puntuación muy mala. Podemos corregir este error empleando el valor absoluto de la diferencia:\n",
    "\n",
    "```{code}\n",
    "score = abs(100 - centsec)\n",
    "```\n",
    "\n",
    "De esta manera, los que pararan el cronómetro en **centsec=1** o en **centsec=99** obtendrían ambos muy buena puntuación."
   ]
  },
  {
   "cell_type": "markdown",
   "metadata": {},
   "source": [
    "## Extensiones del Juego\n",
    "\n",
    "En este capítulo hemos visto un par de recursos muy interesantes. Por un lado la posibilidad de borrar la salida de una celda de Jupyter para transmitir una sensación más cercana a la de una aplicación en lugar de una ejecución en un notebook. Por otro lado, hemos conocido la librería **pynput** que nos va a permitir capturar la actividad de nuestro teclado. Estos recursos te van a permitir:\n",
    "\n",
    "* Prescindir de los **input()** explícitos de Jupyter que suelen interferir con el flujo de ejecución, consiguiendo que nuestros juegos tengan mucho mejor aspecto\n",
    "* Un ejercicio muy interesante, aunque no es un juego, es implementar un reloj despertador. Puedes utilizar **pynput** para definir diferentes teclas para \"poner en hora\", \"establecer alarma\", \"silenciar alarma\"..."
   ]
  }
 ],
 "metadata": {
  "interpreter": {
   "hash": "31f2aee4e71d21fbe5cf8b01ff0e069b9275f58929596ceb00d14d90e3e16cd6"
  },
  "kernelspec": {
   "display_name": "Python 3.9 [BOOK]",
   "language": "python",
   "name": "python_book"
  },
  "language_info": {
   "codemirror_mode": {
    "name": "ipython",
    "version": 3
   },
   "file_extension": ".py",
   "mimetype": "text/x-python",
   "name": "python",
   "nbconvert_exporter": "python",
   "pygments_lexer": "ipython3",
   "version": "3.9.12"
  }
 },
 "nbformat": 4,
 "nbformat_minor": 2
}
