{
 "cells": [
  {
   "cell_type": "markdown",
   "metadata": {},
   "source": [
    "# Mastermind"
   ]
  },
  {
   "cell_type": "markdown",
   "metadata": {},
   "source": [
    "```{image} img/portada.png\n",
    ":alt: portada\n",
    ":class: bg-primary mb-1\n",
    ":width: 400px\n",
    ":align: center\n",
    "```"
   ]
  },
  {
   "cell_type": "markdown",
   "metadata": {},
   "source": [
    "En esta ocasión vamos a implementar una versión para un jugador del juego de mesa Mastermind. Originalmente, el Mastermind es un juego de ingenio para dos jugadores en el que cada uno tiene que adivinar la secuencia secreta de colores que ha construido su oponente. Para ello, cada jugador hace una propuesta y el oponente le devuelve una serie de pistas que le ayudarán a refinar su propuesta en el siguiente turno. La versión que os proponemos nosotros tiene unas reglas simplificadas:\n",
    "\n",
    "\n",
    "1. El código genera una secuencia secreta aleatoria de dos colores (Rojo y Verde) \n",
    "2. El jugador tiene que averiguarla\n",
    "3. El jugador no puede repetir secuencias, en caso de hacerlo, tiene que recibir un aviso\n",
    "4. El código debe de dar pistas al usuario sobre si la distribución de colores (número de rojos y número de verdes) coincide con el de la secuencia secreta y sobre el número de colores que ha acertado\n",
    "5. Cuando el usuario acierte la secuencia secreta, el código debe imprimir el número de intentos\n",
    "\n",
    "A continuación proporcionamos un diagrama de flujo que resumen las reglas anteriores:"
   ]
  },
  {
   "cell_type": "markdown",
   "metadata": {},
   "source": [
    "```{image} img/flow.png\n",
    ":alt: flow\n",
    ":class: bg-primary mb-1\n",
    ":width: 350px\n",
    ":align: center\n",
    "```"
   ]
  },
  {
   "cell_type": "markdown",
   "metadata": {},
   "source": [
    "El resultado debe ser algo así:"
   ]
  },
  {
   "cell_type": "markdown",
   "metadata": {},
   "source": [
    "```{image} img/output.png\n",
    ":alt: flow\n",
    ":class: bg-primary mb-1\n",
    ":width: 400px\n",
    ":align: center\n",
    "```"
   ]
  },
  {
   "cell_type": "markdown",
   "metadata": {},
   "source": [
    "```{seealso}\n",
    "Puedes encontrar más información sobre el juego de mesa Mastermind [aquí](https://en.wikipedia.org/wiki/Mastermind_(board_game)).\n",
    "```"
   ]
  },
  {
   "cell_type": "markdown",
   "metadata": {},
   "source": [
    "## Generación de la secuencia secreta\n",
    "\n",
    "Para inicializar el juego vamos a implementar una función **gen_secret(size)** que se encargue de generar una secuencia aleatoria y secreta de rojos **R** y verdes **G**. La función recibe un único argumento **size** con la longitud de la secuencia que será proporcional a la dificultad del juego. La salida de **gen_secret** también será única, devolviendo una variable tipo STRING con la secuencia de **G's** y **R's** (e.g. \"RRGG\")."
   ]
  },
  {
   "cell_type": "markdown",
   "metadata": {},
   "source": [
    "### Solución:"
   ]
  },
  {
   "cell_type": "code",
   "execution_count": 61,
   "metadata": {},
   "outputs": [],
   "source": [
    "import random\n",
    "\n",
    "def gen_secret(size):\n",
    "    options=[\"R\",\"G\"]\n",
    "    pattern=[]\n",
    "    for i in range(size):\n",
    "        pattern.append(options[random.randint(0,1)])\n",
    "    secret=\"\".join(pattern)\n",
    "    return secret"
   ]
  },
  {
   "cell_type": "code",
   "execution_count": 62,
   "metadata": {},
   "outputs": [
    {
     "data": {
      "text/plain": [
       "'RGRR'"
      ]
     },
     "execution_count": 62,
     "metadata": {},
     "output_type": "execute_result"
    }
   ],
   "source": [
    "gen_secret(size=4)"
   ]
  },
  {
   "cell_type": "markdown",
   "metadata": {},
   "source": [
    "::::{note} \n",
    "En programación existen muchas maneras de implementar la misma función, y eso no implica que unas estén bien y otras no. La intuición más sencilla nos suele sugerir utilizar un bucle y una función que eija uno entre dos valores que serán usados como índices a la hora de indexar el caracter **R** o el caracter **G**. Otra alternativa podría ser la siguiente:\n",
    "\n",
    ":::{code}\n",
    "def gen_secret(size):\n",
    "    options=list(\"RRRRRRRRRRGGGGGGGGGG\")\n",
    "    random.shuffle(options)\n",
    "    secret=\"\".join(options[:size])\n",
    "    return secret\n",
    ":::\n",
    "\n",
    "En este caso hacemos uso de la función **random.shuffle** para aleatorizar los elementos de una lista, para quedarnos con los **size** primeros elementos de la lista resultante.\n",
    "::::"
   ]
  },
  {
   "cell_type": "markdown",
   "metadata": {},
   "source": [
    "## Elección de la secuencia candidata\n",
    "\n",
    "Para que el jugador introduzca su secuencia propuesta, vamos a implementar una función **input_seq(size)** para que el usuario  introduzca una secuencia STRING de Rojos y Verdes (e.g. \"RRGG\"). El código debe seguir preguntando al usuario en caso de que no introduzca el número de colores requerido o en caso de que utilize letras diferentes de \"R\" o \"G\".\n",
    "\n",
    "Esta función recibe la longitud de la secuencia en la variable **size** y debe devolver la secuencia de colores en formato STRING."
   ]
  },
  {
   "cell_type": "markdown",
   "metadata": {},
   "source": [
    "### Solución:"
   ]
  },
  {
   "cell_type": "code",
   "execution_count": 63,
   "metadata": {},
   "outputs": [],
   "source": [
    "def input_seq(size):\n",
    "    guess=input(\"\\nInput a sequence of R's and G's with length {}: \".format(size)) \n",
    "    \n",
    "    while (guess.count(\"R\")+guess.count(\"G\")!=size) or (len(guess)!=size):\n",
    "        print(\"The sequence can only contains G's and R's and must have length {}\".format(size))\n",
    "        guess=input(\"Guess a sequence of R's and G's with length {}: \".format(size))\n",
    "    \n",
    "    return guess"
   ]
  },
  {
   "cell_type": "code",
   "execution_count": 64,
   "metadata": {},
   "outputs": [
    {
     "name": "stdout",
     "output_type": "stream",
     "text": [
      "\n",
      "Input a sequence of R's and G's with length 4: RRGGG\n",
      "The sequence can only contains G's and R's and must have length 4\n",
      "Guess a sequence of R's and G's with length 4: RRGX\n",
      "The sequence can only contains G's and R's and must have length 4\n",
      "Guess a sequence of R's and G's with length 4: RRGG\n"
     ]
    },
    {
     "data": {
      "text/plain": [
       "'RRGG'"
      ]
     },
     "execution_count": 64,
     "metadata": {},
     "output_type": "execute_result"
    }
   ],
   "source": [
    "input_seq(4)"
   ]
  },
  {
   "cell_type": "markdown",
   "metadata": {},
   "source": [
    "::::{note} \n",
    "La dificultad de esta función reside en verificar que la secuencia proporcionada por el jugador sólo contiene **R's** y **G's** y que su longitud no excede el valor definido por la variable **size**. En nuestra solución hemos usado la condición buleana:\n",
    "\n",
    ":::{code}\n",
    "(guess.count(\"R\")+guess.count(\"G\")!=size) or (len(guess)!=size)\n",
    ":::\n",
    "\n",
    "Esta expresión hace uso de la función **count** de las variables de tipo STRING, para verificar que las letras de la secuencia sólo se corresponden con las permitidas.\n",
    "::::"
   ]
  },
  {
   "cell_type": "markdown",
   "metadata": {},
   "source": [
    "## Plot de la secuencia\n",
    "\n",
    "El método **plot_seq(guess)** que vamos a codificar recibe una secuencia de colores en la variable **guess** de tipo STRING (e.g. \"RRGG\") e imprime esa misma secuencia con puntos de colores. Esta función no devuelve ningún valor.\n",
    "\n",
    "::::{tip}\n",
    "Para imprimir texto en color necesitamos usar la librería **termcolor**. Prueba este código en una celda:\n",
    "\n",
    ":::{code}\n",
    "from termcolor import colored\n",
    "print(colored(\"●\",\"red\"))\n",
    "::: \n",
    "\n",
    "Si el import no reconoce la librería ejecuta este comando en otra celda para instalarla (sólo tienes que ejecutarlo una vez):\n",
    "\n",
    ":::{code}\n",
    "! pip install --user termcolor\n",
    "::: \n",
    "\n",
    "::::    "
   ]
  },
  {
   "cell_type": "markdown",
   "metadata": {},
   "source": [
    "### Solución:"
   ]
  },
  {
   "cell_type": "code",
   "execution_count": 65,
   "metadata": {},
   "outputs": [],
   "source": [
    "from termcolor import colored\n",
    "\n",
    "def plot_seq(guess):\n",
    "    for color in guess:\n",
    "        if color==\"R\":\n",
    "            print(colored(\"●\",\"red\"),end=\"\")\n",
    "        elif color==\"G\":\n",
    "            print(colored(\"●\",\"green\"),end=\"\")\n",
    "        else:\n",
    "            print(\"●\",end=\"\")\n",
    "    print()"
   ]
  },
  {
   "cell_type": "code",
   "execution_count": 66,
   "metadata": {},
   "outputs": [
    {
     "name": "stdout",
     "output_type": "stream",
     "text": [
      "\u001b[31m●\u001b[0m\u001b[31m●\u001b[0m\u001b[32m●\u001b[0m\u001b[32m●\u001b[0m\n"
     ]
    }
   ],
   "source": [
    "plot_seq(\"RRGG\")"
   ]
  },
  {
   "cell_type": "markdown",
   "metadata": {},
   "source": [
    "## Chequeo de la distribución de colores\n",
    "\n",
    "Una de las pistas que debe devolver nuestro juego es si el número de rojos **R** y el número de verdes **G** de la secuencia proporcionada por el jugador coincide con la secuencia secreta. Para eso vamos a construir la función **check_distribution(guess,secret)**. Esta función recibe dos argumentos:\n",
    "\n",
    "* **guess** es una variable tipo STRING que contiene la secuencia de colores proporcionada por el jugador\n",
    "* **secret** es una variable tipo STRING que contiene la secuencia secreta\n",
    "\n",
    "La función debe chequear si el número de **R's** y de **G's** coincide entre ambas secuencias. La función debe devolver una variable BOOL indicando si el número de colores es el mismo en ambas secuencias."
   ]
  },
  {
   "cell_type": "markdown",
   "metadata": {},
   "source": [
    "### Solución:"
   ]
  },
  {
   "cell_type": "code",
   "execution_count": 2,
   "metadata": {},
   "outputs": [],
   "source": [
    "def check_distribution(guess,secret):\n",
    "    if guess.count(\"R\")==secret.count(\"R\") and guess.count(\"G\")==secret.count(\"G\"):\n",
    "        return True\n",
    "    else:\n",
    "        return False"
   ]
  },
  {
   "cell_type": "markdown",
   "metadata": {},
   "source": [
    "A modo de ejemplo, vamos a invocar a esta función con dos secuencias diferentes, la primera de ellas contiene la misma disribución de colores que la secuencia secreta. Si la función **check_distribution** está bien implementada debe devolver el valor **True**. La segunda contiene una distribución de colores diferentes, por lo que la función **check_distribution** debe devolver el valor **False**."
   ]
  },
  {
   "cell_type": "code",
   "execution_count": 3,
   "metadata": {},
   "outputs": [
    {
     "data": {
      "text/plain": [
       "True"
      ]
     },
     "execution_count": 3,
     "metadata": {},
     "output_type": "execute_result"
    }
   ],
   "source": [
    "check_distribution(guess=\"GRGR\",secret=\"GGRR\")"
   ]
  },
  {
   "cell_type": "code",
   "execution_count": 4,
   "metadata": {},
   "outputs": [
    {
     "data": {
      "text/plain": [
       "False"
      ]
     },
     "execution_count": 4,
     "metadata": {},
     "output_type": "execute_result"
    }
   ],
   "source": [
    "check_distribution(guess=\"GRRR\",secret=\"GGRR\")"
   ]
  },
  {
   "cell_type": "markdown",
   "metadata": {},
   "source": [
    "## Chequeo del número de aciertos\n",
    "\n",
    "La segunda de las pistas que el juego tiene que proporcionar es el número de aciertos. Para ello vamos a implementar la función **check_coincidences(guess,secret)**. Este método recibe los mismos argumentos que la función **check_distribution**, es decir, la secuencia de colores del usuario **guess** y la secuencia de colores secreta **secret**. La función **check_coincidences** debe analizar las posiciones de los colores de la secuencia del usuario y de la secuencia secreta y devolver el número de aciertos."
   ]
  },
  {
   "cell_type": "markdown",
   "metadata": {},
   "source": [
    "### Solución:"
   ]
  },
  {
   "cell_type": "code",
   "execution_count": 5,
   "metadata": {},
   "outputs": [],
   "source": [
    "def check_coincidences(guess,secret):\n",
    "    out=[]\n",
    "    for i in range(len(guess)):\n",
    "        if guess[i]==secret[i]:\n",
    "            out.append(1)\n",
    "        else:\n",
    "            out.append(0)\n",
    "    number_of_coincidences=sum(out)\n",
    "    return number_of_coincidences"
   ]
  },
  {
   "cell_type": "markdown",
   "metadata": {},
   "source": [
    "De nuevo, vamos a validar el funcionamiento de la función probando diferentes secuencias con diferentes coincidencias entre la secuencia proporcionada por el jugador **guess** y la secuencia secreta **secret**."
   ]
  },
  {
   "cell_type": "code",
   "execution_count": 71,
   "metadata": {},
   "outputs": [
    {
     "data": {
      "text/plain": [
       "0"
      ]
     },
     "execution_count": 71,
     "metadata": {},
     "output_type": "execute_result"
    }
   ],
   "source": [
    "check_coincidences(guess=\"RRGG\",secret=\"GGRR\")"
   ]
  },
  {
   "cell_type": "code",
   "execution_count": 72,
   "metadata": {},
   "outputs": [
    {
     "data": {
      "text/plain": [
       "2"
      ]
     },
     "execution_count": 72,
     "metadata": {},
     "output_type": "execute_result"
    }
   ],
   "source": [
    "check_coincidences(guess=\"GRGR\",secret=\"GGRR\")"
   ]
  },
  {
   "cell_type": "code",
   "execution_count": 73,
   "metadata": {},
   "outputs": [
    {
     "data": {
      "text/plain": [
       "3"
      ]
     },
     "execution_count": 73,
     "metadata": {},
     "output_type": "execute_result"
    }
   ],
   "source": [
    "check_coincidences(guess=\"GRRR\",secret=\"GGRR\")"
   ]
  },
  {
   "cell_type": "code",
   "execution_count": 74,
   "metadata": {},
   "outputs": [
    {
     "data": {
      "text/plain": [
       "4"
      ]
     },
     "execution_count": 74,
     "metadata": {},
     "output_type": "execute_result"
    }
   ],
   "source": [
    "check_coincidences(guess=\"GGRR\",secret=\"GGRR\")"
   ]
  },
  {
   "cell_type": "markdown",
   "metadata": {},
   "source": [
    "## Fin de juego\n",
    "\n",
    "Por último, vamos a implementar la función **match(guess,secret)**. De nuevo, esta función recibe los mismos dos argumentos:\n",
    "\n",
    "* **guess** es una variable tipo STRING que contiene la secuencia de colores proporcionada por el jugador\n",
    "* **secret** es una variable tipo STRING que contiene la secuencia secreta\n",
    "\n",
    "La función debe devolver **True** en caso de que las secuencias coincidan y **False** en caso contrario. Esta función es trivial, y su objetivo es, simplemente, hacer el código del juego más legible."
   ]
  },
  {
   "cell_type": "markdown",
   "metadata": {},
   "source": [
    "### Solución:"
   ]
  },
  {
   "cell_type": "code",
   "execution_count": 6,
   "metadata": {},
   "outputs": [],
   "source": [
    "def match(guess,secret):\n",
    "    if guess==secret:\n",
    "        return True\n",
    "    else:\n",
    "        return False"
   ]
  },
  {
   "cell_type": "code",
   "execution_count": 7,
   "metadata": {},
   "outputs": [
    {
     "data": {
      "text/plain": [
       "True"
      ]
     },
     "execution_count": 7,
     "metadata": {},
     "output_type": "execute_result"
    }
   ],
   "source": [
    "match(guess=\"RRGG\",secret=\"RRGG\")"
   ]
  },
  {
   "cell_type": "code",
   "execution_count": 8,
   "metadata": {},
   "outputs": [
    {
     "data": {
      "text/plain": [
       "False"
      ]
     },
     "execution_count": 8,
     "metadata": {},
     "output_type": "execute_result"
    }
   ],
   "source": [
    "match(guess=\"RRGR\",secret=\"RRGG\")"
   ]
  },
  {
   "cell_type": "markdown",
   "metadata": {},
   "source": [
    "## Juego completo\n",
    "\n",
    "El último paso es utilizar todas las funciones implementadas hasta el momento para construir nuestra versión simplificada del Mastermind. Vamos a añadir un sistema de conteo del número de intentos. De esta forma, si decides jugar con más personas, podrás decidir quién es el vencedor como aquel jugador que haya realizado las mejores hipótesis. "
   ]
  },
  {
   "cell_type": "markdown",
   "metadata": {},
   "source": [
    "### Solución:"
   ]
  },
  {
   "cell_type": "code",
   "execution_count": 9,
   "metadata": {},
   "outputs": [],
   "source": [
    "from termcolor import colored\n",
    "import random"
   ]
  },
  {
   "cell_type": "code",
   "execution_count": 79,
   "metadata": {},
   "outputs": [
    {
     "name": "stdout",
     "output_type": "stream",
     "text": [
      "Generate secret with length: 4\n",
      "......\n",
      "\n",
      "Input a sequence of R's and G's with length 4: RRGG\n",
      "\u001b[31m●\u001b[0m\u001b[31m●\u001b[0m\u001b[32m●\u001b[0m\u001b[32m●\u001b[0m\n",
      "Distribution: WRONG. \n",
      "Hits: 1\n",
      "\n",
      "Input a sequence of R's and G's with length 4: GGGR\n",
      "\u001b[32m●\u001b[0m\u001b[32m●\u001b[0m\u001b[32m●\u001b[0m\u001b[31m●\u001b[0m\n",
      "Distribution: OK. \n",
      "Hits: 2\n",
      "\n",
      "Input a sequence of R's and G's with length 4: RGGG\n",
      "\u001b[31m●\u001b[0m\u001b[32m●\u001b[0m\u001b[32m●\u001b[0m\u001b[32m●\u001b[0m\n",
      "Distribution: OK. \n",
      "Hits: 2\n",
      "\n",
      "Input a sequence of R's and G's with length 4: GRGG\n",
      "\u001b[32m●\u001b[0m\u001b[31m●\u001b[0m\u001b[32m●\u001b[0m\u001b[32m●\u001b[0m\n",
      "Distribution: OK. \n",
      "Hits: 2\n",
      "\n",
      "Input a sequence of R's and G's with length 4: GGRG\n",
      "\u001b[32m●\u001b[0m\u001b[32m●\u001b[0m\u001b[31m●\u001b[0m\u001b[32m●\u001b[0m\n",
      "Congrats!!\n",
      "You needed 5 attempts\n"
     ]
    }
   ],
   "source": [
    "size=4\n",
    "guesses=[]\n",
    "attempts=0\n",
    "\n",
    "# Generates a secret\n",
    "print(\"Generate secret with length: {}\".format(size))\n",
    "print(\"......\")\n",
    "secret=gen_secret(size)\n",
    "\n",
    "while True:\n",
    "    # Ask the user for a guess\n",
    "    guess=input_seq(size)\n",
    "    attempts=attempts+1\n",
    "    \n",
    "    # Plot the sequence of colored points\n",
    "    plot_seq(guess)\n",
    "    \n",
    "    # Inform the user if that guess was already used\n",
    "    if guess in guesses:\n",
    "        print(\" - Combination already used\")\n",
    "    else:\n",
    "        guesses.append(guess)      \n",
    "\n",
    "    # Check if we found the solution\n",
    "    if match(guess, secret)==True:\n",
    "        print(\"Congrats!!\")\n",
    "        break\n",
    "    else:\n",
    "        # Check if we found the right R's and G's distribution\n",
    "        if check_distribution(guess, secret)==True:\n",
    "            print(\"Distribution: OK. \")\n",
    "        else: \n",
    "            print(\"Distribution: WRONG. \")\n",
    "        \n",
    "        # Check the number of coincidences\n",
    "        print(\"Hits: {}\".format(check_coincidences(guess, secret)))\n",
    "\n",
    "print(\"You needed {} attempts\".format(attempts))"
   ]
  },
  {
   "cell_type": "markdown",
   "metadata": {},
   "source": [
    "## Extensiones del Juego\n",
    "\n",
    "El Mastermind es un juego muy sencillo pero con muchas posibilidades de complicarse. Utilizar secuencias más largas es una de ellas, pero podemos incrementar el número de colores o incluso utilizar símbolos diferentes. Aquí os proponemos algunas alternativas para que siguáis mejorando vuestras habilidades de programación:\n",
    "\n",
    "* Implementar una versión con más colores\n",
    "* Construir un Mastermind en el que además de los colores, entren en juego el típo de símbolos, por ejemplo, puntos \"●\" y cuadrados \"■\"\n",
    "* Añadir un temporizador para poder echar partidas contrarreloj\n",
    "* Mejorar el interfaz para que se parezca al interfaz clásico del Mastermind [juego de mesa](https://en.wikipedia.org/wiki/Mastermind_(board_game)#/media/File:Mastermind.jpg)\n"
   ]
  }
 ],
 "metadata": {
  "kernelspec": {
   "display_name": "Python 3",
   "language": "python",
   "name": "python3"
  },
  "language_info": {
   "codemirror_mode": {
    "name": "ipython",
    "version": 3
   },
   "file_extension": ".py",
   "mimetype": "text/x-python",
   "name": "python",
   "nbconvert_exporter": "python",
   "pygments_lexer": "ipython3",
   "version": "3.8.8"
  }
 },
 "nbformat": 4,
 "nbformat_minor": 4
}
