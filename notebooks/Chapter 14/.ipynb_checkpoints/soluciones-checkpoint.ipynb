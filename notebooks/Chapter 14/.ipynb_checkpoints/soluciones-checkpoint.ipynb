{
 "cells": [
  {
   "cell_type": "markdown",
   "metadata": {},
   "source": [
    "# Sopa de letras"
   ]
  },
  {
   "cell_type": "markdown",
   "metadata": {},
   "source": [
    "```{image} img/portada.png\n",
    ":alt: portada\n",
    ":class: bg-primary mb-1\n",
    ":width: 350px\n",
    ":align: center\n",
    "```"
   ]
  },
  {
   "cell_type": "markdown",
   "metadata": {},
   "source": [
    "Uno de los pasatiempos más extendidos es el de las sopas de letras. Hace años era habitual encontrar publicaciones enteras de sopas de letras en los kioskos de estaciones y hospitales. A pesar de la sencillez de su mecanismo, su elaboración no es tan evidente. Existían profesiononales cuyo trabajo era exclusivamente preparar estos pasatiempos. Y fue así hasta que esta tarea se consiguió automatizar mediante programas informáticos.\n",
    "\n",
    "En este capítulo vamos implementar un generador de sopas de letras muy sencillo, que además nos permita jugar. Para facilitar su programación vamos a asumir las siguientes simplificaciones:\n",
    "\n",
    "* No vamos a permitir que dos palabras se solapen (que una palabra use una letra de otra palabra)\n",
    "* La posición de las palabras sólo puede ser vertical o horizontal (en sentido inverso o no) pero en ningún caso en diagonal\n",
    "\n",
    "```{seealso}\n",
    "Podéis encontrar más información sobre este pasatiempo [aquí](https://en.wikipedia.org/wiki/Word_search).\n",
    "```"
   ]
  },
  {
   "cell_type": "markdown",
   "metadata": {},
   "source": [
    "## Rellenar aleatoriamente la sopa de letras\n",
    "\n",
    "En este apartado vamos a implementar la función **fill_soup_random(available_letters, board_size)** que rellena el tablero con letras aleatorias.\n",
    "\n",
    "Los argumentos de entrada de la función son:\n",
    "\n",
    "- **available_letters** es una variable tipo LIST con las letras que se pueden usar en la sopa de letras\n",
    "- **board_size** es una varible tipo INT con el tamaño de la sopa de letras\n",
    "\n",
    "La función devuelve una lista de listas con las letras que componen la sopa de letras. Por ejemplo, si definimos una variable **available_letters** con todas las letras del abecedario y una sopa de letras con **board_size** igual a 10. La función **fill_soup_random(available_letters, board_size)** nos devuelve una inicialización aleatoria de nuestro tablero de 10x10."
   ]
  },
  {
   "cell_type": "code",
   "execution_count": 2,
   "metadata": {},
   "outputs": [
    {
     "data": {
      "text/plain": [
       "[['u', 'h', 'f', 'i', 'e', 't', 'v', 'd', 'i', 's'],\n",
       " ['p', 'r', 'l', 'q', 'n', 'r', 'u', 'e', 'e', 'i'],\n",
       " ['n', 'o', 'a', 'i', 'a', 'l', 'x', 's', 'r', 'h'],\n",
       " ['l', 'f', 'p', 's', 'r', 'm', 'y', 'h', 'o', 'a'],\n",
       " ['r', 'v', 'b', 'k', 'v', 'i', 'e', 'u', 'f', 'd'],\n",
       " ['t', 'g', 'x', 'x', 'd', 'c', 'v', 'r', 'o', 'x'],\n",
       " ['j', 'g', 'n', 'b', 'x', 'e', 'u', 'j', 'o', 'h'],\n",
       " ['h', 'i', 'v', 'q', 'r', 'w', 's', 'u', 'd', 'e'],\n",
       " ['d', 'y', 'f', 'r', 'j', 'o', 'b', 'x', 'e', 'm'],\n",
       " ['e', 'x', 'c', 'q', 'v', 'y', 'a', 'x', 'w', 'y']]"
      ]
     },
     "execution_count": 2,
     "metadata": {},
     "output_type": "execute_result"
    }
   ],
   "source": [
    "available_letters = ['a', 'b', 'c', 'd', 'e', 'f', 'g', 'h', 'i', 'j', 'k', 'l', 'm', 'n', 'o', 'p', 'q', 'r', 's', 't', 'u', 'v', 'w', 'x', 'y', 'z']\n",
    "fill_soup_random(available_letters, board_size=10)"
   ]
  },
  {
   "cell_type": "markdown",
   "metadata": {},
   "source": [
    "::::{note}\n",
    "Esta función sólo distribuye letras de manera aleatoria. Puedes probar a ejecutar varias veces la misma función y comprobar que la distribución de consonantes y vocales cambia. En los próximos apartados rellenaremos la sopa de letras con palabras.\n",
    "::::"
   ]
  },
  {
   "cell_type": "markdown",
   "metadata": {},
   "source": [
    "### Solución:"
   ]
  },
  {
   "cell_type": "code",
   "execution_count": 3,
   "metadata": {},
   "outputs": [],
   "source": [
    "import random\n",
    "\n",
    "def fill_soup_random(available_letters, board_size):\n",
    "    soup = []\n",
    "    for i in range(board_size):\n",
    "        row = []\n",
    "        for j in range(board_size):\n",
    "            row.append(random.choice(available_letters))\n",
    "        soup.append(row)\n",
    "    return soup"
   ]
  },
  {
   "cell_type": "markdown",
   "metadata": {},
   "source": [
    "## Generación de dirección y sentido de una palabra\n",
    "\n",
    "Para aumentar la aleatorización a la hora de colocar nuestras palabras, vamos a definir una función que seleccione aleatoriamente si la posición de la palabra es vertical u horizontal y si la dirección de la palabra es normal o inversa. \n",
    "\n",
    "La función **get_params()** no tiene argumentos de entrada y debe devolver las siguientes variables buleanas:\n",
    "\n",
    "- **is_horizontal** es una variable de tipo BOOL que indica si la palabra va a ser horizontal o vertical\n",
    "- **is_reverse**: es una variable de tipo BOOL que indica si la palabra va a colocarse en dirección normal o invertida"
   ]
  },
  {
   "cell_type": "markdown",
   "metadata": {},
   "source": [
    "### Solución:"
   ]
  },
  {
   "cell_type": "code",
   "execution_count": 4,
   "metadata": {},
   "outputs": [],
   "source": [
    "def get_params():\n",
    "    is_horizontal = random.choice([True, False])\n",
    "    is_reverse = random.choice([True, False])\n",
    "    return is_horizontal, is_reverse"
   ]
  },
  {
   "cell_type": "code",
   "execution_count": 5,
   "metadata": {},
   "outputs": [
    {
     "data": {
      "text/plain": [
       "(True, False)"
      ]
     },
     "execution_count": 5,
     "metadata": {},
     "output_type": "execute_result"
    }
   ],
   "source": [
    "get_params()"
   ]
  },
  {
   "cell_type": "markdown",
   "metadata": {},
   "source": [
    "## Obtener máximo índice de inicio\n",
    "\n",
    "A la hora de colocar las palabras en el tablero de la sopa de letras, tenemos que saber qué posiciones podemos utilizar. Por ejemplo, si tenemos un tablero de longitud 5x5, y queremos introducir una palabra de longitud 3, podríamos colocar la palabra empezando en las posiciones 0, 1 y 2. Si intentáramos colocar una palabra de longitud 3 empezando en la posición 3, no tendríamos casillas suficientes (recordad que no contemplamos posiciones diagonales). \n",
    "\n",
    "En este apartado vamos a implementar la función **get_indexes(word, board_size, horizontal, reverse)** para calcular los indices en filas y columnas que podemos usar para colocar una palabra. La función recibe como parámetros:\n",
    "\n",
    "- **word** con la palabra que queremos introducir en la sopa de letras en formato STRING\n",
    "- **board_size** con el tamaño de la sopa de letras\n",
    "- **horizontal** con un valor buleano indicando si la palabra se escribe en horizontal o vertical\n",
    "- **reverse** con un valor buleano indicando si la palabra se escribe en el sentido normal (de izquierda a derecha o de arriba hacia abajo) o invertida (de derecha a izquierda o de abajo hacia arriba)\n",
    "\n",
    "La función debe devolver dos listas de índices aptos: una para las filas y otra para las columnas. Supongamos, por ejemplo, que tenemos que colocar la palabra \"custom\" en un tablero de 10x10. A continuación se muestran los índices en filas y columnas que se podrían utilizar dependiendo de la dirección y el sentido de escritura en el tablero:"
   ]
  },
  {
   "cell_type": "code",
   "execution_count": 7,
   "metadata": {},
   "outputs": [
    {
     "data": {
      "text/plain": [
       "([0, 1, 2, 3, 4, 5, 6, 7, 8, 9], [0, 1, 2, 3, 4])"
      ]
     },
     "execution_count": 7,
     "metadata": {},
     "output_type": "execute_result"
    }
   ],
   "source": [
    "get_indexes('custom', 10,horizontal=True, reverse=False)"
   ]
  },
  {
   "cell_type": "code",
   "execution_count": 8,
   "metadata": {},
   "outputs": [
    {
     "data": {
      "text/plain": [
       "([0, 1, 2, 3, 4, 5, 6, 7, 8, 9], [5, 6, 7, 8, 9])"
      ]
     },
     "execution_count": 8,
     "metadata": {},
     "output_type": "execute_result"
    }
   ],
   "source": [
    "get_indexes('custom', 10,horizontal=True, reverse=True)"
   ]
  },
  {
   "cell_type": "code",
   "execution_count": 9,
   "metadata": {},
   "outputs": [
    {
     "data": {
      "text/plain": [
       "([0, 1, 2, 3, 4], [0, 1, 2, 3, 4, 5, 6, 7, 8, 9])"
      ]
     },
     "execution_count": 9,
     "metadata": {},
     "output_type": "execute_result"
    }
   ],
   "source": [
    "get_indexes('custom', 10,horizontal=False, reverse=False)"
   ]
  },
  {
   "cell_type": "code",
   "execution_count": 10,
   "metadata": {},
   "outputs": [
    {
     "data": {
      "text/plain": [
       "([5, 6, 7, 8, 9], [0, 1, 2, 3, 4, 5, 6, 7, 8, 9])"
      ]
     },
     "execution_count": 10,
     "metadata": {},
     "output_type": "execute_result"
    }
   ],
   "source": [
    "get_indexes('custom', 10,horizontal=False, reverse=True)"
   ]
  },
  {
   "cell_type": "markdown",
   "metadata": {},
   "source": [
    ":::{note}\n",
    "Notar que cuando la palabra se escribe en horizontal, cualquier fila es apta, mientras que cuando la palabra se escribe en vertical, cualquier columna es apta.\n",
    ":::"
   ]
  },
  {
   "cell_type": "markdown",
   "metadata": {},
   "source": [
    "### Solución:"
   ]
  },
  {
   "cell_type": "code",
   "execution_count": 6,
   "metadata": {},
   "outputs": [],
   "source": [
    "def get_indexes(word, board_size, horizontal, reverse):\n",
    "    if horizontal and not reverse:\n",
    "        return list(range(0,board_size)),list(range(0,board_size - len(word)+1))\n",
    "    elif horizontal and reverse:\n",
    "        return list(range(0,board_size)),list(range(len(word)-1, board_size))\n",
    "    elif not horizontal and not reverse:\n",
    "        return list(range(0,board_size - len(word)+1)),list(range(0,board_size))\n",
    "    elif not horizontal and reverse:\n",
    "        return list(range(len(word)-1, board_size)),list(range(0,board_size))"
   ]
  },
  {
   "cell_type": "markdown",
   "metadata": {},
   "source": [
    "## Posición que ocupa una palabra en la sopa\n",
    "\n",
    "En este apartado vamos a definir la función **get_word_positions(start_index_rows, start_index_columns, is_horizontal, is_reverse, word)** que devuelve una lista con las posiciones que ocupa una palabra en la sopa. La función recibe los siguientes parámetros:\n",
    "\n",
    "- **start_index_rows** es un número INT con el índice de la fila donde se empieza a escribir la palabra\n",
    "- **start_index_columns** es un número INT con el ínice de la columna donde se empieza a escribir la palabra\n",
    "- **is_horizontal** variable BOOL que indica si la palabra se escribe en horizontal o vertical\n",
    "- **is_reverse**: variable BOOL que indica si la palabra se escribe en sentido normal (de izquierda a derecha o de arriba hacia abajo) o invertida (de derecha a izquierda o de abajo hacia arriba)\n",
    "- **word** es una variable STRING que contiene la palabra que queremos escribir\n",
    "\n",
    "La función debe devolver una lista con las posiciones que ocupa la palabra en la sopa de letras. Cada posicion es una tupla que contiene el índice de la fila y el índice de la columna. Por lo tanto, habrá tantas posiciones como letras de la palabra. En el caso de que la palabra esté en sentido inverso, las posiciones irán en sentido inverso.\n",
    "\n",
    "Para entender mejor el funcionamiento de la función, veamos los siguientes ejemplos. Si intentamos escribir la palabra \"hello\" a partir de la posición (2,0) en dirección horizontal y sentido de izquierda a derecha, la lista de coordenadas será la siguiente:"
   ]
  },
  {
   "cell_type": "code",
   "execution_count": 12,
   "metadata": {},
   "outputs": [
    {
     "data": {
      "text/plain": [
       "[(2, 0), (2, 1), (2, 2), (2, 3), (2, 4)]"
      ]
     },
     "execution_count": 12,
     "metadata": {},
     "output_type": "execute_result"
    }
   ],
   "source": [
    "get_word_positions(start_index_rows = 2, start_index_columns = 0,  is_horizontal = True, is_reverse = False, word = \"hello\")"
   ]
  },
  {
   "cell_type": "markdown",
   "metadata": {},
   "source": [
    "El mismo ejemplo pero escribiendo en vertical y de arriba hacia abajo:"
   ]
  },
  {
   "cell_type": "code",
   "execution_count": 13,
   "metadata": {},
   "outputs": [
    {
     "data": {
      "text/plain": [
       "[(2, 0), (3, 0), (4, 0), (5, 0), (6, 0)]"
      ]
     },
     "execution_count": 13,
     "metadata": {},
     "output_type": "execute_result"
    }
   ],
   "source": [
    "get_word_positions(start_index_rows = 2, start_index_columns = 0,  is_horizontal = False, is_reverse = False, word = \"hello\")"
   ]
  },
  {
   "cell_type": "markdown",
   "metadata": {},
   "source": [
    "Escribiendo en horizontal pero de derecha a izquierda:"
   ]
  },
  {
   "cell_type": "code",
   "execution_count": 14,
   "metadata": {},
   "outputs": [
    {
     "data": {
      "text/plain": [
       "[(7, 10), (7, 9), (7, 8), (7, 7), (7, 6)]"
      ]
     },
     "execution_count": 14,
     "metadata": {},
     "output_type": "execute_result"
    }
   ],
   "source": [
    "get_word_positions(start_index_rows = 7, start_index_columns = 10,  is_horizontal = True, is_reverse = True, word = \"hello\")"
   ]
  },
  {
   "cell_type": "markdown",
   "metadata": {},
   "source": [
    "Y escribiendo en vertical pero de abajo hacia arriba:"
   ]
  },
  {
   "cell_type": "code",
   "execution_count": 15,
   "metadata": {},
   "outputs": [
    {
     "data": {
      "text/plain": [
       "[(7, 10), (6, 10), (5, 10), (4, 10), (3, 10)]"
      ]
     },
     "execution_count": 15,
     "metadata": {},
     "output_type": "execute_result"
    }
   ],
   "source": [
    "get_word_positions(start_index_rows = 7, start_index_columns = 10, is_horizontal = False, is_reverse = True, word = \"hello\")"
   ]
  },
  {
   "cell_type": "markdown",
   "metadata": {},
   "source": [
    "### Solución:"
   ]
  },
  {
   "cell_type": "code",
   "execution_count": 16,
   "metadata": {},
   "outputs": [],
   "source": [
    "def get_word_positions(start_index_rows, start_index_columns, is_horizontal, is_reverse, word):\n",
    "    positions = []\n",
    "    \n",
    "    if is_horizontal:\n",
    "        start_index = start_index_columns\n",
    "        if is_reverse==False:\n",
    "            end_index = start_index_columns + len(word) - 1\n",
    "            step=1\n",
    "        else:\n",
    "            end_index = start_index_columns - len(word) - 1\n",
    "            step=-1\n",
    "        for i in range(start_index, end_index + 1,step):\n",
    "            positions.append((start_index_rows,i))\n",
    "    else:\n",
    "        start_index = start_index_rows\n",
    "        if is_reverse==False:\n",
    "            end_index = start_index_rows + len(word) - 1\n",
    "            step=1\n",
    "        else:\n",
    "            end_index = start_index_rows - len(word) - 1\n",
    "            step=-1            \n",
    "        for i in range(start_index, end_index + 1, step):\n",
    "            positions.append((i, start_index_columns))\n",
    "        \n",
    "    return positions"
   ]
  },
  {
   "cell_type": "markdown",
   "metadata": {},
   "source": [
    "## Validar posición\n",
    "\n",
    "Como hemos explicado, la simplificación de nuestro generador de sopas de letras no permite que haya solapamiento de palabras. Por ello, necesitamos construir una función que verifique si las posiciónes que ocupará una palabra están ya siendo utilizadas por alguna otra palabra.\n",
    "\n",
    "La función se llama **is_valid_position(word_positions, used_positions)** y devuelve **True** si la posición es válida y **False** en caso contrario. Una palabra se considera válida si todas las posiciones que ocupa están disponibles. La función recibe como argumentos de entrada:\n",
    "\n",
    "- **word_positions** que contiene una lista de tuplas (fila, columna) que representan las posiciones de la palabra que estamos intentado colocar en el tablero\n",
    "- **used_positions** que contiene una lista de tuplas (fila, columna) que representan las posiciones ya ocupadas"
   ]
  },
  {
   "cell_type": "markdown",
   "metadata": {},
   "source": [
    "### Solución:"
   ]
  },
  {
   "cell_type": "code",
   "execution_count": 17,
   "metadata": {},
   "outputs": [],
   "source": [
    "def is_valid_position(word_positions, used_positions):\n",
    "    for position in word_positions:\n",
    "        if position in used_positions:\n",
    "            return False\n",
    "    return True"
   ]
  },
  {
   "cell_type": "markdown",
   "metadata": {},
   "source": [
    "## Creación de la sopa de letras\n",
    "\n",
    "En este apartado vamos a implementar, por fin, nuestro generador. La función **create_soup(words, board_size)** recibe como argumentos de entrada:\n",
    "\n",
    "- **words** es una variable que contiene una lista con las palabras que queremos colocar en la sopa de letras\n",
    "- **board_size** es una variable de tipo INT con el tamaño de la sopa de letras. Como sólo estamos considerando tableros cuadrados, la variable **board_size** sólo indicará el número de filas o el número de columnas\n",
    "\n",
    "La lógica de la función es la siguiente:\n",
    "\n",
    "\n",
    "        \n",
    "1. Rellenamos la sopa de letras con letras aleatorias  \n",
    "2. Para cada palabra que vamos a colocar en la sopa de letras hacemos lo siguiente:  \n",
    "   2.1. Obtenemos los parámetros de la palabra que indican si es horizontal o vertical y si es inversa o no   \n",
    "   2.2. Obtenemos los rangos de índices válidos para las filas y las columnas  \n",
    "   2.3. Obtenemos una posición aleatoria de entre los índices válidos para las filas  \n",
    "   2.4. Obtenemos una posición aleatoria de entre los índices válidos para las columnas  \n",
    "   2.5. Obtenemos las posiciones de la palabra  \n",
    "   2.6. Comprobamos si las posiciones de la palabra se solapan con alguna palabra ya colocada anteriormente. Si hay solapamiento, volvemos al paso 2.1  \n",
    "   2.7. Si las posiciones de la palabra son válidas, añadimos la palabra al diccionario **dict_word_position** cuyas claves son las palabras de la sopa de letras y los valores las posiciones que ocupa cada palabra  \n",
    "   2.8. Añadimos las posiciones a una lista **used_positions** para llevar la cuenta de las posiciones ocupadas  \n",
    "   2.9. Añadimos letra por letra la palabra a la sopa de letras  \n",
    "\n",
    "La función devuelve:\n",
    "\n",
    "- **soup** con una lista de listas de letras que contiene la información de la sopa de letras\n",
    "- **dict_word_position** con un diccionario que contiene las palabras de la sopa de letras y sus posiciones"
   ]
  },
  {
   "cell_type": "markdown",
   "metadata": {},
   "source": [
    "### Solución"
   ]
  },
  {
   "cell_type": "code",
   "execution_count": 18,
   "metadata": {},
   "outputs": [],
   "source": [
    "def create_soup(words, board_size):\n",
    "    letras = ['a', 'b', 'c', 'd', 'e', 'f', 'g', 'h', 'i', 'j', 'k', 'l', 'm', 'n', 'o', 'p', 'q', 'r', 's', 't', 'u', 'v', 'w', 'x', 'y', 'z']\n",
    "    soup = fill_soup_random(letras, board_size)\n",
    "    used_positions = []\n",
    "    dict_word_position = {}\n",
    "    for word in words:\n",
    "        valid = False\n",
    "        while not valid:\n",
    "            is_horizontal, is_reverse = get_params()\n",
    "            row_indexes,col_indexes=get_indexes(word, board_size,is_horizontal, is_reverse)\n",
    "            start_index_rows = random.sample(row_indexes,1)[0]\n",
    "            start_index_columns = random.sample(col_indexes,1)[0]\n",
    "            word_positions = get_word_positions(start_index_rows, start_index_columns, is_horizontal, is_reverse, word)\n",
    "            valid = is_valid_position(word_positions, used_positions)\n",
    "      \n",
    "        dict_word_position[word] = word_positions\n",
    "        for i in range(len(word)):\n",
    "            used_positions.append(word_positions[i])\n",
    "            soup[word_positions[i][0]][word_positions[i][1]] = word[i]\n",
    "    \n",
    "    return soup, dict_word_position"
   ]
  },
  {
   "cell_type": "markdown",
   "metadata": {},
   "source": [
    "Aunque esta no será el interfaz de juego, conviene testear el comportamiento de la función **create_soup** de manera aislada:"
   ]
  },
  {
   "cell_type": "code",
   "execution_count": 19,
   "metadata": {},
   "outputs": [],
   "source": [
    "soup, dict_word_position = create_soup(words=[\"custom\",\"white\",\"glass\",\"computer\"], board_size=10)"
   ]
  },
  {
   "cell_type": "code",
   "execution_count": 20,
   "metadata": {},
   "outputs": [
    {
     "data": {
      "text/plain": [
       "[['h', 'd', 'f', 'i', 'i', 'z', 'c', 'g', 'c', 'i'],\n",
       " ['j', 'h', 'y', 'l', 'v', 'f', 'f', 'x', 'h', 's'],\n",
       " ['y', 's', 'o', 'a', 't', 's', 'q', 'p', 'w', 'c'],\n",
       " ['m', 's', 'p', 't', 'z', 'd', 'y', 'u', 'w', 'f'],\n",
       " ['j', 'a', 'c', 'u', 's', 't', 'o', 'm', 'p', 'q'],\n",
       " ['q', 'l', 'f', 'l', 'j', 't', 'i', 'g', 'o', 't'],\n",
       " ['j', 'g', 'e', 't', 'i', 'h', 'w', 't', 't', 'r'],\n",
       " ['k', 'd', 'o', 'd', 's', 'a', 'p', 'l', 'b', 'a'],\n",
       " ['r', 'e', 't', 'u', 'p', 'm', 'o', 'c', 'q', 'n'],\n",
       " ['j', 'l', 'v', 'b', 'y', 'u', 'p', 'c', 'q', 'y']]"
      ]
     },
     "execution_count": 20,
     "metadata": {},
     "output_type": "execute_result"
    }
   ],
   "source": [
    "soup"
   ]
  },
  {
   "cell_type": "code",
   "execution_count": 21,
   "metadata": {},
   "outputs": [
    {
     "data": {
      "text/plain": [
       "{'custom': [(4, 2), (4, 3), (4, 4), (4, 5), (4, 6), (4, 7)],\n",
       " 'white': [(6, 6), (6, 5), (6, 4), (6, 3), (6, 2)],\n",
       " 'glass': [(6, 1), (5, 1), (4, 1), (3, 1), (2, 1)],\n",
       " 'computer': [(8, 7), (8, 6), (8, 5), (8, 4), (8, 3), (8, 2), (8, 1), (8, 0)]}"
      ]
     },
     "execution_count": 21,
     "metadata": {},
     "output_type": "execute_result"
    }
   ],
   "source": [
    "dict_word_position"
   ]
  },
  {
   "cell_type": "markdown",
   "metadata": {},
   "source": [
    "Puedes revisar una a una cada palabra y sus posiciones para verificar que la función hace lo deseado. Tampoco sería mala idea probar la función con un tamaño de tablero más pequeño para ver cómo se comporta cuando el número de posiciones es insuficiente. O probar el mismmo ejemplo con un número de palabras muy elevado para ver qué ocurre cuando el tablero no puede encontrar una posición válida para una palabra..."
   ]
  },
  {
   "cell_type": "markdown",
   "metadata": {},
   "source": [
    ":::{note}\n",
    "Es importante tener presente que el mecanismo que hemos implementado no es perfecto. Si queremos colocar muchas palabras en un tablero relativamente pequeño puede ocurrir que las limitaciones impuestas por las simplificaciones y que la forma de elección aleatoria de posiciones haga que la función **create_soup** necesite un tiempo arbitrariamente grande o incluso que se quede bloqueado porque no llega a encontrar una posición válida. \n",
    "La resolución de esta limitación se propone en el último apartado de este capítulo como mejora a implementar.\n",
    ":::"
   ]
  },
  {
   "cell_type": "markdown",
   "metadata": {},
   "source": [
    "## Interfaz Gráfico\n",
    "\n",
    "Una vez que tenemos la sopa de letras, tenemos que ofrecer al usuario la posiblidad de jugarla. En otros capítulos de este libros hemos implementado la posibilidad de introducir manualmente las coordenadas, pero en un caso como este sería demasiado tedioso. Por eso vamos a construir un interfaz gráfico en el que iremos seleccionando con el ratón las letras que forman parte de una palabra.\n",
    "\n",
    "Un ejemplo muy sencillo se muestra a continuación utilizando la librería **PySimpleGUI**. Empezamos creando una sopa de letras de 10x10 y colocando cuatro palabras."
   ]
  },
  {
   "cell_type": "code",
   "execution_count": 22,
   "metadata": {},
   "outputs": [],
   "source": [
    "words=[\"custom\",\"white\",\"glass\",\"computer\"]\n",
    "soup, dict_word_position = create_soup(words, board_size=10)"
   ]
  },
  {
   "cell_type": "markdown",
   "metadata": {},
   "source": [
    "Este código genera un tablero con las letras de la sopa de letras y permite ir pinchando en las casillas con el ratón. Tras cada pulsación del ratón, el color de la casilla cambia de blanco a negro. Al mismo tiempo, la posición de la casilla se devuelve en la variable **event**. Para clarificar su funcionamiento hemos incluido un:\n",
    "\n",
    ":::{code}\n",
    "print(event)\n",
    ":::\n",
    "\n",
    "Esta instrucción te permite comprobar cómo al pulsar en cada una de las letras, el código devuelve la posición de la celda pulsada."
   ]
  },
  {
   "cell_type": "code",
   "execution_count": null,
   "metadata": {},
   "outputs": [],
   "source": [
    "import PySimpleGUI as sg\n",
    "import time\n",
    "\n",
    "original_color = ('white',\"#2d3a59\")\n",
    "selected_color = ('white','black')\n",
    "\n",
    "layout =  [[sg.Button(soup[i][j], size=(4, 2), key=(i,j), pad=(0,0)) for j in range(len(soup[0]))] for i in range(len(soup))]\n",
    "\n",
    "layout.append([sg.Button('Exit', size=(4*4, 2), pad=(10,10), button_color=original_color)])\n",
    "\n",
    "layout.append([sg.Text('Words: ', size=(10, 2), pad=(0,10)), sg.Text(\",\".join(words), size=(4*len(soup)*2, 2), pad=(0,10), key='-WORDS-')])\n",
    "\n",
    "window = sg.Window('WORD SEARCH!', layout, element_justification='c')\n",
    "\n",
    "while True:\n",
    "    event, _ = window.read()\n",
    "    print(event)\n",
    "    if event in (sg.WIN_CLOSED, 'Exit'):\n",
    "        break\n",
    "    window[event].update(soup[event[0]][event[1]], button_color=('white','black'))\n",
    "window.close()"
   ]
  },
  {
   "cell_type": "markdown",
   "metadata": {},
   "source": [
    "Vamos a intentar explicar un poco el código anterior. La variable **layout** contine una lista de lista de elementos **sg.Button** con la misma distribución que la variable **soup**. Si no lo ves claro, puedes intentar ejecutar, en una celda nueva, el comando:\n",
    "\n",
    ":::{code}\n",
    "layout =  [[sg.Button(soup[i][j], size=(4, 2), key=(i,j), pad=(0,0)) for j in range(len(soup[0]))] for i in range(len(soup))]\n",
    "print(layout)\n",
    ":::"
   ]
  },
  {
   "cell_type": "markdown",
   "metadata": {},
   "source": [
    "Además de la propia sopa de letras, nuestro interfaz incluye un botón de salida que al ser pulsado enviará el evento **EXIT**, eso se consigue con el código:\n",
    "\n",
    ":::{code}\n",
    "layout.append([sg.Button('Exit', size=(4*4, 2), pad=(10,10), button_color=original_color)])\n",
    ":::\n",
    "\n",
    "El interfaz también incluye un texto en la parte inferior de la ventana con la lista de palabras que hay que buscar en la sopa de letras. Eso se consigue con el código:\n",
    "\n",
    ":::{code}\n",
    "layout.append([sg.Text('Words: ', size=(10, 2), pad=(0,10)), sg.Text(\",\".join(words), size=(4*len(soup)*2, 2), pad=(0,10), key='-WORDS-')])\n",
    ":::"
   ]
  },
  {
   "cell_type": "markdown",
   "metadata": {},
   "source": [
    "::::{admonition} Note\n",
    "Nota que el código:\n",
    "\n",
    ":::{code}\n",
    "while True:\n",
    "    event, _ = window.read()\n",
    "    if event in (sg.WIN_CLOSED, 'Exit'):\n",
    "        break\n",
    "    window[event].update(soup[event[0]][event[1]], button_color=('white','black'))\n",
    "window.close()\n",
    ":::\n",
    "\n",
    "Se limita a entrar en un bucle infinito hasta que se pulse el botón de EXIT o bien se cierre la ventana (generándose el evento sg.WIN_CLOSED) que permiten salir del **while**.\n",
    "::::"
   ]
  },
  {
   "cell_type": "markdown",
   "metadata": {},
   "source": [
    "Tenemos que utilizar este código como punto de partida y adaptarlo a nuestro caso. Necesitaremos ir registrando todas las celdas que se vayan pulsando y almacenando la posición devuelta por la variable **event**. En función de las coordenadas pulsadas, tendremos que programar la inteligencia que permita detectar si con esas posiciones hemos localizado o no una palabra de las colocadas en la sopa de letras."
   ]
  },
  {
   "cell_type": "markdown",
   "metadata": {},
   "source": [
    "## Obtener todas las palabras detectadas\n",
    "\n",
    "Como el programa principal irá almacenando las coordenadas de las celdas pulsadas por el jugador, la detección de cuantas palabras han sido descubiertas se realizará comparando esas posiciones con las coordenadas almacenadas en el diccionario **dict_word_position**. Esa tarea la vamos a implementar en la función **detect_words(dict_word_position,coordinates)** que recibe como argumentos de entrada:\n",
    "\n",
    "- **dict_word_position** con el diccionario de las palabras escondidas y sus coordenadas\n",
    "- **coordinates** con una lista tuplas que continen las coordenadas de las celdas pulsadas por el jugador\n",
    "\n",
    "La función debe devolver la lista de palabras que todavía no se han encontrado."
   ]
  },
  {
   "cell_type": "markdown",
   "metadata": {},
   "source": [
    "### Solución:"
   ]
  },
  {
   "cell_type": "code",
   "execution_count": 24,
   "metadata": {},
   "outputs": [],
   "source": [
    "def detect_words(dict_word_position,coordinates):\n",
    "    pending=[]\n",
    "    for word,positions in dict_word_position.items():\n",
    "        found=[]\n",
    "        for letter in positions:\n",
    "            if letter in coordinates:\n",
    "                found.append(1)\n",
    "        if sum(found)!=len(word):\n",
    "            pending.append(word)\n",
    "    return pending"
   ]
  },
  {
   "cell_type": "markdown",
   "metadata": {},
   "source": [
    ":::{note}\n",
    "Esta función puede implementarse de diferentes formas. Nosotros hemos decidido ir verificando si las posiciones de las letras de cada palabra escondida han sido pulsadas por el jugador. Por cada posición pulsada, vamos a almacenar un 1 en la variable **found**. Una vez recorridas todas las posiciones de las letras de una misma palabra, chequeamos si la suma de esos 1's coincide con la longitud de la palabra. El incumplimiento de esta condición significaría que hay alguna letra de esa palabra que todavía no ha sido pulsada, por lo que tendremos que añadir la variable **word** a la lista de palabras pendientes.         \n",
    ":::           "
   ]
  },
  {
   "cell_type": "markdown",
   "metadata": {},
   "source": [
    "Por ejemplo, vamos a partir de este diccionario:"
   ]
  },
  {
   "cell_type": "code",
   "execution_count": 25,
   "metadata": {},
   "outputs": [
    {
     "data": {
      "text/plain": [
       "{'custom': [(6, 0), (6, 1), (6, 2), (6, 3), (6, 4), (6, 5)],\n",
       " 'white': [(9, 5), (9, 6), (9, 7), (9, 8), (9, 9)],\n",
       " 'glass': [(3, 8), (4, 8), (5, 8), (6, 8), (7, 8)],\n",
       " 'computer': [(8, 8), (8, 7), (8, 6), (8, 5), (8, 4), (8, 3), (8, 2), (8, 1)]}"
      ]
     },
     "execution_count": 25,
     "metadata": {},
     "output_type": "execute_result"
    }
   ],
   "source": [
    "dict_word_position"
   ]
  },
  {
   "cell_type": "markdown",
   "metadata": {},
   "source": [
    "Si invocamos a la función **detect_words(dict_word_position,coordinates)** con una lista de posiciones aleatorias que no coincide con ninguna de las palabras, la función **detect_words** debería devolver todas las palabras:"
   ]
  },
  {
   "cell_type": "code",
   "execution_count": 26,
   "metadata": {},
   "outputs": [
    {
     "data": {
      "text/plain": [
       "['custom', 'white', 'glass', 'computer']"
      ]
     },
     "execution_count": 26,
     "metadata": {},
     "output_type": "execute_result"
    }
   ],
   "source": [
    "detect_words(dict_word_position,[(0,0),(1,0),(1,1),(4,5),(7,2)])"
   ]
  },
  {
   "cell_type": "markdown",
   "metadata": {},
   "source": [
    "Si por el contrario invocamos a la función con las posiciones de las palabras *white* y *glass*, la función **detect_words** debería devolver sólo las palabras *custom* y *computer*:"
   ]
  },
  {
   "cell_type": "code",
   "execution_count": 27,
   "metadata": {},
   "outputs": [
    {
     "data": {
      "text/plain": [
       "['custom', 'white', 'glass', 'computer']"
      ]
     },
     "execution_count": 27,
     "metadata": {},
     "output_type": "execute_result"
    }
   ],
   "source": [
    "detect_words(dict_word_position,[(3, 4), (3, 3), (3, 2), (3, 1), (3, 0),(0, 4), (0, 5), (0, 6), (0, 7), (0, 8)])"
   ]
  },
  {
   "cell_type": "markdown",
   "metadata": {},
   "source": [
    "## Creación de la UI\n",
    "\n",
    "Ahora es el momento de crear la interfaz gráfica de la sopa de letras. Para ello usaremos la librería **PySimpleGUI** que sirve para hacer interfaces gráficas sencillas. El objetivo es generar un interfaz similar a este con el tablero de letras, un texto que nos indique las palabras que hay que buscar y un botón para terminar la partida:\n",
    "\n",
    "```{image} img/game.png\n",
    ":alt: game\n",
    ":class: bg-primary mb-1\n",
    ":width: 450px\n",
    ":align: center\n",
    "```\n",
    "\n",
    "La función **word_soup(soup, dict_word_position)** recibirá dos argumentos de entrada:\n",
    "\n",
    "* **soup** con la lista que contiene las letras y las palabras de la sopa de letras\n",
    "* **dict_word_position** con el diccionario que contiene las palabras escondidas y las posiciones de sus letras\n",
    "\n",
    "La función debe realizar las siguientes tareas, pero no es necesario que devuelva ningún valor:\n",
    "\n",
    "* Almacenar las coordenadas de las celdas pulsadas\n",
    "* Cambiar su color de blanco a negro\n",
    "* Si el juegado pulsa una celda ya pulsada, el código no debe hacer nada, es decir, ni se vuelve a almacenar su posición ni se devuelve su color de negro a blanco\n",
    "* Con cada pulsación del jugador, la función debe verificar las coordenadas almacenadas y compararlas con las posiciones de las palabras escondidas para detectar qué palabras han sido localizadas\n",
    "* Cada vez que el jugador localice una palabra, dicha palabra se eliminará de la lista que se muestra en la parte inferior del interfaz gráfico\n",
    "\n",
    "\n",
    "::::{note}\n",
    "Puedes instalar la librería **PySimpleGUI** con el comando: \n",
    ":::{code}\n",
    "pip install pysimplegui\n",
    ":::\n",
    "::::\n",
    "\n",
    "::::{seealso}\n",
    "Puedes encontrar más información sobre esta librería [aquí](https://pysimplegui.readthedocs.io/en/latest/cookbook/).\n",
    "::::"
   ]
  },
  {
   "cell_type": "markdown",
   "metadata": {},
   "source": [
    "### Solución:"
   ]
  },
  {
   "cell_type": "code",
   "execution_count": 28,
   "metadata": {},
   "outputs": [],
   "source": [
    "import PySimpleGUI as sg\n",
    "import time\n",
    "\n",
    "\n",
    "def word_soup(soup, dict_word_position):\n",
    "\n",
    "    original_color = ('white',\"#2d3a59\")\n",
    "    selected_color = ('white','black')\n",
    "    \n",
    "    selected = []\n",
    "    pending_words = detect_words(dict_word_position,selected)\n",
    "\n",
    "    layout =  [[sg.Button(soup[i][j], size=(4, 2), key=(i,j), pad=(0,0)) for j in range(len(soup[0]))] for i in range(len(soup))]\n",
    "\n",
    "    layout.append([sg.Button('Exit', size=(4*4, 2), pad=(10,10), button_color=original_color)])\n",
    "\n",
    "    layout.append([sg.Text('Words: ', size=(10, 2), pad=(0,10)), sg.Text(\",\".join(pending_words), size=(4*len(soup)*2, 2), pad=(0,10), key='WORDS')])\n",
    "\n",
    "    window = sg.Window('WORD SEARCH!', layout, element_justification='c')\n",
    "\n",
    "    start = time.time()\n",
    "\n",
    "    \n",
    "    while len(pending_words)!=0: \n",
    "        \n",
    "        event, values = window.read()\n",
    "        if event in (sg.WIN_CLOSED, 'Exit'):\n",
    "            # If the windows is closed or if the button Exist is pushed\n",
    "            break\n",
    "        \n",
    "        else: \n",
    "            if event in selected: \n",
    "                # If the user pushed a cell that was already pushed before\n",
    "                pass\n",
    "            else: \n",
    "                selected.append(event)\n",
    "                window[event].update(button_color=selected_color)\n",
    "                pending_words = detect_words(dict_word_position,selected)\n",
    "                window['WORDS'].update(\",\".join(pending_words))\n",
    "\n",
    "                \n",
    "    end = time.time()\n",
    "    elapsed = end - start\n",
    "    sg.Popup('Enhorabuena! Has terminado en {} segundos!'.format(round(elapsed,2)), keep_on_top=True)             \n",
    "    window.close()"
   ]
  },
  {
   "cell_type": "markdown",
   "metadata": {},
   "source": [
    "Podemos hacer una prueba generando un tablero pequeño de 6x6 y colocando 3 palabras fáciles de localizar:"
   ]
  },
  {
   "cell_type": "code",
   "execution_count": 29,
   "metadata": {},
   "outputs": [],
   "source": [
    "words=[\"custom\",\"white\",\"glass\"]\n",
    "soup, dict_word_position = create_soup(words, board_size=6)\n",
    "word_soup(soup, dict_word_position)"
   ]
  },
  {
   "cell_type": "markdown",
   "metadata": {},
   "source": [
    "Al encontrar las tres palabras el código debería mostrar un popup informando del tiempo que hemos dedicado."
   ]
  },
  {
   "cell_type": "markdown",
   "metadata": {},
   "source": [
    "```{image} img/gui.png\n",
    ":alt: gui\n",
    ":class: bg-primary mb-1\n",
    ":width: 450px\n",
    ":align: center\n",
    "```"
   ]
  },
  {
   "cell_type": "markdown",
   "metadata": {},
   "source": [
    "## Extensiones del Juego\n",
    "\n",
    "Este sencillo juego se puede mejorar mucho. Para empezar, hemos simplificado mucho el generador de sopas de letras limitándonos exclusviamente a palabras verticales y horizontales. Y respecto al interfaz, hemos utilizado un template muy básico. Estas son algunas ideas que puedes animarte a implementar:\n",
    "\n",
    "* Mejorar el sistema de posicionamiento de palabras para que la función **create_soup** no corra el riesgo de quedarse colgada en caso de no encontrar una posición para una palabra\n",
    "* Implementar la selección aleatoria de N palabras para la sopa de letras. En el repositorio de este libro adjuntamos un fichero **words.txt** con las palabras del diccionario español\n",
    "* Añadir la posibilidad de deshacer el pulsado de algunas celdas volviendo a pulsar en ellas\n",
    "* Utilizar colores diferentes para resaltar las celdas de palabras diferentes\n",
    "* Diseñar una sopa de letras que permita el solapamiento de palabras\n",
    "* Diseñar una sopa de letras que permita palabras en diagonal\n",
    "* Añadir un botón de reset que permita reinicializar el tablero con las mismas y otras palabras\n",
    "* Mejorar el aspecto del interfaz gráfico para que parezca más profesional"
   ]
  }
 ],
 "metadata": {
  "kernelspec": {
   "display_name": "Python 3.9 [BOOK]",
   "language": "python",
   "name": "python_book"
  },
  "language_info": {
   "codemirror_mode": {
    "name": "ipython",
    "version": 3
   },
   "file_extension": ".py",
   "mimetype": "text/x-python",
   "name": "python",
   "nbconvert_exporter": "python",
   "pygments_lexer": "ipython3",
   "version": "3.9.12"
  },
  "vscode": {
   "interpreter": {
    "hash": "d652f12e86d4907f3226fd0eca720165fd18d0c760b9e442a689f9a4e2e2c276"
   }
  }
 },
 "nbformat": 4,
 "nbformat_minor": 2
}
