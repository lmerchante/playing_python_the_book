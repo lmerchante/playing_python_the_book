{
 "cells": [
  {
   "cell_type": "markdown",
   "metadata": {},
   "source": [
    "# Solucionador de sudokus"
   ]
  },
  {
   "cell_type": "markdown",
   "metadata": {},
   "source": [
    "```{image} img/portada.png\n",
    ":alt: portada\n",
    ":class: bg-primary mb-1\n",
    ":width: 350px\n",
    ":align: center\n",
    "```"
   ]
  },
  {
   "cell_type": "markdown",
   "metadata": {},
   "source": [
    "Este capítulo, más que desarrollar un código jugable, te proponemos la resolución de un problema matemático planteado como un juego. En concreto, el universalmente conocido sudoku. Si no has jugado nunca, seguro que has oído hablar de él. Las reglas son muy sencillas:\n",
    "\n",
    "* El objetivo del sudoku es rellenar una cuadrícula de 9 × 9 celdas dividida en subcuadrículas de 3 × 3\n",
    "* Hay que colocar las cifras del 1 al 9 en las celdas vacias partiendo de algunos números ya dispuestos en la cuadrícula\n",
    "* Las cifras no se pueden repetir en una misma fila, columna o subcuadrícula\n",
    "\n",
    "Como siempre, os planteamos una solución sencilla y os animamos a mejorar nuestra implementación al final del capítulo."
   ]
  },
  {
   "cell_type": "markdown",
   "metadata": {},
   "source": [
    ":::{seealso}\n",
    "Puedes encontrar más información sobre los orígnes y las variantes del sudoku [aquí](https://en.wikipedia.org/wiki/Sudoku).\n",
    "Aunque la mejor forma de entender el juego, es jugando!. Una rápida búsqueda en Goolge devuelve múltiples páginas para jugar online como [sudoku.com](https://sudoku.com/)\n",
    ":::"
   ]
  },
  {
   "cell_type": "markdown",
   "metadata": {},
   "source": [
    "## Construir el tablero\n",
    "\n",
    "Vamos a comenzar implementando una función **print_board(board)** que recibe como único argumento el tablero del sudoku planteado y lo saca por pantalla. Los valores con los que vamos a jugar se le pasaran en una variable **board** que contiene una lista de listas como la siguiente:\n",
    "\n",
    ":::{code}\n",
    "board = [[7,8,0,4,0,0,1,2,0],\n",
    "    [6,0,0,0,7,5,0,0,9],\n",
    "    [0,0,0,6,0,1,0,7,8],\n",
    "    [0,0,7,0,4,0,2,6,0],\n",
    "    [0,0,1,0,5,0,9,3,0],\n",
    "    [9,0,4,0,6,0,0,0,5],\n",
    "    [0,7,0,3,0,0,0,1,2],\n",
    "    [1,2,0,0,0,7,4,0,0],\n",
    "    [0,4,9,2,0,6,0,0,7]]\n",
    ":::\n",
    "\n",
    "En el ejemplo anterior, los ceros indican las casillas vacías que tenemos que rellenar. La función **print_board(board)** no devuelve ningun valor, sólamente saca por pantalla los valores del sudoku utilizando el caracter **?** para indicar una casilla libre.\n",
    "\n",
    "A modo de ejemplo vamos a invocar a la función con el tablero propuesto:"
   ]
  },
  {
   "cell_type": "code",
   "execution_count": 13,
   "metadata": {},
   "outputs": [
    {
     "name": "stdout",
     "output_type": "stream",
     "text": [
      "7 8 ? | 4 ? ? | 1 2 ?\n",
      "6 ? ? | ? 7 5 | ? ? 9\n",
      "? ? ? | 6 ? 1 | ? 7 8\n",
      "- - - - - - - - - - -\n",
      "? ? 7 | ? 4 ? | 2 6 ?\n",
      "? ? 1 | ? 5 ? | 9 3 ?\n",
      "9 ? 4 | ? 6 ? | ? ? 5\n",
      "- - - - - - - - - - -\n",
      "? 7 ? | 3 ? ? | ? 1 2\n",
      "1 2 ? | ? ? 7 | 4 ? ?\n",
      "? 4 9 | 2 ? 6 | ? ? 7\n"
     ]
    }
   ],
   "source": [
    "print_board(board)"
   ]
  },
  {
   "cell_type": "markdown",
   "metadata": {},
   "source": [
    "### Solución:"
   ]
  },
  {
   "cell_type": "code",
   "execution_count": 1,
   "metadata": {},
   "outputs": [],
   "source": [
    "def print_board(board):\n",
    "    for i in range(len(board)):\n",
    "        if i % 3 == 0 and i != 0:\n",
    "            print(\"- - - - - - - - - - -\")\n",
    "\n",
    "        for j in range(len(board[0])):\n",
    "            value=str(board[i][j])\n",
    "            if value==\"0\":\n",
    "                value=\"?\"\n",
    "            if j % 3 == 0 and j != 0:\n",
    "                print(\"| \", end=\"\")\n",
    "            if j == 8:\n",
    "                print(value)\n",
    "            else:\n",
    "                print(value + \" \", end=\"\")"
   ]
  },
  {
   "cell_type": "markdown",
   "metadata": {},
   "source": [
    "::::{note} \n",
    "La implementación de esta función utiliza un esquema clásico de bucles anidados para recorre la cuadrícula por filas (bucle **for** sobre la variable **i**) y por columnas (bucle **for** sobre la variable **j**). El chequeo de los índices **i** y **j** permite detectar cuando hay que generar una línea discontínua o cuando hay que aliminar el salto de línea del comando **print**.\n",
    "\n",
    "Este tipo de solución es muy habitual cuando tenemos que trabajar con listas anidadas.\n",
    "::::"
   ]
  },
  {
   "cell_type": "markdown",
   "metadata": {},
   "source": [
    "## Detectar casillas vacías\n",
    "\n",
    "El siguiente paso es crear una función **find_empty(board)** que recibe la misma variable **board** que la función **print_board**. Esta variable es una lista de listas que contiene los valores del sudoku y los huecos. La función **find_empty(board)** debe devolver las coordenadas (i,j) del primer hueco que encuentre. El orden para recorrer el tablero será, de nuevo, recorrer todas las columnas para cada fila. En caso de que el código revise todo el tablero sin encontrar ningún hueco, la función devolverá **None**."
   ]
  },
  {
   "cell_type": "markdown",
   "metadata": {},
   "source": [
    "### Solución:"
   ]
  },
  {
   "cell_type": "code",
   "execution_count": 2,
   "metadata": {},
   "outputs": [],
   "source": [
    "def find_empty(board):\n",
    "    for i in range(len(board)):\n",
    "        for j in range(len(board[0])):\n",
    "            if board[i][j] == 0:\n",
    "                return (i, j)  # row, col\n",
    "\n",
    "    return None"
   ]
  },
  {
   "cell_type": "markdown",
   "metadata": {},
   "source": [
    "Vamos a probar que funciona correctamente pasándole el tablero anterior. La función debería devolver las coordenadas (0,2) correspondientes con la primera fila y la tercera columna (recuerda que en python los índices empiezan en 0)."
   ]
  },
  {
   "cell_type": "code",
   "execution_count": 3,
   "metadata": {},
   "outputs": [
    {
     "name": "stdout",
     "output_type": "stream",
     "text": [
      "(0, 2)\n"
     ]
    }
   ],
   "source": [
    "board = [[7,8,0,4,0,0,1,2,0],\n",
    "    [6,0,0,0,7,5,0,0,9],\n",
    "    [0,0,0,6,0,1,0,7,8],\n",
    "    [0,0,7,0,4,0,2,6,0],\n",
    "    [0,0,1,0,5,0,9,3,0],\n",
    "    [9,0,4,0,6,0,0,0,5],\n",
    "    [0,7,0,3,0,0,0,1,2],\n",
    "    [1,2,0,0,0,7,4,0,0],\n",
    "    [0,4,9,2,0,6,0,0,7]]\n",
    "\n",
    "out=find_empty(board)\n",
    "print(out)"
   ]
  },
  {
   "cell_type": "markdown",
   "metadata": {},
   "source": [
    "Y si probamos su ejecución con el tablero resuleto, la función debería devolver **None**."
   ]
  },
  {
   "cell_type": "code",
   "execution_count": 4,
   "metadata": {},
   "outputs": [
    {
     "name": "stdout",
     "output_type": "stream",
     "text": [
      "None\n"
     ]
    }
   ],
   "source": [
    "board = [[7, 8, 5, 4, 3, 9, 1, 2, 6],\n",
    "         [6, 1, 2, 8, 7, 5, 3, 4, 9],\n",
    "         [4, 9, 3, 6, 2, 1, 5, 7, 8],\n",
    "         [8, 5, 7, 9, 4, 3, 2, 6, 1],\n",
    "         [2, 6, 1, 7, 5, 8, 9, 3, 4],\n",
    "         [9, 3, 4, 1, 6, 2, 7, 8, 5],\n",
    "         [5, 7, 8, 3, 9, 4, 6, 1, 2],\n",
    "         [1, 2, 6, 5, 8, 7, 4, 9, 3],\n",
    "         [3, 4, 9, 2, 1, 6, 8, 5, 7]]\n",
    "\n",
    "out=find_empty(board)\n",
    "print(out)"
   ]
  },
  {
   "cell_type": "markdown",
   "metadata": {},
   "source": [
    "## Validación de candidatos\n",
    "\n",
    "La función más importante de nuestro código es la función que chequea si un número candidato para una determinada posición vacía cumple las reglas del sudoku. Para ello vamos a implementar la función **valid(board, num, pos)** que recibe los siguientes argumentos:\n",
    "\n",
    "* **board** con la lista de listas que representa los valores del tablero del sudoku\n",
    "* **num** numero entero candidato\n",
    "* **pos** tupla con las coordinedas de la posición que pretendemos ocupar con **num**\n",
    "\n",
    "Recuerda que para que para validar un número en una celda de nuestro sudoku, este número debe aparecer una sóla vez en la fila y en la columna en la que se está intentando insertar. Además, el tablero de sudoku está divido en subcuadrículas de 3x3 en las que el número también debe ser único.\n",
    "\n",
    "Por ejemplo, si partimos de este tablero:"
   ]
  },
  {
   "cell_type": "code",
   "execution_count": 6,
   "metadata": {},
   "outputs": [],
   "source": [
    "board = [[7,8,0,4,0,0,1,2,0],\n",
    "        [6,0,0,0,7,5,0,0,9],\n",
    "        [0,0,0,6,0,1,0,7,8],\n",
    "        [0,0,7,0,4,0,2,6,0],\n",
    "        [0,0,1,0,5,0,9,3,0],\n",
    "        [9,0,4,0,6,0,0,0,5],\n",
    "        [0,7,0,3,0,0,0,1,2],\n",
    "        [1,2,0,0,0,7,4,0,0],\n",
    "        [0,4,9,2,0,6,0,0,7]]"
   ]
  },
  {
   "cell_type": "markdown",
   "metadata": {},
   "source": [
    "Colocar un 8 en la fila 1, columna 3 debería fallar por reptir el valor 8 dentro de la misma fila:"
   ]
  },
  {
   "cell_type": "code",
   "execution_count": 7,
   "metadata": {},
   "outputs": [
    {
     "data": {
      "text/plain": [
       "False"
      ]
     },
     "execution_count": 7,
     "metadata": {},
     "output_type": "execute_result"
    }
   ],
   "source": [
    "valid(board,8,(0,2))"
   ]
  },
  {
   "cell_type": "markdown",
   "metadata": {},
   "source": [
    "Colocar un 6 en la fila 3, columna 0 debería fallar por reptir el valor 6 dentro de la misma columna:"
   ]
  },
  {
   "cell_type": "code",
   "execution_count": 8,
   "metadata": {},
   "outputs": [
    {
     "data": {
      "text/plain": [
       "False"
      ]
     },
     "execution_count": 8,
     "metadata": {},
     "output_type": "execute_result"
    }
   ],
   "source": [
    "valid(board,6,(2,0))"
   ]
  },
  {
   "cell_type": "markdown",
   "metadata": {},
   "source": [
    "Colocar un 6 en la fila 3, columna 3 debería fallar por reptir el valor 6 dentro de la misma cuadrícula:"
   ]
  },
  {
   "cell_type": "code",
   "execution_count": 9,
   "metadata": {},
   "outputs": [
    {
     "data": {
      "text/plain": [
       "False"
      ]
     },
     "execution_count": 9,
     "metadata": {},
     "output_type": "execute_result"
    }
   ],
   "source": [
    "valid(board,6,(2,2))"
   ]
  },
  {
   "cell_type": "markdown",
   "metadata": {},
   "source": [
    "Sin embargo, colocar un 3 en esa misma posición (2,2) no debería alterar ninguna de las normas del sudoku:"
   ]
  },
  {
   "cell_type": "code",
   "execution_count": 10,
   "metadata": {},
   "outputs": [
    {
     "data": {
      "text/plain": [
       "True"
      ]
     },
     "execution_count": 10,
     "metadata": {},
     "output_type": "execute_result"
    }
   ],
   "source": [
    "valid(board,3,(2,2))"
   ]
  },
  {
   "cell_type": "markdown",
   "metadata": {},
   "source": [
    "### Solución:"
   ]
  },
  {
   "cell_type": "code",
   "execution_count": 11,
   "metadata": {},
   "outputs": [],
   "source": [
    "def valid(board, num, pos):\n",
    "    # Check row\n",
    "    for i in range(len(board[0])):\n",
    "        if board[pos[0]][i] == num:\n",
    "            return False\n",
    "\n",
    "    # Check column\n",
    "    for i in range(len(board)):\n",
    "        if board[i][pos[1]] == num:\n",
    "            return False\n",
    "\n",
    "    # Check box\n",
    "    box_x = pos[1] // 3\n",
    "    box_y = pos[0] // 3\n",
    "\n",
    "    for i in range(box_y*3, box_y*3 + 3):\n",
    "        for j in range(box_x * 3, box_x*3 + 3):\n",
    "            if board[i][j] == num:\n",
    "                return False\n",
    "\n",
    "    return True"
   ]
  },
  {
   "cell_type": "markdown",
   "metadata": {},
   "source": [
    "## Implementa el solucionador\n",
    "\n",
    "A estas alturas ya disponemos de todas las piezas necesarias para resolver el sudoku. Sólo nos queda convinarlas adecuadamente para ir dando valores a las casillas vacías sin violar las reglas del juego. Para ello, vamos a construir una función **solver(board)** que va a recibir la variable con la lista de listas que contiene los valores del sudoku. La función devolverá **True** si el sudoku se ha resuelto o **False** en caso de que queden casillas por resolver.\n",
    "\n",
    "El razonamiento es el siguiente:\n",
    "\n",
    "1. Encontrar la primera posición vacia del sudoku\n",
    "2. Usar la función **valid** para comprobar si un número es aceptado en una posición determinada\n",
    "3. Usar esta información para cambiar los valores de cada una de las casillas vacias"
   ]
  },
  {
   "cell_type": "markdown",
   "metadata": {},
   "source": [
    "::::{tip} Tip\n",
    "Usar recurrencia ayuda mucho para solucionar este problema\n",
    "::::"
   ]
  },
  {
   "cell_type": "markdown",
   "metadata": {},
   "source": [
    "::::{warning}\n",
    "Recuerda que cuando una lista ser pasa como argumento de una función y esa misma lista se modifica en el interior de la función, la lista original también se modifica. Por ejemplo:\n",
    "\n",
    ":::{code}\n",
    "def changeList(x):\n",
    "    x[0]=\"a\"\n",
    "    \n",
    "collection = [1,2,3]\n",
    "print(collection)\n",
    ":::\n",
    "[1, 2, 3]\n",
    ":::{code}\n",
    "changeList(collection)\n",
    "print(collection)\n",
    ":::\n",
    "['a', 2, 3]\n",
    "::::"
   ]
  },
  {
   "cell_type": "markdown",
   "metadata": {},
   "source": [
    "### Solución:"
   ]
  },
  {
   "cell_type": "code",
   "execution_count": 12,
   "metadata": {},
   "outputs": [],
   "source": [
    "def solve(board):\n",
    "    empty = find_empty(board)\n",
    "    if not empty: \n",
    "        return True\n",
    "    else: \n",
    "        row, col = empty\n",
    "\n",
    "    for i in range(1,len(board)+1):\n",
    "        if valid(board, i, (row, col)):\n",
    "            board[row][col] = i\n",
    "\n",
    "            if solve(board):\n",
    "                return True\n",
    "            else:\n",
    "                board[row][col] = 0\n",
    "\n",
    "    return False"
   ]
  },
  {
   "cell_type": "markdown",
   "metadata": {},
   "source": [
    "Como siempre hacemos, te recomendamos que pruebes su funcionamiento para asegurate. de que la función hace lo que le pedimos. Vamos a partir del tablero con huecos:"
   ]
  },
  {
   "cell_type": "code",
   "execution_count": 13,
   "metadata": {},
   "outputs": [],
   "source": [
    "board = [[7,8,0,4,0,0,1,2,0],\n",
    "    [6,0,0,0,7,5,0,0,9],\n",
    "    [0,0,0,6,0,1,0,7,8],\n",
    "    [0,0,7,0,4,0,2,6,0],\n",
    "    [0,0,1,0,5,0,9,3,0],\n",
    "    [9,0,4,0,6,0,0,0,5],\n",
    "    [0,7,0,3,0,0,0,1,2],\n",
    "    [1,2,0,0,0,7,4,0,0],\n",
    "    [0,4,9,2,0,6,0,0,7]]"
   ]
  },
  {
   "cell_type": "code",
   "execution_count": 14,
   "metadata": {},
   "outputs": [
    {
     "name": "stdout",
     "output_type": "stream",
     "text": [
      "7 8 ? | 4 ? ? | 1 2 ?\n",
      "6 ? ? | ? 7 5 | ? ? 9\n",
      "? ? ? | 6 ? 1 | ? 7 8\n",
      "- - - - - - - - - - -\n",
      "? ? 7 | ? 4 ? | 2 6 ?\n",
      "? ? 1 | ? 5 ? | 9 3 ?\n",
      "9 ? 4 | ? 6 ? | ? ? 5\n",
      "- - - - - - - - - - -\n",
      "? 7 ? | 3 ? ? | ? 1 2\n",
      "1 2 ? | ? ? 7 | 4 ? ?\n",
      "? 4 9 | 2 ? 6 | ? ? 7\n"
     ]
    }
   ],
   "source": [
    "print_board(board)"
   ]
  },
  {
   "cell_type": "markdown",
   "metadata": {},
   "source": [
    "Ahora vamos a invocar a la función solucionadora. Nota que la función solucionadora sólo devuelve una variable booleana, el tablero se actualiza en la misma variable que le pasas como argumento."
   ]
  },
  {
   "cell_type": "code",
   "execution_count": 15,
   "metadata": {
    "scrolled": true
   },
   "outputs": [
    {
     "data": {
      "text/plain": [
       "True"
      ]
     },
     "execution_count": 15,
     "metadata": {},
     "output_type": "execute_result"
    }
   ],
   "source": [
    "solve(board)"
   ]
  },
  {
   "cell_type": "code",
   "execution_count": 16,
   "metadata": {},
   "outputs": [
    {
     "name": "stdout",
     "output_type": "stream",
     "text": [
      "7 8 5 | 4 3 9 | 1 2 6\n",
      "6 1 2 | 8 7 5 | 3 4 9\n",
      "4 9 3 | 6 2 1 | 5 7 8\n",
      "- - - - - - - - - - -\n",
      "8 5 7 | 9 4 3 | 2 6 1\n",
      "2 6 1 | 7 5 8 | 9 3 4\n",
      "9 3 4 | 1 6 2 | 7 8 5\n",
      "- - - - - - - - - - -\n",
      "5 7 8 | 3 9 4 | 6 1 2\n",
      "1 2 6 | 5 8 7 | 4 9 3\n",
      "3 4 9 | 2 1 6 | 8 5 7\n"
     ]
    }
   ],
   "source": [
    "print_board(board)"
   ]
  },
  {
   "cell_type": "markdown",
   "metadata": {},
   "source": [
    "## Extensiones del Juego\n",
    "\n",
    "Después de lo visto en este capítulo, seguro que se te ocurren muchas ideas para mejorar el funcionamiento y la jugabilidad. Algunas sujerencias son:\n",
    "\n",
    "* Utiliza la librería **numpy** para reemplazar el uso de lista de listas\n",
    "* Puedes intentar optimizar el código evitando que la función **solver** pruebe todos los números entre el 0 y el 9. Es decir, si estamos buscando un candidato para la posición (i,j), podemos ver qué numeros se han usado en la fila **i** y en la columna **j** para evitar tener que probarlos, ya que su uso violaría las normas del sudoku. Esta mejora no está justificada por motivos de *performance* porque la computación de nuestro código es muy sencilla, pero es un buen ejercicio de habilidad programadora\n",
    "* Échale un vistazo a diferentes variabtes del sudoko [aquí](https://en.wikipedia.org/wiki/Sudoku#Variants). Algunas con números y otras con letras, e intenta implementar la que más te motive."
   ]
  }
 ],
 "metadata": {
  "interpreter": {
   "hash": "d652f12e86d4907f3226fd0eca720165fd18d0c760b9e442a689f9a4e2e2c276"
  },
  "kernelspec": {
   "display_name": "Python 3.9 [BOOK]",
   "language": "python",
   "name": "python_book"
  },
  "language_info": {
   "codemirror_mode": {
    "name": "ipython",
    "version": 3
   },
   "file_extension": ".py",
   "mimetype": "text/x-python",
   "name": "python",
   "nbconvert_exporter": "python",
   "pygments_lexer": "ipython3",
   "version": "3.9.12"
  }
 },
 "nbformat": 4,
 "nbformat_minor": 2
}
