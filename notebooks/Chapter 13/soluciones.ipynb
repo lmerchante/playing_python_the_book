{
 "cells": [
  {
   "cell_type": "markdown",
   "metadata": {},
   "source": [
    "# Go Fish!"
   ]
  },
  {
   "cell_type": "markdown",
   "metadata": {},
   "source": [
    "```{image} img/portada.png\n",
    ":alt: portada\n",
    ":class: bg-primary mb-1\n",
    ":width: 450px\n",
    ":align: center\n",
    "```"
   ]
  },
  {
   "cell_type": "markdown",
   "metadata": {},
   "source": [
    "En este capítulos implementamos un juego de cartas conocido como **Go Fish!**. En el Go Fish pueden participar entre 2 y 6 jugadores. Normalmente se utiliza una baraja francesa a la que se le han retirado los comodines.\n",
    "\n",
    "Las reglas son sencillas:\n",
    "\n",
    "* Se mezcla la baraja\n",
    "* Cada jugador recibe 5 cartas\n",
    "* Se elige aleatoriamente quién empieza\n",
    "* En el turno del jugador 1 pregunta al jugador 2:\n",
    "        \n",
    "        \"Tienes algún 3?\" (el 3 es un ejemplo puede ser cualquier carta)\n",
    "\n",
    "  El jugador 2 tendrá que darle todas las cartas que tenga con ese número. Si acertó, el jugador 1 puede seguir pidiendo cartas hasta que el jugador 2 no disponga de esa carta. En ese momento, el jugador 2 dirá:\n",
    "\n",
    "        \"Vete a pescar!\"\n",
    "\n",
    "  En ese momento, el jugador 1 tendrá que coger la primera carta de la baraja\n",
    "  \n",
    "* Si el jugador 1 coge precisamente una carta del valor que había solicitado, le vuelve a tocar y puede volver a pedir cartas al siguiente jugador (o de nuevo al jugador 2 si no hay nadie más)\n",
    "* Si el jugador 1 pesca una carta diferente, su turno se ha terminado y pasa al siguiente jugador\n",
    "* Cada vez que un jugador consigue los 4 palos de un número, las dejará en la mesa y sumará un punto a su contador\n",
    "* Si un jugador se queda sin cartas, coge 5 cartas de la baraja\n",
    "* Cuando la baraja se queda sin cartas, el juego continua hasta que todos los jugadores se hayan quedado sin cartas\n",
    "* El jugador que tenga más puntos gana"
   ]
  },
  {
   "cell_type": "markdown",
   "metadata": {},
   "source": [
    "```{seealso}\n",
    "Puedes encontrar más información sobre este juego en su página de [Wikipedia](https://en.wikipedia.org/wiki/Go_Fish)\n",
    "```"
   ]
  },
  {
   "cell_type": "markdown",
   "metadata": {},
   "source": [
    "Para implementar el juego, vamos a simular la baraja como una lista de tuplas:\n",
    "\n",
    "```{code}\n",
    "deck=[(suit, value),(suit, value),(suit, value),(suit, value),....]\n",
    "```\n",
    "\n",
    "En la que los palos son variables tipo STRING que pueden tomar los valores:  \n",
    "\n",
    "* **hearts**\n",
    "* **diamonds**\n",
    "* **spades**\n",
    "* **clubs**\n",
    "\n",
    "Y el valor de los naipes se encuentra entre el 1 y el 13 donde el 11 se corresponde con la Jota (J), el 12 con la Reina (Q) y el 13 con el rey (K)."
   ]
  },
  {
   "cell_type": "markdown",
   "metadata": {},
   "source": [
    "```{tip}\n",
    "Vamos a proponer la implementación de una serie de funciones que pueden ayudarte a codificar el juego. Dependiendo de como construyas el programa principal puede que no necesites utilizarlas todas, pero es un buen ejercicio de cara a implementar mejoras o incluso programar cualquier otro juego de cartas. \n",
    "```"
   ]
  },
  {
   "cell_type": "markdown",
   "metadata": {},
   "source": [
    "## Genera una baraja completa\n",
    "\n",
    "Vamos a empezar creando una función **create_deck(values, suits)** que reciba como parámetros: \n",
    "\n",
    "* **values** es una variable de tipo LIST con los valores admitidos\n",
    "* **suits** es una variable de tipo LIST con los palos de cartas\n",
    "\n",
    "La función debe devolver una lista de tuplas con las 52 cartas de la baraja francesa (todas las combinaciones)"
   ]
  },
  {
   "cell_type": "markdown",
   "metadata": {},
   "source": [
    "### Solución:"
   ]
  },
  {
   "cell_type": "code",
   "execution_count": 34,
   "metadata": {},
   "outputs": [],
   "source": [
    "def create_deck(values, suits):\n",
    "    out = []\n",
    "    for v in values:\n",
    "        for s in suits:\n",
    "            out.append((s,v))\n",
    "    return out"
   ]
  },
  {
   "cell_type": "code",
   "execution_count": 2,
   "metadata": {},
   "outputs": [
    {
     "data": {
      "text/plain": [
       "[('hearts', 1), ('diamonds', 1), ('clubs', 1), ('spades', 1), ('hearts', 2)]"
      ]
     },
     "execution_count": 2,
     "metadata": {},
     "output_type": "execute_result"
    }
   ],
   "source": [
    "values = [1,2,3,4,5,6,7,8,9,10,11,12,13]\n",
    "suits=['hearts','diamonds','clubs','spades']\n",
    "deck = create_deck(values, suits)\n",
    "deck[0:5]"
   ]
  },
  {
   "cell_type": "markdown",
   "metadata": {},
   "source": [
    "::::{note}\n",
    "Podemos utilizar esta función para generar una baraja española de 40 cartas sin más que modificar las variables con las que la invocamos.\n",
    "\n",
    ":::{code}\n",
    "values = [1,2,3,4,5,6,7,10,11,12]\n",
    "suits=['oros','espadas','copas','bastos']\n",
    "deck = create_deck(values, suits)\n",
    ":::             \n",
    "::::"
   ]
  },
  {
   "cell_type": "markdown",
   "metadata": {},
   "source": [
    "## Ordenar la baraja\n",
    "\n",
    "En algunas ocasiones puede resultar de utilidad disponer de una función que nos permita ordenar la baraja o la mano de un jugador. Vamos a crear una función **sort_deck(tuples)** que toma como argumento la variable **tuples** que es una lista de tuplas (de cualquier longitud). La variable **tuples** puede contener la baraja completa o un subconjunto de cartas que ha sido repartida a un jugador.\n",
    "\n",
    "Dentro de un mismo palo el orden lo establecerá el valor de las cartas. Y entre los distintos palos, el orden será el alfabético. En el caso de la baraja francesa:\n",
    "\n",
    "1. **clubs**\n",
    "2. **diamonds**\n",
    "3. **hearts**\n",
    "4. **spades**"
   ]
  },
  {
   "cell_type": "markdown",
   "metadata": {},
   "source": [
    "### Solución:"
   ]
  },
  {
   "cell_type": "code",
   "execution_count": 35,
   "metadata": {},
   "outputs": [],
   "source": [
    "def sort_deck(tuples):\n",
    "    return sorted(tuples, key=lambda tup: (tup[0],tup[1])) "
   ]
  },
  {
   "cell_type": "code",
   "execution_count": 2,
   "metadata": {},
   "outputs": [
    {
     "data": {
      "text/plain": [
       "[('clubs', 5),\n",
       " ('clubs', 8),\n",
       " ('diamonds', 3),\n",
       " ('diamonds', 7),\n",
       " ('hearts', 3),\n",
       " ('spades', 1)]"
      ]
     },
     "execution_count": 2,
     "metadata": {},
     "output_type": "execute_result"
    }
   ],
   "source": [
    "sort_deck([(\"spades\",1),(\"clubs\",8),(\"clubs\",5),(\"hearts\",3),\n",
    "               (\"diamonds\",3),(\"diamonds\",7)])"
   ]
  },
  {
   "cell_type": "markdown",
   "metadata": {},
   "source": [
    "::::{note}\n",
    "La función **sorted** tiene una sintaxis muy versatil. Puede invocarse sobre una colección numérica y aplicar un criterio de ordenación de menor a mayor o sobre cualquier otro tipo de colecciones y definir un criterio de ordenación personalizado a través de una función lambda. En este caso estamos ordenando en primer lugar por el primer elemento de la tupla (el palo) y después por el segundo elemento de la tupla (el valor de la carta).\n",
    "::::\n",
    "\n",
    "::::{seealso}\n",
    "Puedes encontrar más información sobre la función **sorted** [aquí](https://docs.python.org/3/howto/sorting.html) y sobre las funciones **lambda** [aquí](https://docs.python.org/3/reference/expressions.html#lambda).\n",
    "::::"
   ]
  },
  {
   "cell_type": "markdown",
   "metadata": {},
   "source": [
    "## Traduce las figuras\n",
    "\n",
    "De cara a que nuestro juego sea lo más real posible, vamos a cambiar el valor de las tuplas correspondientes a las figuras de la baraja francesa por la inicial de la figura. \n",
    "\n",
    "Para ello vamos a programar la función **get_figures(card)** que recibe una tupla del tipo:\n",
    "\n",
    "::::{code}\n",
    "(\"hearts\",11) \n",
    "::::\n",
    "\n",
    "y devuelve otra tupla como la siguiente:\n",
    "\n",
    "::::{code}\n",
    "(\"hearts\",\"J\") \n",
    "::::"
   ]
  },
  {
   "cell_type": "markdown",
   "metadata": {},
   "source": [
    "### Solución:"
   ]
  },
  {
   "cell_type": "code",
   "execution_count": 36,
   "metadata": {},
   "outputs": [],
   "source": [
    "def get_figures(card):\n",
    "    if card[1] == 11:\n",
    "        out = (card[0], 'J')\n",
    "    elif card[1] == 12:\n",
    "        out = (card[0], 'Q')\n",
    "    elif card[1] == 13:\n",
    "        out = (card[0], 'K')\n",
    "    else:\n",
    "        out = (card[0], card[1])\n",
    "    return out"
   ]
  },
  {
   "cell_type": "markdown",
   "metadata": {},
   "source": [
    "Puedes comprobar que funciona correctamente pasándole una tupla para cada figura:"
   ]
  },
  {
   "cell_type": "code",
   "execution_count": 4,
   "metadata": {},
   "outputs": [
    {
     "name": "stdout",
     "output_type": "stream",
     "text": [
      "('hearts', 'J')\n"
     ]
    }
   ],
   "source": [
    "print(get_figures((\"hearts\",11)))"
   ]
  },
  {
   "cell_type": "code",
   "execution_count": 5,
   "metadata": {},
   "outputs": [
    {
     "name": "stdout",
     "output_type": "stream",
     "text": [
      "('hearts', 'Q')\n"
     ]
    }
   ],
   "source": [
    "print(get_figures((\"hearts\",12)))"
   ]
  },
  {
   "cell_type": "code",
   "execution_count": 6,
   "metadata": {},
   "outputs": [
    {
     "name": "stdout",
     "output_type": "stream",
     "text": [
      "('hearts', 'K')\n"
     ]
    }
   ],
   "source": [
    "print(get_figures((\"hearts\",13)))"
   ]
  },
  {
   "cell_type": "markdown",
   "metadata": {},
   "source": [
    "## Imprime la mano\n",
    "\n",
    "Siempre resulta de ayuda que el programa lleve la cuenta de las cartas que tiene cada jugador y que se las muestren por pantalla. De esta manera, los jugadores sólo tienen que preocuparse de tomar la decisión del valor de la carta que quieren solicitar al resto. Para ello vamos a programar la función **print_hand(hand)**. El argumento **hand** es una variable de tipo LIST que contiene una lista de tuplas con la mano del jugador.\n",
    "\n",
    "Para hacerlo menos textual, vamos a intentar conseguir la siguiente salida:"
   ]
  },
  {
   "cell_type": "code",
   "execution_count": 8,
   "metadata": {},
   "outputs": [
    {
     "name": "stdout",
     "output_type": "stream",
     "text": [
      "1♠ 8♣ K♣ 3♥ \n"
     ]
    }
   ],
   "source": [
    "print_hand([(\"spades\",1),(\"clubs\",8),(\"clubs\",13),(\"hearts\",3)])"
   ]
  },
  {
   "cell_type": "markdown",
   "metadata": {},
   "source": [
    "::::{tip}\n",
    "Para conseguir el icono del palo, puedes utilizar este diccionario:\n",
    ":::{code}\n",
    "suits={\"hearts\":\"♥\",\"diamonds\":\"♦\",\"clubs\":\"♣\",\"spades\":\"♠\"}\n",
    ":::\n",
    "::::"
   ]
  },
  {
   "cell_type": "markdown",
   "metadata": {},
   "source": [
    "### Solución:"
   ]
  },
  {
   "cell_type": "code",
   "execution_count": 37,
   "metadata": {},
   "outputs": [],
   "source": [
    "def print_hand(hand):\n",
    "    suits={\"hearts\":\"♥\",\"diamonds\":\"♦\",\"clubs\":\"♣\",\"spades\":\"♠\"}\n",
    "    for card in hand:\n",
    "        card=get_figures(card)\n",
    "        print(\"{}{}\".format(card[1],suits[card[0]]), end=\" \")\n",
    "    print()  "
   ]
  },
  {
   "cell_type": "markdown",
   "metadata": {},
   "source": [
    "## Mezclar baraja\n",
    "\n",
    "Una función clásica que requiere cualquier juego de cartas es el barajado. Vamos a implementar la función **shuffle_deck(tuples)** que recibe como único argumento la variable **tuples** que es una lista de tuplas de cartas y devuelve la misma lista pero aleatorizada.\n",
    "\n",
    "```{tip}\n",
    "En ocasiones perdemos mucho tiempo implementando funcionalidades que ya existen. Échale un vistazo a las funciones de la librería [random](https://docs.python.org/3/library/random.html) y en concreto a la función [shuffle](https://docs.python.org/3/library/random.html#random.shuffle)\n",
    "```"
   ]
  },
  {
   "cell_type": "markdown",
   "metadata": {},
   "source": [
    "### Solución:"
   ]
  },
  {
   "cell_type": "code",
   "execution_count": 38,
   "metadata": {},
   "outputs": [],
   "source": [
    "import random\n",
    "def shuffle_deck(tuples):\n",
    "    deck_shuffled=tuples.copy()\n",
    "    random.shuffle(deck_shuffled)\n",
    "    return deck_shuffled"
   ]
  },
  {
   "cell_type": "markdown",
   "metadata": {},
   "source": [
    "Para verificar su funcionamiento, es suficiente con pasar una versión reducida de una baraja de 5 cartas:"
   ]
  },
  {
   "cell_type": "code",
   "execution_count": 11,
   "metadata": {},
   "outputs": [
    {
     "data": {
      "text/plain": [
       "[('hearts', 2), ('hearts', 4), ('hearts', 5), ('hearts', 1), ('hearts', 3)]"
      ]
     },
     "execution_count": 11,
     "metadata": {},
     "output_type": "execute_result"
    }
   ],
   "source": [
    "shuffle_deck([('hearts', 1),('hearts', 2),('hearts', 3),('hearts', 4),('hearts', 5)])"
   ]
  },
  {
   "cell_type": "markdown",
   "metadata": {},
   "source": [
    "## Coger una carta\n",
    "\n",
    "Otra acción clásica es coger una carta de la baraja. Vamos a implementar la función **get_card(deck)**. El único argumento de esta función es la variable **deck** que contiene una lista de tuplas de cartas. La función devuelve:\n",
    "\n",
    "* **card** la carta cogida\n",
    "* **new_deck** la baraja sin esa carta\n",
    "\n",
    "Esta función devolverá siempre la primera carta del mazo."
   ]
  },
  {
   "cell_type": "markdown",
   "metadata": {},
   "source": [
    "### Solución:"
   ]
  },
  {
   "cell_type": "code",
   "execution_count": 39,
   "metadata": {},
   "outputs": [],
   "source": [
    "def get_card(deck):\n",
    "    card = deck[0]\n",
    "    new_deck = deck[1:]\n",
    "    return card, new_deck"
   ]
  },
  {
   "cell_type": "markdown",
   "metadata": {},
   "source": [
    "Podemos validar su funcionamiento con la misma baraja reducida que hemos empleado en el ejemplo anterior:"
   ]
  },
  {
   "cell_type": "code",
   "execution_count": 22,
   "metadata": {},
   "outputs": [
    {
     "name": "stdout",
     "output_type": "stream",
     "text": [
      "The card:  ('hearts', 1)\n",
      "The deck:  [('hearts', 2), ('hearts', 3), ('hearts', 4), ('hearts', 5)]\n"
     ]
    }
   ],
   "source": [
    "deck = [('hearts', 1),('hearts', 2),('hearts', 3),('hearts', 4),('hearts', 5)]\n",
    "card, new_deck = get_card(deck)\n",
    "print(\"The card: \", card)\n",
    "print(\"The deck: \", new_deck)"
   ]
  },
  {
   "cell_type": "markdown",
   "metadata": {},
   "source": [
    "Podemos comprobar como la función siempre coge la primera carta de la baraja y devuelve una lista con la baraja actualizada."
   ]
  },
  {
   "cell_type": "markdown",
   "metadata": {},
   "source": [
    "## Coger una carta aleatoria\n",
    "\n",
    "Esta acción es una versión aleatoria de la función anterior. Vamos a implementar la función **get_random_card(deck)** que recibe como argumento la variable **deck**, que representa una lista de tuplas de cartas y devuelve dos variables:\n",
    "\n",
    "* **card** la carta cogida\n",
    "* **new_deck** la baraja sin esa carta"
   ]
  },
  {
   "cell_type": "markdown",
   "metadata": {},
   "source": [
    "```{tip}\n",
    "Siempre que nos enfrentemos a alguna acción de tipo aleatorio, es importante tener presente la funciones de la librería  [random](https://docs.python.org/3/library/random.html)\n",
    "```"
   ]
  },
  {
   "cell_type": "markdown",
   "metadata": {},
   "source": [
    "### Solución:"
   ]
  },
  {
   "cell_type": "code",
   "execution_count": 40,
   "metadata": {},
   "outputs": [],
   "source": [
    "import random\n",
    "def get_random_card(deck):\n",
    "    new_deck = deck.copy()\n",
    "    card = random.sample(deck,1)[0]\n",
    "    new_deck.remove(card)\n",
    "    return card, new_deck"
   ]
  },
  {
   "cell_type": "markdown",
   "metadata": {},
   "source": [
    "De nuevo, puedes validar que has implementado la funcion correctamente con un código que simule una versión reducida de nuestro problema:"
   ]
  },
  {
   "cell_type": "code",
   "execution_count": 27,
   "metadata": {},
   "outputs": [
    {
     "name": "stdout",
     "output_type": "stream",
     "text": [
      "The card:  ('hearts', 2)\n",
      "The deck:  [('hearts', 1), ('hearts', 3), ('hearts', 4), ('hearts', 5)]\n"
     ]
    }
   ],
   "source": [
    "deck = [('hearts', 1),('hearts', 2),('hearts', 3),('hearts', 4),('hearts', 5)]\n",
    "card, new_deck = get_random_card(deck)\n",
    "print(\"The card: \", card)\n",
    "print(\"The deck: \",new_deck)"
   ]
  },
  {
   "cell_type": "markdown",
   "metadata": {},
   "source": [
    "Vemos que la función devuelve una carta aleatoria y devuelve la barja original, en el mismo orden, pero sin la carta seleccionada."
   ]
  },
  {
   "cell_type": "markdown",
   "metadata": {},
   "source": [
    "## Repartir cartas a los jugadores\n",
    "\n",
    "En la mayoría de juegos se reparte un número de cartas a cada jugador. Vamos a implementar la función **deal_hand(deck,number)** que recibe como parámetros:\n",
    "\n",
    "* **deck** que es una lista de tuplas que simula la baraja\n",
    "*  **number** que es una variable tipo INT que representa el número de cartas a repartir\n",
    "\n",
    "y devuelve:\n",
    "\n",
    "* **hand** que contiene la lista de tuplas con el reparto de cartas para un jugador\n",
    "* **new_deck** con la nueva baraja sin las cartas que se han entregado al jugador\n",
    "\n",
    "```{tip}\n",
    "Esta función es muy similar a las funciones **get_card(deck)** y **get_random_card(deck)** que devolvían la primera carta o una carta aleatoria de la baraja. De hecho, se podría implementar llamando a las funciones anteriores.\n",
    "```"
   ]
  },
  {
   "cell_type": "markdown",
   "metadata": {},
   "source": [
    "### Solución:"
   ]
  },
  {
   "cell_type": "code",
   "execution_count": 41,
   "metadata": {},
   "outputs": [],
   "source": [
    "import random \n",
    "\n",
    "def deal_hand(deck,number):\n",
    "    new_deck = deck.copy() \n",
    "    hand = random.sample(deck,number)\n",
    "    for card in hand:\n",
    "        new_deck.remove(card)\n",
    "    return hand, new_deck"
   ]
  },
  {
   "cell_type": "markdown",
   "metadata": {},
   "source": [
    "Validamos su funcionamiento:"
   ]
  },
  {
   "cell_type": "code",
   "execution_count": 36,
   "metadata": {},
   "outputs": [
    {
     "name": "stdout",
     "output_type": "stream",
     "text": [
      "Hand:  [('hearts', 1), ('clubs', 1)]\n",
      "Remaining cards:  [('diamonds', 1), ('spades', 1), ('hearts', 2)]\n"
     ]
    }
   ],
   "source": [
    "deck = [ ('hearts', 1), ('diamonds', 1), ('clubs', 1), ('spades', 1), ('hearts', 2)]\n",
    "hand, new_deck = deal_hand(deck,number=2)\n",
    "print(\"Hand: \",hand)\n",
    "print(\"Remaining cards: \",new_deck)"
   ]
  },
  {
   "cell_type": "markdown",
   "metadata": {},
   "source": [
    "Puedes comprobar que la función saca dos cartas aleatorias de la baraja y devuelve la lista de cartas original en el mismo orden pero sin las cartas elegidas."
   ]
  },
  {
   "cell_type": "markdown",
   "metadata": {},
   "source": [
    "## Valores del mismo palo\n",
    "\n",
    "Los jugadores de nuestro juego ganan puntos si consiguen todos los palos del mismo valor. Cuando se da esa circustancia,  el jugador se deshace de esas cartas y aumenta en un punto su contador. Vamos implementar esta funcionalidad con un método **same_suit(tuples)** que recibe como argumento una lista de tuplas de cartas **tuples** y devuelve dos variables de tipo LIST:\n",
    "\n",
    "* **all_suits** es una variable de tipo LIST que devuelve los valores de las cartas recibidas en la variable **tuples** siempre y cuando tengamos los cuatro palos del mismo valor\n",
    "* **remaining** es una variable de tipo LIST que devuelve las cartas que no cumplan la condición anterior. Es decir, que no contengan los cuatro palos del mismo valor\n",
    "\n",
    "Vamos a verlo más claro con un ejemplo:"
   ]
  },
  {
   "cell_type": "code",
   "execution_count": 30,
   "metadata": {},
   "outputs": [
    {
     "name": "stdout",
     "output_type": "stream",
     "text": [
      "Congrats!! You collected all cards with value 13. Score +1\n",
      "All suits:  [13]\n",
      "Remaining cards:  [('spades', 2), ('clubs', 2), ('clubs', 12)]\n"
     ]
    }
   ],
   "source": [
    "tuples = [ ('hearts', 13), ('diamonds', 13), ('clubs', 13), ('spades', 13), \n",
    "           ('spades', 2), ('clubs', 2), ('clubs', 12)]\n",
    "\n",
    "all_suits, remaining = same_suit(tuples)\n",
    "print(\"All suits: \",all_suits)\n",
    "print(\"Remaining cards: \",remaining)"
   ]
  },
  {
   "cell_type": "markdown",
   "metadata": {},
   "source": [
    "En el ejemplo anterior, la función **same_suit** detecta que tenemos el rey (13) de los cuatro palos, además de tres cartas extra que se devuelven en la variable **remaining**."
   ]
  },
  {
   "cell_type": "markdown",
   "metadata": {},
   "source": [
    "### Solución:"
   ]
  },
  {
   "cell_type": "code",
   "execution_count": 29,
   "metadata": {},
   "outputs": [],
   "source": [
    "def same_suit(tuples): \n",
    "    cards={}\n",
    "    for suit, value in tuples:\n",
    "        if value not in cards:\n",
    "            cards[value]=[(suit,value)]\n",
    "        else:\n",
    "            cards[value].append((suit,value))\n",
    "    \n",
    "    all_suits=[]\n",
    "    remaining=[]\n",
    "    for value, card_list in cards.items():\n",
    "        if len(card_list)==4:\n",
    "            all_suits.append(value)\n",
    "            print(\"Congrats!! You collected all cards with value {}. Score +1\".format(value))\n",
    "        else:\n",
    "            remaining = remaining + card_list\n",
    "    return all_suits,remaining"
   ]
  },
  {
   "cell_type": "markdown",
   "metadata": {},
   "source": [
    "::::{note}\n",
    "Esta función puede implementarse de muchas maneras. Nosotros hemos elegido calcular un diccionario **cards** en el que vamos almacenando todas las cartas que tenemos para cada uno de los valores que nos encontramos en la lista **tuples**. Así, para una lista como la siguiente:\n",
    "\n",
    ":::{code}\n",
    "tuples = [ ('hearts', 13), ('diamonds', 13), ('clubs', 13), ('spades', 13), \n",
    "           ('spades', 2), ('clubs', 2), ('clubs', 12)]\n",
    ":::\n",
    "\n",
    "Generamos el diccionario:\n",
    "\n",
    ":::{code}\n",
    "{13: [('hearts', 13), ('diamonds', 13), ('clubs', 13), ('spades', 13)],\n",
    "  2: [('spades', 2), ('clubs', 2)],\n",
    " 12: [('clubs', 12)]}\n",
    ":::\n",
    "\n",
    "La lista **all_suits** la constituyen aquellas claves del diccionario **cards** cuyo campo valor contiene cuatro elementos (que serán los cuatro palos) mientras que el resto de las cartas las enviamos a la variable **remaining**.\n",
    "::::                "
   ]
  },
  {
   "cell_type": "markdown",
   "metadata": {},
   "source": [
    "## Pedir carta al contrincante\n",
    "\n",
    "Una de las acciones de nuestro juego consiste en que un jugador le solicita a otro jugador todas las cartas que tenga en su mano de un determinado valor. Para simular este comportamiento vamos a implementar la función **ask_for_cards(hand, value)** que recibe como argumentos:\n",
    "\n",
    "* **hand** que es una lista de tuplas con las cartas del jugador\n",
    "* **values** que es el número de la carta que un jugador le pide al otro jugador\n",
    "\n",
    "y devuelve: \n",
    "\n",
    "* **found** las cartas del segundo jugador que tienen como valor el número indicado\n",
    "* **new_hand** la nueva colección de cartas del segundo jugador sin las cartas que ha cedido\n",
    "\n",
    "Vamos a verlo con un ejemplo. Tenemos una variable **hand** que contiene la mano del jugador 2. El jugador 1 le solicita todas las cartas que tengan el valor 2:"
   ]
  },
  {
   "cell_type": "code",
   "execution_count": 32,
   "metadata": {},
   "outputs": [
    {
     "name": "stdout",
     "output_type": "stream",
     "text": [
      "Found:  [('hearts', 2), ('diamonds', 2)]\n",
      "New hand:  [('hearts', 1), ('diamonds', 1), ('clubs', 1)]\n"
     ]
    }
   ],
   "source": [
    "hand = [ ('hearts', 1), ('diamonds', 1), ('clubs', 1), ('hearts', 2), ('diamonds', 2) ]\n",
    "value = 2\n",
    "found, new_hand = ask_for_cards(hand, value)\n",
    "print(\"Found: \",found)\n",
    "print(\"New hand: \",new_hand)"
   ]
  },
  {
   "cell_type": "markdown",
   "metadata": {},
   "source": [
    "Vemos que la invocación a la función **ask_for_cards** ha devuelto la variable **found** con las dos cartas que tienen el valor 2 y la variable **new_hand** con la mano del jugador 2 actualizada."
   ]
  },
  {
   "cell_type": "markdown",
   "metadata": {},
   "source": [
    "### Solución:"
   ]
  },
  {
   "cell_type": "code",
   "execution_count": 31,
   "metadata": {},
   "outputs": [],
   "source": [
    "def ask_for_cards(hand, value): \n",
    "    new_hand = hand.copy()\n",
    "    found = []\n",
    "    for card in hand:\n",
    "        if card[1] == value:\n",
    "            found.append(card)\n",
    "            new_hand.remove(card)      \n",
    "    return found, new_hand"
   ]
  },
  {
   "cell_type": "markdown",
   "metadata": {},
   "source": [
    "## Implementar Juego\n",
    "\n",
    "Ahora es el momento de implementar el juego. Tienes muchas funciones, más de las necesarias, pero que definen prácticamente todas las operaciones clásicas de los juegos de cartas. Combínalas adecuadamente para implementar el juego."
   ]
  },
  {
   "cell_type": "markdown",
   "metadata": {},
   "source": [
    "### Solución:"
   ]
  },
  {
   "cell_type": "markdown",
   "metadata": {},
   "source": [
    "El primer paso es definir el tipo de baraja con el que vamos a jugar, crearla y barajarla. Todo esto podemos hacerlo con las funciones **create_deck** y **shuffle_deck**."
   ]
  },
  {
   "cell_type": "code",
   "execution_count": 42,
   "metadata": {},
   "outputs": [],
   "source": [
    "import random\n",
    "\n",
    "values = [1,2,3,4,5,6,7,8,9,10,11,12,13]\n",
    "suits=['hearts','diamonds','clubs','spades']\n",
    "deck = create_deck(values, suits)\n",
    "deck = shuffle_deck(deck)   "
   ]
  },
  {
   "cell_type": "markdown",
   "metadata": {},
   "source": [
    "```{tip}\n",
    "De cara a probar versiones más sencillas del juego, podemos definir barajas más pequeñas, con menos valores o con menos palos.\n",
    "```"
   ]
  },
  {
   "cell_type": "markdown",
   "metadata": {},
   "source": [
    "Una vez que tenemos la baraja, vamos a inicializar las manos y los marcadores de los jugadores. Nosotros vamos a implementar una versión sencilla de dos jugadores en el que uno de ellos será el ordenador. Para ello vamos a definir una estructura de datos en la forma de un diccionario de Python de nombre **who_plays**. Este diccionario tiene una entrada de tipo \"clave:valor\" para cada participante. La clave es un valor numérico y el valor es un nuevo diccionario en el que se almacena el nombre, la mano y la puntuación de cada jugador."
   ]
  },
  {
   "cell_type": "code",
   "execution_count": 43,
   "metadata": {},
   "outputs": [],
   "source": [
    "player1, deck=deal_hand(deck,7)\n",
    "player2, deck=deal_hand(deck,7)"
   ]
  },
  {
   "cell_type": "code",
   "execution_count": 44,
   "metadata": {},
   "outputs": [],
   "source": [
    "who_plays={0:{\"name\": \"Player\", \"hand\":player1, \"score\":0},\n",
    "           1:{\"name\": \"Computer\",\"hand\":player2, \"score\":0}}"
   ]
  },
  {
   "cell_type": "markdown",
   "metadata": {},
   "source": [
    "Este es el contenido del diccionario para un posible reparto de cartas:"
   ]
  },
  {
   "cell_type": "code",
   "execution_count": 46,
   "metadata": {},
   "outputs": [
    {
     "data": {
      "text/plain": [
       "{0: {'name': 'Player',\n",
       "  'hand': [('spades', 10),\n",
       "   ('hearts', 13),\n",
       "   ('hearts', 8),\n",
       "   ('clubs', 4),\n",
       "   ('spades', 2),\n",
       "   ('diamonds', 8),\n",
       "   ('diamonds', 10)],\n",
       "  'score': 0},\n",
       " 1: {'name': 'Computer',\n",
       "  'hand': [('spades', 3),\n",
       "   ('diamonds', 7),\n",
       "   ('clubs', 10),\n",
       "   ('hearts', 1),\n",
       "   ('hearts', 10),\n",
       "   ('hearts', 4),\n",
       "   ('diamonds', 12)],\n",
       "  'score': 0}}"
      ]
     },
     "execution_count": 46,
     "metadata": {},
     "output_type": "execute_result"
    }
   ],
   "source": [
    "who_plays"
   ]
  },
  {
   "cell_type": "markdown",
   "metadata": {},
   "source": [
    "::::{note}\n",
    "El propósito de utilizar claves numéricas es implementar un sistema de turnos de juego mediante un incremento \"circular\". Por ejemplo, si tenemos 5 jugadores, las claves del diccionario **who_plays** tomarán los valores 0,1,2,3 y 4. De manera que podemos definir una variable **player** que indique en todo momento quién es el jugador, e ir pasando de uno a otro incrementando el valor de esa variable mediante el operador modulo (%):\n",
    ":::{code}\n",
    "player=(player+1)%5\n",
    ":::\n",
    "Con este código, cuando la variable player toma el valor 4 sería el turno del jugador 5. Al incrementarla de nuevo, tomará el valor 0 volviendo a pasar el turno al jugador 1.\n",
    "::::"
   ]
  },
  {
   "cell_type": "markdown",
   "metadata": {},
   "source": [
    "Podemos comprobar las manos iniciales utilizando la función **print_hand**:"
   ]
  },
  {
   "cell_type": "code",
   "execution_count": 47,
   "metadata": {},
   "outputs": [
    {
     "name": "stdout",
     "output_type": "stream",
     "text": [
      "10♠ K♥ 8♥ 4♣ 2♠ 8♦ 10♦ \n",
      "3♠ 7♦ 10♣ 1♥ 10♥ 4♥ Q♦ \n"
     ]
    }
   ],
   "source": [
    "print_hand(player1)\n",
    "print_hand(player2)"
   ]
  },
  {
   "cell_type": "markdown",
   "metadata": {},
   "source": [
    "Y verificamos que las cartas repartidas ya no existen en la baraja:"
   ]
  },
  {
   "cell_type": "code",
   "execution_count": 48,
   "metadata": {},
   "outputs": [
    {
     "name": "stdout",
     "output_type": "stream",
     "text": [
      "Remaining cards in deck:  38\n"
     ]
    }
   ],
   "source": [
    "print(\"Remaining cards in deck: \",len(deck))"
   ]
  },
  {
   "cell_type": "markdown",
   "metadata": {},
   "source": [
    "Vamos a inicializar el juego otorgando el turno al jugador 1. Para ello asignamos el valor 0 a la variable **player** y actualizamos el valor de las variables que usará el programa principal:"
   ]
  },
  {
   "cell_type": "code",
   "execution_count": 49,
   "metadata": {},
   "outputs": [],
   "source": [
    "player=0\n",
    "playing_name=who_plays[player][\"name\"]\n",
    "playing_hand=who_plays[player][\"hand\"]\n",
    "playing_score=who_plays[player][\"score\"]\n",
    "adversary_name=who_plays[(player+1)%2][\"name\"]\n",
    "adversary_hand=who_plays[(player+1)%2][\"hand\"]\n",
    "adversary_score=who_plays[(player+1)%2][\"score\"]"
   ]
  },
  {
   "cell_type": "markdown",
   "metadata": {},
   "source": [
    "Como vamos a invocar este código varias veces, lo más inteligente es meterlo dentro de una función:"
   ]
  },
  {
   "cell_type": "code",
   "execution_count": 50,
   "metadata": {},
   "outputs": [],
   "source": [
    "def get_player(player,who_plays):\n",
    "    number_players=len(who_plays)\n",
    "    playing_name=who_plays[player][\"name\"]\n",
    "    playing_hand=who_plays[player][\"hand\"]\n",
    "    playing_score=who_plays[player][\"score\"]\n",
    "    adversary_name=who_plays[(player+1)%number_players][\"name\"]\n",
    "    adversary_hand=who_plays[(player+1)%number_players][\"hand\"]\n",
    "    adversary_score=who_plays[(player+1)%number_players][\"score\"]\n",
    "    return playing_name,playing_hand,playing_score,adversary_name,adversary_hand,adversary_score"
   ]
  },
  {
   "cell_type": "markdown",
   "metadata": {},
   "source": [
    "A medida que el juego avanza, se modifica el valor de las variables:\n",
    "\n",
    "* **playing_hand** y **playing_score**\n",
    "* **adversary_hand** y **adversary_score**\n",
    "\n",
    "Cuando el turno cambia, tenemos que salvar el contenido de esas variables en el diccionario **who_plays**. Esta tarea también la vamos a meter en una función para que el código del juego sea más legible:"
   ]
  },
  {
   "cell_type": "code",
   "execution_count": 51,
   "metadata": {},
   "outputs": [],
   "source": [
    "def save_status(player,who_plays,playing_hand,playing_score,adversary_hand,adversary_score):\n",
    "    number_players=len(who_plays)    \n",
    "    who_plays[player][\"hand\"]=playing_hand\n",
    "    who_plays[player][\"score\"]=playing_score\n",
    "    who_plays[(player+1)%number_players][\"hand\"]=adversary_hand\n",
    "    who_plays[(player+1)%number_players][\"score\"]=adversary_score   \n",
    "    return who_plays"
   ]
  },
  {
   "cell_type": "markdown",
   "metadata": {},
   "source": [
    "Antes de ponerte con la solución, recuerda que cuando se da la conción de \"Go Fish\", si la carta obtenida de la baraja coincide con la carta que solicitó el jugador, entonces no hay cambio de turno. O lo que es lo mismo, volvemos al inicio del bucle while. Esto se puede forzar con el comando **continue**.\n",
    "\n",
    ":::{tip}\n",
    "Puedes obtener más información sobre este comando [aquí](https://docs.python.org/3/tutorial/controlflow.html#break-and-continue-statements-and-else-clauses-on-loops)\n",
    ":::"
   ]
  },
  {
   "cell_type": "code",
   "execution_count": null,
   "metadata": {},
   "outputs": [],
   "source": [
    "while not(len(deck) ==0  and len(playing_hand) == 0 and len(adversary_hand) == 0): \n",
    "    print(\"Turn: \",playing_name)\n",
    "    print_hand(playing_hand)\n",
    "    print(\"Score: \",playing_score)\n",
    "    \n",
    "    if playing_name!= \"Computer\" :\n",
    "        value = int(input(playing_name+\" select card value: \"))\n",
    "    else:\n",
    "        value = random.sample(values,1)[0]\n",
    "        print(playing_name+\" selects card value: \"+str(value))\n",
    "        \n",
    "    found, adversary_hand = ask_for_cards(adversary_hand, value)\n",
    "    if len(found)!=0:\n",
    "        print(adversary_name+\" gives:\",end=\" \")\n",
    "        print_hand(found)\n",
    "        playing_hand = playing_hand + found\n",
    "        all_suits, playing_hand = same_suit(playing_hand)\n",
    "        playing_score=playing_score+len(all_suits)\n",
    "    else:\n",
    "        print(\"No luck, \"+playing_name+\" go fish!\")\n",
    "        card,deck = get_card(deck)\n",
    "        print(playing_name+\" got:\",end=\" \")\n",
    "        print_hand([card])        \n",
    "        playing_hand=playing_hand+[card]\n",
    "        all_suits, playing_hand = same_suit(playing_hand)\n",
    "        playing_score=playing_score+len(all_suits)\n",
    "        if card[1]==value:\n",
    "            print(playing_name+\" keep on playing!\")\n",
    "            continue\n",
    "        else:\n",
    "            # Turn change\n",
    "            who_plays = save_status(player,who_plays,playing_hand,playing_score,\n",
    "                                    adversary_hand,adversary_score)\n",
    "            player = (player+1)%2\n",
    "            playing_name,playing_hand,playing_score,adversary_name,adversary_hand,adversary_score=get_player(player,who_plays)"
   ]
  },
  {
   "cell_type": "markdown",
   "metadata": {},
   "source": [
    "::::{note}\n",
    "Nota que la condición de salida del bucle está implementada como una condición negada. En ocasiones, dependiendo de la condición, resulta más sencillo implementar una condición y negarla que construir la versión positiva de la misma. Este es uno de esos casos. Tenemos claro que la condición de \"fin de juego\" es cuando se dan simultáneamente las tres condiciones siguientes:\n",
    "\n",
    "* Ninguno de los jugadores tiene cartas en su mano\n",
    "* No quedan cartas en la baraja\n",
    "\n",
    "Si no quedan cartas en la barja pero si en las manos de los jugadores, hay que seguir jugando. O si uno de los jugadores se queda sin cartas, pero quedan cartas en la baraja, también hay que seguir jugando. El bucle while tiene que seguir ejecutándose precisamente en el caso contrario, es decir, cuando no se da la condición de \"fin de juego\". Por eso, en este caso, la condición de salida del bucle while se puede implementar como:\n",
    "\n",
    ":::{code}\n",
    "not(len(deck) ==0  and len(playing_hand) == 0 and len(adversary_hand) == 0):\n",
    ":::    \n",
    "\n",
    "Intenta diseñar la condición inversa y descubrirás que efectivamente es más complicada de lo que parece.\n",
    "::::"
   ]
  },
  {
   "cell_type": "markdown",
   "metadata": {},
   "source": [
    "```{warning}\n",
    "Esta es una implementación mínima del juego. Una versión real no debería permitir al jugador 1 ver las cartas de la mano del ordenador. Tomar este tipo de licencias es algo muy recomendable sobre todo durante la etapa de desarrollo del juego para verificar que todo funciona como debe. Una vez que tenemos la seguidad de que el juego está bien programado, entonces podemos proceder a ocultar la mano del resto de jugadores.\n",
    "```"
   ]
  },
  {
   "cell_type": "markdown",
   "metadata": {},
   "source": [
    "::::{tip} \n",
    "Habrás notado que cuando es el turno del ordenador, el juego avanza demasiado rápido y hay que hacer \"scroll up\" para descubrir qué ha ocurrido. Este problema se puede resolver con la función  **sleep** de la librería time. \n",
    "\n",
    ":::{code}\n",
    "import time\n",
    "time.sleep(10)\n",
    ":::\n",
    "\n",
    "Este comando permite meter tiempos de espera de segundos de manera que el jugador tiene la sensanción de que el ordenador está pensando y los eventos se suceden a un ritmo mucho más asequible.\n",
    "::::"
   ]
  },
  {
   "cell_type": "markdown",
   "metadata": {},
   "source": [
    "## Extensiones del juego\n",
    "\n",
    "Si te ha sabido a poco, puedes complicar el juego con las siguientes propuestas:\n",
    "\n",
    "* Implementa un mensaje de salida que analice las puntuaciones de todos los jugadores y declarar si ha habido algún ganador\n",
    "* Implementar un juego para más jugadores\n",
    "* Introducir retrasos con la función **time.sleep** cuando el turno recae en jugadores impersonados por el ordenador\n",
    "* Intentar cambiar la manera de representar las cartas por iconos de las cartas reales. Echa un vistazo a los iconos de cartas en [Unicode](https://en.wikipedia.org/wiki/Playing_cards_in_Unicode)\n",
    "* Puedes utilizar la funcionalidad de Jupyter de limpiar la pantalla, para que la salida no implique hacer scroll. Esto se consigue con la función **clear_output** que se importa de la librería **IPython.display**. Puedes encontrar más información [aquí](https://ipython.org/ipython-doc/stable/api/generated/IPython.display.html#IPython.display.clear_output)"
   ]
  }
 ],
 "metadata": {
  "interpreter": {
   "hash": "31f2aee4e71d21fbe5cf8b01ff0e069b9275f58929596ceb00d14d90e3e16cd6"
  },
  "kernelspec": {
   "display_name": "Python 3",
   "language": "python",
   "name": "python3"
  },
  "language_info": {
   "codemirror_mode": {
    "name": "ipython",
    "version": 3
   },
   "file_extension": ".py",
   "mimetype": "text/x-python",
   "name": "python",
   "nbconvert_exporter": "python",
   "pygments_lexer": "ipython3",
   "version": "3.8.8"
  }
 },
 "nbformat": 4,
 "nbformat_minor": 2
}
