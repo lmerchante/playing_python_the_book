{
 "cells": [
  {
   "cell_type": "markdown",
   "metadata": {},
   "source": [
    "# Juego del Solitario"
   ]
  },
  {
   "cell_type": "markdown",
   "metadata": {},
   "source": [
    "```{image} img/portada.png\n",
    ":alt: portada\n",
    ":class: bg-primary mb-1\n",
    ":width: 550px\n",
    ":align: center\n",
    "```"
   ]
  },
  {
   "cell_type": "markdown",
   "metadata": {},
   "source": [
    "Los juegos de cartas son una muy buena manera de practicar los conocimientos de programación. Una baraja puede simularse como una lista de elementos, y cualquier mecánica como barajar, repartir o intercambiar cartas puede programarse de manera muy sencilla operando con los elementos de esa lista. \n",
    "\n",
    "En ese capítulo vamos a implementar un sencillo juego de cartas que se inicializa distribuyendo una serie de elementos aleatoriamente en forma de una cuadrícula. El juego consiste en ir destapando una serie de cartas cubiertas para buscar parejas. Cuando el jugador destapa dos cartas iguales, las parejas permanecen descubiertas, en caso contrario, vuelve a voltearse. El juego finaliza cuando todos los elementos de la cuadrícula han sido descubiertos.\n",
    "\n",
    ":::{seealso}\n",
    "El juego que te proponemos lo puedes ver como una versión muy simplificada del popular [Mahjong](https://en.wikipedia.org/wiki/Mahjong).\n",
    ":::"
   ]
  },
  {
   "cell_type": "markdown",
   "metadata": {},
   "source": [
    "## Lectura de símbolos\n",
    "\n",
    "En lugar de jugar con cartas clásicas que podríamos simular como tuplas con un valor y un palo, vamos a utilizar símbolos unicode. En el fichero **unicode.txt** encotrarás dos listas de símbolos. Una primera con símbolos bastante diferentes entre sí, que utilizaremos para el juego estándar, y una segunda, con una lista de emojis, que permitirán jugar con mayor dificultad. \n",
    "\n",
    "En este apartado vamos a escribir una función **get_symbols(filename)** que recibe el nombre del fichero **unicode.txt** como argumento de entrada y que devuelve la primera fila de símbolos en una variable **easy** de tipo LIST y la segunda fila en una variable **difficult**, también de tipo LIST.\n",
    "\n",
    ":::{seealso}\n",
    "Puedes encontrar más información sobre el estándar unicode [aquí](https://en.wikipedia.org/wiki/Unicode) y revisar la lista de súmbolos disponibles [aquí](https://en.wikipedia.org/wiki/List_of_Unicode_characters).\n",
    ":::"
   ]
  },
  {
   "cell_type": "markdown",
   "metadata": {},
   "source": [
    "### Solución:"
   ]
  },
  {
   "cell_type": "code",
   "execution_count": 3,
   "metadata": {},
   "outputs": [],
   "source": [
    "def get_symbols(filename):\n",
    "    with open(filename,'r', encoding='utf-8') as f:\n",
    "        easy=f.readline().replace(\"\\n\",\"\").split(\";\")\n",
    "        difficult=f.readline().replace(\"\\n\",\"\").split(\";\")\n",
    "    return easy, difficult"
   ]
  },
  {
   "cell_type": "markdown",
   "metadata": {},
   "source": [
    "Antes de seguir, como siempre, comprobamos que la función hace lo que le hemos pedido. Vamos a invocarla incluyendo el nombre del fichero que contiene lo símbolos que vas a usar en el resto del juego."
   ]
  },
  {
   "cell_type": "code",
   "execution_count": 4,
   "metadata": {},
   "outputs": [],
   "source": [
    "easy, difficult=get_symbols(\"unicode.txt\")"
   ]
  },
  {
   "cell_type": "code",
   "execution_count": 5,
   "metadata": {},
   "outputs": [
    {
     "name": "stdout",
     "output_type": "stream",
     "text": [
      "['⏳', '⏰', '☕', '☔', '⛔']\n",
      "['😀', '😁', '😂', '😃', '😄']\n"
     ]
    }
   ],
   "source": [
    "print(easy[:5])\n",
    "print(difficult[:5])"
   ]
  },
  {
   "cell_type": "markdown",
   "metadata": {},
   "source": [
    "### Validar el un numero de casillas\n",
    "\n",
    "En el programa principal solicitarmos al jugador las dimensiones del tablero. Si queremos distribuir nuestros símbolos en forma de rejilla, las dimensiones del tablero deben permitir un número par de casillas ya que los símbolos deben de estar distribuidos en parejas. Por ejemplo, un tablero de 4x4 sería válido, pero un tablero de 3x3 no porque no podríamos distribuir parejas de símbolos en 9 casillas.\n",
    "\n",
    "La función **validate_even** recibe dos orgumentos:\n",
    "* **rows** contiene un valor de tipo INT con el número de filas del tablero\n",
    "* **cols** contiene unv alor de tipo INT con el número de columnas del tablero\n",
    "\n",
    "La función **validate_even** devuelve un valor de tipo BOOL igual a **True** si el número total de casillas es par o **False** si el número total es impar."
   ]
  },
  {
   "cell_type": "markdown",
   "metadata": {},
   "source": [
    "### Solución:"
   ]
  },
  {
   "cell_type": "code",
   "execution_count": 6,
   "metadata": {},
   "outputs": [],
   "source": [
    "def validate_even(rows,cols):\n",
    "    if rows*cols % 2 ==0:\n",
    "        return True\n",
    "    else:\n",
    "        return False"
   ]
  },
  {
   "cell_type": "markdown",
   "metadata": {},
   "source": [
    "Aunque la implementación de esta función es trivial, siempre te recomendaremos que pruebes todos y cada uno de los métodos que programes. A veces cometemos errores tontos que se podrían haber detectado con una simple ejecución."
   ]
  },
  {
   "cell_type": "code",
   "execution_count": 7,
   "metadata": {},
   "outputs": [
    {
     "data": {
      "text/plain": [
       "True"
      ]
     },
     "execution_count": 7,
     "metadata": {},
     "output_type": "execute_result"
    }
   ],
   "source": [
    "validate_even(4,4)"
   ]
  },
  {
   "cell_type": "code",
   "execution_count": 8,
   "metadata": {},
   "outputs": [
    {
     "data": {
      "text/plain": [
       "False"
      ]
     },
     "execution_count": 8,
     "metadata": {},
     "output_type": "execute_result"
    }
   ],
   "source": [
    "validate_even(3,3)"
   ]
  },
  {
   "cell_type": "markdown",
   "metadata": {},
   "source": [
    "En este caso vemos que las funciones devuelven los valores esperados. Podemos seguir adelante!"
   ]
  },
  {
   "cell_type": "markdown",
   "metadata": {},
   "source": [
    "## Validar el número de símbolos para la dificultad elegida\n",
    "\n",
    "Aunque el fichero **unicode.txt** contiene suficientes símbolos para generar tableros grandes, hay un límite. Podría ocurrir que un jugador quisiera echar una partida en un tablero de 20x20; este tamaño implica una rejilla de 400 casillas o lo que es lo mismo, 200 símbolos emparejados. Ninguna de nuestras colecciones de símbolos dispone de tantos símbolos diferentes. \n",
    "\n",
    "Para evitar que nuestro código falle, podríamos contar el número de símbolos de nuestro fichero, y con una operación sencilla ver cual es el máximo número de parejas que se pueden generar. Este valor podríamos usarlo como umbral para detectar si el tamaño solicitado por el jugador es realizable. El problema de *hardcodear* el valor del umbral en el código es que si decidimos añadir o borrar símbolos de nuestro fichero, el umbral quedaría obsoleto y deberíamos actualizar el código. Esta práctica no es en ningún caso recomendable. Nuestros códigos deben ser siempre generalizables y una vez dados por finalizados, no deberían requirir modificar su código. En este caso, podemos resolver el problema calculando la longitud de las variables **easy** y **difficult** y evaluando si las dimensiones y la dificultad solicitadas son coherentes con el número de símbolos disponibles.\n",
    "\n",
    "La función **check_symbols(difficulty, easy, difficult, rows,cols)** recibe los siguientes argumentos de entrada:\n",
    "\n",
    "* **easy** con la lista de símbolos sencilla\n",
    "* **difficult** con la lista de síbolos dificil\n",
    "* **row** con el número de filas del tablero\n",
    "* **cols** con el número de columnas del tablero\n",
    "* **difficulty** con una variable STRING que puede tomar los valores \"easy\" o \"difficult\" indicando la dificultad del juego\n",
    "\n",
    "Dependiendo del contenido de la variable **difficulty**, la función debe verificar si hay suficientes símbolos para el tamaño del tablero. En caso afirmativo debe devolver **True** y en caso negativo **False**."
   ]
  },
  {
   "cell_type": "markdown",
   "metadata": {},
   "source": [
    "### Solución:"
   ]
  },
  {
   "cell_type": "code",
   "execution_count": 9,
   "metadata": {},
   "outputs": [],
   "source": [
    "def check_symbols(difficulty, easy, difficult, rows,cols):\n",
    "    if difficulty==\"easy\" and rows*cols > 2*len(easy):        \n",
    "        return False\n",
    "    elif difficulty==\"difficult\" and rows*cols > 2*len(difficult): \n",
    "        return False\n",
    "    else:\n",
    "        return True"
   ]
  },
  {
   "cell_type": "markdown",
   "metadata": {},
   "source": [
    "De esta manera, podemos verificar si es posible generar un tablero de 10x10 con 100 casillas utilizando la colección de símbolos fácil:"
   ]
  },
  {
   "cell_type": "code",
   "execution_count": 10,
   "metadata": {},
   "outputs": [
    {
     "data": {
      "text/plain": [
       "False"
      ]
     },
     "execution_count": 10,
     "metadata": {},
     "output_type": "execute_result"
    }
   ],
   "source": [
    "check_symbols(\"easy\",easy,difficult,10,10)"
   ]
  },
  {
   "cell_type": "markdown",
   "metadata": {},
   "source": [
    "Comprobamos que no tenemos suficientes símbolos porque serían necesarios 50 parejas de símbolos y la colección **easy** sólo dispone de 49 símbolos. Sin embargo, sí que podemos generar ese tablero con la colección de símbolos **difficult**: "
   ]
  },
  {
   "cell_type": "code",
   "execution_count": 11,
   "metadata": {},
   "outputs": [
    {
     "data": {
      "text/plain": [
       "True"
      ]
     },
     "execution_count": 11,
     "metadata": {},
     "output_type": "execute_result"
    }
   ],
   "source": [
    "check_symbols(\"difficult\",easy,difficult,10,10)"
   ]
  },
  {
   "cell_type": "markdown",
   "metadata": {},
   "source": [
    "## Entrada de parámetros del juego\n",
    "\n",
    "Con las funcioners anteriores ya podemos solicitar al jugador todos los valores necesarios para configurar una partida. Esos parámetros son:\n",
    "\n",
    "* Número de filas **rows**\n",
    "* Número de columnas **cols**\n",
    "* Dificultad del juego **difficulty**\n",
    "\n",
    "Para ello vamos a escribir una funcion **input_params(simb_easy, simb_diff)** que recibe como argumentos las listas de símbolos **easy** y **difficult**. La función debe preguntar al jugador por las dimensiones del tablero y la dificultad del juego. Los valores proporcionados por el usuario deben ser validados por las funciones **validate_even** y **check_symbols**. Si alguna de estas validaciones no se cumple, el usuario debe ser informado y preguntado nuevamente.\n",
    "\n",
    "Cuando el usuario proporcione unos valores que cumplan los criterios anteriores, la función debe devolver estas tres variables **difficulty, row, col**."
   ]
  },
  {
   "cell_type": "markdown",
   "metadata": {},
   "source": [
    "### Solución:"
   ]
  },
  {
   "cell_type": "code",
   "execution_count": 12,
   "metadata": {},
   "outputs": [],
   "source": [
    "def input_params(simb_easy, simb_diff):\n",
    "    \n",
    "    difficulty = input(\"Choose difficulty (easy, difficult): \")\n",
    "    rows = int(input(\"number of rows: \"))\n",
    "    cols  = int(input(\"number of columns: \"))\n",
    "    \n",
    "    while not(validate_even(rows,cols) and check_symbols(difficulty,simb_easy, simb_diff,rows,cols)):\n",
    "        \n",
    "        if not validate_even(rows,cols):\n",
    "            print(\"\\nThe number of cells must be even\")\n",
    "            rows = int(input(\"number of rows: \"))\n",
    "            cols  = int(input(\"number of columns: \"))\n",
    "        else:\n",
    "            print(\"\\nToo many symbols for that difficulty. Select smaller dimensions\")\n",
    "            rows = int(input(\"number of rows: \"))\n",
    "            cols  = int(input(\"number of columns: \"))\n",
    "            \n",
    "    print(\"\\nYou will play a {}x{} grid in level: {}\".format(rows,cols,difficulty))\n",
    "    return rows,cols,difficulty"
   ]
  },
  {
   "cell_type": "code",
   "execution_count": 10,
   "metadata": {},
   "outputs": [
    {
     "name": "stdout",
     "output_type": "stream",
     "text": [
      "Choose difficulty (easy, difficult): easy\n",
      "number of rows: 10\n",
      "number of columns: 10\n",
      "\n",
      "Too many symbols for that difficulty. Select smaller dimensions\n",
      "number of rows: 3\n",
      "number of columns: 4\n",
      "\n",
      "You will play a 3x4 grid in level: easy\n"
     ]
    }
   ],
   "source": [
    "filas, columnas, dificultad=input_params(easy, difficult)"
   ]
  },
  {
   "cell_type": "markdown",
   "metadata": {},
   "source": [
    "## Generar tablero\n",
    "\n",
    "Una vez que disponemos de las dimensiones del tablero de juego, vamos a escribir una función **generate_board(rows,cols)**. Esta función recibe dos argumentos:\n",
    "\n",
    "* **rows** es el número de filas del tablero como una variable de tipo INT \n",
    "* **cols** es el número de columnas del tablero como una variable de tipo INT\n",
    "\n",
    "La función **generate_board(rows,cols)** generará una variable **board** de tipo LIST que a su vez contendrá como elementos variables de tipo LIST. Es lo que se conoce como una lista de listas anidadas. Estas listas anidadas las inicializaremos con el valor: \"🞺\"."
   ]
  },
  {
   "cell_type": "markdown",
   "metadata": {},
   "source": [
    "Por ejemplo, si queremos jugar con un tablero de 2 filas por 4 columnas, este sería el resultado:"
   ]
  },
  {
   "cell_type": "code",
   "execution_count": 18,
   "metadata": {},
   "outputs": [
    {
     "name": "stdout",
     "output_type": "stream",
     "text": [
      "[['🞺', '🞺', '🞺', '🞺'], ['🞺', '🞺', '🞺', '🞺']]\n"
     ]
    }
   ],
   "source": [
    "board=generate_board(2,4)\n",
    "print(board)"
   ]
  },
  {
   "cell_type": "markdown",
   "metadata": {},
   "source": [
    "::::{tip}\n",
    "Recuerda que cuando trabajamos con colecciones como los STRING o las LIST, podemos utilizar el operador multiplicación para extender esas variables **N** veces. Por ejemplo:\n",
    "\n",
    ":::{code}\n",
    "var = \"AEIOU\"\n",
    "print(var*3)\n",
    ":::\n",
    "\n",
    "Ejecutando este código obtendrías como resultado \"AEIOUAEIOUAEIOU\". Esto mismo se puede hacer con las listas. Por ejemplo:\n",
    "\n",
    ":::{code}\n",
    "var = [\"A\"]\n",
    "print(var*3)\n",
    ":::\n",
    "\n",
    "Ejecutando este código obtendrías como resultado ['A', 'A', 'A']. Aunque no es oblgatorio, puede resultarte muy útil de cara a simplificar el código de la función **generate_board(rows,cols)**.\n",
    "::::"
   ]
  },
  {
   "cell_type": "markdown",
   "metadata": {},
   "source": [
    "### Solución:"
   ]
  },
  {
   "cell_type": "code",
   "execution_count": 15,
   "metadata": {},
   "outputs": [],
   "source": [
    "def generate_board(rows,cols):\n",
    "    board=[]\n",
    "    for f in range(rows):\n",
    "        row=[\"🞺\"]*cols\n",
    "        board.append(row)\n",
    "    return board"
   ]
  },
  {
   "cell_type": "markdown",
   "metadata": {},
   "source": [
    "## Mostrar tablero\n",
    "\n",
    "Para que el jugador pueda llevar la cuenta de qué casillas han sido descubiertas y cuales no, vamos a escribir una función que reciba estos argumentos:\n",
    "\n",
    "* **board** contiene la lista de listas anidadas\n",
    "* **rows** es el número de filas del tablero como una variable de tipo INT \n",
    "* **cols** es el número de columnas del tablero como una variable de tipo INT\n",
    "\n",
    "La función debe permitir visualizar la variable **board** en formato de tabla. Por ejemplo:"
   ]
  },
  {
   "cell_type": "code",
   "execution_count": 19,
   "metadata": {},
   "outputs": [
    {
     "name": "stdout",
     "output_type": "stream",
     "text": [
      "|🞺| |🞺| |🞺| |🞺| \n",
      "|🞺| |🞺| |🞺| |🞺| \n"
     ]
    }
   ],
   "source": [
    "display_board(board,2,4)"
   ]
  },
  {
   "cell_type": "markdown",
   "metadata": {},
   "source": [
    "::::{tip}\n",
    "El comando **print** siempre introduce el caracter salto de línea \"\\n\". En algunas ocasiones, puede resultar interesante desactivar esa característica. Podemos hacerlo usando el argumento **end**:\n",
    "\n",
    ":::{code}\n",
    "print(\"This line has no character 'newline'!! \",end=\"\")\n",
    "print(\"Did you see?\")\n",
    ":::\n",
    "\n",
    "Puedes comparar la salida de esos comandos con la salida de estos:\n",
    "\n",
    ":::{code}\n",
    "print(\"This line has a character 'newline'!! \")\n",
    "print(\"Did you see?\")\n",
    ":::\n",
    "::::                "
   ]
  },
  {
   "cell_type": "markdown",
   "metadata": {},
   "source": [
    "### Solución:"
   ]
  },
  {
   "cell_type": "code",
   "execution_count": 16,
   "metadata": {},
   "outputs": [],
   "source": [
    "def display_board(board, rows, cols):\n",
    "    for i in range(rows):\n",
    "        for j in range(cols):\n",
    "            print(\"|\", end=\"\")\n",
    "            print (str(board[i][j])+\"| \", end=\"\")\n",
    "        print(\"\\n\", end=\"\")"
   ]
  },
  {
   "cell_type": "markdown",
   "metadata": {},
   "source": [
    "## Seleccion aleatoria de símbolos\n",
    "\n",
    "El primer paso para distribuir una colección aleatoria de símbolos en la cuadrícula del tablero, es seleccionar un número aleatorio de símbolos de entre las listas **easy** y **difficult**. Para ello vamos a programar una función **choose_symbols** que tome como argumentos:\n",
    "\n",
    "* **easy** contiene la lista de símbolos sencillos\n",
    "* **difficult** contiene la lista de símbolos difíciles\n",
    "* **rows** es el número de filas del tablero como una variable de tipo INT \n",
    "* **cols** es el número de columnas del tablero como una variable de tipo INT\n",
    "* **difficulty** el nivel de dificultad elegido por el usuario como una variable STRING que puede tomar los valores \"easy\" o \"difficult\" \n",
    "\n",
    "En función de estas variables, el código debe devolver una lista con los símbolos necesarios para rellenar el tablero."
   ]
  },
  {
   "cell_type": "markdown",
   "metadata": {},
   "source": [
    "### Solución:"
   ]
  },
  {
   "cell_type": "code",
   "execution_count": 23,
   "metadata": {},
   "outputs": [],
   "source": [
    "import random\n",
    "\n",
    "def choose_symbols(easy, difficult, rows, cols, difficulty):\n",
    "    if difficulty == \"easy\":\n",
    "        symbols=random.sample(easy,int(rows*cols/2))\n",
    "    else:\n",
    "        symbols=random.sample(difficult,int(rows*cols/2))\n",
    "    return symbols"
   ]
  },
  {
   "cell_type": "markdown",
   "metadata": {},
   "source": [
    "Podemos validar su funcionamiento invocando a la función con los dos niveles de dificultad \"easy\" y \"difficult\"."
   ]
  },
  {
   "cell_type": "code",
   "execution_count": 24,
   "metadata": {},
   "outputs": [
    {
     "data": {
      "text/plain": [
       "['⭐', '🐠', '⏰', '🦋']"
      ]
     },
     "execution_count": 24,
     "metadata": {},
     "output_type": "execute_result"
    }
   ],
   "source": [
    "symbols=choose_symbols(easy, difficult, 2,4,\"easy\")\n",
    "symbols"
   ]
  },
  {
   "cell_type": "code",
   "execution_count": 25,
   "metadata": {},
   "outputs": [
    {
     "data": {
      "text/plain": [
       "['😇', '😽', '😘', '😱']"
      ]
     },
     "execution_count": 25,
     "metadata": {},
     "output_type": "execute_result"
    }
   ],
   "source": [
    "symbols=choose_symbols(easy, difficult, 2,4,\"difficult\")\n",
    "symbols"
   ]
  },
  {
   "cell_type": "markdown",
   "metadata": {},
   "source": [
    "Comprobamos que cuando seleccionamos el nivel de dificultad alto, los símbolos se corresponden con la lista de emojis."
   ]
  },
  {
   "cell_type": "markdown",
   "metadata": {},
   "source": [
    "::::{note}\n",
    "Para simplificar el código de la función **choose_symbols** sólo estamos chequeando si el contenido de la variable **difficulty** es igual o no al STRING **\"easy\"**. Esto significa que cualquier otro valor de la variable **difficulty** será interpretada como dificil. \n",
    "\n",
    "Por otro lado, date cuenta que al invocar la función **choose_symbols** no estamos validando si el número de elementos requeridos para el tablero solicitado es o no coherente con el número de símbolos disponible en el fichero **unicode.txt**. Esto es así, porque la invocación de la función **choose_symbols** se realizará después de haber llamado a la función **input_params** que es la encargada de realizar esa verificación.\n",
    "::::"
   ]
  },
  {
   "cell_type": "markdown",
   "metadata": {},
   "source": [
    "## Distribución de los símbolos por el tablero\n",
    "\n",
    "En este apartado vamos a escribir la función **deploy_symbols** que recibe tres argumentos:\n",
    "\n",
    "* **symbols** es una variable tipo LIST con la lista de símbolos necesarios\n",
    "* **rows** es el número de filas del tablero como una variable de tipo INT \n",
    "* **cols** es el número de columnas del tablero como una variable de tipo INT\n",
    "\n",
    "El código debe devolver una variable **board** de tipo LIST que es una lista de listas anidadas con la distribución aleatoria de los símbolos de la variable **symbols**."
   ]
  },
  {
   "cell_type": "markdown",
   "metadata": {},
   "source": [
    "### Solución:"
   ]
  },
  {
   "cell_type": "code",
   "execution_count": 26,
   "metadata": {},
   "outputs": [],
   "source": [
    "def deploy_symbols(symbols,rows,cols):\n",
    "    board=generate_board(rows, cols)\n",
    "    total=symbols*2\n",
    "    random.shuffle(total)\n",
    "    index=0\n",
    "    for r in range(rows):\n",
    "        for c in range(cols):\n",
    "            board[r][c]=total[index]\n",
    "            index=index+1\n",
    "    return board"
   ]
  },
  {
   "cell_type": "markdown",
   "metadata": {},
   "source": [
    "Podemos verificar su funcionamiento utilizando algunas de las funciones implementadas hasta el momento:"
   ]
  },
  {
   "cell_type": "code",
   "execution_count": 28,
   "metadata": {},
   "outputs": [
    {
     "name": "stdout",
     "output_type": "stream",
     "text": [
      "|🧲| |👌| |🧲| |🐠| \n",
      "|👌| |🐠| |🦋| |🦋| \n"
     ]
    }
   ],
   "source": [
    "symbols=choose_symbols(easy, difficult, rows=2,cols=4, difficulty=\"easy\")\n",
    "board=deploy_symbols(symbols,rows=2,cols=4)\n",
    "display_board(board, rows=2,cols=4)"
   ]
  },
  {
   "cell_type": "markdown",
   "metadata": {},
   "source": [
    "## Comprobación de símbolo descubierto\n",
    "\n",
    "La dinámica del juego consiste en ir proporcionando las coordenadas de parejas de cartas con la intención de encontrar símbolos iguales. Aunque el jugador debería proporcionar las coordenadas correctas, puede ocurrir que en alguna ocasión proporcione las coordenadas de una carta que ya ha sido revelada. \n",
    "\n",
    "Para detectar si una carta ha sido o no descubierta vamos a implementar la funcion **available(board, row, column)** que recibe los siguientes argumentos:\n",
    "\n",
    "* **board** es una lista de listas que vamos a usar para llevar la cuenta de los símbolos que han sido descubiertos\n",
    "* **rows** es el número de filas del tablero como una variable de tipo INT \n",
    "* **cols** es el número de columnas del tablero como una variable de tipo I\n",
    "\n",
    "El código debe chequear si el elemento correspondiente con esas coordenadas ya ha sido descubierto con anterioridad. Si el elemento ya ha sido descubierto debe devolver **False** y si todavía está oculto debe devolver **True**."
   ]
  },
  {
   "cell_type": "markdown",
   "metadata": {},
   "source": [
    "### Solución:"
   ]
  },
  {
   "cell_type": "code",
   "execution_count": 29,
   "metadata": {},
   "outputs": [],
   "source": [
    "def available(board, row, column):\n",
    "    if board[row][column]==\"🞺\":\n",
    "        return True\n",
    "    else:\n",
    "        return False"
   ]
  },
  {
   "cell_type": "markdown",
   "metadata": {},
   "source": [
    "Para validar su funcionamiento, vamos a simular el siguiente tablero:"
   ]
  },
  {
   "cell_type": "code",
   "execution_count": 31,
   "metadata": {},
   "outputs": [],
   "source": [
    "board=[['🞺', '👌', '🞺', '🞺'], ['👌', '🞺', '🦋', '🦋']]"
   ]
  },
  {
   "cell_type": "markdown",
   "metadata": {},
   "source": [
    "El chequeo de la coordenada (0,0) debería devolver **True** porque todavía no ha sido descubierta mientras que el chequeo de la coordinada (1,3) debería devolver **False** porque ya ha sido revelada."
   ]
  },
  {
   "cell_type": "code",
   "execution_count": 32,
   "metadata": {},
   "outputs": [
    {
     "data": {
      "text/plain": [
       "True"
      ]
     },
     "execution_count": 32,
     "metadata": {},
     "output_type": "execute_result"
    }
   ],
   "source": [
    "available(board, 0, 0)"
   ]
  },
  {
   "cell_type": "code",
   "execution_count": 33,
   "metadata": {},
   "outputs": [
    {
     "data": {
      "text/plain": [
       "False"
      ]
     },
     "execution_count": 33,
     "metadata": {},
     "output_type": "execute_result"
    }
   ],
   "source": [
    "available(board, 1, 3)"
   ]
  },
  {
   "cell_type": "markdown",
   "metadata": {},
   "source": [
    "## Implementación del juego\n",
    "\n",
    "Ya sólo nos queda implementar el juego completo. Es una buena idea utilizar dos variables para el tablero, una **board** con el tablero que está viendo en todo momento el jugador y otra **board_secret** con todos los símbolos y las posiciones reales que ocupan. Al inicializar el juego, la variable **board** sólo muestra los símbolos 🞺. Según el juegador vaya encontrando parejas, estos 🞺 se van reemplazando por los símbolos descubiertos. Esto implica ir modificando la variable **board** con los valores de **board_secret** según avanza el juego. Aunque como siempre, existen múltiples formas de implementar el código. Nosotros os proporcionamos una de ellas, pero seguro que se te ocurren otras alternativas. \n",
    "\n",
    "Recuerda que tu código debe ir contando el número de intentos que ha necesitado el jugador para revelar el tablero completo, de esta forma podrás comparar como de eficiente han sido las decisiones del jugador en diferentes partidas.\n",
    "\n",
    "::::{tip}\n",
    "Vamos a utilizar el recurso **clear_output** de la librería **IPython.display** que permite limpiar la salida de las celdas de los notebooks de Jupyter, para que nuestro juego pueda desarrollarse sin tener que realizar mucho scroll. Además, esta funcionalidad nos va a permitir poder mostrar el contenido de la pareja de cartas seleccionada por el jugador durante un tiempo determinado, por ejemplo 5 segundos, antes de volver a ocultarlas.\n",
    "::::"
   ]
  },
  {
   "cell_type": "markdown",
   "metadata": {},
   "source": [
    "### Solución:"
   ]
  },
  {
   "cell_type": "code",
   "execution_count": 34,
   "metadata": {},
   "outputs": [],
   "source": [
    "from IPython.display import clear_output\n",
    "import time\n",
    "import matplotlib.pyplot as plt"
   ]
  },
  {
   "cell_type": "code",
   "execution_count": 26,
   "metadata": {},
   "outputs": [
    {
     "name": "stdout",
     "output_type": "stream",
     "text": [
      "Choose difficulty (easy, difficult): easy\n",
      "number of rows: 3\n",
      "number of columns: 4\n",
      "\n",
      "You will play a 3x4 grid in level: easy\n",
      "|🎱| |👽| |🍀| |🎱| \n",
      "|⚓| |🌼| |🐬| |🐬| \n",
      "|👽| |🍀| |⚓| |🌼| \n"
     ]
    }
   ],
   "source": [
    "# Read symbols\n",
    "easy, difficult=get_symbols(\"unicode.txt\")\n",
    "\n",
    "# Ask player for difficulty and board dimensions\n",
    "rows, cols, difficulty=input_params(easy, difficult)\n",
    "\n",
    "# Generate random symbols\n",
    "symbols=choose_symbols(easy, difficult, rows, cols, difficulty)\n",
    "\n",
    "# Deploy them in the board\n",
    "board_secret=deploy_symbols(symbols, rows, cols)\n",
    "\n",
    "# Display them\n",
    "display_board(board_secret,rows, cols)"
   ]
  },
  {
   "cell_type": "markdown",
   "metadata": {},
   "source": [
    "Este es el tablero con el que jugaremos. Pero recuerda que durante la partida real no debes incluir este código o el jugador sabrá exactamente dónde se encuentran las parejas."
   ]
  },
  {
   "cell_type": "code",
   "execution_count": null,
   "metadata": {},
   "outputs": [],
   "source": [
    "# hits=0\n",
    "attempts=0\n",
    "board=generate_board(rows, cols)\n",
    "while (hits!=rows*cols):\n",
    "    attempts=attempts+1\n",
    "    display_board(board, rows, cols)  \n",
    "    \n",
    "    row1,col1 =input(\"Select coordinates of first card in format x,y: \").split(\",\")\n",
    "    row1,col1 =int(row1),int(col1)\n",
    "    while not available(board,row1,col1):\n",
    "        print(\"That card was already flipped\")\n",
    "        row1,col1 =input(\"Select coordinates of first card in format x,y: \").split(\",\")\n",
    "        row1,col1 =int(row1),int(col1)\n",
    "    \n",
    "    row2,col2 =input(\"Select coordinates of second card in format x,y: \").split(\",\")\n",
    "    row2,col2 =int(row2),int(col2)\n",
    "    while not available(board,row2,col2):\n",
    "        print(\"That card was already flipped\")\n",
    "        row2,col2 =input(\"Select coordinates of second card in format x,y: \").split(\",\")\n",
    "        row2,col2 =int(row2),int(col2)\n",
    "    \n",
    "    board[row1][col1]=board_secret[row1][col1]\n",
    "    board[row2][col2]=board_secret[row2][col2]\n",
    "    clear_output(wait=False)  \n",
    "    \n",
    "    if board_secret[row1][col1]!=board_secret[row2][col2]:\n",
    "        display_board(board, rows, cols) \n",
    "        time.sleep(5)\n",
    "        clear_output(wait=False)  \n",
    "        board[row1][col1]=\"🞺\"\n",
    "        board[row2][col2]=\"🞺\"\n",
    "    else:\n",
    "        hits=hits+2     \n",
    "    \n",
    "clear_output(wait=False) \n",
    "display_board(board, rows, cols)\n",
    "print(\"Congratulations! You needed {} attempts\".format(attempts))"
   ]
  },
  {
   "cell_type": "markdown",
   "metadata": {},
   "source": [
    "Como ves, la implementación del juego es muy sencilla. El juego se limita a procesar las coordenadas dadas por el juegador y a chequear si las cartas son iguales. Como te adelantábamos al principio del capítulo, a partir de este momento estás en condiciones de implementar muchos otros solitarios que utilizan principios parecidos, como por ejemplo, el conocidísimo juego del [Mahjong](https://en.wikipedia.org/wiki/Mahjong)."
   ]
  },
  {
   "cell_type": "markdown",
   "metadata": {},
   "source": [
    "## Extensiones del Juego\n",
    "\n",
    "Si has ejecutado el juego tal y como te lo hemos proporcionado, habrás notado un par de características que hacen que la experiencia no sea muy buena:\n",
    "\n",
    "* Las coordenadas hay que darlas utilizando las coordenadas en formato Python, esto quiere decir que la primera fila o la primera columna se indexan con el 0. Esto no es muy intuitivo y puede requerir un cierto esfuerzo de cálculo por parte del jugador\n",
    "* Al ir reemplazando los símbolos \"🞺\" por los iconos unicode, la rejilla se \"descuadra\". Esto tiene que ver con que el ancho de los simbolos no es siempre el mismo\n",
    "\n",
    "Corregir estos dos aspectos podrían ser las dos primeras mejoras a realizar y resultarían en una experiencia mucho mejor.\n",
    "Algunas otras ideas a implementar podrían ser:\n",
    "\n",
    "* Constuir un interfaz gráfico independiente en el que las celdas se seleccionan con el uso del ratón\n",
    "* Introducir un sistema de puntuación basado en el tiempo requerido para la resolución del tablero, en las dimensiones y en la dificultad del juego\n",
    "* Establecer un sistema de puntuaciones como el de los antiguos sistemas arcade, en el que se pueda almacenar la puntuación en un fichero junto con el nombre del jugador. Esas puntuaciones serían persistentes y se podrían mostrar al inicio o al final del juego para mostrar los 5 o 10 jugadores con mejores puntuaciones\n",
    "\n",
    "Algunas de estas mejoras propuestas parecen muy avanzadas, pero si realizas todos los ejercicios propuestos en este libro, verás como puedes implementarlas con los conocimientos adquiridos en los siguientes capítulos."
   ]
  }
 ],
 "metadata": {
  "kernelspec": {
   "display_name": "Python 3",
   "language": "python",
   "name": "python3"
  },
  "language_info": {
   "codemirror_mode": {
    "name": "ipython",
    "version": 3
   },
   "file_extension": ".py",
   "mimetype": "text/x-python",
   "name": "python",
   "nbconvert_exporter": "python",
   "pygments_lexer": "ipython3",
   "version": "3.8.8"
  }
 },
 "nbformat": 4,
 "nbformat_minor": 2
}
