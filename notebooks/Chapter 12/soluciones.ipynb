{
 "cells": [
  {
   "cell_type": "markdown",
   "metadata": {},
   "source": [
    "# Tank Royale"
   ]
  },
  {
   "cell_type": "markdown",
   "metadata": {},
   "source": [
    "```{image} img/portada.png\n",
    ":alt: portada\n",
    ":class: bg-primary mb-1\n",
    ":width: 450px\n",
    ":align: center\n",
    "```"
   ]
  },
  {
   "cell_type": "markdown",
   "metadata": {},
   "source": [
    "Los juegos de estrategia son una de las mejores maneras de matar el tiempo. Hasta el momento hemos implementado algunos juegos que requerían pensar, pero no los podemos calificar como juegos de estrategia en los que tenemos que adelantarnos a los movimientos del adversario. En este ejercicio vamos a implementar un juego de estrategia de combate para dos jugadores que intentan destruirse mutuamente. Las reglas son las siguientes:\n",
    "\n",
    "* Dos jugadores compiten\n",
    "* Cada uno tiene un tanque que mueve por el tablero intentando derribar el tanque del oponente\n",
    "* El primer jugador en derribar el tanque del oponente gana.\n",
    "* Para simplificar nuestro juego, los jugadores jugarán por turnos y tendrán 5 posibles jugadas:\n",
    "    * Mover tanque a la derecha\n",
    "    * Mover tanque a la izquierda\n",
    "    * Mover tanque arriba\n",
    "    * Mover tanque abajo\n",
    "    * Disparar (se proporcionará un ángulo del disparo)"
   ]
  },
  {
   "cell_type": "markdown",
   "metadata": {},
   "source": [
    "```{seealso}\n",
    "Hay muchas versiones de estos juegos. Una versión similar a lo que te proponemos puedes encontrarla [aquí](https://www.minijuegos.com/juego/tank-trouble).\n",
    "```"
   ]
  },
  {
   "cell_type": "markdown",
   "metadata": {},
   "source": [
    "## Definición de obstáculos\n",
    "\n",
    "Para el diseño del campo de batalla, vamos a utilizar obstáculos rectangulares que definiremos mediante las coordenadas de sus vértices. Para definir estos obstáculos vamos a utilizar dos variables **obstacles_x** y **obstacles_y**. La lista **obstacles_x** contiene una secuencia de sublistas con las coordenadas X del vértice inferior izquierdo y del vértice superior derecho del obstáculo. La lista **obstacles_y** contiene una secuencia de sublistas con las coordenadas Y de los mismos puntos.\n",
    "\n",
    "Por ejemplo:\n",
    "\n",
    ":::{code}\n",
    "obstacles_x = [ [0, 0.2], [0.3, 0.7], [0, 0.3], [0.8, 0.85], [0.55, 0.85], [0.55, 1.0], [0.0, 0.4], [0.7, 0.75] ]\n",
    "obstacles_y = [ [0, 0.2], [0.15, 0.2], [0.4, 0.45], [0.2, 0.6], [0.6, 0.65], [0.8, 1.25], [0.7, 0.75], [0.0, 0.2] ]\n",
    ":::\n",
    "\n",
    "Si nos fijamos en la primera sublista vemos que las coordenadas son [0.0.2] tanto para las X como para las Y. Estas coordenadas están definiendo un rectánculo cuyo vértice inferior izquierdo se encuentra en la coordenada (0,0) y el vértice superior derecho se encuentra en la coordenada (0.2,0.2). En el caso del segundo obstáculo, el vertice inferior izquierdo se encuentra en la coordenada (0.3,0.15) y el vértice superior derecho se encuentra en la coordenada (0.7,0.2). Y así sucesivamente con todos los obstáculos."
   ]
  },
  {
   "cell_type": "markdown",
   "metadata": {},
   "source": [
    ":::{note}\n",
    "Para dibujar los rectángulos usaremos la siguiente función de la librería **matplotlib**:\n",
    "\n",
    "    patches.Rectangle((x,y), width, height, angle=0.0, **kwargs)\n",
    "                    +------------------+\n",
    "                    |                  |\n",
    "                  height               |\n",
    "                    |                  |\n",
    "                   (x,y)---- width ----+\n",
    "\n",
    "\n",
    "    * xy : (float, float): The anchor point.\n",
    "    * width : float : Rectangle width.\n",
    "    * height: float : Rectangle height.\n",
    "    * angle : float, default: 0 : Rotation in degrees anti-clockwise about xy.                   \n",
    ":::\n",
    "\n",
    "\n",
    ":::{seealso}\n",
    "Puedes encontrar más información en la documentación de matplotlib [aquí](https://matplotlib.org/stable/api/_as_gen/matplotlib.patches.Rectangle.html)\n",
    ":::"
   ]
  },
  {
   "cell_type": "markdown",
   "metadata": {},
   "source": [
    "Como la función **patches.Rectangle** utiliza unos argumentos diferentes, tenemos que convertir la definición de nuestros obstáculos rectangulares de un formato en el que conocemos el vértice inferior izquierdo y el superior derecho a un formato en el que conocemos el vértice inferior izquierdo, el ancho y el alto.\n",
    "\n",
    "Por ejemplo, el primer obstáculo que hemos definido de vértices (0,0) y (0.2,0.2) se representa con el siguiente código:"
   ]
  },
  {
   "cell_type": "code",
   "execution_count": 2,
   "metadata": {},
   "outputs": [
    {
     "data": {
      "image/png": "[encoded data removed]",
      "text/plain": [
       "<Figure size 432x288 with 1 Axes>"
      ]
     },
     "metadata": {
      "needs_background": "light"
     },
     "output_type": "display_data"
    }
   ],
   "source": [
    "from matplotlib import pyplot as plt, patches\n",
    "\n",
    "figure, ax = plt.subplots()\n",
    "ax.add_patch(patches.Rectangle((0, 0), .2, .2, facecolor='black', linewidth=2))\n",
    "plt.show()"
   ]
  },
  {
   "cell_type": "markdown",
   "metadata": {},
   "source": [
    "Puedes comprobar como los vérticves inferior izquierdo y superior derecho se corresponden con las coordenadas (0,0) y (0.2,0.2) respectivamente.\n",
    "\n",
    "Veamos también el segundo obstáculo que hemos definido con los vértices (0.3, 0.15) y (0.7, 0.2). En este caso, este obstáculo se representa como:"
   ]
  },
  {
   "cell_type": "code",
   "execution_count": 3,
   "metadata": {},
   "outputs": [
    {
     "data": {
      "image/png": "[encoded data removed]",
      "text/plain": [
       "<Figure size 432x288 with 1 Axes>"
      ]
     },
     "metadata": {
      "needs_background": "light"
     },
     "output_type": "display_data"
    }
   ],
   "source": [
    "figure, ax = plt.subplots()\n",
    "ax.add_patch(patches.Rectangle((0.3, 0.15), 0.4, 0.05, facecolor='black', linewidth=2))\n",
    "plt.show()"
   ]
  },
  {
   "cell_type": "markdown",
   "metadata": {},
   "source": [
    "Puedes comprobar como los vérticves inferior izquierdo y superior derecho se corresponden con las coordenadas (0.3, 0.15) y (0.7, 0.2) respectivamente."
   ]
  },
  {
   "cell_type": "markdown",
   "metadata": {},
   "source": [
    "Para adaptar las coordenadas en formato vértices a coordenadas en formato **(x,y,width,height)** vamos a implementar la función **format_coord(x,y)** que recibe  como argumentos de entrada:\n",
    "\n",
    "* **x** contiene la lista de coordenadas **obstacles_x**\n",
    "* **y** contiene la lista de coordenadas **obstacles_y**\n",
    "\n",
    "La función devuelve una lista con el mismo número de elementos, pero en formato **(x,y,width,height)**."
   ]
  },
  {
   "cell_type": "markdown",
   "metadata": {},
   "source": [
    "### Solución:"
   ]
  },
  {
   "cell_type": "code",
   "execution_count": 4,
   "metadata": {},
   "outputs": [],
   "source": [
    "def format_coord(x,y):\n",
    "    obstacles = []\n",
    "    for i in range(len(x)):\n",
    "        coord_x_y = ( x[i][0], y[i][0] )\n",
    "        width = x[i][1]-x[i][0]\n",
    "        height = y[i][1]-y[i][0]\n",
    "        obstacles.append([coord_x_y, width, height])\n",
    "    return obstacles"
   ]
  },
  {
   "cell_type": "markdown",
   "metadata": {},
   "source": [
    "Vamos a validar su funcionamiento invocándola con las listas de coordenadas de obstáculos **obstacles_x** y **obstacles_y**."
   ]
  },
  {
   "cell_type": "code",
   "execution_count": 5,
   "metadata": {},
   "outputs": [],
   "source": [
    "obstacles_x =[ [0, 0.2], [0.3, 0.7], [0, 0.3], [0.8, 0.85], [0.55, 0.85], [0.55, 1.0], [0.0, 0.4], [0.7, 0.75] ]\n",
    "obstacles_y = [ [0, 0.2], [0.15, 0.2], [0.4, 0.45], [0.2, 0.6], [0.6, 0.65], [0.8, 1.25], [0.7, 0.75], [0.0, 0.2] ]\n",
    "\n",
    "obstacles = format_coord(obstacles_x,obstacles_y)"
   ]
  },
  {
   "cell_type": "markdown",
   "metadata": {},
   "source": [
    "Podemos comprobar que la conversión ha tenido éxito representándo todos los obstáculos:"
   ]
  },
  {
   "cell_type": "code",
   "execution_count": 6,
   "metadata": {},
   "outputs": [
    {
     "data": {
      "image/png": "[encoded data removed]",
      "text/plain": [
       "<Figure size 432x288 with 1 Axes>"
      ]
     },
     "metadata": {
      "needs_background": "light"
     },
     "output_type": "display_data"
    }
   ],
   "source": [
    "figure, ax = plt.subplots()\n",
    "for (obs_x, obs_y), width, height  in obstacles:\n",
    "    ax.add_patch(patches.Rectangle((obs_x, obs_y), width, height, facecolor='black', linewidth=2))\n",
    "plt.show()"
   ]
  },
  {
   "cell_type": "markdown",
   "metadata": {},
   "source": [
    "Y de esta manera tan sencilla ¡tenemos un campo de batalla!"
   ]
  },
  {
   "cell_type": "markdown",
   "metadata": {},
   "source": [
    "## Definición de los tanques\n",
    "\n",
    "Para el diseño de los tanques vamos a necestiar una variable de tipo DICT que contenga los valores para diferentes parámetros. El diccionario **tank_parameters** contiene la posición, diferentes dimensiones, el color y el ángulo del cañón de todos los tanques que identifica junto con un ID de tanque:\n",
    "\n",
    "* **tank_coord_x** representa la coordenada X en la que se empieza a dibujar el tanque\n",
    "* **tank_coord_y** representa la coordenada Y en la que se empieza a dibujar el tanque\n",
    "* **tank_angle** representa el angulo con el que está apuntando el cañon del tanque\n",
    "* **tank_width** representa el ancho del tanque \n",
    "* **tank_height** representa la altura del tanque\n",
    "* **canon_width** representa el ancho del cañón \n",
    "* **canon_height** representa la altura del cañón\n",
    "* **color** color del tanque\n",
    "\n",
    "El motivo de tener las dimensiones tan especificadas es poder incluir nuevas dinámicas de juego que afecten a sus dimensiones otorgándoles diferentes propiedades. Aunque por el momento, definiremos dos tanques del mismo tamaño. Este es un esquema que sirve de ayuda para dibujar cada uno de los tanques:\n",
    "\n",
    "```{image} img/tanque.png\n",
    ":alt: tanque\n",
    ":class: bg-primary mb-1\n",
    ":width: 550px\n",
    ":align: center\n",
    "```"
   ]
  },
  {
   "cell_type": "markdown",
   "metadata": {},
   "source": [
    "Por ejemplo, el siguiente diccionario definiría dos tanques con sus posiciones, dimensiones, ángulo de disparo y color."
   ]
  },
  {
   "cell_type": "code",
   "execution_count": 10,
   "metadata": {},
   "outputs": [],
   "source": [
    "tank_parameters = {\n",
    "        1: {'tank_coord_x':0,  'tank_coord_y':0,  'tank_angle':0, \"tank_width\": 0.1, \n",
    "            \"tank_height\": 0.01,  \"canon_width\": 0.01, \"canon_height\": 0.05, \"color\":\"blue\"},\n",
    "        2: {'tank_coord_x':1,  'tank_coord_y':1,  'tank_angle':1, \"tank_width\": 0.1, \n",
    "            \"tank_height\": 0.01,  \"canon_width\": 0.01, \"canon_height\": 0.05, \"color\":\"red\"}\n",
    "    }"
   ]
  },
  {
   "cell_type": "markdown",
   "metadata": {},
   "source": [
    "Una vez explicada la forma en la que se define un tanque, vamos a programar una función **draw_tank(ax, tank_parameters, player)** que recibe como argumentos de entrada:\n",
    "\n",
    "* **ax** con la variable que contiene los *axex* en los que vamos a representar los tanques \n",
    "* **tank_parameters** con el diccionario que describe los tanques\n",
    "* **player** con el ID del tanque que queremos dibujar\n",
    "\n",
    "La función no devuelve ninguna variable, sólamente se limita a pintar el tanque en el entorno identificado mediante la variable **ax**. A continuación mostramos un ejemplo que dibuja un único tanque:"
   ]
  },
  {
   "cell_type": "code",
   "execution_count": 9,
   "metadata": {},
   "outputs": [
    {
     "data": {
      "image/png": "[encoded data removed]",
      "text/plain": [
       "<Figure size 144x144 with 1 Axes>"
      ]
     },
     "metadata": {
      "needs_background": "light"
     },
     "output_type": "display_data"
    }
   ],
   "source": [
    "tank_parameters = {\n",
    "        1: {'tank_coord_x':0.5,  'tank_coord_y':0.5,  'tank_angle':0, \"tank_width\": 0.1, \n",
    "            \"tank_height\": 0.05,  \"canon_width\": 0.01, \"canon_height\": 0.05, \"color\":\"blue\"}\n",
    "    }\n",
    "figure, ax = plt.subplots(figsize=(2,2))\n",
    "ax.set(xlim=(0.45, 0.65), ylim=(0.45, 0.65))\n",
    "draw_tank(ax, tank_parameters,1)"
   ]
  },
  {
   "cell_type": "markdown",
   "metadata": {},
   "source": [
    "::::{note}\n",
    "Para evitar ocupar demasiado espacio, hemos reducido el tamaño de la figura completa con el argumento **figsize** y nos hemos enfocado exclusivamente en la zona ocupada por el tanque con el comando **ax.set**:\n",
    "\n",
    ":::{code}\n",
    "figure, ax = plt.subplots(figsize=(2,2))\n",
    "ax.set(xlim=(0.45, 0.65), ylim=(0.45, 0.65))\n",
    ":::\n",
    "::::"
   ]
  },
  {
   "cell_type": "markdown",
   "metadata": {},
   "source": [
    "### Solución:"
   ]
  },
  {
   "cell_type": "code",
   "execution_count": 10,
   "metadata": {},
   "outputs": [],
   "source": [
    "import numpy as np\n",
    "import math\n",
    "\n",
    "def draw_tank(ax, tank_parameters, player):\n",
    "\n",
    "    pos_x = tank_parameters[player][\"tank_coord_x\"]\n",
    "    pos_y = tank_parameters[player][\"tank_coord_y\"]\n",
    "    dim_tank_x = tank_parameters[player][\"tank_width\"]\n",
    "    dim_tank_y = tank_parameters[player][\"tank_height\"]\n",
    "    dim_canon_x = tank_parameters[player][\"canon_width\"]\n",
    "    dim_canon_y = tank_parameters[player][\"canon_height\"]\n",
    "    angle = tank_parameters[player][\"tank_angle\"]\n",
    "    color = tank_parameters[player][\"color\"]\n",
    "    ax.add_patch(patches.Rectangle((pos_x, pos_y), dim_tank_x, dim_tank_y, linewidth=2, facecolor=color))\n",
    "\n",
    "    pos_canon_x = pos_x\n",
    "    pos_canon_y = pos_y\n",
    "\n",
    "    if (-45 <= angle <= 45):      # weapon upward\n",
    "        pos_canon_x += dim_tank_x/2 - (dim_canon_x/2)\n",
    "        pos_canon_y += dim_tank_y\n",
    "    \n",
    "    elif (45 <= angle <= 3*45):   # weapon leftward\n",
    "        pos_canon_y +=  (dim_tank_y/2) - (dim_canon_x/2)\n",
    "    \n",
    "    elif (3*45 <= angle <= 5*45): # weapon downward\n",
    "        pos_canon_x += (dim_tank_x/2) + (dim_canon_x/2)\n",
    "    \n",
    "    else:                         # weapon rightward\n",
    "        pos_canon_x += dim_tank_x\n",
    "        pos_canon_y += (dim_tank_y/2) + (dim_canon_x/2)\n",
    "        \n",
    "    ax.add_patch(patches.Rectangle((pos_canon_x, pos_canon_y), dim_canon_x, dim_canon_y, linewidth=2, facecolor=color, angle = angle))"
   ]
  },
  {
   "cell_type": "markdown",
   "metadata": {},
   "source": [
    ":::{note}\n",
    "Nosotros hemos definido los grados de disparo respecto a la vertical, pero se puede hacer de muchas otras formas.\n",
    ":::"
   ]
  },
  {
   "cell_type": "markdown",
   "metadata": {},
   "source": [
    "Ahora podemos comprobar los diferentes ángulos de tiro variando la propiedad **'tank_angle'** de nuestro diccionario:"
   ]
  },
  {
   "cell_type": "code",
   "execution_count": 14,
   "metadata": {},
   "outputs": [
    {
     "data": {
      "image/png": "[encoded data removed]",
      "text/plain": [
       "<Figure size 144x144 with 1 Axes>"
      ]
     },
     "metadata": {
      "needs_background": "light"
     },
     "output_type": "display_data"
    }
   ],
   "source": [
    "tank_parameters = {\n",
    "        1: {'tank_coord_x':0.5,  'tank_coord_y':0.5,  'tank_angle':0, \"tank_width\": 0.1, \n",
    "            \"tank_height\": 0.05,  \"canon_width\": 0.01, \"canon_height\": 0.05, \"color\":\"blue\"}\n",
    "    }\n",
    "figure, ax = plt.subplots(figsize=(2,2))\n",
    "ax.set(xlim=(0.45, 0.65), ylim=(0.45, 0.65))\n",
    "draw_tank(ax, tank_parameters,player=1)"
   ]
  },
  {
   "cell_type": "code",
   "execution_count": 15,
   "metadata": {},
   "outputs": [
    {
     "data": {
      "image/png": "[encoded data removed]",
      "text/plain": [
       "<Figure size 144x144 with 1 Axes>"
      ]
     },
     "metadata": {
      "needs_background": "light"
     },
     "output_type": "display_data"
    }
   ],
   "source": [
    "tank_parameters = {\n",
    "        1: {'tank_coord_x':0.5,  'tank_coord_y':0.5,  'tank_angle':90, \"tank_width\": 0.1, \n",
    "            \"tank_height\": 0.05,  \"canon_width\": 0.01, \"canon_height\": 0.05, \"color\":\"blue\"}\n",
    "    }\n",
    "figure, ax = plt.subplots(figsize=(2,2))\n",
    "ax.set(xlim=(0.45, 0.65), ylim=(0.45, 0.65))\n",
    "draw_tank(ax, tank_parameters,player=1)"
   ]
  },
  {
   "cell_type": "code",
   "execution_count": 16,
   "metadata": {},
   "outputs": [
    {
     "data": {
      "image/png": "[encoded data removed]",
      "text/plain": [
       "<Figure size 144x144 with 1 Axes>"
      ]
     },
     "metadata": {
      "needs_background": "light"
     },
     "output_type": "display_data"
    }
   ],
   "source": [
    "tank_parameters = {\n",
    "        1: {'tank_coord_x':0.5,  'tank_coord_y':0.5,  'tank_angle':180, \"tank_width\": 0.1, \n",
    "            \"tank_height\": 0.05,  \"canon_width\": 0.01, \"canon_height\": 0.05, \"color\":\"blue\"}\n",
    "    }\n",
    "figure, ax = plt.subplots(figsize=(2,2))\n",
    "ax.set(xlim=(0.45, 0.65), ylim=(0.45, 0.65))\n",
    "draw_tank(ax, tank_parameters,player=1)"
   ]
  },
  {
   "cell_type": "code",
   "execution_count": 17,
   "metadata": {},
   "outputs": [
    {
     "data": {
      "image/png": "[encoded data removed]",
      "text/plain": [
       "<Figure size 144x144 with 1 Axes>"
      ]
     },
     "metadata": {
      "needs_background": "light"
     },
     "output_type": "display_data"
    }
   ],
   "source": [
    "tank_parameters = {\n",
    "        1: {'tank_coord_x':0.5,  'tank_coord_y':0.5,  'tank_angle':270, \"tank_width\": 0.1, \n",
    "            \"tank_height\": 0.05,  \"canon_width\": 0.01, \"canon_height\": 0.05, \"color\":\"blue\"}\n",
    "    }\n",
    "figure, ax = plt.subplots(figsize=(2,2))\n",
    "ax.set(xlim=(0.45, 0.65), ylim=(0.45, 0.65))\n",
    "draw_tank(ax, tank_parameters,player=1)"
   ]
  },
  {
   "cell_type": "markdown",
   "metadata": {},
   "source": [
    "También podemos probar la representación de varios tanques, si los hubiera:"
   ]
  },
  {
   "cell_type": "code",
   "execution_count": 18,
   "metadata": {},
   "outputs": [
    {
     "data": {
      "image/png": "[encoded data removed]",
      "text/plain": [
       "<Figure size 432x288 with 1 Axes>"
      ]
     },
     "metadata": {
      "needs_background": "light"
     },
     "output_type": "display_data"
    }
   ],
   "source": [
    "from matplotlib import pyplot as plt, patches\n",
    "tank_parameters = {\n",
    "        1: {'tank_coord_x':0,  'tank_coord_y':0,  'tank_angle':0, \"tank_width\": 0.1, \n",
    "            \"tank_height\": 0.05,  \"canon_width\": 0.01, \"canon_height\": 0.05, \"color\":\"blue\"},\n",
    "        2: {'tank_coord_x':0.8,  'tank_coord_y':0.8,  'tank_angle':0, \"tank_width\": 0.1, \n",
    "            \"tank_height\": 0.05,  \"canon_width\": 0.01, \"canon_height\": 0.05, \"color\":\"red\"}\n",
    "    }\n",
    "figure, ax = plt.subplots()\n",
    "draw_tank(ax, tank_parameters,player=1)\n",
    "draw_tank(ax, tank_parameters,player=2)"
   ]
  },
  {
   "cell_type": "markdown",
   "metadata": {},
   "source": [
    "## Creación tablero y los tanques\n",
    "\n",
    "Una vez que hemos definido los obstáculos y los tanques, vamos a implementar la función **display_scenario(obstacles, tank_parameters)** que representa ambos elementos: \n",
    "\n",
    "```{image} img/tablero.png\n",
    ":alt: tablero\n",
    ":class: bg-primary mb-1\n",
    ":width: 450px\n",
    ":align: center\n",
    "```\n",
    "\n",
    "Esta función recibirá como argumentos de entrada:\n",
    "\n",
    "* **obstacles** es una variable de tipo lista de listas que contiene la información (coordenadas) de los obstáculos del mapa. Esta lista es la salida de la función **format_coord** que hemos programado en el apartado anterior\n",
    "* **tank_parameters** es una variable de tipo diccionario que contiene la posición y dimensión de los tanques\n",
    "\n",
    "La función sólo debe devolver la variable **ax** que utilicemos para representar los objetos en el espacio de dibujo."
   ]
  },
  {
   "cell_type": "markdown",
   "metadata": {},
   "source": [
    "### Solución:"
   ]
  },
  {
   "cell_type": "code",
   "execution_count": 19,
   "metadata": {},
   "outputs": [],
   "source": [
    "def display_scenario(obstacles, tank_parameters, plot=True):\n",
    "    figure, ax = plt.subplots(figsize=(5,5))\n",
    "    for coord in obstacles:\n",
    "        ax.add_patch(patches.Rectangle(coord[0], coord[1], coord[2], linewidth=2, facecolor='black'))\n",
    "    for idd in tank_parameters.keys():\n",
    "        draw_tank(ax, tank_parameters,idd)\n",
    "    if plot: plt.show()\n",
    "    return ax"
   ]
  },
  {
   "cell_type": "markdown",
   "metadata": {},
   "source": [
    "Si te fijas, esta implementación es capaz de representar todos los tanques que se hayan definido en la variable **tank_parameters**. Aunque para nuestro juego sólo vamos a usar dos,sería relativamente facil de implementar una modalidad de juego para más jugadores o incluso un modo en el que cada usuario contara con varios vehículos."
   ]
  },
  {
   "cell_type": "markdown",
   "metadata": {},
   "source": [
    "::::{note}\n",
    "El propósito de devolver **ax** es que podamos actuar sobre las variables de la visualización para variar su tamaño, añadir anotaciones o títulos o quedarnos con una porción de la misma. En nuestra implementación del juego no vamos a utilizar esa variable con esos propósitos, pero es útil tener acceso a ella para futuras mejoras. \n",
    "\n",
    "Para evitar que Python muestre el contenido de la variable **ax** cada vez que invoquemos a la función **display_scenario**, es suficiente con invocar a la función de esta manera:\n",
    "\n",
    ":::{code}\n",
    "_ = display_scenario(obstacles, tank_parameters)\n",
    ":::\n",
    "\n",
    "Por otro lado, puedes estar preguntándote la utilidad de esta línea de código:\n",
    "\n",
    ":::{code}\n",
    "if plot: plt.show()\n",
    ":::\n",
    "\n",
    "Su funcionalidad es decidir si vamos visualizar el escenario o no. Pero ¿qué sentido tiene? ¿para qué una función llamada **display_scenario** si no vamos a sacarlo por pantalla?. Tienes razón, el propósito es visualizarlo. Pero en el momento en el que hacemos un **plt.show()**, ya no podemos alterar ese escenario. En la mayoría de las ocasiones en las que vamos a invocar a la función  **display_scenario** queremos representarlo y no tendremos intención de modificarlo, pero más adelante, vamos a representar los disparos, y para ello, vamosa a ir añadiendo puntos a la trayectoria de la bala. Estos puntos tenemos que añadirlos utilizando el objeto **ax** que devuelve nuestra función **display_scenario**, y para que estos puntos puedan añadirse al escenario, no deberíamos haber realizado un **plt.show()** con anterioridad.\n",
    "\n",
    "Por eso, cuando queramos que la escena sea estática, invocaremos a la función como:\n",
    "\n",
    ":::{code}\n",
    "display_scenario(obstacles, tank_parameters)\n",
    ":::\n",
    "\n",
    "Pero cuando queramos añadir la trayectoria del disparo, la invocaremos como:\n",
    "\n",
    ":::{code}\n",
    "display_scenario(obstacles, tank_parameters, plot=False)\n",
    ":::\n",
    "\n",
    "No te preocupes si no lo ves claro, según vayamos progresando en la implementación del juego lo entenderás mejor.\n",
    "::::"
   ]
  },
  {
   "cell_type": "code",
   "execution_count": 20,
   "metadata": {},
   "outputs": [
    {
     "data": {
      "image/png": "[encoded data removed]",
      "text/plain": [
       "<Figure size 360x360 with 1 Axes>"
      ]
     },
     "metadata": {
      "needs_background": "light"
     },
     "output_type": "display_data"
    }
   ],
   "source": [
    "from matplotlib import pyplot as plt, patches\n",
    "\n",
    "obstacles_x =[ [0, 0.2], [0.3, 0.7], [0, 0.3], [0.8, 0.85], [0.55, 0.85], [0.55, 1.0], [0.0, 0.4], [0.7, 0.75] ]\n",
    "obstacles_y = [ [0, 0.2], [0.15, 0.2], [0.4, 0.45], [0.2, 0.6], [0.6, 0.65], [0.8, 1.25], [0.7, 0.75], [0.0, 0.2] ]\n",
    "obstacles = format_coord(obstacles_x,obstacles_y)\n",
    "\n",
    "tank_parameters = {\n",
    "        1: {'tank_coord_x':0,  'tank_coord_y':0,  'tank_angle':0, \"tank_width\": 0.1, \n",
    "            \"tank_height\": 0.05,  \"canon_width\": 0.01, \"canon_height\": 0.05, \"color\":\"blue\"},\n",
    "        2: {'tank_coord_x':0.9,  'tank_coord_y':0.8,  'tank_angle':0, \"tank_width\": 0.1, \n",
    "            \"tank_height\": 0.05,  \"canon_width\": 0.01, \"canon_height\": 0.05, \"color\":\"red\"},\n",
    "        3: {'tank_coord_x':0.9,  'tank_coord_y':0,  'tank_angle':0, \"tank_width\": 0.1, \n",
    "            \"tank_height\": 0.05,  \"canon_width\": 0.01, \"canon_height\": 0.05, \"color\":\"green\"}\n",
    "    }\n",
    "\n",
    "_ = display_scenario(obstacles, tank_parameters)"
   ]
  },
  {
   "cell_type": "markdown",
   "metadata": {},
   "source": [
    "## Calcular movimiento tanque\n",
    "\n",
    "El movimiento del tanque se va a realizar mediante las teclas \"A\",\"D\",\"W\" y \"S\". Para traducir la pulsación de una tecla en un movimiento en el campo de combate vamos a implementar la función **move_tank(x,y, units, direction)** que devuelve una tupla con las coordenadas del tanque después de realizar el movimiento solicitado. Los argumentos de entrada son:\n",
    "\n",
    "* **x** con la última coordnada x del tanque\n",
    "* **y** con la última coordnada y del tanque\n",
    "* **units** con el número de unidades que se va a mover el tanque\n",
    "* **direction** con la dirección en la que se moverá el tanque. Las direcciones posibles son:\n",
    "    * **d** => derecha\n",
    "    * **a** => izquierda\n",
    "    * **w** => arriba\n",
    "    * **s** => abajo"
   ]
  },
  {
   "cell_type": "markdown",
   "metadata": {},
   "source": [
    "A modo de aclaración, el siguiente código muestra qué salidas devería devolver la función **move_tank** después de realizar el mismo movimiento en las cuatro direcciones, partiendo de un tanque situado en el centro de la pantalla (0.5,0.5):"
   ]
  },
  {
   "cell_type": "code",
   "execution_count": 22,
   "metadata": {},
   "outputs": [
    {
     "name": "stdout",
     "output_type": "stream",
     "text": [
      "Right: (0.7, 0.5)\n",
      "Left:  (0.3, 0.5)\n",
      "Up:    (0.5, 0.7)\n",
      "Down:  (0.5, 0.3)\n"
     ]
    }
   ],
   "source": [
    "print(\"Right:\",move_tank(0.5,0.5,0.2,'d'))\n",
    "print(\"Left: \",move_tank(0.5,0.5,0.2,'a'))\n",
    "print(\"Up:   \",move_tank(0.5,0.5,0.2,'w'))\n",
    "print(\"Down: \",move_tank(0.5,0.5,0.2,'s'))"
   ]
  },
  {
   "cell_type": "markdown",
   "metadata": {},
   "source": [
    "### Solución:"
   ]
  },
  {
   "cell_type": "code",
   "execution_count": 21,
   "metadata": {},
   "outputs": [],
   "source": [
    "def move_tank(x,y, units, direction): \n",
    "    # w a s d => arriba, abajo, izquierda, derecha\n",
    "    new_x = x\n",
    "    new_y = y\n",
    "    if direction == 'd':\n",
    "        new_x += units\n",
    "    elif direction == 'a':\n",
    "        new_x -= units\n",
    "    elif direction == 'w':\n",
    "        new_y += units\n",
    "    else: # direction == 's'\n",
    "        new_y -= units\n",
    "    return round(new_x,2), round(new_y,2)"
   ]
  },
  {
   "cell_type": "markdown",
   "metadata": {},
   "source": [
    "::::{warning}\n",
    "Si te preguntas el motivo de devolver una salida redondeada a dos decimales, tiene que ver con los errores de coma flotante. Por ejemplo en esta operación:\n",
    "\n",
    ":::{code}\n",
    "0.1+0.05\n",
    ":::\n",
    "0.15000000000000002\n",
    "\n",
    "Como puedes imaginar, un decimal en la posición 17 no es grave para la inmensa mayoría de aplicaciones. Pero cuando trabajamos con coordenadas, estamos intentando emular un sistema discreto. Si no hacemos este redondeo, a la hora de detectar si hemos topado con una pared o un obstáculo podemos tener problemas.\n",
    "::::\n",
    "\n",
    ":::{seealso}\n",
    "Puedes obtener más información sobre este tema [aquí](https://www.geeksforgeeks.org/floating-point-error-in-python/) o [aquí](https://docs.python.org/3/tutorial/floatingpoint.html).\n",
    ":::"
   ]
  },
  {
   "cell_type": "markdown",
   "metadata": {},
   "source": [
    "## Calcular la trayectoria de un disparo\n",
    "\n",
    "Una vez que un jugador decide disparar con un determinado ángulo, tenemos que calcular la trayectoria del disparo antes de saber si un tanque enemigo ha sido alcanzado. Vamos a implementar la función **shoot_rays(x,y,angle)** que recibe como parámetros:\n",
    "\n",
    "* **x** con la coordenada x inicial de la bala\n",
    "* **y** con la coordenada y inicial de la bala\n",
    "* **angle** cib el ángulo del disparo con respecto a la vertical (en grados)\n",
    "\n",
    "La función tendrá que devolver la posición del disparo en varios instantes de su trayectoria mediante dos vectores **new_x** y **new_y**. Si definimos el paso con la variable **step**, las formulas que estiman la posición son: \n",
    "\n",
    ":::{code}\n",
    "x[n] = x[n-1] + sin(-angle)*step\n",
    "y[n] = y[n-1] + cos(-angle)*step\n",
    ":::\n",
    "\n",
    "Por ejemplo:\n",
    "\n",
    ":::{code}\n",
    "new_x, new_y = shoot_rays(x=0,y=0,angle=45)\n",
    "new_x = [0, -0.0070710678118654745, -0.014142135623730949, -0.021213203435596423...\n",
    "new_y = [0, 0.007071067811865476, 0.014142135623730952, 0.021213203435596427...\n",
    ":::  "
   ]
  },
  {
   "cell_type": "markdown",
   "metadata": {},
   "source": [
    ":::{tip}\n",
    "El número de coordenadas que debemos devolver debería depender de la posición del tanque y del ángulo de tiro. Esto requiriría hacer uso de un poco de trigonometría. En este caso, vamos a optar por la opción más sencilla, que es hacer 200 iteracciones en pasos de 0.01, y más adelante descartaremos aquellas coordenadas que excedan los rangos de nuestros ejes de juego.\n",
    ":::"
   ]
  },
  {
   "cell_type": "markdown",
   "metadata": {},
   "source": [
    "### Solución:"
   ]
  },
  {
   "cell_type": "code",
   "execution_count": 23,
   "metadata": {},
   "outputs": [],
   "source": [
    "def shoot_rays(x,y,angle):\n",
    "    step = 0.01\n",
    "    radians = -(angle* math.pi)/180 \n",
    "    new_x = [x]\n",
    "    new_y = [y]\n",
    "    for i in range(200): \n",
    "        new_x.append(new_x[i]+np.sin(radians)*step)\n",
    "        new_y.append(new_y[i]+np.cos(radians)*step)\n",
    "    return new_x, new_y"
   ]
  },
  {
   "cell_type": "markdown",
   "metadata": {},
   "source": [
    "::::{note}\n",
    "Calculamos el ángulo en gradiantes de esta forma:\n",
    ":::{code}\n",
    "radians = -(angle* math.pi)/180\n",
    "::: \n",
    "Para ser coherentes con la decisión que hemos tomado de medir los grados respecto de la vertical.\n",
    "::::"
   ]
  },
  {
   "cell_type": "markdown",
   "metadata": {},
   "source": [
    "Ahora podemos confirmar las coordenadas de la trayectoria de la bala en caso de disparar con un ángulo de 0 grados:"
   ]
  },
  {
   "cell_type": "code",
   "execution_count": 24,
   "metadata": {},
   "outputs": [
    {
     "name": "stdout",
     "output_type": "stream",
     "text": [
      "New X:  [0, 0.0, 0.0, 0.0, 0.0]\n",
      "New Y:  [0.5, 0.51, 0.52, 0.53, 0.54]\n"
     ]
    }
   ],
   "source": [
    "new_x,new_y=shoot_rays(0,0.5,0)\n",
    "print(\"New X: \",new_x[:5])\n",
    "print(\"New Y: \",new_y[:5])"
   ]
  },
  {
   "cell_type": "markdown",
   "metadata": {},
   "source": [
    "Con la ejecución anterior podemos comprobar que, efectivamente, el disparo progresa en dirección vertical ascendente."
   ]
  },
  {
   "cell_type": "markdown",
   "metadata": {},
   "source": [
    "## Detección de paredes u obstáculos\n",
    "\n",
    "Una vez que un jugador ha realizado un disparo, tenemos que ser capaces de detectar si ese disparo impacta con un tanque o por el contrario, impacta con alguna paredo u obstáculo intermedio. Para ello hemos dibujado un esquema para ayudar a entender cómo vamos a hacerlo. El cuadrado azul de la figura simula un obstáculo y la recta es la trayectoria del disparo calculada anteriormente:\n",
    "\n",
    "```{image} img/detectar_si_rebote.png\n",
    ":alt: tanque\n",
    ":class: bg-primary mb-1\n",
    ":width: 450px\n",
    ":align: center\n",
    "```\n",
    "\n",
    "El mecanismo que vamos a seguir es ir analizando todos los puntos de la trayectoria del disparo e ir comprobando si este se encuentra entre algún intervalo de nuestra lista de obstaculos. Esta tarea la vamos a codificar en la función **impact_found(x_coord, y_coord, obstacles_x, obstacles_y)** que recibe los argumentos:\n",
    "\n",
    "* **x_coord** y **y_coord** con las listas de coordenadas de los puntos de la trayectoria del disparo\n",
    "* **obstacles_x** y **obstacles_y** con las listas de coordenadas de los obstáculos \n",
    "\n",
    "La función **impact_found** debe devolver una variable booleana de valor **True** en caso de impacto con obstáculo o **False** en caso contrario.\n",
    "\n",
    "La detección de paredes es más sencilla porque basta con comprobar si las coordenadas de un punto de la trayectoria exceden los límites de nuestro campo de batalla. Para ello vamos a implementar la función **out_of_bounds(x_coord, y_coord)** que recibe el valor X y el valor Y de una coordenada y devuelve **True** si alguna de ambas supera los límites del escenario o **False** en caso de que ambas coordenadas estén dentro.\n",
    "\n",
    ":::{tip}\n",
    "Para considerar que el disparo ha topado con un obstáculo, hay que comprobar que las dos coordenadas, X e Y, se encuentran en los intervalos definidos en la lista de obstáculos.\n",
    ":::"
   ]
  },
  {
   "cell_type": "markdown",
   "metadata": {},
   "source": [
    "### Solución:"
   ]
  },
  {
   "cell_type": "code",
   "execution_count": 25,
   "metadata": {},
   "outputs": [],
   "source": [
    "def impact_found(x_coord, y_coord, obstacles_x, obstacles_y):\n",
    "    num = len(obstacles_x)\n",
    "    impact = False\n",
    "    i = 0\n",
    "    while (i < num) and (not impact):\n",
    "        if (obstacles_x[i][0] < x_coord < obstacles_x[i][1]) and (obstacles_y[i][0] < y_coord < obstacles_y[i][1]):\n",
    "            impact = True\n",
    "        i+=1\n",
    "    return impact"
   ]
  },
  {
   "cell_type": "code",
   "execution_count": 26,
   "metadata": {},
   "outputs": [],
   "source": [
    "def out_of_bounds(x_coord, y_coord):\n",
    "    if (x_coord > 1) or (x_coord < 0) or (y_coord > 1) or (y_coord < 0):\n",
    "        return True\n",
    "    else:\n",
    "        return False"
   ]
  },
  {
   "cell_type": "markdown",
   "metadata": {},
   "source": [
    ":::{warning}\n",
    "¡Ojo! Dependiendo de de si utilizas desigualdades estrictas (< y >) o no (<= y >=), la función **impact_found** considerará que estar pared con pared contra un obstáculo será un impacto o no. \n",
    "\n",
    "La detección de impactos mediante desigualdades es, precisamente, el bloque de código que se ve más afectado por el error de precisión descrito unos párrafos antes. Y es que si tenemos un tanque cuyo vertize inferior derecho se encuentra en la posición (0.15000000000000002,0.3) y un obstáculo colocado en la posición (0.15,0.3), esta manera de analizar impactos va a detectar que nuestro tanque ha chocado, cuando desde el punto de vista del juego debería encontrarse pared con pared. Si redondamos las coordenadas, el tanque terminará en la coordenada (0.15,0.3), justo la misma coordenada en la que comienza el obstáculo, pero como estamos realizando la detección con desigualdades estrictas, el juego no detectará impacto.\n",
    ":::"
   ]
  },
  {
   "cell_type": "markdown",
   "metadata": {},
   "source": [
    "Sólo nos vamos a preocupar de validar la función **impact_found** porque la función **out_of_bounds** es trivial. Si utilizamos la misma lista de obstáculos que hemos definido al principio de este capítulo:\n",
    "\n",
    ":::{code}\n",
    "obstacles_x = [ [0, 0.2], [0.3, 0.7], [0, 0.3], [0.8, 0.85], [0.55, 0.85], [0.55, 1.0], [0.0, 0.4], [0.7, 0.75] ]\n",
    "obstacles_y = [ [0, 0.2], [0.15, 0.2], [0.4, 0.45], [0.2, 0.6], [0.6, 0.65], [0.8, 1.25], [0.7, 0.75], [0.0, 0.2] ]\n",
    "obstacles = format_coord(obstacles_x,obstacles_y)\n",
    ":::\n",
    "\n",
    "Y generamos su posición en el tablero:\n",
    "\n",
    ":::{code}\n",
    "figure, ax = plt.subplots()\n",
    "for (obs_x, obs_y), width, height  in obstacles:\n",
    "    ax.add_patch(patches.Rectangle((obs_x, obs_y), width, height, facecolor='black', linewidth=2))\n",
    "plt.show()\n",
    ":::\n",
    "\n",
    "Podemos elegir puntos con obstáculos y puntos sin obstáculos y comprobar si el valor devuelto por la función **impact_found** es coherente. Por ejemplo, hay obstáculos en las coordenadas (0.8,0.9), (0.1,0.1):"
   ]
  },
  {
   "cell_type": "code",
   "execution_count": 27,
   "metadata": {},
   "outputs": [
    {
     "data": {
      "text/plain": [
       "True"
      ]
     },
     "execution_count": 27,
     "metadata": {},
     "output_type": "execute_result"
    }
   ],
   "source": [
    "impact_found(0.8, 0.9, obstacles_x, obstacles_y)"
   ]
  },
  {
   "cell_type": "code",
   "execution_count": 28,
   "metadata": {},
   "outputs": [
    {
     "data": {
      "text/plain": [
       "True"
      ]
     },
     "execution_count": 28,
     "metadata": {},
     "output_type": "execute_result"
    }
   ],
   "source": [
    "impact_found(0.1, 0.1, obstacles_x, obstacles_y)"
   ]
  },
  {
   "cell_type": "markdown",
   "metadata": {},
   "source": [
    "Y no los hay en las posiciones (0.3,0.3) y (0.9,0.6):"
   ]
  },
  {
   "cell_type": "code",
   "execution_count": 29,
   "metadata": {},
   "outputs": [
    {
     "data": {
      "text/plain": [
       "False"
      ]
     },
     "execution_count": 29,
     "metadata": {},
     "output_type": "execute_result"
    }
   ],
   "source": [
    "impact_found(0.3, 0.3, obstacles_x, obstacles_y)"
   ]
  },
  {
   "cell_type": "code",
   "execution_count": 30,
   "metadata": {},
   "outputs": [
    {
     "data": {
      "text/plain": [
       "False"
      ]
     },
     "execution_count": 30,
     "metadata": {},
     "output_type": "execute_result"
    }
   ],
   "source": [
    "impact_found(0.9, 0.6, obstacles_x, obstacles_y)"
   ]
  },
  {
   "cell_type": "markdown",
   "metadata": {},
   "source": [
    "Sólo nos queda combinar ambas funciones en un único método. Ese método es **validate_coord(x_coord, y_coord, obstacles_x, obstacles_y)** que recibe los mismos argumentos de entrada que la función **impact_found** y que internamente invoca a **impact_found** y a **out_of_bounds** para devolver una única variable de tipo BOOL que toma el valor **True** si la coordenada no implica impacto con ningún obstáculo o con ninguna pared y el valor **False** en caso contrario."
   ]
  },
  {
   "cell_type": "code",
   "execution_count": 31,
   "metadata": {},
   "outputs": [],
   "source": [
    "def validate_coord(x_coord, y_coord, obstacles_x, obstacles_y): \n",
    "    validate = True\n",
    "    if out_of_bounds(x_coord, y_coord) or impact_found(x_coord, y_coord, obstacles_x, obstacles_y):\n",
    "        validate = False\n",
    "    return validate"
   ]
  },
  {
   "cell_type": "markdown",
   "metadata": {},
   "source": [
    "::::{note}\n",
    "De nuevo, si hemos validado suficientemente las funciones **outOfBounds** e **impact_found**, no es necesario que perdamos mucho tiempo validando la función **validate_coord** ya que sólo implica una condición buleana bastante sencilla.\n",
    "::::"
   ]
  },
  {
   "cell_type": "markdown",
   "metadata": {},
   "source": [
    "A la hora de programar, es importante reutilizar todo el código que sea posible. Cuanto más corto sea nuestro programa, más fácil de mantener y más sencillo detectar fallos. En este caso, puedes notar que la función **validate_coord**, además de para detectar si una coordenada pertenece a un obstáculo o a una pared, también nos sirve para detectar si una bala ha impactado con un vehículo o para comprobar si el movimiento de un tanque está permitido o no.\n",
    "\n",
    "La detección de impacto de la bala contra un vehículo es sencilla, sólo tenemos que invocar la función anterior proporcionando las coordenadas X e Y de la bala y el rango de valores X e Y que ocupa un tanque (como si de un obstáculo se tratara)\n",
    "\n",
    ":::{code}\n",
    "validate_coord(x_coord, y_coord, \n",
    "               [tank_parameters['tank_coord_x'], tank_parameters['tank_coord_x'] + tank_parameters['tank_width']],\n",
    "               [tank_parameters['tank_coord_y'], tank_parameters['tank_coord_y'] + tank_parameters['tank_height']])\n",
    ":::"
   ]
  },
  {
   "cell_type": "markdown",
   "metadata": {},
   "source": [
    "La validación del movimiento de un vehículo es algo más complicado ya que los tanques son elementos 2D con cuatro vértices (si despreciamos el cañón). Antes de dar por válidas las nuevas coordenadas resultado de aplicar la función **move_tank**, hay que confirmar que ese desplazamiento no implica chocar con ninguna pared ni nigún obstáculo. Eso podemos hacerlo con la función **validate_coord**, pero esta función sólo chequea las dos componentes de una coordenada (x,y). Para validar la nueva posición del tanque hay que verificar sus cuatro vértices, ya que dependiendo del movimiento del tanque podemos impactar por la derecha, por la izquierda, por arriba o por abajo.\n",
    "\n",
    "Para ello vamos a programar la función **validate_mov(new_x, new_y, player, tank_parameters, obstacles_x, obstacles_y)** que recibe los siguientes argumentos:\n",
    "\n",
    "* **new_x**,**new_y** con las coordenadas del desplazamiento que queremos validar\n",
    "* **player** con el id del tanque\n",
    "* **tank_parameters** con el diccionario con los parámetros de los tanques\n",
    "* **obstacles_x, obstacles_y** con las coordenadas de los obstáculos\n",
    "\n",
    "La salida es una variable de tipo BOOL indicando si el movimiento es o no válido."
   ]
  },
  {
   "cell_type": "markdown",
   "metadata": {},
   "source": [
    ":::{tip}\n",
    "La manera más sencilla es calcular los cuatro vértices del tanque y aplicar la función **validate_coord** a todos ellos. Si la función valida las cuatro coordenadas, entonces el movimiento propuesto es factible.\n",
    ":::"
   ]
  },
  {
   "cell_type": "code",
   "execution_count": 32,
   "metadata": {},
   "outputs": [],
   "source": [
    "def validate_mov(new_x,new_y,player,tank_parameters,obstacles_x, obstacles_y):\n",
    "    tank_corners=[]\n",
    "    tank_corners.append((new_x,new_y))\n",
    "    tank_corners.append((new_x+tank_parameters[player][\"tank_width\"],new_y))\n",
    "    tank_corners.append((new_x,new_y+tank_parameters[player][\"tank_height\"]))\n",
    "    tank_corners.append((new_x+tank_parameters[player][\"tank_width\"],new_y+tank_parameters[player][\"tank_height\"]))\n",
    "    check_corners=[]\n",
    "    for x,y in tank_corners:\n",
    "        check_corners.append(validate_coord(x, y, obstacles_x, obstacles_y))\n",
    "    return all(check_corners)"
   ]
  },
  {
   "cell_type": "markdown",
   "metadata": {},
   "source": [
    ":::{note}\n",
    "Hacemos uso de la función **all(list)** que sólo devuelve True si todas las componentes de la lista de buleanos pasada como argumento son **True**.\n",
    ":::"
   ]
  },
  {
   "cell_type": "markdown",
   "metadata": {},
   "source": [
    "Para testear su funcionamiento, vamos a utilizar la misma definición de obstáculos que venimos utilizando y un diccionario **tank_parameters** con las dimensiones de un tanque."
   ]
  },
  {
   "cell_type": "code",
   "execution_count": 33,
   "metadata": {},
   "outputs": [],
   "source": [
    "obstacles_x =[ [0, 0.2], [0.3, 0.7], [0, 0.3], [0.8, 0.85], [0.55, 0.85], [0.55, 1.0], [0.0, 0.4], [0.7, 0.75] ]\n",
    "obstacles_y = [ [0, 0.2], [0.15, 0.2], [0.4, 0.45], [0.2, 0.6], [0.6, 0.65], [0.8, 1.25], [0.7, 0.75], [0.0, 0.2] ]"
   ]
  },
  {
   "cell_type": "code",
   "execution_count": 34,
   "metadata": {},
   "outputs": [],
   "source": [
    "tank_parameters = {1: {'tank_coord_x':0.0,  'tank_coord_y':0.0,  'tank_angle':0, \"tank_width\": 0.1, \n",
    "            \"tank_height\": 0.05,  \"canon_width\": 0.01, \"canon_height\": 0.05, \"color\":\"blue\"}}"
   ]
  },
  {
   "cell_type": "markdown",
   "metadata": {},
   "source": [
    "Ahora podemos probar una posicion despejada de obstáculos (0.4,0.0) y ver que la función **validate_mov** nos indica que es un movimiento legal:"
   ]
  },
  {
   "cell_type": "code",
   "execution_count": 35,
   "metadata": {},
   "outputs": [
    {
     "data": {
      "text/plain": [
       "True"
      ]
     },
     "execution_count": 35,
     "metadata": {},
     "output_type": "execute_result"
    }
   ],
   "source": [
    "validate_mov(0.4,0.0,1,tank_parameters,obstacles_x, obstacles_y)"
   ]
  },
  {
   "cell_type": "markdown",
   "metadata": {},
   "source": [
    "Sin embargo, las posiciones:\n",
    "* (1,0) el tanque impacta por la derecha con una pared"
   ]
  },
  {
   "cell_type": "code",
   "execution_count": 36,
   "metadata": {},
   "outputs": [
    {
     "data": {
      "text/plain": [
       "False"
      ]
     },
     "execution_count": 36,
     "metadata": {},
     "output_type": "execute_result"
    }
   ],
   "source": [
    "validate_mov(1,0,1,tank_parameters,obstacles_x, obstacles_y)"
   ]
  },
  {
   "cell_type": "markdown",
   "metadata": {},
   "source": [
    "* (0.2,0.67) el tanque impacta por arriba con un obstáculo"
   ]
  },
  {
   "cell_type": "code",
   "execution_count": 37,
   "metadata": {},
   "outputs": [
    {
     "data": {
      "text/plain": [
       "False"
      ]
     },
     "execution_count": 37,
     "metadata": {},
     "output_type": "execute_result"
    }
   ],
   "source": [
    "validate_mov(0.2,0.67,1,tank_parameters,obstacles_x, obstacles_y)"
   ]
  },
  {
   "cell_type": "markdown",
   "metadata": {},
   "source": [
    "* (0.47,0.87)  el tanque impacta por la derecha con un obstáculo"
   ]
  },
  {
   "cell_type": "code",
   "execution_count": 38,
   "metadata": {},
   "outputs": [
    {
     "data": {
      "text/plain": [
       "False"
      ]
     },
     "execution_count": 38,
     "metadata": {},
     "output_type": "execute_result"
    }
   ],
   "source": [
    "validate_mov(0.47,0.87,1,tank_parameters,obstacles_x, obstacles_y)"
   ]
  },
  {
   "cell_type": "markdown",
   "metadata": {},
   "source": [
    "* (0.67,0.63)  el tanque impacta por abajo con un obstáculo"
   ]
  },
  {
   "cell_type": "code",
   "execution_count": 39,
   "metadata": {},
   "outputs": [
    {
     "data": {
      "text/plain": [
       "False"
      ]
     },
     "execution_count": 39,
     "metadata": {},
     "output_type": "execute_result"
    }
   ],
   "source": [
    "validate_mov(0.67,0.63,1,tank_parameters,obstacles_x, obstacles_y)"
   ]
  },
  {
   "cell_type": "markdown",
   "metadata": {},
   "source": [
    "* (0.18,0.10)  el tanque impacta por la izquierda con un obstáculo"
   ]
  },
  {
   "cell_type": "code",
   "execution_count": 40,
   "metadata": {},
   "outputs": [
    {
     "data": {
      "text/plain": [
       "False"
      ]
     },
     "execution_count": 40,
     "metadata": {},
     "output_type": "execute_result"
    }
   ],
   "source": [
    "validate_mov(0.18,0.10,1,tank_parameters,obstacles_x, obstacles_y)"
   ]
  },
  {
   "cell_type": "markdown",
   "metadata": {},
   "source": [
    "Podemos colocar los 5 tanques en la escena para comprobar esos impactos:"
   ]
  },
  {
   "cell_type": "code",
   "execution_count": 41,
   "metadata": {},
   "outputs": [
    {
     "data": {
      "image/png": "[encoded data removed]",
      "text/plain": [
       "<Figure size 360x360 with 1 Axes>"
      ]
     },
     "metadata": {
      "needs_background": "light"
     },
     "output_type": "display_data"
    }
   ],
   "source": [
    "tank_parameters = {\n",
    "        1: {'tank_coord_x':0.40,  'tank_coord_y':0.0,  'tank_angle':0, \"tank_width\": 0.1, \n",
    "            \"tank_height\": 0.05,  \"canon_width\": 0.01, \"canon_height\": 0.05, \"color\":\"blue\"},\n",
    "        2: {'tank_coord_x':0.20,  'tank_coord_y':0.67,  'tank_angle':0, \"tank_width\": 0.1, \n",
    "            \"tank_height\": 0.05,  \"canon_width\": 0.01, \"canon_height\": 0.05, \"color\":\"red\"},\n",
    "        3: {'tank_coord_x':0.47,  'tank_coord_y':0.87,  'tank_angle':0, \"tank_width\": 0.1, \n",
    "            \"tank_height\": 0.05,  \"canon_width\": 0.01, \"canon_height\": 0.05, \"color\":\"green\"},\n",
    "        4: {'tank_coord_x':0.67,  'tank_coord_y':0.63,  'tank_angle':0, \"tank_width\": 0.1, \n",
    "            \"tank_height\": 0.05,  \"canon_width\": 0.01, \"canon_height\": 0.05, \"color\":\"yellow\"},\n",
    "        5: {'tank_coord_x':0.18,  'tank_coord_y':0.10,  'tank_angle':0, \"tank_width\": 0.1, \n",
    "            \"tank_height\": 0.05,  \"canon_width\": 0.01, \"canon_height\": 0.05, \"color\":\"pink\"}\n",
    "    }\n",
    "_=display_scenario(obstacles, tank_parameters)"
   ]
  },
  {
   "cell_type": "markdown",
   "metadata": {},
   "source": [
    "## Implementación del juego\n",
    "\n",
    "Las normas de nuestro **Tank Royale** son sencillas:\n",
    "\n",
    "* El tanque 1 comenzara en la posición x = 0.1, y = 0.2, ángulo de cañón = 0\n",
    "* El tanque 2 comenzara en la posición x = 0.1, y = 0.9, ángulo de cañón = 180\n",
    "* Empieza moviendo el jugador 1\n",
    "* Si un tanque consigue tocar al otro tanque se acaba la partida\n",
    "* En un turno, un jugador solo puede o mover su tanque o disparar. Por lo que dispondrá de las siguientes acciones:\n",
    "    * Derecha  (d) \n",
    "    * Izquiera (a) \n",
    "    * Arriba   (w) \n",
    "    * Abajo    (s) \n",
    "    * Disparar (q) en cuyo caso se le pedirá en ángulo"
   ]
  },
  {
   "cell_type": "markdown",
   "metadata": {},
   "source": [
    "::::{note}\n",
    "Ya lo hemos utilizado varias veces a lo largo de este libro, pero te recordamos que para limpiar la celda del notebook entre turno y turno puedes usar la función:\n",
    "\n",
    ":::{code}\n",
    "clear_output(wait=True)\n",
    "::: \n",
    "\n",
    "de la librería:\n",
    "\n",
    ":::{code}\n",
    "from IPython.display import clear_output\n",
    ":::\n",
    "::::"
   ]
  },
  {
   "cell_type": "markdown",
   "metadata": {},
   "source": [
    ":::{tip}\n",
    "Considera el uso de la función **sleep** de la librería **time** cuando consideres que el juego debe pausarse unos segundos.\n",
    ":::"
   ]
  },
  {
   "cell_type": "markdown",
   "metadata": {},
   "source": [
    "Como te venimos repitiendo a lo largo de todos los capítulos de este libro, existen muchas formas de utilizar las funciones implementadas para programar el programa principal. Nosotros te vamos a mostrar la nuestra, pero te recomendamos, como siempre, que antes de mirar nuestra solución lo intentes por tu cuenta. En nuestra solución vamos a definir una serie de funciones adicionales que nos ayudarán a modularizar mejor el programa principal."
   ]
  },
  {
   "cell_type": "markdown",
   "metadata": {},
   "source": [
    "### Solución:"
   ]
  },
  {
   "cell_type": "markdown",
   "metadata": {},
   "source": [
    "Vamos a empezar programando una función que nos permita alternar entre jugadores. La vamos a llamar **change_player(player)** y se limitará a alternar el contenido de la variable **player** de 1 a 2 y de 2 a 1. La función devolverá la versión actualizada de esa misma variable."
   ]
  },
  {
   "cell_type": "code",
   "execution_count": 52,
   "metadata": {},
   "outputs": [],
   "source": [
    "def change_player(player):\n",
    "    return 1 if player == 2 else 2"
   ]
  },
  {
   "cell_type": "markdown",
   "metadata": {},
   "source": [
    "Si le pasamos un **player=1** nos devuelve el player 2:"
   ]
  },
  {
   "cell_type": "code",
   "execution_count": 53,
   "metadata": {},
   "outputs": [
    {
     "data": {
      "text/plain": [
       "2"
      ]
     },
     "execution_count": 53,
     "metadata": {},
     "output_type": "execute_result"
    }
   ],
   "source": [
    "change_player(1)"
   ]
  },
  {
   "cell_type": "markdown",
   "metadata": {},
   "source": [
    "Si le pasamos un **player=2** nos devuelve el player 1:"
   ]
  },
  {
   "cell_type": "code",
   "execution_count": 54,
   "metadata": {},
   "outputs": [
    {
     "data": {
      "text/plain": [
       "1"
      ]
     },
     "execution_count": 54,
     "metadata": {},
     "output_type": "execute_result"
    }
   ],
   "source": [
    "change_player(2)"
   ]
  },
  {
   "cell_type": "markdown",
   "metadata": {},
   "source": [
    "Otra de las tareas que convendría empaquetar en una función es la presentación de la información del juego informando a quién le toca jugar y la lista de posibles acciones. Todo esto lo vamos a meter en la función **print_menu(player)**. La función sólo recibe un único argumento de entrada con el identificador del jugador y realiza las siguientes acciones:\n",
    "\n",
    "* Mostrar el jugador al que le toca realizar una acción\n",
    "* Mostrar la lista de acciones\n",
    "* Recibir el input del jugador\n",
    "\n",
    "En caso de que la acción seleccionada sea la de disparar, hay que preguntar también por el ángulo de disparo.\n",
    "La función debe devolver la acción seleccionada y el angulo de disparo. Vamos a añadir una última acción para que cuando el jugador pulse la tecla \"x\" el juego termine de manera anticipada."
   ]
  },
  {
   "cell_type": "code",
   "execution_count": 45,
   "metadata": {},
   "outputs": [],
   "source": [
    "def print_menu(player):\n",
    "    print(\"Player: \" + str(player))\n",
    "    print(\"Choose action:\")\n",
    "    print(\"    - Move right (d)\")\n",
    "    print(\"    - Move left  (a)\")\n",
    "    print(\"    - Move up    (w)\")\n",
    "    print(\"    - Move down  (s)\")\n",
    "    print(\"    - Shoot:     (q)\")\n",
    "    print(\"    - Exit:      (x)\")\n",
    "    user_action = input(\"Action: \")\n",
    "    angle = 0\n",
    "    if user_action == 'q':\n",
    "        angle = input(\"Chose shooting angle: \")\n",
    "    return user_action, float(angle)"
   ]
  },
  {
   "cell_type": "code",
   "execution_count": 46,
   "metadata": {},
   "outputs": [
    {
     "name": "stdout",
     "output_type": "stream",
     "text": [
      "Player: 1\n",
      "Choose action:\n",
      "    - Move right (d)\n",
      "    - Move left  (a)\n",
      "    - Move up    (w)\n",
      "    - Move down  (s)\n",
      "    - Shoot:     (q)\n",
      "    - Exit:      (x)\n",
      "Action: q\n",
      "Chose shooting angle: 45\n"
     ]
    },
    {
     "data": {
      "text/plain": [
       "('q', 45.0)"
      ]
     },
     "execution_count": 46,
     "metadata": {},
     "output_type": "execute_result"
    }
   ],
   "source": [
    "print_menu(1)"
   ]
  },
  {
   "cell_type": "markdown",
   "metadata": {},
   "source": [
    "Para registrar el resto de parámetros del juego, vamos a utilizar el diccionario **tank_parameters**. Por el momento sólo vamos a definir una *key* para identificar la velocidad de desplazamiento de los tanques: **\"tank_units\"**. Disponer de esta variable te permitiría conseguir que los tanques de diferentes jugadores avancen a diferentes velocidades. Y esta velocidad podría variar en función de los daños recibidos o al pasar por algunas casillas especiales del tablero que asignaran mejoras a los vehículos. \n",
    "\n",
    "Podríamos añadir otras claves para futuras extensiones del juego, por ejemplo **\"armor_level\"** para definir diferentes niveles de resistencia a impactos, **\"shooting_range\"** para definir diferentes alcances del cañón, **\"weapon_type\"** para definir diferentes armas,..."
   ]
  },
  {
   "cell_type": "code",
   "execution_count": 47,
   "metadata": {},
   "outputs": [],
   "source": [
    "tank_parameters = {\n",
    "        1: {'tank_coord_x':0,  'tank_coord_y':0,  'tank_angle':0, \"tank_width\": 0.1, \n",
    "            \"tank_height\": 0.05,  \"canon_width\": 0.01, \"canon_height\": 0.05, \"color\":\"blue\",\n",
    "            \"tank_units\" : 0.05},\n",
    "        2: {'tank_coord_x':0.9,  'tank_coord_y':0.8,  'tank_angle':0, \"tank_width\": 0.1, \n",
    "            \"tank_height\": 0.05,  \"canon_width\": 0.01, \"canon_height\": 0.05, \"color\":\"red\",\n",
    "            \"tank_units\" : 0.05}}"
   ]
  },
  {
   "cell_type": "markdown",
   "metadata": {},
   "source": [
    "De esta manera, el movimiento de un tanque en una determinada dirección quedaría definido por la función **movement(player,tank_parameters,user_action)**. Recordar que en caso de que el usuario seleccione el movimiento en una dirección y dicho movimiento no sea posible porque el tanque impacta contra una pared o un obstáculo, el código debe informar al jugador y volver a ofrecer la posibilidad de introducir un movimiento nuevo."
   ]
  },
  {
   "cell_type": "code",
   "execution_count": 48,
   "metadata": {},
   "outputs": [],
   "source": [
    "from time import sleep\n",
    "\n",
    "def movement(player,tank_parameters,user_action):\n",
    "    new_x, new_y = move_tank(tank_parameters[player]['tank_coord_x'],\n",
    "                             tank_parameters[player]['tank_coord_y'], \n",
    "                             tank_parameters[player]['tank_units'], \n",
    "                             user_action)\n",
    "    if validate_mov(new_x,new_y,player,tank_parameters,obstacles_x, obstacles_y):\n",
    "        tank_parameters[player]['tank_coord_x'] = new_x\n",
    "        tank_parameters[player]['tank_coord_y'] = new_y  \n",
    "        return True\n",
    "    else:\n",
    "        print(\"Movement not allowed\",new_x, new_y)\n",
    "        sleep(4)\n",
    "        return False"
   ]
  },
  {
   "cell_type": "markdown",
   "metadata": {},
   "source": [
    "Respecto al disparo, en caso de que el jugador seleccione la acción \"q\" y proporcione un ángulo **angle**, el código debe actualizar la key *tank_angle* con el valor del ángulo adecuado, calcular la trayectoria de la bala y detectar si alguno de los puntos de esa trayectoria impacta con una pared u obstáculo o por el contrario impacta contra algún tanque. También debe devolver la trayectoria hasta el impacto. Estas acciones podemos empaquetarlas en una nueva función **shoot** que recibe como argumentos:\n",
    "\n",
    "* **player** con el identificador del tanque\n",
    "* **tank_parameters** con los parámetros del juego\n",
    "* **angle** con el ángulo de disparo\n",
    "* **obstacles_x** y **obstacles_y** con las coordenadas de los obstáculos\n",
    "\n",
    "Y devuelve:\n",
    "\n",
    "* **hit** que contiene una variable buleana de valor **True** en caso de que haya impacto con el tanque enemigo o **False** en caso contrario\n",
    "* **ray_x, ray_y** que son dos variables de tipo lista con las coordenadas X e Y con la trayectoria del disparo"
   ]
  },
  {
   "cell_type": "code",
   "execution_count": 49,
   "metadata": {},
   "outputs": [],
   "source": [
    "def shoot (player,tank_parameters, angle, obstacles_x, obstacles_y):\n",
    "    enemy = change_player(player)\n",
    "    tank_parameters[player]['tank_angle'] = angle\n",
    "    ray_x, ray_y =  shoot_rays(tank_parameters[player]['tank_coord_x']+tank_parameters[player]['tank_width']/2,\n",
    "                            tank_parameters[player]['tank_coord_y']+tank_parameters[player]['tank_height'],\n",
    "                            angle)\n",
    "\n",
    "    for i in range(len(ray_x)):\n",
    "        obstacle_impact = not validate_coord(ray_x[i], ray_y[i], obstacles_x, obstacles_y)\n",
    "        tank_impact = not validate_coord(ray_x[i], ray_y[i], \n",
    "                                [[tank_parameters[enemy]['tank_coord_x'], tank_parameters[enemy]['tank_coord_x'] + tank_parameters[enemy]['tank_width']]],\n",
    "                                [[tank_parameters[enemy]['tank_coord_y'], tank_parameters[enemy]['tank_coord_y'] + tank_parameters[enemy]['tank_height']]])\n",
    "        if obstacle_impact:\n",
    "            hit=False\n",
    "            return hit, ray_x[:i],ray_y[:i]\n",
    "        elif tank_impact:\n",
    "            hit=True\n",
    "            return hit,ray_x[:i],ray_y[:i]\n",
    "        else:\n",
    "            pass"
   ]
  },
  {
   "cell_type": "markdown",
   "metadata": {},
   "source": [
    ":::{note}\n",
    "El código se limita a ir validando cada uno de los puntos de la trayectoria de disparo. Para cada uno de esos puntos, analizamos si ha impactado con algún osbtáculo o con algún tanque. En caso de que se produzca algún impacto contra un vehículo, el bucle se aborta y la variable **hit** toma el valor **True**. Si el impacto se ha producido contra un obstáculo, la variable **hit** toma el valor **False**. Si no se ha producido ningún impacto, el bucle continíua. Al final, en el peor de los casos, la trayectoria terminará impactando con una pared.\n",
    ":::"
   ]
  },
  {
   "cell_type": "markdown",
   "metadata": {},
   "source": [
    "Podemos comprobar su funcionamiento definiendo un escenario y simulando un disparo con una determinada inclinación. Vamos a comprobar el disparo contra un obstáculo:"
   ]
  },
  {
   "cell_type": "code",
   "execution_count": 50,
   "metadata": {
    "scrolled": true
   },
   "outputs": [
    {
     "data": {
      "image/png": "[encoded data removed]",
      "text/plain": [
       "<Figure size 360x360 with 1 Axes>"
      ]
     },
     "metadata": {
      "needs_background": "light"
     },
     "output_type": "display_data"
    },
    {
     "name": "stdout",
     "output_type": "stream",
     "text": [
      "Hit any tank:  False\n"
     ]
    }
   ],
   "source": [
    "tank_parameters = {\n",
    "    1: {'tank_coord_x':0.1,  'tank_coord_y':0.2,  'tank_angle':0, \"tank_width\": 0.1, \n",
    "        \"tank_height\": 0.05,  \"canon_width\": 0.01, \"canon_height\": 0.05, \"color\":\"blue\",\n",
    "        \"tank_units\" : 0.05},\n",
    "    2: {'tank_coord_x':0.1,  'tank_coord_y':0.9,  'tank_angle':180, \"tank_width\": 0.1, \n",
    "        \"tank_height\": 0.05,  \"canon_width\": 0.01, \"canon_height\": 0.05, \"color\":\"red\",\n",
    "        \"tank_units\" : 0.05}}\n",
    "    \n",
    "hit, ray_x,ray_y = shoot(1,tank_parameters, -45, obstacles_x, obstacles_y)\n",
    "ax =display_scenario(obstacles, tank_parameters, plot=False)\n",
    "ax.plot(ray_x, ray_y,\".\", color=\"k\", ms=0.4)\n",
    "ax.axis([0,1,0,1])\n",
    "plt.show()\n",
    "print(\"Hit any tank: \",hit)"
   ]
  },
  {
   "cell_type": "markdown",
   "metadata": {},
   "source": [
    "Comprobamos que la trayectoria termina en el primer obstáculo que encuentra, pero la variable **hit** no detecta un impacto contra ningún tanque. Vamos a modificar la escena para comprobar que el impacto contra tanques también está correctamente implementado:"
   ]
  },
  {
   "cell_type": "code",
   "execution_count": 51,
   "metadata": {},
   "outputs": [
    {
     "data": {
      "image/png": "[encoded data removed]",
      "text/plain": [
       "<Figure size 360x360 with 1 Axes>"
      ]
     },
     "metadata": {
      "needs_background": "light"
     },
     "output_type": "display_data"
    },
    {
     "name": "stdout",
     "output_type": "stream",
     "text": [
      "Hit any tank:  True\n"
     ]
    }
   ],
   "source": [
    "tank_parameters = {\n",
    "    1: {'tank_coord_x':0.1,  'tank_coord_y':0.2,  'tank_angle':0, \"tank_width\": 0.1, \n",
    "        \"tank_height\": 0.05,  \"canon_width\": 0.01, \"canon_height\": 0.05, \"color\":\"blue\",\n",
    "        \"tank_units\" : 0.05},\n",
    "    2: {'tank_coord_x':0.6,  'tank_coord_y':0.7,  'tank_angle':180, \"tank_width\": 0.1, \n",
    "        \"tank_height\": 0.05,  \"canon_width\": 0.01, \"canon_height\": 0.05, \"color\":\"red\",\n",
    "        \"tank_units\" : 0.05}}\n",
    "    \n",
    "hit, ray_x,ray_y = shoot(1,tank_parameters, -45, obstacles_x, obstacles_y)\n",
    "ax =display_scenario(obstacles, tank_parameters, plot=False)\n",
    "ax.plot(ray_x, ray_y,\".\", color=\"k\", ms=0.4)\n",
    "ax.axis([0,1,0,1])\n",
    "plt.show()\n",
    "print(\"Hit any tank: \",hit)"
   ]
  },
  {
   "cell_type": "markdown",
   "metadata": {},
   "source": [
    "En este caso, la función **shoot** devuelve un impacto postivo."
   ]
  },
  {
   "cell_type": "markdown",
   "metadata": {},
   "source": [
    "::::{note}\n",
    "El motivo de utilizar el código:\n",
    "\n",
    ":::{code}\n",
    "ax.plot(ray_x, ray_y,\".\", color=\"k\", ms=0.4)\n",
    "ax.axis([0,1,0,1])\n",
    ":::\n",
    "\n",
    "Se debe a que al añadir nuevos elementos a la escena, las coordenadas pueden verse modificadas ya que **matplotlib** siempre intenta optimizar los rangos de visualización. Para asegurarnos que las coordenadas siguen siendo [0,1] en ambos ejes utilizamos la función **axis**.\n",
    "\n",
    "Por otro lado, la función **draw_tank** dibuja correctamente la posición del cañón para cualquier ángulo de disparo (que se ajuste con la referencia que hemos seguido en este juego). El problema es que la trayectoria de la bala, tal y como hemos definido la función **shoot**, siempre se inicia en la mitad superior del tanque. Esto significa que si disparamos con un ángulo de 270º, la trayectoria de la bala no se iniciará exáctamente en la posición del cañón. No afecta a la jugabilidad, pero el efecto es algo feo. Puedes comprobarlo con el código:\n",
    "\n",
    ":::{code}\n",
    "hit, ray_x,ray_y = shoot(1,tank_parameters, 270, obstacles_x, obstacles_y)\n",
    "ax =display_scenario(obstacles, tank_parameters, plot=False)\n",
    "ax.plot(ray_x, ray_y,\".\", color=\"k\", ms=0.4)\n",
    "ax.axis([0,1,0,1])\n",
    "plt.show()\n",
    ":::\n",
    "\n",
    "La solución es bastante sencilla e implica modificar la función **shoot** para que las coordenadas de origen de la bala con las que invocamos a **shoot_rays** sean siempre las de base del cañón, que a su vez van a dependar del ángulo de disparo. Te proponemos esta modificación como una posible mejora del juego. \n",
    "::::"
   ]
  },
  {
   "cell_type": "markdown",
   "metadata": {},
   "source": [
    "Finalmente, ya puedes construir la función principal que incorpora todas las funciones anteriores:"
   ]
  },
  {
   "cell_type": "code",
   "execution_count": 116,
   "metadata": {},
   "outputs": [],
   "source": [
    "from IPython.display import clear_output\n",
    "\n",
    "def main():\n",
    "\n",
    "    obstacles_x = [ [0, 0.2], [0.3, 0.7], [0, 0.3], [0.8, 0.85], [0.55, 0.85], [0.55, 1.0], [0.0, 0.4], [0.7, 0.75] ]\n",
    "    obstacles_y = [ [0, 0.2], [0.15, 0.2], [0.4, 0.45], [0.2, 0.6], [0.6, 0.65], [0.8, 1.25], [0.7, 0.75], [0.0, 0.2] ]\n",
    "    obstacles = format_coord(obstacles_x,obstacles_y)\n",
    "\n",
    "    tank_parameters = {\n",
    "        1: {'tank_coord_x':0.1,  'tank_coord_y':0.2,  'tank_angle':0, \"tank_width\": 0.1, \n",
    "            \"tank_height\": 0.05,  \"canon_width\": 0.01, \"canon_height\": 0.05, \"color\":\"blue\",\n",
    "            \"tank_units\" : 0.05},\n",
    "        2: {'tank_coord_x':0.1,  'tank_coord_y':0.9,  'tank_angle':180, \"tank_width\": 0.1, \n",
    "            \"tank_height\": 0.05,  \"canon_width\": 0.01, \"canon_height\": 0.05, \"color\":\"red\",\n",
    "            \"tank_units\" : 0.05}}\n",
    "\n",
    "    player=1\n",
    "    hit = False\n",
    "    while not hit:\n",
    "        clear_output(wait=True)\n",
    "        ax =display_scenario(obstacles, tank_parameters)\n",
    "        action, angle = print_menu(player)\n",
    "        if action == \"x\":\n",
    "            break\n",
    "        elif action == \"q\":\n",
    "            clear_output(wait=True)\n",
    "            ax =display_scenario(obstacles, tank_parameters, plot=False)\n",
    "            save_axis=ax.axis()\n",
    "            hit = shoot(player,tank_parameters, angle, obstacles_x, obstacles_y,ax)\n",
    "            ax.axis(save_axis)\n",
    "            plt.show()\n",
    "            time.sleep(4)\n",
    "            if not hit:\n",
    "                player=change_player(player)\n",
    "        else: # movement\n",
    "            if movement(player,tank_parameters,action)==True:\n",
    "                player=change_player(player)\n",
    "\n",
    "    if hit==True:\n",
    "        print(\"Player {} has won the game\".format(player))"
   ]
  },
  {
   "cell_type": "markdown",
   "metadata": {},
   "source": [
    "Para probar el juego, sólo tienes que invocar a la función **main**."
   ]
  },
  {
   "cell_type": "code",
   "execution_count": null,
   "metadata": {
    "scrolled": false
   },
   "outputs": [],
   "source": [
    "main()"
   ]
  },
  {
   "cell_type": "markdown",
   "metadata": {},
   "source": [
    "## Extensiones del juego\n",
    "\n",
    "La versión que hemos programado es muy sencilla, a continuación te damos algunas ideas de mejora que puedes intentar implementar:\n",
    "\n",
    "* Añadir más de un tanque por equipo, de forma que en cada turno el jugador pueda decidir qué tanque mover\n",
    "* Añadir diferentes tipos de tanques, con diferentes alcances o diferentes blindajes que les aporten diferentes grados de resistencia a los ataques de los enemigos\n",
    "* Añadir la posibilidad de capturar unos objetos con propiedades especiales que aparecerán aleatoriamente distribuidos por el mapa. Estos objetos podrán otorgar capacidades aumentadas a los tanques, por ejemplo, mayor velocidad de desplazamiento, mejor blindaje o mayor alcance de disparo\n",
    "* Añadir un sistema de créditos por tirada. Cada una de las acciones tendrá un consumo de créditos que los jugadores pueden decidir consumir en uno o varios tanques. En función de la cantidad de créditos disponible un jugador podrá sólo hacer un movimiento o un disparo, o por el contrario, encadenar varios movimientos o disparos del mismo o de varios tanques\n",
    "* Implementar un sistema de recarga de los créditos descritos en el punto anterior. Estos créditos puede recargarse simplemente por el paso del tiempo, o por la captura de unos objetos de recarga que aparecerán aleatoriamente en el mapa\n",
    "* Conseguir que la trayectoria de la bala salga siempre desde la base del cañón\n",
    "* Implementar un disparo parabólico en lugar de un disparo lineal\n",
    "* Añadir la funcionalidad de que la bala pueda rebotar contra paredes u obstáculos, convirtiendo el juego en una especie de billar "
   ]
  }
 ],
 "metadata": {
  "interpreter": {
   "hash": "d652f12e86d4907f3226fd0eca720165fd18d0c760b9e442a689f9a4e2e2c276"
  },
  "kernelspec": {
   "display_name": "Python 3",
   "language": "python",
   "name": "python3"
  },
  "language_info": {
   "codemirror_mode": {
    "name": "ipython",
    "version": 3
   },
   "file_extension": ".py",
   "mimetype": "text/x-python",
   "name": "python",
   "nbconvert_exporter": "python",
   "pygments_lexer": "ipython3",
   "version": "3.8.8"
  }
 },
 "nbformat": 4,
 "nbformat_minor": 2
}
