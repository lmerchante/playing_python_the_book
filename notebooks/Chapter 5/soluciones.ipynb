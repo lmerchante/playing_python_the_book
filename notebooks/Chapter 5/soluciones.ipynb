{
 "cells": [
  {
   "cell_type": "markdown",
   "metadata": {},
   "source": [
    "(numeros-label)=\n",
    "# Cifras y Letras: Prueba de Numeros"
   ]
  },
  {
   "cell_type": "markdown",
   "metadata": {},
   "source": [
    "```{image} img/portada.png\n",
    ":alt: portada\n",
    ":class: bg-primary mb-1\n",
    ":width: 550px\n",
    ":align: center\n",
    "```"
   ]
  },
  {
   "cell_type": "markdown",
   "metadata": {},
   "source": [
    "En el capítulo anterior construimos la [Prueba de Letras](letras-label) del programa Cifras y Letras. En este capítulo vamos a codificar una versión de la prueba numérica del popular programa de televisión. Las reglas de este juego son las siguientes:\n",
    "\n",
    "* Se elige un número al azar entre el 0 y el 999 y se le reparten 5 números al jugador\n",
    "* El jugador debe acercarse lo máximo posible al número aleatorio haciendo operaciones matemáticas simples ( +, -, *, /) con los números que le han sido repartidos\n",
    "* El tiempo para conseguirlo está limitado\n",
    "\n",
    "Este es un juego muy particular, porque a pesar de la sencillez de sus reglas, su implementación conlleva resolver varios problemas. Vamos a intentar explicarte paso a paso los módulos que hemos utilizado nosotros para resolverlo. De todas formas, es muy posible que se te ocurran formas más óptimas de implementarlo."
   ]
  },
  {
   "cell_type": "markdown",
   "metadata": {},
   "source": [
    "## Reparto de números\n",
    "\n",
    "Vamos a empezar creando una función llamada **get_numbers(array, k)** que elija los números con los que se va a jugar. Esta función recibirá los siguientes argumentos de entrada:\n",
    "\n",
    "* **array** variable tipo LIST que contiene los valores de entre los que se obtienen los números del juego\n",
    "* **k** variable tipo INT que contiene la cantidad de números con los que se va a jugar\n",
    "\n",
    "La función debe devolver una lista con los números elegidos. En el juego original, el número objetivo sólo podía generarse mediante la combinación de los números [1, 2, 3, 4, 5, 6, 7, 8, 9, 10, 25, 50, 75, 100]. Para acercarnos lo máximo posible al juego clásico, vamos a configurar esta lista de valores como los valores por defecto del argumento **array**. De manera que si el jugador no proporciona una lista alternativa, el juego utilizará los mismos números que el programa original."
   ]
  },
  {
   "cell_type": "code",
   "execution_count": 4,
   "metadata": {},
   "outputs": [
    {
     "data": {
      "text/plain": [
       "[1, 9, 3, 6, 8]"
      ]
     },
     "execution_count": 4,
     "metadata": {},
     "output_type": "execute_result"
    }
   ],
   "source": [
    "get_numbers([1,2,3,4,5,6,7,8,9],k=5)"
   ]
  },
  {
   "cell_type": "markdown",
   "metadata": {},
   "source": [
    "### Solución:"
   ]
  },
  {
   "cell_type": "code",
   "execution_count": 1,
   "metadata": {},
   "outputs": [],
   "source": [
    "import random\n",
    "\n",
    "def get_numbers(array=[1, 2, 3, 4, 5, 6, 7, 8, 9, 10, 25, 50, 75, 100], k=5):\n",
    "    return random.sample(array, 5)"
   ]
  },
  {
   "cell_type": "code",
   "execution_count": 3,
   "metadata": {},
   "outputs": [
    {
     "data": {
      "text/plain": [
       "[100, 5, 7, 10, 1]"
      ]
     },
     "execution_count": 3,
     "metadata": {},
     "output_type": "execute_result"
    }
   ],
   "source": [
    "get_numbers()"
   ]
  },
  {
   "cell_type": "markdown",
   "metadata": {},
   "source": [
    "```{note}\n",
    "Hemos utilizado argumentos por defecto para asignar unos valores a las variables de entrada cuando decidamos invocar a la función sin unos valores concretos. Asignar valores por defecto en Python es muy sencillo, basta con asignar el valor en la propia definición de la función.\n",
    "```\n",
    "\n",
    "```{seealso}\n",
    "Puedes encontrar más información sobre el uso de los argumentos por defecto [aquí](https://www.geeksforgeeks.org/default-arguments-in-python/).\n",
    "```"
   ]
  },
  {
   "cell_type": "markdown",
   "metadata": {},
   "source": [
    "## Generar el número objetivo\n",
    "\n",
    "Una vez que tenemos los números con los que vamos a jugar, necesitamos generar el número objetivo. Vamos a implementar una función llamada **generate_operation(values)** que utilice los valores devueltos por la función **get_numbers()** y que mediante la aplicación pseudo-aleatoria de operadores algebraicos sencillos, devuelva el número objetivo.\n",
    "\n",
    "Esta función debe \"memorizar\" las operaciones que se han realizado para que al final del juego, si no hemos conseguido dar con la combinación adecuada, el programa nos muestre las operaciones que permiten obtener el número objetivo.\n",
    "\n",
    "Por esto, la función **generate_operation(values)** debe devolver dos salidas:\n",
    "\n",
    "* el número entero resultado de la operación aleatoria\n",
    "* la operación realizada en formato STRING\n",
    "\n",
    "```{note}\n",
    "Recuerda que el resultado de esta operación tiene que ser un número entero positivo por lo que tendrás que tener cuidado con las divisiones y con las restas. Recuerda también que cada número solo se puede utilizar una vez. \n",
    "\n",
    "Para que la variable STRING con el resultado de la operación no genere dudas, sería recomendable intentar agrupar las operaciones con paréntesis.\n",
    "```\n",
    "\n",
    "La versión que vamos a implementar nosotros, no tiene por qué usar todos los números seleccionados, pero sí debería elegir como mínimo dos ellos para que exista un desafío. Por ejemplo:    "
   ]
  },
  {
   "cell_type": "code",
   "execution_count": 76,
   "metadata": {},
   "outputs": [
    {
     "name": "stdout",
     "output_type": "stream",
     "text": [
      "('(((10+2)*(4+20))-50)', 238)\n"
     ]
    }
   ],
   "source": [
    "print(generate_operation([10, 4, 20, 50, 2]))"
   ]
  },
  {
   "cell_type": "markdown",
   "metadata": {},
   "source": [
    "### Solución:"
   ]
  },
  {
   "cell_type": "markdown",
   "metadata": {},
   "source": [
    "A la hora de resolver un problema programando, siempre es recomendable dedicarle 5 minutos a visualizar la solución. A veces, este sencillo ejercicio de reflexión, es suficiente para darnos cuenta que el programa podría simplificarse si lo dividimos en módulos de menor complejidad. \n",
    "\n",
    "A continuación vamos a explicarte una posible solución, pero recuerda que en el mundo de la programación existen muchas maneras de resolver el mismo problema. Nuestro objetivo es generar de manera incremental una secuencia de operaciones que iremos añadiendo a dos variables:\n",
    "\n",
    "* **secret** variable de tipo STRING que vamos aumentando mediante concatenación de nuevas operaciones y nuevos operandos\n",
    "* **result** variable de tipo INT que almacena el número objetivo y vamos actualizando con las nuevas operaciones y nuevos operandos.\n",
    "\n",
    "La forma en la que se van a ir añadiendo estas operaciones puede responder a dos esquemas:\n",
    "\n",
    "* **Modelo 1**. secret = secret + random_op1 + operand1 \n",
    "* **Modelo 2**. secret = secret + random_op1 + (operand1 + random_op2 + operand2)\n",
    "\n",
    "Para aclararlo, piensa en el siguiente ejemplo. Imagina que la variable **secret** contiene la siguiente operación:"
   ]
  },
  {
   "cell_type": "code",
   "execution_count": 27,
   "metadata": {},
   "outputs": [],
   "source": [
    "secret = \"(10 + 5)\""
   ]
  },
  {
   "cell_type": "markdown",
   "metadata": {},
   "source": [
    "Si la aumentamos según el **Modelo 1**, necesitaríamos un valor aleatorio **operand1** y una operación aleatoria **random_op1**. Por ejemplo:"
   ]
  },
  {
   "cell_type": "code",
   "execution_count": 19,
   "metadata": {},
   "outputs": [],
   "source": [
    "operand1=\"3\"\n",
    "random_op1=\"/\"\n",
    "secret = secret + random_op1 + operand1"
   ]
  },
  {
   "cell_type": "markdown",
   "metadata": {},
   "source": [
    "Resultando la siguiente operación:"
   ]
  },
  {
   "cell_type": "code",
   "execution_count": 20,
   "metadata": {},
   "outputs": [
    {
     "data": {
      "text/plain": [
       "'(10 + 5)/3'"
      ]
     },
     "execution_count": 20,
     "metadata": {},
     "output_type": "execute_result"
    }
   ],
   "source": [
    "secret"
   ]
  },
  {
   "cell_type": "markdown",
   "metadata": {},
   "source": [
    "Si la aumentamos de nuevo según el **Modelo 2**, necesitaríamos dos valores aleatorios **operand1** y **operand2** y dos operaciónes aleatorias **random_op1** y **random_op2**. Por ejemplo:"
   ]
  },
  {
   "cell_type": "code",
   "execution_count": 28,
   "metadata": {},
   "outputs": [],
   "source": [
    "operand1=\"15\"\n",
    "operand2=\"1\"\n",
    "random_op1=\"+\"\n",
    "random_op2=\"*\"\n",
    "secret = secret + random_op1 + \"(\" + operand1 + random_op2 + operand2+ \")\""
   ]
  },
  {
   "cell_type": "markdown",
   "metadata": {},
   "source": [
    "Resultando la siguiente operación:"
   ]
  },
  {
   "cell_type": "code",
   "execution_count": 29,
   "metadata": {},
   "outputs": [
    {
     "data": {
      "text/plain": [
       "'(10 + 5)+(15*1)'"
      ]
     },
     "execution_count": 29,
     "metadata": {},
     "output_type": "execute_result"
    }
   ],
   "source": [
    "secret"
   ]
  },
  {
   "cell_type": "markdown",
   "metadata": {},
   "source": [
    "Estos dos modelos nos va a dar mucha flexibilidad a la hora de aumentar la operación pseudo-aleatoria **secret** para generar el número objetivo. \n",
    "\n",
    "El primer paso, por tanto, es agrupar los valores devueltos por la función **get_numbers()** en conjuntos de uno o dos números. Para ello hemos implementado la función **group(values)** que hace uso de la función **random.randint(0,1)** para decidir si realizamos una agrupación de un número o de dos (siempre y cuando queden números suficientes)."
   ]
  },
  {
   "cell_type": "code",
   "execution_count": 30,
   "metadata": {},
   "outputs": [],
   "source": [
    "import random\n",
    "def group(values):\n",
    "    operands=values.copy()\n",
    "    group_list=[]\n",
    "    while operands:\n",
    "        if len(values)==len(operands):\n",
    "            ops=random.sample(operands,2)\n",
    "        elif random.randint(0,1) ==0 and len(operands)>=2:\n",
    "            ops=random.sample(operands,2)\n",
    "        else:\n",
    "            ops=random.sample(operands,1)\n",
    "        \n",
    "        group_list.append(ops)\n",
    "        for i in ops: \n",
    "            operands.remove(i)\n",
    "    return group_list"
   ]
  },
  {
   "cell_type": "code",
   "execution_count": 31,
   "metadata": {},
   "outputs": [
    {
     "data": {
      "text/plain": [
       "[[50, 4], [2], [20, 10]]"
      ]
     },
     "execution_count": 31,
     "metadata": {},
     "output_type": "execute_result"
    }
   ],
   "source": [
    "valores=[10, 4, 20, 50, 2]\n",
    "agrupa(valores)"
   ]
  },
  {
   "cell_type": "markdown",
   "metadata": {},
   "source": [
    "::::{note}\n",
    "Este código es particularmente interesante por varios motivos. Notar que la primera instrucción de la función crea una copia de la variable de entrada haciendo:\n",
    "\n",
    ":::{code}\n",
    "operandos=valores.copy()\n",
    ":::\n",
    "\n",
    "Esta línea crea una lista **operands** idéntica en contenido a **values**. El propósito es ir eliminando los números que vayamos agrupando de la lista **operands** pero manteniendo intacta la lista original **values**. \n",
    "\n",
    "Por otro lado, la manera de detectar que hemos terminado de agrupar todos los elementos de la lista **operands** es mediante la condición:\n",
    "\n",
    ":::{code}\n",
    "while operandos:\n",
    ":::\n",
    "\n",
    "Que es equivalente a:\n",
    "\n",
    ":::{code}\n",
    "while operandos!=None:\n",
    ":::\n",
    "\n",
    "En muchas ocasiones cuando las condiciones son sencillas y sólo buscan chequear si una variable contiene o no un valor, se pueden construir de manera compacta. Si no te sientes cómodo o se te complica la lectura del condicional, puedes seguir construyendo la condición completa.\n",
    "\n",
    "Por último, nota que la primera condición del bloque **if/elif/else** pretende forzar que la primera agrupación siempre sea del tipo **Modelo 2**.\n",
    "\n",
    "::::"
   ]
  },
  {
   "cell_type": "markdown",
   "metadata": {},
   "source": [
    "Una vez que tenemos agrupados los numeros con los que vamos a jugar ya podemos empezar a pensar en la manera de añadir operaciones aleatorias. Esta parte es probablemente la más complicada porque no todas las operaciones están permitidas si tenemos presente que el número objetivo no puede ser ni decimal ni negativo. Por esto, tenemos que estudiar cuidadosamente si la operación aleatoria que queremos añadir cumple estas condiciones.\n",
    "\n",
    "Vamos a empezar estudiando el **Modelo 1**, por ser más sencillo. Para ello vamos a implementar un par de funciones:\n",
    "\n",
    "* **compute_1_operand(result,operand,operation)**. Esta función va a realizar el cálculo presuponiendo que la operación propuesta es válida. La salida es el valor numérico resultante de aplicar la nueva operación y el nuevo operando al valor del número objetivo. Sus argumentos de entrada son los siguientes:\n",
    "\n",
    "    - **result** variable INT en la que vamos a recibir el valor del número objetivo que hemos construido hasta el momento\n",
    "    - **operand** variable INT en la que vamos a recibir el número de la lista **values** que vamos a utilizar para aumentar la operación secreta \n",
    "    - **operation** variable STRING que contiene la operación algebráica que vamos a utilizar para aumentar la operación secreta \n",
    "\n",
    "\n",
    "* **verify_1_operand(result,operand,operation)**. Esta función valida un aumento de la operación pseudo-aleatoria de acuerdo al **Modelo 1**. La validación es muy sencilla. Basta con amplicar la función **compute_1_operand** y verificar si el valor devuelto es negativo o decimal. Si el número es negativo, entonces la operación propuesta (una resta) no puede ser validada. Si el valor devuelto es decimal, entonces la operación propuesta (una división) no puede ser validada. En ambos casos, la función debe devolver **False**. En el resto de las situaciones, la operación se valida y la función devuelve **True**. Los argumentos de entrada de esta función son los mismos que los de la función **compute_1_operand**."
   ]
  },
  {
   "cell_type": "code",
   "execution_count": 32,
   "metadata": {},
   "outputs": [],
   "source": [
    "def compute_1_operand(result,operand,operation):\n",
    "    if operation==\"-\":\n",
    "        out=result-operand\n",
    "    elif operation==\"+\":\n",
    "        out=result+operand\n",
    "    elif operation==\"*\":\n",
    "        out=result*operand\n",
    "    else:\n",
    "        out=result/operand\n",
    "    return out   "
   ]
  },
  {
   "cell_type": "markdown",
   "metadata": {},
   "source": [
    "Podemos comprobar su funcionamiento:"
   ]
  },
  {
   "cell_type": "code",
   "execution_count": 33,
   "metadata": {},
   "outputs": [
    {
     "data": {
      "text/plain": [
       "300"
      ]
     },
     "execution_count": 33,
     "metadata": {},
     "output_type": "execute_result"
    }
   ],
   "source": [
    "compute_1_operand(10,30,\"*\")"
   ]
  },
  {
   "cell_type": "code",
   "execution_count": 34,
   "metadata": {},
   "outputs": [
    {
     "data": {
      "text/plain": [
       "0.3333333333333333"
      ]
     },
     "execution_count": 34,
     "metadata": {},
     "output_type": "execute_result"
    }
   ],
   "source": [
    "compute_1_operand(10,30,\"/\")"
   ]
  },
  {
   "cell_type": "code",
   "execution_count": 35,
   "metadata": {},
   "outputs": [
    {
     "data": {
      "text/plain": [
       "40"
      ]
     },
     "execution_count": 35,
     "metadata": {},
     "output_type": "execute_result"
    }
   ],
   "source": [
    "compute_1_operand(10,30,\"+\")"
   ]
  },
  {
   "cell_type": "code",
   "execution_count": 36,
   "metadata": {},
   "outputs": [
    {
     "data": {
      "text/plain": [
       "-20"
      ]
     },
     "execution_count": 36,
     "metadata": {},
     "output_type": "execute_result"
    }
   ],
   "source": [
    "compute_1_operand(10,30,\"-\")"
   ]
  },
  {
   "cell_type": "markdown",
   "metadata": {},
   "source": [
    "::::{note}\n",
    "Si trabajamos siempre con números enteros, la única circunstancia que puede resultar en un número decimal es que proceda de una división en la que el numerador no es divisible por el denominador.\n",
    "::::"
   ]
  },
  {
   "cell_type": "markdown",
   "metadata": {},
   "source": [
    "Con esta función implementada, la verificación es muy sencilla:"
   ]
  },
  {
   "cell_type": "code",
   "execution_count": 37,
   "metadata": {},
   "outputs": [],
   "source": [
    "def verify_1_operand(result,operand,operation):\n",
    "    if compute_1_operand(result,operand,operation) < 0 or \\\n",
    "       isinstance(compute_1_operand(result,operand,operation),float):\n",
    "        return False\n",
    "    else:\n",
    "        return True"
   ]
  },
  {
   "cell_type": "markdown",
   "metadata": {},
   "source": [
    "Si reevaluamos los ejemplos anteriores vemos que la operación suma y la multiplicación está permitidas:"
   ]
  },
  {
   "cell_type": "code",
   "execution_count": 40,
   "metadata": {},
   "outputs": [
    {
     "data": {
      "text/plain": [
       "True"
      ]
     },
     "execution_count": 40,
     "metadata": {},
     "output_type": "execute_result"
    }
   ],
   "source": [
    "verify_1_operand(result = 10, operand = 30, operation = \"+\")"
   ]
  },
  {
   "cell_type": "code",
   "execution_count": 41,
   "metadata": {},
   "outputs": [
    {
     "data": {
      "text/plain": [
       "True"
      ]
     },
     "execution_count": 41,
     "metadata": {},
     "output_type": "execute_result"
    }
   ],
   "source": [
    "verify_1_operand(result = 10, operand = 30, operation = \"*\")"
   ]
  },
  {
   "cell_type": "markdown",
   "metadata": {},
   "source": [
    "Por el contrario, si en lugar de una suma o una multiplicación ampliamos el número objetivo con una división o una resta, el resultado no se puede validar porque generarían números negativos o decimales:"
   ]
  },
  {
   "cell_type": "code",
   "execution_count": 42,
   "metadata": {},
   "outputs": [
    {
     "data": {
      "text/plain": [
       "False"
      ]
     },
     "execution_count": 42,
     "metadata": {},
     "output_type": "execute_result"
    }
   ],
   "source": [
    "verify_1_operand(result = 10, operand = 30, operation = \"/\")"
   ]
  },
  {
   "cell_type": "code",
   "execution_count": 43,
   "metadata": {},
   "outputs": [
    {
     "data": {
      "text/plain": [
       "False"
      ]
     },
     "execution_count": 43,
     "metadata": {},
     "output_type": "execute_result"
    }
   ],
   "source": [
    "verify_1_operand(result = 10, operand = 30, operation = \"-\")"
   ]
  },
  {
   "cell_type": "markdown",
   "metadata": {},
   "source": [
    "El siguiente paso es estudiar el **Modelo 2**. Para ello también vamos a necesitar dos funciones:\n",
    "\n",
    "* **compute_2_operands(result,operand1,operand2,operation1,operation2)**. Esta función va a actualizar el valor del número objetivo. La salida es el valor numérico resultante de aplicar las nuevas operaciones y los nuevos operadores al valor del número objetivo y sus argumentos de entrada son:\n",
    "\n",
    "    - **result** variable de tipo INT que contiene el valor del número objetivo que hemos construido hasta el momento\n",
    "    - **operand1** y **operand2** son dos variables de tipo INT en las que vamos a recibir los dos números de la lista **values** que vamos a utilizar para aumentar la operación secreta \n",
    "    - **operation1** y **operation2** son dos variables de tipo STRING que contienen las dos operaciones algebráicas que vamos a utilizar para aumentar la operación secreta  \n",
    "\n",
    "* **verify_2_operands(result,operand1,operand2,operation1,operation2)**. Esta función valida un aumento de la operación pseudo-aleatoria de acuerdo al **Modelo 2**. La salida es, nuevamente, una variable booleana que indica si la operación se puede ampliar o no. Los argumentos son los mismos que los descritos en la función **compute_2_operand**"
   ]
  },
  {
   "cell_type": "code",
   "execution_count": 49,
   "metadata": {},
   "outputs": [],
   "source": [
    "def compute_2_operands(result,operand1,operand2,operation1,operation2):\n",
    "    if operation1==\"-\":\n",
    "        out=result-calcula_1_operando(operand1,operand2,operation2)\n",
    "    elif operation1==\"+\":\n",
    "        out=result+calcula_1_operando(operand1,operand2,operation2)\n",
    "    elif operation1==\"*\":\n",
    "        out=result*calcula_1_operando(operand1,operand2,operation2)\n",
    "    else:\n",
    "        out=result/calcula_1_operando(operand1,operand2,operation2)\n",
    "    return out  "
   ]
  },
  {
   "cell_type": "markdown",
   "metadata": {},
   "source": [
    "Podemos comprobar su funcionamiento evaluando las siguientes expresiones:\n",
    "\n",
    "* $30+(10+30)$"
   ]
  },
  {
   "cell_type": "code",
   "execution_count": 91,
   "metadata": {},
   "outputs": [
    {
     "data": {
      "text/plain": [
       "70"
      ]
     },
     "execution_count": 91,
     "metadata": {},
     "output_type": "execute_result"
    }
   ],
   "source": [
    "compute_2_operands(result = 30, operand1 = 10, operand2 = 30, operation1 = \"+\", operation2 = \"+\")"
   ]
  },
  {
   "cell_type": "markdown",
   "metadata": {},
   "source": [
    "* $30/(10-30)$"
   ]
  },
  {
   "cell_type": "code",
   "execution_count": 93,
   "metadata": {
    "scrolled": true
   },
   "outputs": [
    {
     "data": {
      "text/plain": [
       "-1.5"
      ]
     },
     "execution_count": 93,
     "metadata": {},
     "output_type": "execute_result"
    }
   ],
   "source": [
    "compute_2_operands(result = 30, operand1 = 10, operand2 = 30, operation1 = \"/\", operation2 = \"-\")"
   ]
  },
  {
   "cell_type": "markdown",
   "metadata": {},
   "source": [
    "* $30+(10-30)$"
   ]
  },
  {
   "cell_type": "code",
   "execution_count": 94,
   "metadata": {
    "scrolled": true
   },
   "outputs": [
    {
     "data": {
      "text/plain": [
       "10"
      ]
     },
     "execution_count": 94,
     "metadata": {},
     "output_type": "execute_result"
    }
   ],
   "source": [
    "compute_2_operands(result = 30, operand1 = 10, operand2 = 30, operation1 = \"+\", operation2 = \"-\")"
   ]
  },
  {
   "cell_type": "markdown",
   "metadata": {},
   "source": [
    "* $30*(10/30)$"
   ]
  },
  {
   "cell_type": "code",
   "execution_count": 95,
   "metadata": {
    "scrolled": true
   },
   "outputs": [
    {
     "data": {
      "text/plain": [
       "10.0"
      ]
     },
     "execution_count": 95,
     "metadata": {},
     "output_type": "execute_result"
    }
   ],
   "source": [
    "compute_2_operands(result = 30, operand1 = 10, operand2 = 30, operation1 = \"*\", operation2 = \"/\")"
   ]
  },
  {
   "cell_type": "markdown",
   "metadata": {},
   "source": [
    "De los ejemplos anteriores puedes comprobar que la función realiza su tarea correctamente. También puedes comprobar que la validación de las operaciones que ampliamos según el **Modelo 2** no es tan sencilla como verificar el resultado. Por ejemplo, la operación $30+(10+30)$ es completamente válida, y su resultado entero positivo así lo confirma. Por otro lado, la operación $30/(10-30)$ no pasa la validación, doblemente, porque el resultado es un número decimal y además negativo. Pero ¿qué ocurre con los otros dos ejemplos? La operación  $30+(10-30)$ devuelve como resultado un número entero positivo. A priori podría parecer que responde a una secuencia de operaciones válida, pero no debería ser así ya que la operación que se corresponde con la resta $(10-30)$ devuelve un número negativo. Por último, en la operación $30*(10/30)$, vemos que el resultado es positivo y además no tiene decimales, podríamos convertirlo a tipo entero y sería un resultado válido. Sin embargo, esta operación no debería ser aceptada porque la división $(10/30)$ tampoco cumple las normas.\n",
    "\n",
    "Esto complica ligeramente el código de la función **verify_2_operands**, pero no mucho más."
   ]
  },
  {
   "cell_type": "code",
   "execution_count": 54,
   "metadata": {},
   "outputs": [],
   "source": [
    "def verify_2_operands(result,operand1,operand2,operation1,operation2):\n",
    "    if compute_1_operand(operand1,operand2,operation2) < 0 or \\\n",
    "       isinstance(compute_1_operand(operand1,operand2,operation2),float):\n",
    "            return False\n",
    "    result2=compute_1_operand(operand1,operand2,operation2)\n",
    "    if compute_1_operand(result,result2,operation1) < 0 or \\\n",
    "        isinstance(compute_1_operand(result,result2,operation1),float):\n",
    "            return False\n",
    "    \n",
    "    return True"
   ]
  },
  {
   "cell_type": "markdown",
   "metadata": {},
   "source": [
    "Podemos probar que nuestro código funciona verificando las operaciones anteriores:\n",
    "\n",
    "* $30+(10+30)$"
   ]
  },
  {
   "cell_type": "code",
   "execution_count": 96,
   "metadata": {},
   "outputs": [
    {
     "data": {
      "text/plain": [
       "True"
      ]
     },
     "execution_count": 96,
     "metadata": {},
     "output_type": "execute_result"
    }
   ],
   "source": [
    "verify_2_operands(result = 30, operand1 = 10, operand2 = 30, operation1 = \"+\", operation2 = \"+\")"
   ]
  },
  {
   "cell_type": "markdown",
   "metadata": {},
   "source": [
    "* $30/(10-30)$"
   ]
  },
  {
   "cell_type": "code",
   "execution_count": 97,
   "metadata": {
    "scrolled": true
   },
   "outputs": [
    {
     "data": {
      "text/plain": [
       "False"
      ]
     },
     "execution_count": 97,
     "metadata": {},
     "output_type": "execute_result"
    }
   ],
   "source": [
    "verify_2_operands(result = 30, operand1 = 10, operand2 = 30, operation1 = \"/\", operation2 = \"-\")"
   ]
  },
  {
   "cell_type": "markdown",
   "metadata": {},
   "source": [
    "* $30+(10-30)$"
   ]
  },
  {
   "cell_type": "code",
   "execution_count": 98,
   "metadata": {
    "scrolled": true
   },
   "outputs": [
    {
     "data": {
      "text/plain": [
       "False"
      ]
     },
     "execution_count": 98,
     "metadata": {},
     "output_type": "execute_result"
    }
   ],
   "source": [
    "verify_2_operands(result = 30, operand1 = 10, operand2 = 30, operation1 = \"+\", operation2 = \"-\")"
   ]
  },
  {
   "cell_type": "markdown",
   "metadata": {},
   "source": [
    "* $30*(10/30)$"
   ]
  },
  {
   "cell_type": "code",
   "execution_count": 99,
   "metadata": {
    "scrolled": true
   },
   "outputs": [
    {
     "data": {
      "text/plain": [
       "False"
      ]
     },
     "execution_count": 99,
     "metadata": {},
     "output_type": "execute_result"
    }
   ],
   "source": [
    "verify_2_operands(result = 30, operand1 = 10, operand2 = 30, operation1 = \"*\", operation2 = \"/\")"
   ]
  },
  {
   "cell_type": "markdown",
   "metadata": {},
   "source": [
    "De las cuatro operaciones anteriores la única permitida es la primera, ya que la segunda genera un denominador negativo, la tercera un sumando igualmente negativo y la cuarta un multiplicando decimal."
   ]
  },
  {
   "cell_type": "markdown",
   "metadata": {},
   "source": [
    "Ya casi hemos terminado. Hemos implementado las funciones necesarias para verificar si las operaciones aleatorias que generemos cumplirán las normas del juego. También hemos implementado las funciones para evaluar esas operaciones.  Sólo nos hacen falta las funciones para construir la variable STRING **secret** con la operación pseudo-aleatoria.\n",
    "\n",
    "Esta variable se actualiza de manera diferente dependiendo de si la ampliamos con operaciones del tipo del **Modelo 1** o del **Modelo 2**. A modo de recordatorio:\n",
    "\n",
    "* **Modelo 1**. secret = secret + random_op1 + operand1 \n",
    "* **Modelo 2**. secret = secret + random_op1 + (operand1 + random_op2 + operand2)\n",
    "\n",
    "Para resolver este problema vamos a crear una función de ampliación de la veriable **secret** para cada modelo:\n",
    "\n",
    "* **extend_1_operand(secret, operand, operation)**\n",
    "* **extend_2_operands(secret, operand1, operand2, operation1,operation2)**\n",
    "\n",
    "Los argumentos de entrada son:\n",
    "\n",
    "* **secret** es una variable tipo STRING en la que vamos concatenando las nuevas operaciones\n",
    "* **operand**, **operand1**, **operand2** son las variables de tipo STRING en las que vamos a recibir los números de la lista **values** que vamos a utilizar para aumentar la operación secreta \n",
    "* **operation**, **operation1**, **operation2** son las variables de tipo STRING con las operaciones algebráicas que vamos a utilizar para aumentar la operación secreta "
   ]
  },
  {
   "cell_type": "code",
   "execution_count": 90,
   "metadata": {},
   "outputs": [],
   "source": [
    "def extend_1_operand(secret, operand, operation):\n",
    "    secret=\"(\"+secret+operation+operand+\")\"\n",
    "    return secret\n",
    "\n",
    "def extend_2_operands(secret, operand1, operand2, operation1,operation2):\n",
    "    if len(secret)==0:\n",
    "        secret=secret+\"(\"+operand1+operation2+operand2+\")\"\n",
    "    else:\n",
    "        secret=\"(\"+secret+operation1+\"(\"+operand1+operation2+operand2+\")\"+\")\"\n",
    "    return secret"
   ]
  },
  {
   "cell_type": "code",
   "execution_count": 60,
   "metadata": {},
   "outputs": [
    {
     "data": {
      "text/plain": [
       "'(10/30)'"
      ]
     },
     "execution_count": 60,
     "metadata": {},
     "output_type": "execute_result"
    }
   ],
   "source": [
    "extend_1_operand(secret = \"10\", operand = \"30\", operation = \"/\")"
   ]
  },
  {
   "cell_type": "code",
   "execution_count": 61,
   "metadata": {},
   "outputs": [
    {
     "data": {
      "text/plain": [
       "'(30+(10+30))'"
      ]
     },
     "execution_count": 61,
     "metadata": {},
     "output_type": "execute_result"
    }
   ],
   "source": [
    "extend_2_operands(secret = \"30\", operand1 = \"10\", operand2 = \"30\", operation1 = \"+\", operation2 = \"+\")"
   ]
  },
  {
   "cell_type": "markdown",
   "metadata": {},
   "source": [
    "```{tip}\n",
    "Podríamos haber introducido en la solución un mecanismo de chequeo del tipo de las variables. Es decir, las funciones **compute_1_operand** o **compute_2_operands** requiren que los operandos sean tipos INT, mientras que las funciones **extend_1_operand** y **extend_2_operands** requiren que sean STRING. Podríamos introducir un código que hiciera uso de la funcion **isinstance** para asegurarnos que los argumentos se le pasan adecuadamente y en caso contrario, convertirlos o mostrar un mensaje de error.\n",
    "```"
   ]
  },
  {
   "cell_type": "markdown",
   "metadata": {},
   "source": [
    "```{seealso}\n",
    "Existen lenguajes de programación, como Java, en el que hay que especificar el tipo de las variables que se le pasan a las funciones. Este tipo de lenguajes se conocen como *Lenguajes de tipado fuerte*. Puedes encontrar más información [aquí](https://es.wikipedia.org/wiki/Tipado_fuerte).\n",
    "```"
   ]
  },
  {
   "cell_type": "markdown",
   "metadata": {},
   "source": [
    "Finalmente, ya podemos implementar la función **generate_operation(values)** que genera las operaciones a partir de los valores devueltos por la función **get_numbers()**"
   ]
  },
  {
   "cell_type": "code",
   "execution_count": 66,
   "metadata": {},
   "outputs": [],
   "source": [
    "def generate_operation(values):\n",
    "    groups=group(values)\n",
    "    operators=[\"+\",\"-\",\"*\",\"/\"]\n",
    "    operand1, operand2=groups[0]\n",
    "    operation=operators[random.randint(0,3)]\n",
    "    while not verify_1_operand(operand1,operand2,operation):\n",
    "        operation=operators[random.randint(0,3)]\n",
    "    secret=extend_1_operand(str(operand1), str(operand2), operation)\n",
    "    result=compute_1_operand(operand1,operand2,operation)\n",
    "    \n",
    "    for g in groups[1:]:\n",
    "        if len(g)==1:\n",
    "            operand=g[0]\n",
    "            operation=operators[random.randint(0,3)]\n",
    "            while not verify_1_operand(result,operand,operation):\n",
    "                operation=operators[random.randint(0,3)]\n",
    "            secret=extend_1_operand(secret, str(operand), operation)\n",
    "            result=compute_1_operand(result,operand,operation)\n",
    "        else:\n",
    "            operand1=g[0]\n",
    "            operand2=g[1]\n",
    "            operation1=operators[random.randint(0,3)]\n",
    "            operation2=operators[random.randint(0,3)]\n",
    "            while not verify_2_operands(result,operand1,operand2,operation1,operation2):\n",
    "                operation1=operators[random.randint(0,3)]\n",
    "                operation2=operators[random.randint(0,3)]\n",
    "            secret=extend_2_operands(secret, str(operand1), str(operand2), operation1,operation2)\n",
    "            result=compute_2_operands(result,operand1,operand2,operation1,operation2)\n",
    "    return secret, result"
   ]
  },
  {
   "cell_type": "markdown",
   "metadata": {},
   "source": [
    "::::{note}\n",
    "El código parece largo, pero es bastante sencillo de entender. El primer bloque genera la primera operación, que siempre es del tipo **Modelo 2**, inicializando las variables **secret** y **result**. El resto del código se limita a ir recorriendo grupo a grupo implementando una ampliación de tipo **Modelo 1** o **Modelo 2** dependiendo de la longitud del grupo correspondiente.\n",
    "\n",
    "En todos los bloques se implementa un bucle **while** del que sólo se sale cuando la función de verificación ha devuelto **True**.\n",
    "::::"
   ]
  },
  {
   "cell_type": "code",
   "execution_count": 81,
   "metadata": {},
   "outputs": [
    {
     "name": "stdout",
     "output_type": "stream",
     "text": [
      "Numbers to play:  [3, 100, 5, 75, 7]\n",
      "The target number is:  26\n",
      "The target operation is:  (((100+5)-(7+75))+3)\n"
     ]
    }
   ],
   "source": [
    "values = get_numbers(array=[1, 2, 3, 4, 5, 6, 7, 8, 9, 10, 25, 50, 75, 100], k=5)\n",
    "print(\"Numbers to play: \",values)\n",
    "secret, result = generate_operation(values)\n",
    "print(\"The target number is: \", result)\n",
    "print(\"The target operation is: \", secret)"
   ]
  },
  {
   "cell_type": "markdown",
   "metadata": {},
   "source": [
    "::::{tip}\n",
    "Si ejecutamos varias veces el código, podemos ver que la operación de división es poco frecuentemente. Esto es devido a que la condición de divisibilidad es más complicada de conseguir. Podemos forzar, de una manera muy sencilla, que nuestro código pruebe con más frecuencia la operación de división. \n",
    "\n",
    ":::{code}\n",
    "operadores=[\"+\",\"-\",\"*\",\"/\",,\"/\",\"/\",\"/\",\"/\",\"/\",\"/\"]  \n",
    "operacion=operadores[random.randint(0,len(operadores)-1)]\n",
    ":::   \n",
    "\n",
    "Aún así, aunque reforcemos la aparición de la división, es probable que aunque se pruebe más frecuentemente siga siendo descartada igual de frecuentemente porque evitar números decimales siendo la condición más complicada de validar.\n",
    "::::"
   ]
  },
  {
   "cell_type": "markdown",
   "metadata": {},
   "source": [
    "## Lectura de la jugada\n",
    "\n",
    "Una vez que el jugador es informado de la lista de valores con la que va a jugar y del número objetivo, debe introducir su jugada en forma de secuencia de operaciones aritméticas en formato STRING y utlizando paréntesis para evitar malentendidos con las prioridades de los operadores.\n",
    "\n",
    "Para favorecer la simplicidad del código, vamos a obviar la necesidad de verificar si el usuario ha utilizado algún valor diferente de los valores propuestos o si los ha utilizado más de una vez."
   ]
  },
  {
   "cell_type": "markdown",
   "metadata": {},
   "source": [
    "::::{tip}\n",
    "El secreto de la implementación de este apartado está en llamar a la función **eval**. Esta función es capaz de evaluar una operación algebráica codificada en formato STRING.\n",
    "::::\n",
    "                \n",
    ":::{seealso}\n",
    "Puedes consultar la documentación de la función **eval** [aquí](https://docs.python.org/3/library/functions.html#eval)\n",
    "::::"
   ]
  },
  {
   "cell_type": "code",
   "execution_count": 82,
   "metadata": {},
   "outputs": [
    {
     "name": "stdout",
     "output_type": "stream",
     "text": [
      "Which is your proposed mathematical operation?: (1+8)/3\n",
      "Your operation produces the result:  3.0\n"
     ]
    }
   ],
   "source": [
    "play = input(\"Which is your proposed mathematical operation?: \")\n",
    "result = eval(play)\n",
    "print(\"Your operation produces the result: \", result)"
   ]
  },
  {
   "cell_type": "markdown",
   "metadata": {},
   "source": [
    "## Puntuación\n",
    "\n",
    "Para poder competir con diferentes jugadores, hace falta una manera de puntuar. Nosotros nos hemos decantado por el siguiente criterio:\n",
    "\n",
    "* Si el jugador consigue el número exacto, conseguirá 8 puntos\n",
    "* Si se queda a un número del valor objetivo, conseguirá 6 puntos\n",
    "* Si se queda a dos números del valor objetivo, conseguirá 5 puntos, y así sucesivamente\n",
    "* El juegador obtiene 0 puntos si se quedan a una diferencia mayor de 6 números del valor objetivo\n",
    "\n",
    "\n",
    "Para ello vamos a programar una función **scoring(number, target)** que recibe los argumentos:\n",
    "\n",
    "* **number** es el valor obtenido por parte del jugador \n",
    "* **target** es el valor objetivo\n",
    "\n",
    "La función sólo devuelve un valor de tipo INT que contiene la puntuación obtenida por el jugador."
   ]
  },
  {
   "cell_type": "markdown",
   "metadata": {},
   "source": [
    "### Solución:"
   ]
  },
  {
   "cell_type": "code",
   "execution_count": 83,
   "metadata": {},
   "outputs": [],
   "source": [
    "def scoring(number, target):\n",
    "    difference = abs(number - target)\n",
    "    if difference == 0:\n",
    "        return 8\n",
    "    elif difference > 6:\n",
    "        return 0\n",
    "    else:\n",
    "        return 7 - difference"
   ]
  },
  {
   "cell_type": "code",
   "execution_count": 84,
   "metadata": {},
   "outputs": [
    {
     "data": {
      "text/plain": [
       "8"
      ]
     },
     "execution_count": 84,
     "metadata": {},
     "output_type": "execute_result"
    }
   ],
   "source": [
    "scoring(100,100)"
   ]
  },
  {
   "cell_type": "code",
   "execution_count": 87,
   "metadata": {},
   "outputs": [
    {
     "data": {
      "text/plain": [
       "5"
      ]
     },
     "execution_count": 87,
     "metadata": {},
     "output_type": "execute_result"
    }
   ],
   "source": [
    "scoring(98,100)"
   ]
  },
  {
   "cell_type": "code",
   "execution_count": 88,
   "metadata": {},
   "outputs": [
    {
     "data": {
      "text/plain": [
       "0"
      ]
     },
     "execution_count": 88,
     "metadata": {},
     "output_type": "execute_result"
    }
   ],
   "source": [
    "scoring(92,100)"
   ]
  },
  {
   "cell_type": "markdown",
   "metadata": {},
   "source": [
    "## Programa principal\n",
    "\n",
    "A estas alturas ya disponemos de todas las piezas para implementar el juego completo. Esta es la parte más divertida de programar. Vamos a montar el juego completo utilizando cada una de los módulos implementados."
   ]
  },
  {
   "cell_type": "markdown",
   "metadata": {},
   "source": [
    "### Solución:"
   ]
  },
  {
   "cell_type": "code",
   "execution_count": 89,
   "metadata": {},
   "outputs": [
    {
     "name": "stdout",
     "output_type": "stream",
     "text": [
      "Target number:  496\n",
      "You can use those values:  [100, 1, 3, 2, 4]\n",
      "Enter your proposed mathematical operation: (100*(3+2))-4\n",
      "Congratulations! You got: 8 points\n"
     ]
    }
   ],
   "source": [
    "def main():\n",
    "    values = get_numbers(array=[1, 2, 3, 4, 5, 6, 7, 8, 9, 10, 25, 50, 75, 100], k=5)\n",
    "    secret, target = generate_operation(values)\n",
    "    print(\"Target number: \", target)\n",
    "    print(\"You can use those values: \",values)\n",
    "    play = input(\"Enter your proposed mathematical operation: \")\n",
    "    result = eval(play)\n",
    "    score = scoring(result, target)\n",
    "    if result==target:\n",
    "        print(\"Congratulations! You got: {} points\".format(score))\n",
    "    elif score>0:\n",
    "        print(\"Not bad! You got {} points\".format(score))\n",
    "        print(\"This was the solution: \",secret)\n",
    "    else:\n",
    "        print(\"Too far, you got 0 points\")\n",
    "        print(\"This was the solution: \",secret)     \n",
    "main()"
   ]
  },
  {
   "cell_type": "markdown",
   "metadata": {},
   "source": [
    "## Extensiones del Juego\n",
    "\n",
    "Este es un ejemplo muy evidente de una aplicación que puede resolverse de múltiples maneras. Te animamos a que lo resuelvas de una manera más imaginativa en el que las operaciones de resta y división sean tran frecuentes como las de suma y multiplicación.\n",
    "Aquí tienes otras ideas de mejoras que puedes intentar implementar:\n",
    "\n",
    "* Una etapa previa en la que el jugador pueda seleccionar un nivel de dificultad. La elección del nivel de dificultad afectará fundamentalmente el número de operandos \n",
    "* Añadir puntos extra a la puntuación del jugador en caso de que se utilice la lista completa de números \n",
    "* Un interfaz de usuario más agradable. Utilizando diferentes tipos de fuente y diferentes tamaños o colores\n",
    "* Un juego cronometrado. De manera que los puntos también dependan de la velocidad con la que se resuelva cada partida. "
   ]
  }
 ],
 "metadata": {
  "interpreter": {
   "hash": "d652f12e86d4907f3226fd0eca720165fd18d0c760b9e442a689f9a4e2e2c276"
  },
  "kernelspec": {
   "display_name": "Python 3",
   "language": "python",
   "name": "python3"
  },
  "language_info": {
   "codemirror_mode": {
    "name": "ipython",
    "version": 3
   },
   "file_extension": ".py",
   "mimetype": "text/x-python",
   "name": "python",
   "nbconvert_exporter": "python",
   "pygments_lexer": "ipython3",
   "version": "3.8.8"
  }
 },
 "nbformat": 4,
 "nbformat_minor": 2
}
